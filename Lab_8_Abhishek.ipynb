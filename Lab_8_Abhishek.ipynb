{
 "cells": [
  {
   "cell_type": "code",
   "execution_count": 1,
   "id": "5ef1564d",
   "metadata": {},
   "outputs": [],
   "source": [
    "# Python ≥3.5 is required\n",
    "import sys\n",
    "assert sys.version_info >= (3, 5)\n",
    "\n",
    "# Scikit-Learn ≥0.20 is \n",
    "import sklearn\n",
    "from sklearn import metrics\n",
    "assert sklearn.__version__ >= \"0.20\"\n",
    "from sklearn.model_selection import train_test_split\n",
    "\n",
    "\n",
    "# Common imports\n",
    "import numpy as np\n",
    "import pandas as pd\n",
    "import os\n",
    "\n",
    "# to make this notebook's output stable across runs\n",
    "np.random.seed(42)\n",
    "\n",
    "# To plot pretty figures\n",
    "%matplotlib inline\n",
    "import matplotlib as mpl\n",
    "import matplotlib.pyplot as plt\n",
    "mpl.rc('axes', labelsize=14)\n",
    "mpl.rc('xtick', labelsize=12)\n",
    "mpl.rc('ytick', labelsize=12)"
   ]
  },
  {
   "cell_type": "code",
   "execution_count": 2,
   "id": "c2a3fa9b",
   "metadata": {},
   "outputs": [
    {
     "name": "stdout",
     "output_type": "stream",
     "text": [
      "      gender   age  hypertension  heart_disease  ever_married  \\\n",
      "0          0  67.0             0              1             1   \n",
      "1          0  80.0             0              1             1   \n",
      "2          1  49.0             0              0             1   \n",
      "3          1  79.0             1              0             1   \n",
      "4          0  81.0             0              0             1   \n",
      "...      ...   ...           ...            ...           ...   \n",
      "4976       0  41.0             0              0             0   \n",
      "4977       0  40.0             0              0             1   \n",
      "4978       1  45.0             1              0             1   \n",
      "4979       0  40.0             0              0             1   \n",
      "4980       1  80.0             1              0             1   \n",
      "\n",
      "      avg_glucose_level   bmi  smoking_status  stroke  \n",
      "0                228.69  36.6               2       1  \n",
      "1                105.92  32.5               1       1  \n",
      "2                171.23  34.4               3       1  \n",
      "3                174.12  24.0               1       1  \n",
      "4                186.21  29.0               2       1  \n",
      "...                 ...   ...             ...     ...  \n",
      "4976              70.15  29.8               2       0  \n",
      "4977             191.15  31.1               3       0  \n",
      "4978              95.02  31.8               3       0  \n",
      "4979              83.94  30.0               3       0  \n",
      "4980              83.75  29.1               1       0  \n",
      "\n",
      "[4981 rows x 9 columns]\n"
     ]
    }
   ],
   "source": [
    "from sklearn.datasets import load_iris\n",
    "#from sklearn.tree import DecisionTreeClassifier,plot_tree\n",
    "from sklearn.ensemble import RandomForestClassifier\n",
    "\n",
    "url= \"brain_stroke_in_numeric_without_useless_data.csv\"\n",
    "brain = pd.read_csv(url)\n",
    "brain = brain.drop(brain.columns[0], axis=1)\n",
    "brain_pca = pd.read_csv('brain_stroke_after_pca.csv')\n",
    "brain_pca = brain_pca.drop(brain_pca.columns[0], axis=1) \n",
    "print(brain)"
   ]
  },
  {
   "cell_type": "code",
   "execution_count": 3,
   "id": "b0a81ee7",
   "metadata": {},
   "outputs": [],
   "source": [
    "# Test accuracy with avg_glucose_level and bmi random forest classifier"
   ]
  },
  {
   "cell_type": "code",
   "execution_count": 11,
   "id": "ef7b9a33",
   "metadata": {},
   "outputs": [
    {
     "name": "stdout",
     "output_type": "stream",
     "text": [
      "Accuracy: 0.945819397993311\n"
     ]
    }
   ],
   "source": [
    "X = brain.iloc[:, [5,6]].to_numpy()\n",
    "y = brain.iloc[:, 8].to_numpy()\n",
    "\n",
    "X_train, X_test, y_train, y_test = train_test_split(X, y, test_size=0.3, random_state=42)\n",
    "\n",
    "clf=RandomForestClassifier(n_estimators=100)\n",
    "clf.fit(X_train,y_train)\n",
    "y_pred=clf.predict(X_test)\n",
    "\n",
    "print(\"Accuracy:\",metrics.accuracy_score(y_test, y_pred))\n"
   ]
  },
  {
   "cell_type": "code",
   "execution_count": 12,
   "id": "1cfc8d2e",
   "metadata": {},
   "outputs": [],
   "source": [
    "# Test accuracy with age and avg_glucose_level Random Forest Classifier"
   ]
  },
  {
   "cell_type": "code",
   "execution_count": 13,
   "id": "2e7d0136",
   "metadata": {},
   "outputs": [
    {
     "name": "stdout",
     "output_type": "stream",
     "text": [
      "Accuracy: 0.9311036789297659\n"
     ]
    }
   ],
   "source": [
    "X = brain.iloc[:, [1,5]].to_numpy()\n",
    "y = brain.iloc[:, 8].to_numpy()\n",
    "\n",
    "X_train, X_test, y_train, y_test = train_test_split(X, y, test_size=0.3, random_state=42)\n",
    "\n",
    "clf=RandomForestClassifier(n_estimators=100)\n",
    "clf.fit(X_train,y_train)\n",
    "y_pred=clf.predict(X_test)\n",
    "\n",
    "print(\"Accuracy:\",metrics.accuracy_score(y_test, y_pred))\n"
   ]
  },
  {
   "cell_type": "code",
   "execution_count": 14,
   "id": "f781b40e",
   "metadata": {},
   "outputs": [],
   "source": [
    "# Test accuracy with age and bmi Random Forest Classifier"
   ]
  },
  {
   "cell_type": "code",
   "execution_count": 15,
   "id": "39f15d2b",
   "metadata": {},
   "outputs": [
    {
     "name": "stdout",
     "output_type": "stream",
     "text": [
      "Accuracy: 0.9311036789297659\n"
     ]
    }
   ],
   "source": [
    "X = brain.iloc[:, [1,6]].to_numpy()\n",
    "y = brain.iloc[:, 8].to_numpy()\n",
    "\n",
    "X_train, X_test, y_train, y_test = train_test_split(X, y, test_size=0.3, random_state=42)\n",
    "\n",
    "clf=RandomForestClassifier(n_estimators=100)\n",
    "clf.fit(X_train,y_train)\n",
    "y_pred=clf.predict(X_test)\n",
    "\n",
    "print(\"Accuracy:\",metrics.accuracy_score(y_test, y_pred))"
   ]
  },
  {
   "cell_type": "code",
   "execution_count": 16,
   "id": "d16bed36",
   "metadata": {},
   "outputs": [],
   "source": [
    "# Test accuracy with pca using Random Forest Classifer with 30% of training data in testing data"
   ]
  },
  {
   "cell_type": "code",
   "execution_count": 26,
   "id": "475df4cc",
   "metadata": {},
   "outputs": [
    {
     "name": "stdout",
     "output_type": "stream",
     "text": [
      "Accuracy: 0.9438127090301003\n"
     ]
    }
   ],
   "source": [
    "X = brain_pca.iloc[:, [0,1]].to_numpy()\n",
    "y = brain_pca.iloc[:, 2].to_numpy()\n",
    "\n",
    "X_train, X_test, y_train, y_test = train_test_split(X, y, test_size=0.3, random_state=42)\n",
    "\n",
    "clf2=RandomForestClassifier(n_estimators=100)\n",
    "clf2.fit(X_train,y_train)\n",
    "y_pred=clf2.predict(X_test)\n",
    "\n",
    "print(\"Accuracy:\",metrics.accuracy_score(y_test, y_pred))"
   ]
  },
  {
   "cell_type": "code",
   "execution_count": 18,
   "id": "a7101945",
   "metadata": {},
   "outputs": [],
   "source": [
    "# Test accuracy with pca using Random Forest Classifer with 60% of training data in testing data"
   ]
  },
  {
   "cell_type": "code",
   "execution_count": 27,
   "id": "c4515cf0",
   "metadata": {},
   "outputs": [
    {
     "name": "stdout",
     "output_type": "stream",
     "text": [
      "Accuracy: 0.9434593509534962\n"
     ]
    }
   ],
   "source": [
    "X = brain_pca.iloc[:, [0,1]].to_numpy()\n",
    "y = brain_pca.iloc[:, 2].to_numpy()\n",
    "\n",
    "X_train, X_test, y_train, y_test = train_test_split(X, y, test_size=0.6, random_state=42)\n",
    "\n",
    "clf3=RandomForestClassifier(n_estimators=100)\n",
    "clf3.fit(X_train,y_train)\n",
    "y_pred=clf3.predict(X_test)\n",
    "\n",
    "print(\"Accuracy:\",metrics.accuracy_score(y_test, y_pred))"
   ]
  },
  {
   "cell_type": "code",
   "execution_count": null,
   "id": "227530c0",
   "metadata": {},
   "outputs": [],
   "source": [
    "#The accuracies are good and we can see that the random forest classifier generalizes well with the data. "
   ]
  }
 ],
 "metadata": {
  "kernelspec": {
   "display_name": "Python 3 (ipykernel)",
   "language": "python",
   "name": "python3"
  },
  "language_info": {
   "codemirror_mode": {
    "name": "ipython",
    "version": 3
   },
   "file_extension": ".py",
   "mimetype": "text/x-python",
   "name": "python",
   "nbconvert_exporter": "python",
   "pygments_lexer": "ipython3",
   "version": "3.9.12"
  }
 },
 "nbformat": 4,
 "nbformat_minor": 5
}
