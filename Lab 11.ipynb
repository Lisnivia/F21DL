{
 "cells": [
  {
   "cell_type": "code",
   "execution_count": 46,
   "id": "956de8d9",
   "metadata": {},
   "outputs": [],
   "source": [
    "# Python ≥3.5 is required\n",
    "import sys\n",
    "assert sys.version_info >= (3, 5)\n",
    "\n",
    "# Scikit-Learn ≥0.20 is \n",
    "import sklearn\n",
    "assert sklearn.__version__ >= \"0.20\"\n",
    "from sklearn.model_selection import train_test_split, cross_val_score, KFold, cross_val_predict\n",
    "from sklearn.metrics import accuracy_score, confusion_matrix, precision_score, recall_score, classification_report\n",
    "from sklearn.metrics import roc_curve, roc_auc_score, f1_score, roc_curve, roc_auc_score \n",
    "\n",
    "\n",
    "# keras\n",
    "from tensorflow import keras\n",
    "from tensorflow.keras import layers\n",
    "from tensorflow.keras.models import Sequential\n",
    "from tensorflow.keras.layers import Dense, Flatten, Conv2D, MaxPooling2D\n",
    "from tensorflow.keras.losses import sparse_categorical_crossentropy\n",
    "from tensorflow.keras.optimizers import Adam\n",
    "\n",
    "# Common imports\n",
    "import numpy as np\n",
    "import pandas as pd\n",
    "import os\n",
    "\n",
    "# to make this notebook's output stable across runs\n",
    "np.random.seed(42)\n",
    "from random import randint\n",
    "\n",
    "# To plot pretty figures\n",
    "%matplotlib inline\n",
    "import matplotlib as mpl\n",
    "import matplotlib.pyplot as plt\n",
    "mpl.rc('axes', labelsize=14)\n",
    "mpl.rc('xtick', labelsize=12)\n",
    "mpl.rc('ytick', labelsize=12)"
   ]
  },
  {
   "cell_type": "code",
   "execution_count": 47,
   "id": "0f073b6c",
   "metadata": {},
   "outputs": [
    {
     "name": "stdout",
     "output_type": "stream",
     "text": [
      "(144, 9, 9, 1)\n",
      "(144,)\n",
      "(108, 9, 9, 1)\n",
      "(108,)\n"
     ]
    }
   ],
   "source": [
    "X = np.load(\"smiley_X.npy\")\n",
    "y = np.load(\"smiley_y.npy\")\n",
    "print(X.shape)\n",
    "print(y.shape)\n",
    "\n",
    "x_train, x_test, y_train, y_test = train_test_split(X, y, random_state=0)\n",
    "print(x_train.shape)\n",
    "print(y_train.shape)"
   ]
  },
  {
   "cell_type": "code",
   "execution_count": 48,
   "id": "aea214e4",
   "metadata": {},
   "outputs": [
    {
     "name": "stdout",
     "output_type": "stream",
     "text": [
      "Model: \"sequential_6\"\n",
      "_________________________________________________________________\n",
      " Layer (type)                Output Shape              Param #   \n",
      "=================================================================\n",
      " conv2d_10 (Conv2D)          (None, 7, 7, 64)          640       \n",
      "                                                                 \n",
      " max_pooling2d_6 (MaxPooling  (None, 3, 3, 64)         0         \n",
      " 2D)                                                             \n",
      "                                                                 \n",
      " flatten_6 (Flatten)         (None, 576)               0         \n",
      "                                                                 \n",
      " dense_14 (Dense)            (None, 10)                5770      \n",
      "                                                                 \n",
      "=================================================================\n",
      "Total params: 6,410\n",
      "Trainable params: 6,410\n",
      "Non-trainable params: 0\n",
      "_________________________________________________________________\n"
     ]
    }
   ],
   "source": [
    "model = keras.models.Sequential([\n",
    "  keras.layers.Conv2D(64, (3,3), activation='relu', input_shape=(9,9,1)),\n",
    "  keras.layers.MaxPooling2D(2, 2),\n",
    "  keras.layers.Flatten(),\n",
    "  keras.layers.Dense(10, activation='softmax')\n",
    "])\n",
    "model.compile(optimizer='adam', loss='sparse_categorical_crossentropy', metrics=['accuracy'])\n",
    "model.summary()"
   ]
  },
  {
   "cell_type": "code",
   "execution_count": 49,
   "id": "fc12e41f",
   "metadata": {},
   "outputs": [
    {
     "name": "stdout",
     "output_type": "stream",
     "text": [
      "Epoch 1/5\n",
      "4/4 [==============================] - 1s 5ms/step - loss: 2.1672 - accuracy: 0.3889\n",
      "Epoch 2/5\n",
      "4/4 [==============================] - 0s 6ms/step - loss: 1.8750 - accuracy: 0.6759\n",
      "Epoch 3/5\n",
      "4/4 [==============================] - 0s 6ms/step - loss: 1.6006 - accuracy: 0.7778\n",
      "Epoch 4/5\n",
      "4/4 [==============================] - 0s 6ms/step - loss: 1.3407 - accuracy: 0.8611\n",
      "Epoch 5/5\n",
      "4/4 [==============================] - 0s 5ms/step - loss: 1.1066 - accuracy: 0.9259\n"
     ]
    },
    {
     "data": {
      "text/plain": [
       "<keras.callbacks.History at 0x7f6ddc1688b0>"
      ]
     },
     "execution_count": 49,
     "metadata": {},
     "output_type": "execute_result"
    }
   ],
   "source": [
    "model.fit(x_train, y_train, epochs=5)"
   ]
  },
  {
   "cell_type": "code",
   "execution_count": 50,
   "id": "e44b7d0e",
   "metadata": {},
   "outputs": [
    {
     "name": "stdout",
     "output_type": "stream",
     "text": [
      "\n",
      "Test accuracy: 0.8888888955116272\n"
     ]
    }
   ],
   "source": [
    "test_loss, test_acc = model.evaluate(x_test,  y_test, verbose=0)\n",
    "print('\\nTest accuracy:', test_acc)"
   ]
  },
  {
   "cell_type": "code",
   "execution_count": 51,
   "id": "1cd1ddc0",
   "metadata": {},
   "outputs": [
    {
     "name": "stdout",
     "output_type": "stream",
     "text": [
      "2/2 [==============================] - 0s 4ms/step\n"
     ]
    }
   ],
   "source": [
    "y_pred = model.predict(x_test)"
   ]
  },
  {
   "cell_type": "code",
   "execution_count": 52,
   "id": "b38c261f",
   "metadata": {},
   "outputs": [
    {
     "name": "stdout",
     "output_type": "stream",
     "text": [
      "TN: 13, FP: 4, FN: 0, TP: 19\n",
      "Precision: 0.8260869565217391\n",
      "Recall: 1.0\n",
      "f1 score: 0.9047619047619047\n",
      "Sensitivity: 1.0\n",
      "Specificity: 0.7647058823529411\n",
      "AURC: 0.8823529411764706\n"
     ]
    }
   ],
   "source": [
    "tn, fp, fn, tp = confusion_matrix(y_test, np.argmax(y_pred, axis=1)).ravel()\n",
    "print(\"TN: %.0f\" % tn + \", FP: %.0f\" % fp + \", FN: %.0f\" % fn + \", TP: %.0f\" % tp)\n",
    "print(\"Precision:\",precision_score(y_test, np.argmax(y_pred, axis=1)))\n",
    "print(\"Recall:\", recall_score(y_test, np.argmax(y_pred, axis=1)))\n",
    "print(\"f1 score:\", f1_score(y_test, np.argmax(y_pred, axis=1)))\n",
    "print(\"Sensitivity:\", tp / (tp + fn))\n",
    "print(\"Specificity:\", tn / (tn + fp))\n",
    "print(\"AURC:\", roc_auc_score(y_test, np.argmax(y_pred, axis=1)))"
   ]
  },
  {
   "cell_type": "code",
   "execution_count": 53,
   "id": "ad618b62",
   "metadata": {},
   "outputs": [],
   "source": [
    "# Architecture 2"
   ]
  },
  {
   "cell_type": "code",
   "execution_count": 54,
   "id": "ec024fe3",
   "metadata": {},
   "outputs": [
    {
     "name": "stdout",
     "output_type": "stream",
     "text": [
      "Model: \"sequential_7\"\n",
      "_________________________________________________________________\n",
      " Layer (type)                Output Shape              Param #   \n",
      "=================================================================\n",
      " conv2d_11 (Conv2D)          (None, 7, 7, 32)          320       \n",
      "                                                                 \n",
      " max_pooling2d_7 (MaxPooling  (None, 3, 3, 32)         0         \n",
      " 2D)                                                             \n",
      "                                                                 \n",
      " conv2d_12 (Conv2D)          (None, 1, 1, 64)          18496     \n",
      "                                                                 \n",
      " flatten_7 (Flatten)         (None, 64)                0         \n",
      "                                                                 \n",
      " dense_15 (Dense)            (None, 256)               16640     \n",
      "                                                                 \n",
      " dense_16 (Dense)            (None, 128)               32896     \n",
      "                                                                 \n",
      " dense_17 (Dense)            (None, 5)                 645       \n",
      "                                                                 \n",
      "=================================================================\n",
      "Total params: 68,997\n",
      "Trainable params: 68,997\n",
      "Non-trainable params: 0\n",
      "_________________________________________________________________\n"
     ]
    }
   ],
   "source": [
    "model = Sequential()\n",
    "model.add(Conv2D(32, kernel_size=(3, 3), activation='relu', input_shape=(9,9,1)))\n",
    "model.add(MaxPooling2D(pool_size=(2, 2)))\n",
    "model.add(Conv2D(64, kernel_size=(3, 3), activation='relu'))\n",
    "\n",
    "model.add(Flatten())\n",
    "model.add(Dense(256, activation='relu'))\n",
    "model.add(Dense(128, activation='relu'))\n",
    "model.add(Dense(5, activation='softmax'))\n",
    "\n",
    "model.compile(optimizer='adam', loss='sparse_categorical_crossentropy', metrics=['accuracy'])\n",
    "model.summary()"
   ]
  },
  {
   "cell_type": "code",
   "execution_count": 55,
   "id": "abdc5006",
   "metadata": {},
   "outputs": [],
   "source": [
    "# Test Using 5 epochs and adam as the optimizer."
   ]
  },
  {
   "cell_type": "code",
   "execution_count": 56,
   "id": "f934c6dd",
   "metadata": {
    "scrolled": true
   },
   "outputs": [
    {
     "name": "stdout",
     "output_type": "stream",
     "text": [
      "Epoch 1/5\n",
      "4/4 [==============================] - 1s 4ms/step - loss: 1.5713 - accuracy: 0.5648\n",
      "Epoch 2/5\n",
      "4/4 [==============================] - 0s 5ms/step - loss: 1.3486 - accuracy: 0.7870\n",
      "Epoch 3/5\n",
      "4/4 [==============================] - 0s 7ms/step - loss: 1.0127 - accuracy: 0.8704\n",
      "Epoch 4/5\n",
      "4/4 [==============================] - 0s 5ms/step - loss: 0.6344 - accuracy: 0.9259\n",
      "Epoch 5/5\n",
      "4/4 [==============================] - 0s 7ms/step - loss: 0.3894 - accuracy: 0.9259\n"
     ]
    },
    {
     "data": {
      "text/plain": [
       "<keras.callbacks.History at 0x7f6dbc4d1e80>"
      ]
     },
     "execution_count": 56,
     "metadata": {},
     "output_type": "execute_result"
    }
   ],
   "source": [
    "model.fit(x_train, y_train, epochs=5)"
   ]
  },
  {
   "cell_type": "code",
   "execution_count": 57,
   "id": "342ce840",
   "metadata": {},
   "outputs": [
    {
     "name": "stdout",
     "output_type": "stream",
     "text": [
      "Test Loss: 0.311288058757782\n",
      "Test Accuracy: 0.9722222089767456\n"
     ]
    }
   ],
   "source": [
    "score = model.evaluate(x_test, y_test, verbose=0)\n",
    "print('Test Loss:', score[0])\n",
    "print('Test Accuracy:', score[1])"
   ]
  },
  {
   "cell_type": "code",
   "execution_count": 58,
   "id": "395efcda",
   "metadata": {},
   "outputs": [
    {
     "name": "stdout",
     "output_type": "stream",
     "text": [
      "2/2 [==============================] - 0s 4ms/step\n"
     ]
    }
   ],
   "source": [
    "y_pred = model.predict(x_test)"
   ]
  },
  {
   "cell_type": "code",
   "execution_count": 59,
   "id": "dc44ab7f",
   "metadata": {},
   "outputs": [
    {
     "name": "stdout",
     "output_type": "stream",
     "text": [
      "TN: 16, FP: 1, FN: 0, TP: 19\n",
      "Precision: 0.95\n",
      "Recall: 1.0\n",
      "f1 score: 0.9743589743589743\n",
      "Sensitivity: 1.0\n",
      "Specificity: 0.9411764705882353\n",
      "AURC: 0.9705882352941176\n"
     ]
    }
   ],
   "source": [
    "tn, fp, fn, tp = confusion_matrix(y_test, np.argmax(y_pred, axis=1)).ravel()\n",
    "print(\"TN: %.0f\" % tn + \", FP: %.0f\" % fp + \", FN: %.0f\" % fn + \", TP: %.0f\" % tp)\n",
    "print(\"Precision:\",precision_score(y_test, np.argmax(y_pred, axis=1)))\n",
    "print(\"Recall:\", recall_score(y_test, np.argmax(y_pred, axis=1)))\n",
    "print(\"f1 score:\", f1_score(y_test, np.argmax(y_pred, axis=1)))\n",
    "print(\"Sensitivity:\", tp / (tp + fn))\n",
    "print(\"Specificity:\", tn / (tn + fp))\n",
    "print(\"AURC:\", roc_auc_score(y_test, np.argmax(y_pred, axis=1)))"
   ]
  },
  {
   "cell_type": "code",
   "execution_count": 60,
   "id": "ab612d98",
   "metadata": {},
   "outputs": [],
   "source": [
    "# Test Using 10 epochs and adam as the optimizer. As noticed the accuracy improves as epochs increase"
   ]
  },
  {
   "cell_type": "code",
   "execution_count": 61,
   "id": "4e57a52e",
   "metadata": {},
   "outputs": [
    {
     "name": "stdout",
     "output_type": "stream",
     "text": [
      "Epoch 1/10\n",
      "4/4 [==============================] - 0s 5ms/step - loss: 0.2840 - accuracy: 0.9352\n",
      "Epoch 2/10\n",
      "4/4 [==============================] - 0s 5ms/step - loss: 0.1937 - accuracy: 0.9259\n",
      "Epoch 3/10\n",
      "4/4 [==============================] - 0s 5ms/step - loss: 0.1128 - accuracy: 0.9907\n",
      "Epoch 4/10\n",
      "4/4 [==============================] - 0s 6ms/step - loss: 0.0962 - accuracy: 0.9722\n",
      "Epoch 5/10\n",
      "4/4 [==============================] - 0s 6ms/step - loss: 0.0572 - accuracy: 1.0000\n",
      "Epoch 6/10\n",
      "4/4 [==============================] - 0s 6ms/step - loss: 0.0414 - accuracy: 1.0000\n",
      "Epoch 7/10\n",
      "4/4 [==============================] - 0s 6ms/step - loss: 0.0255 - accuracy: 1.0000\n",
      "Epoch 8/10\n",
      "4/4 [==============================] - 0s 6ms/step - loss: 0.0136 - accuracy: 1.0000\n",
      "Epoch 9/10\n",
      "4/4 [==============================] - 0s 5ms/step - loss: 0.0096 - accuracy: 1.0000\n",
      "Epoch 10/10\n",
      "4/4 [==============================] - 0s 5ms/step - loss: 0.0065 - accuracy: 1.0000\n"
     ]
    },
    {
     "data": {
      "text/plain": [
       "<keras.callbacks.History at 0x7f6dbc2e1e50>"
      ]
     },
     "execution_count": 61,
     "metadata": {},
     "output_type": "execute_result"
    }
   ],
   "source": [
    "model.fit(x_train, y_train, epochs=10)"
   ]
  },
  {
   "cell_type": "code",
   "execution_count": 62,
   "id": "27c6b492",
   "metadata": {},
   "outputs": [
    {
     "name": "stdout",
     "output_type": "stream",
     "text": [
      "Test Loss: 0.006576784420758486\n",
      "Test Accuracy: 1.0\n"
     ]
    }
   ],
   "source": [
    "score = model.evaluate(x_test, y_test, verbose=0)\n",
    "print('Test Loss:', score[0])\n",
    "print('Test Accuracy:', score[1])"
   ]
  },
  {
   "cell_type": "code",
   "execution_count": 63,
   "id": "d5550f89",
   "metadata": {},
   "outputs": [
    {
     "name": "stdout",
     "output_type": "stream",
     "text": [
      "2/2 [==============================] - 0s 4ms/step\n"
     ]
    }
   ],
   "source": [
    "y_pred = model.predict(x_test)"
   ]
  },
  {
   "cell_type": "code",
   "execution_count": 64,
   "id": "13ba4e7a",
   "metadata": {},
   "outputs": [
    {
     "name": "stdout",
     "output_type": "stream",
     "text": [
      "TN: 17, FP: 0, FN: 0, TP: 19\n",
      "Precision: 1.0\n",
      "Recall: 1.0\n",
      "f1 score: 1.0\n",
      "Sensitivity: 1.0\n",
      "Specificity: 1.0\n",
      "AURC: 1.0\n"
     ]
    }
   ],
   "source": [
    "tn, fp, fn, tp = confusion_matrix(y_test, np.argmax(y_pred, axis=1)).ravel()\n",
    "print(\"TN: %.0f\" % tn + \", FP: %.0f\" % fp + \", FN: %.0f\" % fn + \", TP: %.0f\" % tp)\n",
    "print(\"Precision:\",precision_score(y_test, np.argmax(y_pred, axis=1)))\n",
    "print(\"Recall:\", recall_score(y_test, np.argmax(y_pred, axis=1)))\n",
    "print(\"f1 score:\", f1_score(y_test, np.argmax(y_pred, axis=1)))\n",
    "print(\"Sensitivity:\", tp / (tp + fn))\n",
    "print(\"Specificity:\", tn / (tn + fp))\n",
    "print(\"AURC:\", roc_auc_score(y_test, np.argmax(y_pred, axis=1)))"
   ]
  },
  {
   "cell_type": "code",
   "execution_count": 65,
   "id": "9872e37f",
   "metadata": {},
   "outputs": [],
   "source": [
    "# Architecture 3\n",
    "# Test Using 5 epochs and adam as the optimizer with learning rate 0.001"
   ]
  },
  {
   "cell_type": "code",
   "execution_count": 66,
   "id": "4d57178f",
   "metadata": {},
   "outputs": [
    {
     "name": "stdout",
     "output_type": "stream",
     "text": [
      "Model: \"sequential_8\"\n",
      "_________________________________________________________________\n",
      " Layer (type)                Output Shape              Param #   \n",
      "=================================================================\n",
      " conv2d_13 (Conv2D)          (None, 7, 7, 32)          320       \n",
      "                                                                 \n",
      " max_pooling2d_8 (MaxPooling  (None, 3, 3, 32)         0         \n",
      " 2D)                                                             \n",
      "                                                                 \n",
      " conv2d_14 (Conv2D)          (None, 1, 1, 64)          18496     \n",
      "                                                                 \n",
      " flatten_8 (Flatten)         (None, 64)                0         \n",
      "                                                                 \n",
      " dense_18 (Dense)            (None, 256)               16640     \n",
      "                                                                 \n",
      " dense_19 (Dense)            (None, 128)               32896     \n",
      "                                                                 \n",
      " dense_20 (Dense)            (None, 5)                 645       \n",
      "                                                                 \n",
      "=================================================================\n",
      "Total params: 68,997\n",
      "Trainable params: 68,997\n",
      "Non-trainable params: 0\n",
      "_________________________________________________________________\n"
     ]
    }
   ],
   "source": [
    "model = Sequential()\n",
    "model.add(Conv2D(32, kernel_size=(3, 3), activation='relu', input_shape=(9,9,1)))\n",
    "model.add(MaxPooling2D(pool_size=(2, 2)))\n",
    "model.add(Conv2D(64, kernel_size=(3, 3), activation='relu'))\n",
    "\n",
    "model.add(Flatten())\n",
    "model.add(Dense(256, activation='relu'))\n",
    "model.add(Dense(128, activation='relu'))\n",
    "model.add(Dense(5, activation='softmax'))\n",
    "keras.optimizers.Adam(\n",
    "learning_rate=0.001,\n",
    "beta_1=0.9,\n",
    "beta_2=0.999,\n",
    "epsilon=1e-07,\n",
    "amsgrad=False,\n",
    "name=\"Adam\",\n",
    "    \n",
    ")\n",
    "model.compile(optimizer='Adam', loss='sparse_categorical_crossentropy', metrics=['accuracy'])\n",
    "model.summary()"
   ]
  },
  {
   "cell_type": "code",
   "execution_count": 67,
   "id": "c7de500b",
   "metadata": {},
   "outputs": [
    {
     "name": "stdout",
     "output_type": "stream",
     "text": [
      "Epoch 1/5\n",
      "4/4 [==============================] - 1s 4ms/step - loss: 1.5446 - accuracy: 0.4907\n",
      "Epoch 2/5\n",
      "4/4 [==============================] - 0s 5ms/step - loss: 1.2983 - accuracy: 0.4907\n",
      "Epoch 3/5\n",
      "4/4 [==============================] - 0s 7ms/step - loss: 0.9544 - accuracy: 0.4907\n",
      "Epoch 4/5\n",
      "4/4 [==============================] - 0s 8ms/step - loss: 0.6875 - accuracy: 0.4907\n",
      "Epoch 5/5\n",
      "4/4 [==============================] - 0s 5ms/step - loss: 0.5192 - accuracy: 0.9537\n"
     ]
    },
    {
     "data": {
      "text/plain": [
       "<keras.callbacks.History at 0x7f6dbc2ae7c0>"
      ]
     },
     "execution_count": 67,
     "metadata": {},
     "output_type": "execute_result"
    }
   ],
   "source": [
    "model.fit(x_train, y_train, epochs=5)"
   ]
  },
  {
   "cell_type": "code",
   "execution_count": 68,
   "id": "82109618",
   "metadata": {},
   "outputs": [
    {
     "name": "stdout",
     "output_type": "stream",
     "text": [
      "Test Loss: 0.4421956539154053\n",
      "Test Accuracy: 0.9722222089767456\n"
     ]
    }
   ],
   "source": [
    "score = model.evaluate(x_test, y_test, verbose=0)\n",
    "print('Test Loss:', score[0])\n",
    "print('Test Accuracy:', score[1])"
   ]
  },
  {
   "cell_type": "code",
   "execution_count": 69,
   "id": "4c8d8c5a",
   "metadata": {},
   "outputs": [
    {
     "name": "stdout",
     "output_type": "stream",
     "text": [
      "2/2 [==============================] - 0s 5ms/step\n"
     ]
    }
   ],
   "source": [
    "y_pred = model.predict(x_test)"
   ]
  },
  {
   "cell_type": "code",
   "execution_count": 70,
   "id": "19d61855",
   "metadata": {},
   "outputs": [
    {
     "name": "stdout",
     "output_type": "stream",
     "text": [
      "TN: 16, FP: 1, FN: 0, TP: 19\n",
      "Precision: 0.95\n",
      "Recall: 1.0\n",
      "f1 score: 0.9743589743589743\n",
      "Sensitivity: 1.0\n",
      "Specificity: 0.9411764705882353\n",
      "AURC: 0.9705882352941176\n"
     ]
    }
   ],
   "source": [
    "tn, fp, fn, tp = confusion_matrix(y_test, np.argmax(y_pred, axis=1)).ravel()\n",
    "print(\"TN: %.0f\" % tn + \", FP: %.0f\" % fp + \", FN: %.0f\" % fn + \", TP: %.0f\" % tp)\n",
    "print(\"Precision:\",precision_score(y_test, np.argmax(y_pred, axis=1)))\n",
    "print(\"Recall:\", recall_score(y_test, np.argmax(y_pred, axis=1)))\n",
    "print(\"f1 score:\", f1_score(y_test, np.argmax(y_pred, axis=1)))\n",
    "print(\"Sensitivity:\", tp / (tp + fn))\n",
    "print(\"Specificity:\", tn / (tn + fp))\n",
    "print(\"AURC:\", roc_auc_score(y_test, np.argmax(y_pred, axis=1)))"
   ]
  },
  {
   "cell_type": "code",
   "execution_count": 71,
   "id": "58ae4cdb",
   "metadata": {},
   "outputs": [],
   "source": [
    "# Architecture 4\n",
    "# Test Using 5 epochs and adam as the optimizer with learning rate 0.1"
   ]
  },
  {
   "cell_type": "code",
   "execution_count": 72,
   "id": "e368d739",
   "metadata": {},
   "outputs": [
    {
     "name": "stdout",
     "output_type": "stream",
     "text": [
      "Model: \"sequential_9\"\n",
      "_________________________________________________________________\n",
      " Layer (type)                Output Shape              Param #   \n",
      "=================================================================\n",
      " conv2d_15 (Conv2D)          (None, 7, 7, 32)          320       \n",
      "                                                                 \n",
      " max_pooling2d_9 (MaxPooling  (None, 3, 3, 32)         0         \n",
      " 2D)                                                             \n",
      "                                                                 \n",
      " conv2d_16 (Conv2D)          (None, 1, 1, 64)          18496     \n",
      "                                                                 \n",
      " flatten_9 (Flatten)         (None, 64)                0         \n",
      "                                                                 \n",
      " dense_21 (Dense)            (None, 256)               16640     \n",
      "                                                                 \n",
      " dense_22 (Dense)            (None, 128)               32896     \n",
      "                                                                 \n",
      " dense_23 (Dense)            (None, 5)                 645       \n",
      "                                                                 \n",
      "=================================================================\n",
      "Total params: 68,997\n",
      "Trainable params: 68,997\n",
      "Non-trainable params: 0\n",
      "_________________________________________________________________\n"
     ]
    }
   ],
   "source": [
    "model = Sequential()\n",
    "model.add(Conv2D(32, kernel_size=(3, 3), activation='relu', input_shape=(9,9,1)))\n",
    "model.add(MaxPooling2D(pool_size=(2, 2)))\n",
    "model.add(Conv2D(64, kernel_size=(3, 3), activation='relu'))\n",
    "\n",
    "model.add(Flatten())\n",
    "model.add(Dense(256, activation='relu'))\n",
    "model.add(Dense(128, activation='relu'))\n",
    "model.add(Dense(5, activation='softmax'))\n",
    "keras.optimizers.Adam(\n",
    "learning_rate=1,\n",
    "beta_1=0.9,\n",
    "beta_2=0.999,\n",
    "epsilon=1e-07,\n",
    "amsgrad=False,\n",
    "name=\"Adam\",\n",
    "\n",
    ")\n",
    "\n",
    "model.compile(optimizer='Adam', loss='sparse_categorical_crossentropy', metrics=['accuracy'])\n",
    "model.summary()"
   ]
  },
  {
   "cell_type": "code",
   "execution_count": 73,
   "id": "4084261a",
   "metadata": {},
   "outputs": [
    {
     "name": "stdout",
     "output_type": "stream",
     "text": [
      "Epoch 1/5\n",
      "4/4 [==============================] - 1s 7ms/step - loss: 1.5502 - accuracy: 0.6389\n",
      "Epoch 2/5\n",
      "4/4 [==============================] - 0s 6ms/step - loss: 1.3134 - accuracy: 0.9259\n",
      "Epoch 3/5\n",
      "4/4 [==============================] - 0s 5ms/step - loss: 0.9620 - accuracy: 0.9444\n",
      "Epoch 4/5\n",
      "4/4 [==============================] - 0s 6ms/step - loss: 0.6512 - accuracy: 0.9444\n",
      "Epoch 5/5\n",
      "4/4 [==============================] - 0s 6ms/step - loss: 0.4940 - accuracy: 0.9444\n"
     ]
    },
    {
     "data": {
      "text/plain": [
       "<keras.callbacks.History at 0x7f6dbc513a90>"
      ]
     },
     "execution_count": 73,
     "metadata": {},
     "output_type": "execute_result"
    }
   ],
   "source": [
    "model.fit(x_train, y_train, epochs=5)"
   ]
  },
  {
   "cell_type": "code",
   "execution_count": 74,
   "id": "f1b83c28",
   "metadata": {},
   "outputs": [
    {
     "name": "stdout",
     "output_type": "stream",
     "text": [
      "Test Loss at 1 LR: 0.413352370262146\n",
      "Test Accuracy at 1: 1.0\n"
     ]
    }
   ],
   "source": [
    "score = model.evaluate(x_test, y_test, verbose=0)\n",
    "print('Test Loss at 1 LR:', score[0])\n",
    "print('Test Accuracy at 1:', score[1])"
   ]
  },
  {
   "cell_type": "code",
   "execution_count": 75,
   "id": "c0d13f40",
   "metadata": {},
   "outputs": [
    {
     "name": "stdout",
     "output_type": "stream",
     "text": [
      "2/2 [==============================] - 0s 8ms/step\n"
     ]
    }
   ],
   "source": [
    "y_pred = model.predict(x_test)"
   ]
  },
  {
   "cell_type": "code",
   "execution_count": 76,
   "id": "dfcf99f6",
   "metadata": {},
   "outputs": [],
   "source": [
    "# We can notice increase in accuracy on increasing learning rate."
   ]
  },
  {
   "cell_type": "code",
   "execution_count": 77,
   "id": "95b9e322",
   "metadata": {},
   "outputs": [
    {
     "name": "stdout",
     "output_type": "stream",
     "text": [
      "TN: 17, FP: 0, FN: 0, TP: 19\n",
      "Precision: 1.0\n",
      "Recall: 1.0\n",
      "f1 score: 1.0\n",
      "Sensitivity: 1.0\n",
      "Specificity: 1.0\n",
      "AURC: 1.0\n"
     ]
    }
   ],
   "source": [
    "tn, fp, fn, tp = confusion_matrix(y_test, np.argmax(y_pred, axis=1)).ravel()\n",
    "print(\"TN: %.0f\" % tn + \", FP: %.0f\" % fp + \", FN: %.0f\" % fn + \", TP: %.0f\" % tp)\n",
    "print(\"Precision:\",precision_score(y_test, np.argmax(y_pred, axis=1)))\n",
    "print(\"Recall:\", recall_score(y_test, np.argmax(y_pred, axis=1)))\n",
    "print(\"f1 score:\", f1_score(y_test, np.argmax(y_pred, axis=1)))\n",
    "print(\"Sensitivity:\", tp / (tp + fn))\n",
    "print(\"Specificity:\", tn / (tn + fp))\n",
    "print(\"AURC:\", roc_auc_score(y_test, np.argmax(y_pred, axis=1)))"
   ]
  },
  {
   "cell_type": "code",
   "execution_count": 78,
   "id": "b9812e32",
   "metadata": {},
   "outputs": [],
   "source": [
    "# Architecture 5\n",
    "# Test using the RMSprop optimizer"
   ]
  },
  {
   "cell_type": "code",
   "execution_count": 79,
   "id": "bd247c59",
   "metadata": {},
   "outputs": [
    {
     "name": "stdout",
     "output_type": "stream",
     "text": [
      "Model: \"sequential_10\"\n",
      "_________________________________________________________________\n",
      " Layer (type)                Output Shape              Param #   \n",
      "=================================================================\n",
      " conv2d_17 (Conv2D)          (None, 7, 7, 32)          320       \n",
      "                                                                 \n",
      " max_pooling2d_10 (MaxPoolin  (None, 3, 3, 32)         0         \n",
      " g2D)                                                            \n",
      "                                                                 \n",
      " conv2d_18 (Conv2D)          (None, 1, 1, 64)          18496     \n",
      "                                                                 \n",
      " flatten_10 (Flatten)        (None, 64)                0         \n",
      "                                                                 \n",
      " dense_24 (Dense)            (None, 256)               16640     \n",
      "                                                                 \n",
      " dense_25 (Dense)            (None, 128)               32896     \n",
      "                                                                 \n",
      " dense_26 (Dense)            (None, 5)                 645       \n",
      "                                                                 \n",
      "=================================================================\n",
      "Total params: 68,997\n",
      "Trainable params: 68,997\n",
      "Non-trainable params: 0\n",
      "_________________________________________________________________\n"
     ]
    }
   ],
   "source": [
    "model = Sequential()\n",
    "model.add(Conv2D(32, kernel_size=(3, 3), activation='relu', input_shape=(9,9,1)))\n",
    "model.add(MaxPooling2D(pool_size=(2, 2)))\n",
    "model.add(Conv2D(64, kernel_size=(3, 3), activation='relu'))\n",
    "\n",
    "model.add(Flatten())\n",
    "model.add(Dense(256, activation='relu'))\n",
    "model.add(Dense(128, activation='relu'))\n",
    "model.add(Dense(5, activation='softmax'))\n",
    "keras.optimizers.RMSprop(\n",
    "learning_rate=0.001,\n",
    "rho=0.9,\n",
    "momentum=0.1,\n",
    "epsilon=1e-07,\n",
    "centered=False,\n",
    "name=\"RMSprop\",\n",
    ")\n",
    "model.compile(optimizer='RMSprop', loss='sparse_categorical_crossentropy', metrics=['accuracy'])\n",
    "model.summary()"
   ]
  },
  {
   "cell_type": "code",
   "execution_count": 80,
   "id": "17c1d759",
   "metadata": {},
   "outputs": [
    {
     "name": "stdout",
     "output_type": "stream",
     "text": [
      "Epoch 1/5\n",
      "4/4 [==============================] - 1s 5ms/step - loss: 1.4678 - accuracy: 0.4907\n",
      "Epoch 2/5\n",
      "4/4 [==============================] - 0s 6ms/step - loss: 0.8410 - accuracy: 0.5463\n",
      "Epoch 3/5\n",
      "4/4 [==============================] - 0s 6ms/step - loss: 0.5791 - accuracy: 0.7500\n",
      "Epoch 4/5\n",
      "4/4 [==============================] - 0s 6ms/step - loss: 0.4481 - accuracy: 0.8426\n",
      "Epoch 5/5\n",
      "4/4 [==============================] - 0s 6ms/step - loss: 0.3915 - accuracy: 0.7778\n"
     ]
    },
    {
     "data": {
      "text/plain": [
       "<keras.callbacks.History at 0x7f6d9edc19a0>"
      ]
     },
     "execution_count": 80,
     "metadata": {},
     "output_type": "execute_result"
    }
   ],
   "source": [
    "model.fit(x_train, y_train, epochs=5)"
   ]
  },
  {
   "cell_type": "code",
   "execution_count": 81,
   "id": "8282ef50",
   "metadata": {},
   "outputs": [
    {
     "name": "stdout",
     "output_type": "stream",
     "text": [
      "Test Loss at 0.001 LR: 0.3163691759109497\n",
      "Test Accuracy at 0.001: 0.8888888955116272\n"
     ]
    }
   ],
   "source": [
    "score = model.evaluate(x_test, y_test, verbose=0)\n",
    "print('Test Loss at 0.001 LR:', score[0])\n",
    "print('Test Accuracy at 0.001:', score[1])"
   ]
  },
  {
   "cell_type": "code",
   "execution_count": 82,
   "id": "2f26ea17",
   "metadata": {},
   "outputs": [
    {
     "name": "stdout",
     "output_type": "stream",
     "text": [
      "2/2 [==============================] - 0s 3ms/step\n"
     ]
    }
   ],
   "source": [
    "y_pred = model.predict(x_test)"
   ]
  },
  {
   "cell_type": "code",
   "execution_count": 83,
   "id": "63dbc6ca",
   "metadata": {},
   "outputs": [
    {
     "name": "stdout",
     "output_type": "stream",
     "text": [
      "TN: 13, FP: 4, FN: 0, TP: 19\n",
      "Precision: 0.8260869565217391\n",
      "Recall: 1.0\n",
      "f1 score: 0.9047619047619047\n",
      "Sensitivity: 1.0\n",
      "Specificity: 0.7647058823529411\n",
      "AURC: 0.8823529411764706\n"
     ]
    }
   ],
   "source": [
    "tn, fp, fn, tp = confusion_matrix(y_test, np.argmax(y_pred, axis=1)).ravel()\n",
    "print(\"TN: %.0f\" % tn + \", FP: %.0f\" % fp + \", FN: %.0f\" % fn + \", TP: %.0f\" % tp)\n",
    "print(\"Precision:\",precision_score(y_test, np.argmax(y_pred, axis=1)))\n",
    "print(\"Recall:\", recall_score(y_test, np.argmax(y_pred, axis=1)))\n",
    "print(\"f1 score:\", f1_score(y_test, np.argmax(y_pred, axis=1)))\n",
    "print(\"Sensitivity:\", tp / (tp + fn))\n",
    "print(\"Specificity:\", tn / (tn + fp))\n",
    "print(\"AURC:\", roc_auc_score(y_test, np.argmax(y_pred, axis=1)))"
   ]
  },
  {
   "cell_type": "code",
   "execution_count": 84,
   "id": "2dc62e26",
   "metadata": {},
   "outputs": [],
   "source": [
    "# Architecture 6\n",
    "# Test using Adadelta optimizer"
   ]
  },
  {
   "cell_type": "code",
   "execution_count": 85,
   "id": "a11e8ca5",
   "metadata": {},
   "outputs": [
    {
     "name": "stdout",
     "output_type": "stream",
     "text": [
      "Model: \"sequential_11\"\n",
      "_________________________________________________________________\n",
      " Layer (type)                Output Shape              Param #   \n",
      "=================================================================\n",
      " conv2d_19 (Conv2D)          (None, 7, 7, 32)          320       \n",
      "                                                                 \n",
      " max_pooling2d_11 (MaxPoolin  (None, 3, 3, 32)         0         \n",
      " g2D)                                                            \n",
      "                                                                 \n",
      " flatten_11 (Flatten)        (None, 288)               0         \n",
      "                                                                 \n",
      " dense_27 (Dense)            (None, 5)                 1445      \n",
      "                                                                 \n",
      "=================================================================\n",
      "Total params: 1,765\n",
      "Trainable params: 1,765\n",
      "Non-trainable params: 0\n",
      "_________________________________________________________________\n"
     ]
    }
   ],
   "source": [
    "model = keras.models.Sequential([\n",
    "  keras.layers.Conv2D(32, (3,3), activation='relu', input_shape=(9,9,1)),\n",
    "  keras.layers.MaxPooling2D(2, 2),\n",
    "  keras.layers.Flatten(),\n",
    "  \n",
    " keras.layers.Dense(5, activation='softmax')\n",
    "    \n",
    "])\n",
    "\n",
    "keras.optimizers.Adadelta(\n",
    "    learning_rate=0.001, rho=0.95, epsilon=1e-07, name=\"Adadelta\")\n",
    "    \n",
    "    \n",
    "\n",
    "model.compile(optimizer='Adadelta', loss='sparse_categorical_crossentropy', metrics=['accuracy'])\n",
    "model.summary()"
   ]
  },
  {
   "cell_type": "code",
   "execution_count": 86,
   "id": "19706de0",
   "metadata": {},
   "outputs": [
    {
     "name": "stdout",
     "output_type": "stream",
     "text": [
      "Epoch 1/5\n",
      "4/4 [==============================] - 1s 5ms/step - loss: 1.7608 - accuracy: 0.0000e+00\n",
      "Epoch 2/5\n",
      "4/4 [==============================] - 0s 5ms/step - loss: 1.7605 - accuracy: 0.0000e+00\n",
      "Epoch 3/5\n",
      "4/4 [==============================] - 0s 5ms/step - loss: 1.7603 - accuracy: 0.0000e+00\n",
      "Epoch 4/5\n",
      "4/4 [==============================] - 0s 5ms/step - loss: 1.7600 - accuracy: 0.0000e+00\n",
      "Epoch 5/5\n",
      "4/4 [==============================] - 0s 5ms/step - loss: 1.7597 - accuracy: 0.0000e+00\n"
     ]
    },
    {
     "data": {
      "text/plain": [
       "<keras.callbacks.History at 0x7f6d9ec28640>"
      ]
     },
     "execution_count": 86,
     "metadata": {},
     "output_type": "execute_result"
    }
   ],
   "source": [
    "model.fit(x_train, y_train, epochs=5)"
   ]
  },
  {
   "cell_type": "code",
   "execution_count": 87,
   "id": "ce26d07a",
   "metadata": {},
   "outputs": [
    {
     "name": "stdout",
     "output_type": "stream",
     "text": [
      "Test Loss at 0.001 LR: 1.7619374990463257\n",
      "Test Accuracy at 0.001: 0.0\n"
     ]
    }
   ],
   "source": [
    "score = model.evaluate(x_test, y_test, verbose=0)\n",
    "print('Test Loss at 0.001 LR:', score[0])\n",
    "print('Test Accuracy at 0.001:', score[1])"
   ]
  },
  {
   "cell_type": "code",
   "execution_count": 88,
   "id": "f7b73486",
   "metadata": {},
   "outputs": [],
   "source": [
    "# Adadelta comes out as the worst in the tests"
   ]
  },
  {
   "cell_type": "code",
   "execution_count": 89,
   "id": "c89537b0",
   "metadata": {},
   "outputs": [
    {
     "name": "stdout",
     "output_type": "stream",
     "text": [
      "2/2 [==============================] - 0s 4ms/step\n"
     ]
    }
   ],
   "source": [
    "y_pred = model.predict(x_test)"
   ]
  },
  {
   "cell_type": "code",
   "execution_count": 92,
   "id": "1834c7c3",
   "metadata": {},
   "outputs": [
    {
     "name": "stdout",
     "output_type": "stream",
     "text": [
      "[[ 0  0  4 13]\n",
      " [ 0  0  0 19]\n",
      " [ 0  0  0  0]\n",
      " [ 0  0  0  0]]\n"
     ]
    }
   ],
   "source": [
    "print(confusion_matrix(y_test, np.argmax(y_pred, axis=1)))"
   ]
  },
  {
   "cell_type": "code",
   "execution_count": null,
   "id": "30525dd0",
   "metadata": {},
   "outputs": [],
   "source": []
  }
 ],
 "metadata": {
  "kernelspec": {
   "display_name": "Python 3 (ipykernel)",
   "language": "python",
   "name": "python3"
  },
  "language_info": {
   "codemirror_mode": {
    "name": "ipython",
    "version": 3
   },
   "file_extension": ".py",
   "mimetype": "text/x-python",
   "name": "python",
   "nbconvert_exporter": "python",
   "pygments_lexer": "ipython3",
   "version": "3.9.12"
  }
 },
 "nbformat": 4,
 "nbformat_minor": 5
}
