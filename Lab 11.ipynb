{
 "cells": [
  {
   "cell_type": "code",
   "execution_count": 47,
   "id": "956de8d9",
   "metadata": {},
   "outputs": [],
   "source": [
    "# Python ≥3.5 is required\n",
    "import sys\n",
    "assert sys.version_info >= (3, 5)\n",
    "\n",
    "# Scikit-Learn ≥0.20 is \n",
    "import sklearn\n",
    "assert sklearn.__version__ >= \"0.20\"\n",
    "from sklearn.model_selection import train_test_split, cross_val_score, KFold, cross_val_predict\n",
    "from sklearn.metrics import accuracy_score, confusion_matrix, precision_score, recall_score, classification_report\n",
    "from sklearn.metrics import roc_curve, roc_auc_score, f1_score, roc_curve, roc_auc_score \n",
    "\n",
    "\n",
    "# keras\n",
    "from tensorflow import keras\n",
    "from tensorflow.keras import layers\n",
    "from tensorflow.keras.models import Sequential\n",
    "from tensorflow.keras.layers import Dense, Flatten, Conv2D, MaxPooling2D\n",
    "from tensorflow.keras.losses import sparse_categorical_crossentropy\n",
    "from tensorflow.keras.optimizers import Adam\n",
    "\n",
    "# Common imports\n",
    "import numpy as np\n",
    "import pandas as pd\n",
    "import os\n",
    "\n",
    "# to make this notebook's output stable across runs\n",
    "np.random.seed(42)\n",
    "from random import randint\n",
    "\n",
    "# To plot pretty figures\n",
    "%matplotlib inline\n",
    "import matplotlib as mpl\n",
    "import matplotlib.pyplot as plt\n",
    "mpl.rc('axes', labelsize=14)\n",
    "mpl.rc('xtick', labelsize=12)\n",
    "mpl.rc('ytick', labelsize=12)"
   ]
  },
  {
   "cell_type": "code",
   "execution_count": 48,
   "id": "0f073b6c",
   "metadata": {},
   "outputs": [
    {
     "name": "stdout",
     "output_type": "stream",
     "text": [
      "(144, 9, 9, 1)\n",
      "(144,)\n",
      "(108, 9, 9, 1)\n",
      "(108,)\n"
     ]
    }
   ],
   "source": [
    "X = np.load(\"smiley_X.npy\")\n",
    "y = np.load(\"smiley_y.npy\")\n",
    "print(X.shape)\n",
    "print(y.shape)\n",
    "\n",
    "x_train, x_test, y_train, y_test = train_test_split(X, y, random_state=0)\n",
    "print(x_train.shape)\n",
    "print(y_train.shape)"
   ]
  },
  {
   "cell_type": "code",
   "execution_count": 49,
   "id": "82611200",
   "metadata": {},
   "outputs": [],
   "source": [
    "# Architecture 1"
   ]
  },
  {
   "cell_type": "code",
   "execution_count": 50,
   "id": "aea214e4",
   "metadata": {},
   "outputs": [
    {
     "name": "stdout",
     "output_type": "stream",
     "text": [
      "Model: \"sequential_6\"\n",
      "_________________________________________________________________\n",
      " Layer (type)                Output Shape              Param #   \n",
      "=================================================================\n",
      " conv2d_10 (Conv2D)          (None, 7, 7, 64)          640       \n",
      "                                                                 \n",
      " max_pooling2d_6 (MaxPooling  (None, 3, 3, 64)         0         \n",
      " 2D)                                                             \n",
      "                                                                 \n",
      " flatten_6 (Flatten)         (None, 576)               0         \n",
      "                                                                 \n",
      " dense_14 (Dense)            (None, 10)                5770      \n",
      "                                                                 \n",
      "=================================================================\n",
      "Total params: 6,410\n",
      "Trainable params: 6,410\n",
      "Non-trainable params: 0\n",
      "_________________________________________________________________\n"
     ]
    }
   ],
   "source": [
    "model = keras.models.Sequential([\n",
    "  keras.layers.Conv2D(64, (3,3), activation='relu', input_shape=(9,9,1)),\n",
    "  keras.layers.MaxPooling2D(2, 2),\n",
    "  keras.layers.Flatten(),\n",
    "  keras.layers.Dense(10, activation='softmax')\n",
    "])\n",
    "model.compile(optimizer='adam', loss='sparse_categorical_crossentropy', metrics=['accuracy'])\n",
    "model.summary()"
   ]
  },
  {
   "cell_type": "code",
   "execution_count": 51,
   "id": "fc12e41f",
   "metadata": {},
   "outputs": [
    {
     "name": "stdout",
     "output_type": "stream",
     "text": [
      "Epoch 1/5\n",
      "4/4 [==============================] - 1s 4ms/step - loss: 2.3099 - accuracy: 0.0463\n",
      "Epoch 2/5\n",
      "4/4 [==============================] - 0s 6ms/step - loss: 2.0279 - accuracy: 0.6389\n",
      "Epoch 3/5\n",
      "4/4 [==============================] - 0s 7ms/step - loss: 1.7580 - accuracy: 0.7963\n",
      "Epoch 4/5\n",
      "4/4 [==============================] - 0s 7ms/step - loss: 1.4966 - accuracy: 0.8333\n",
      "Epoch 5/5\n",
      "4/4 [==============================] - 0s 6ms/step - loss: 1.2532 - accuracy: 0.8519\n"
     ]
    },
    {
     "data": {
      "text/plain": [
       "<keras.callbacks.History at 0x7fe336e0c7c0>"
      ]
     },
     "execution_count": 51,
     "metadata": {},
     "output_type": "execute_result"
    }
   ],
   "source": [
    "model.fit(x_train, y_train, epochs=5)"
   ]
  },
  {
   "cell_type": "code",
   "execution_count": 52,
   "id": "e44b7d0e",
   "metadata": {},
   "outputs": [
    {
     "name": "stdout",
     "output_type": "stream",
     "text": [
      "Test Loss: 1.0945379734039307\n",
      "Test Accuracy: 0.8888888955116272\n"
     ]
    }
   ],
   "source": [
    "score = model.evaluate(x_test, y_test, verbose=0)\n",
    "print('Test Loss:', score[0])\n",
    "print('Test Accuracy:', score[1])"
   ]
  },
  {
   "cell_type": "code",
   "execution_count": 53,
   "id": "1cd1ddc0",
   "metadata": {},
   "outputs": [
    {
     "name": "stdout",
     "output_type": "stream",
     "text": [
      "2/2 [==============================] - 0s 4ms/step\n"
     ]
    }
   ],
   "source": [
    "y_pred = model.predict(x_test)"
   ]
  },
  {
   "cell_type": "code",
   "execution_count": 54,
   "id": "b38c261f",
   "metadata": {},
   "outputs": [
    {
     "name": "stdout",
     "output_type": "stream",
     "text": [
      "TN: 14, FP: 3, FN: 1, TP: 18\n",
      "Precision: 0.8571428571428571\n",
      "Recall: 0.9473684210526315\n",
      "f1 score: 0.9\n",
      "Sensitivity: 0.9473684210526315\n",
      "Specificity: 0.8235294117647058\n",
      "AURC: 0.8854489164086686\n"
     ]
    }
   ],
   "source": [
    "tn, fp, fn, tp = confusion_matrix(y_test, np.argmax(y_pred, axis=1)).ravel()\n",
    "print(\"TN: %.0f\" % tn + \", FP: %.0f\" % fp + \", FN: %.0f\" % fn + \", TP: %.0f\" % tp)\n",
    "print(\"Precision:\",precision_score(y_test, np.argmax(y_pred, axis=1)))\n",
    "print(\"Recall:\", recall_score(y_test, np.argmax(y_pred, axis=1)))\n",
    "print(\"f1 score:\", f1_score(y_test, np.argmax(y_pred, axis=1)))\n",
    "print(\"Sensitivity:\", tp / (tp + fn))\n",
    "print(\"Specificity:\", tn / (tn + fp))\n",
    "print(\"AURC:\", roc_auc_score(y_test, np.argmax(y_pred, axis=1)))"
   ]
  },
  {
   "cell_type": "code",
   "execution_count": 55,
   "id": "ad618b62",
   "metadata": {},
   "outputs": [],
   "source": [
    "# Architecture 2"
   ]
  },
  {
   "cell_type": "code",
   "execution_count": 56,
   "id": "ec024fe3",
   "metadata": {},
   "outputs": [
    {
     "name": "stdout",
     "output_type": "stream",
     "text": [
      "Model: \"sequential_7\"\n",
      "_________________________________________________________________\n",
      " Layer (type)                Output Shape              Param #   \n",
      "=================================================================\n",
      " conv2d_11 (Conv2D)          (None, 7, 7, 32)          320       \n",
      "                                                                 \n",
      " max_pooling2d_7 (MaxPooling  (None, 3, 3, 32)         0         \n",
      " 2D)                                                             \n",
      "                                                                 \n",
      " conv2d_12 (Conv2D)          (None, 1, 1, 64)          18496     \n",
      "                                                                 \n",
      " flatten_7 (Flatten)         (None, 64)                0         \n",
      "                                                                 \n",
      " dense_15 (Dense)            (None, 256)               16640     \n",
      "                                                                 \n",
      " dense_16 (Dense)            (None, 128)               32896     \n",
      "                                                                 \n",
      " dense_17 (Dense)            (None, 5)                 645       \n",
      "                                                                 \n",
      "=================================================================\n",
      "Total params: 68,997\n",
      "Trainable params: 68,997\n",
      "Non-trainable params: 0\n",
      "_________________________________________________________________\n"
     ]
    }
   ],
   "source": [
    "model = Sequential()\n",
    "model.add(Conv2D(32, kernel_size=(3, 3), activation='relu', input_shape=(9,9,1)))\n",
    "model.add(MaxPooling2D(pool_size=(2, 2)))\n",
    "model.add(Conv2D(64, kernel_size=(3, 3), activation='relu'))\n",
    "\n",
    "model.add(Flatten())\n",
    "model.add(Dense(256, activation='relu'))\n",
    "model.add(Dense(128, activation='relu'))\n",
    "model.add(Dense(5, activation='softmax'))\n",
    "\n",
    "model.compile(optimizer='adam', loss='sparse_categorical_crossentropy', metrics=['accuracy'])\n",
    "model.summary()"
   ]
  },
  {
   "cell_type": "code",
   "execution_count": 57,
   "id": "131f413c",
   "metadata": {},
   "outputs": [],
   "source": [
    "# Test Using 5 epochs and adam as the optimizer."
   ]
  },
  {
   "cell_type": "code",
   "execution_count": 58,
   "id": "f934c6dd",
   "metadata": {
    "scrolled": true
   },
   "outputs": [
    {
     "name": "stdout",
     "output_type": "stream",
     "text": [
      "Epoch 1/5\n",
      "4/4 [==============================] - 1s 5ms/step - loss: 1.5298 - accuracy: 0.6204\n",
      "Epoch 2/5\n",
      "4/4 [==============================] - 0s 5ms/step - loss: 1.2426 - accuracy: 0.9352\n",
      "Epoch 3/5\n",
      "4/4 [==============================] - 0s 6ms/step - loss: 0.8498 - accuracy: 0.9259\n",
      "Epoch 4/5\n",
      "4/4 [==============================] - 0s 6ms/step - loss: 0.5571 - accuracy: 0.9259\n",
      "Epoch 5/5\n",
      "4/4 [==============================] - 0s 6ms/step - loss: 0.3965 - accuracy: 0.9815\n"
     ]
    },
    {
     "data": {
      "text/plain": [
       "<keras.callbacks.History at 0x7fe3370e1af0>"
      ]
     },
     "execution_count": 58,
     "metadata": {},
     "output_type": "execute_result"
    }
   ],
   "source": [
    "model.fit(x_train, y_train, epochs=5)"
   ]
  },
  {
   "cell_type": "code",
   "execution_count": 59,
   "id": "342ce840",
   "metadata": {},
   "outputs": [
    {
     "name": "stdout",
     "output_type": "stream",
     "text": [
      "Test Loss: 0.30917835235595703\n",
      "Test Accuracy: 0.8888888955116272\n"
     ]
    }
   ],
   "source": [
    "score = model.evaluate(x_test, y_test, verbose=0)\n",
    "print('Test Loss:', score[0])\n",
    "print('Test Accuracy:', score[1])"
   ]
  },
  {
   "cell_type": "code",
   "execution_count": 60,
   "id": "395efcda",
   "metadata": {},
   "outputs": [
    {
     "name": "stdout",
     "output_type": "stream",
     "text": [
      "2/2 [==============================] - 0s 3ms/step\n"
     ]
    }
   ],
   "source": [
    "y_pred = model.predict(x_test)"
   ]
  },
  {
   "cell_type": "code",
   "execution_count": 61,
   "id": "dc44ab7f",
   "metadata": {},
   "outputs": [
    {
     "name": "stdout",
     "output_type": "stream",
     "text": [
      "TN: 13, FP: 4, FN: 0, TP: 19\n",
      "Precision: 0.8260869565217391\n",
      "Recall: 1.0\n",
      "f1 score: 0.9047619047619047\n",
      "Sensitivity: 1.0\n",
      "Specificity: 0.7647058823529411\n",
      "AURC: 0.8823529411764706\n"
     ]
    }
   ],
   "source": [
    "tn, fp, fn, tp = confusion_matrix(y_test, np.argmax(y_pred, axis=1)).ravel()\n",
    "print(\"TN: %.0f\" % tn + \", FP: %.0f\" % fp + \", FN: %.0f\" % fn + \", TP: %.0f\" % tp)\n",
    "print(\"Precision:\",precision_score(y_test, np.argmax(y_pred, axis=1)))\n",
    "print(\"Recall:\", recall_score(y_test, np.argmax(y_pred, axis=1)))\n",
    "print(\"f1 score:\", f1_score(y_test, np.argmax(y_pred, axis=1)))\n",
    "print(\"Sensitivity:\", tp / (tp + fn))\n",
    "print(\"Specificity:\", tn / (tn + fp))\n",
    "print(\"AURC:\", roc_auc_score(y_test, np.argmax(y_pred, axis=1)))"
   ]
  },
  {
   "cell_type": "code",
   "execution_count": 62,
   "id": "fac5f3e2",
   "metadata": {},
   "outputs": [],
   "source": [
    "# Test Using 10 epochs and adam as the optimizer. As noticed the accuracy improves as epochs increase"
   ]
  },
  {
   "cell_type": "code",
   "execution_count": 63,
   "id": "d7d38363",
   "metadata": {},
   "outputs": [
    {
     "name": "stdout",
     "output_type": "stream",
     "text": [
      "Epoch 1/10\n",
      "4/4 [==============================] - 0s 5ms/step - loss: 0.2609 - accuracy: 0.9537\n",
      "Epoch 2/10\n",
      "4/4 [==============================] - 0s 5ms/step - loss: 0.1681 - accuracy: 0.9537\n",
      "Epoch 3/10\n",
      "4/4 [==============================] - 0s 6ms/step - loss: 0.0992 - accuracy: 0.9722\n",
      "Epoch 4/10\n",
      "4/4 [==============================] - 0s 6ms/step - loss: 0.0546 - accuracy: 1.0000\n",
      "Epoch 5/10\n",
      "4/4 [==============================] - 0s 6ms/step - loss: 0.0343 - accuracy: 1.0000\n",
      "Epoch 6/10\n",
      "4/4 [==============================] - 0s 7ms/step - loss: 0.0198 - accuracy: 1.0000\n",
      "Epoch 7/10\n",
      "4/4 [==============================] - 0s 6ms/step - loss: 0.0098 - accuracy: 1.0000\n",
      "Epoch 8/10\n",
      "4/4 [==============================] - 0s 12ms/step - loss: 0.0087 - accuracy: 1.0000\n",
      "Epoch 9/10\n",
      "4/4 [==============================] - 0s 8ms/step - loss: 0.0030 - accuracy: 1.0000\n",
      "Epoch 10/10\n",
      "4/4 [==============================] - 0s 6ms/step - loss: 0.0023 - accuracy: 1.0000\n"
     ]
    },
    {
     "data": {
      "text/plain": [
       "<keras.callbacks.History at 0x7fe336d25730>"
      ]
     },
     "execution_count": 63,
     "metadata": {},
     "output_type": "execute_result"
    }
   ],
   "source": [
    "model.fit(x_train, y_train, epochs=10)"
   ]
  },
  {
   "cell_type": "code",
   "execution_count": 64,
   "id": "b32324a2",
   "metadata": {},
   "outputs": [
    {
     "name": "stdout",
     "output_type": "stream",
     "text": [
      "Test Loss: 0.0025431776884943247\n",
      "Test Accuracy: 1.0\n"
     ]
    }
   ],
   "source": [
    "score = model.evaluate(x_test, y_test, verbose=0)\n",
    "print('Test Loss:', score[0])\n",
    "print('Test Accuracy:', score[1])"
   ]
  },
  {
   "cell_type": "code",
   "execution_count": 65,
   "id": "4ec27de0",
   "metadata": {},
   "outputs": [
    {
     "name": "stdout",
     "output_type": "stream",
     "text": [
      "2/2 [==============================] - 0s 3ms/step\n"
     ]
    }
   ],
   "source": [
    "y_pred = model.predict(x_test)"
   ]
  },
  {
   "cell_type": "code",
   "execution_count": 66,
   "id": "70320966",
   "metadata": {},
   "outputs": [
    {
     "name": "stdout",
     "output_type": "stream",
     "text": [
      "TN: 17, FP: 0, FN: 0, TP: 19\n",
      "Precision: 1.0\n",
      "Recall: 1.0\n",
      "f1 score: 1.0\n",
      "Sensitivity: 1.0\n",
      "Specificity: 1.0\n",
      "AURC: 1.0\n"
     ]
    }
   ],
   "source": [
    "tn, fp, fn, tp = confusion_matrix(y_test, np.argmax(y_pred, axis=1)).ravel()\n",
    "print(\"TN: %.0f\" % tn + \", FP: %.0f\" % fp + \", FN: %.0f\" % fn + \", TP: %.0f\" % tp)\n",
    "print(\"Precision:\",precision_score(y_test, np.argmax(y_pred, axis=1)))\n",
    "print(\"Recall:\", recall_score(y_test, np.argmax(y_pred, axis=1)))\n",
    "print(\"f1 score:\", f1_score(y_test, np.argmax(y_pred, axis=1)))\n",
    "print(\"Sensitivity:\", tp / (tp + fn))\n",
    "print(\"Specificity:\", tn / (tn + fp))\n",
    "print(\"AURC:\", roc_auc_score(y_test, np.argmax(y_pred, axis=1)))"
   ]
  },
  {
   "cell_type": "code",
   "execution_count": 67,
   "id": "759fbecf",
   "metadata": {},
   "outputs": [],
   "source": [
    "# Architecture 3\n",
    "# Test Using 5 epochs and adam as the optimizer with learning rate 0.0001"
   ]
  },
  {
   "cell_type": "code",
   "execution_count": 68,
   "id": "4aa4f7e5",
   "metadata": {},
   "outputs": [
    {
     "name": "stdout",
     "output_type": "stream",
     "text": [
      "Model: \"sequential_8\"\n",
      "_________________________________________________________________\n",
      " Layer (type)                Output Shape              Param #   \n",
      "=================================================================\n",
      " conv2d_13 (Conv2D)          (None, 7, 7, 32)          320       \n",
      "                                                                 \n",
      " max_pooling2d_8 (MaxPooling  (None, 3, 3, 32)         0         \n",
      " 2D)                                                             \n",
      "                                                                 \n",
      " conv2d_14 (Conv2D)          (None, 1, 1, 64)          18496     \n",
      "                                                                 \n",
      " flatten_8 (Flatten)         (None, 64)                0         \n",
      "                                                                 \n",
      " dense_18 (Dense)            (None, 256)               16640     \n",
      "                                                                 \n",
      " dense_19 (Dense)            (None, 128)               32896     \n",
      "                                                                 \n",
      " dense_20 (Dense)            (None, 5)                 645       \n",
      "                                                                 \n",
      "=================================================================\n",
      "Total params: 68,997\n",
      "Trainable params: 68,997\n",
      "Non-trainable params: 0\n",
      "_________________________________________________________________\n"
     ]
    }
   ],
   "source": [
    "model = Sequential()\n",
    "model.add(Conv2D(32, kernel_size=(3, 3), activation='relu', input_shape=(9,9,1)))\n",
    "model.add(MaxPooling2D(pool_size=(2, 2)))\n",
    "model.add(Conv2D(64, kernel_size=(3, 3), activation='relu'))\n",
    "\n",
    "model.add(Flatten())\n",
    "model.add(Dense(256, activation='relu'))\n",
    "model.add(Dense(128, activation='relu'))\n",
    "model.add(Dense(5, activation='softmax'))\n",
    "keras.optimizers.Adam(\n",
    "learning_rate=0.0001,\n",
    "beta_1=0.9,\n",
    "beta_2=0.999,\n",
    "epsilon=1e-07,\n",
    "amsgrad=False,\n",
    "name=\"Adam\",\n",
    "    \n",
    ")\n",
    "model.compile(optimizer='Adam', loss='sparse_categorical_crossentropy', metrics=['accuracy'])\n",
    "model.summary()"
   ]
  },
  {
   "cell_type": "code",
   "execution_count": 69,
   "id": "bd80b9ab",
   "metadata": {},
   "outputs": [
    {
     "name": "stdout",
     "output_type": "stream",
     "text": [
      "Epoch 1/5\n",
      "4/4 [==============================] - 1s 6ms/step - loss: 1.5184 - accuracy: 0.5000\n",
      "Epoch 2/5\n",
      "4/4 [==============================] - 0s 5ms/step - loss: 1.2324 - accuracy: 0.4907\n",
      "Epoch 3/5\n",
      "4/4 [==============================] - 0s 7ms/step - loss: 0.8733 - accuracy: 0.5000\n",
      "Epoch 4/5\n",
      "4/4 [==============================] - 0s 6ms/step - loss: 0.6082 - accuracy: 0.7963\n",
      "Epoch 5/5\n",
      "4/4 [==============================] - 0s 7ms/step - loss: 0.4673 - accuracy: 0.9352\n"
     ]
    },
    {
     "data": {
      "text/plain": [
       "<keras.callbacks.History at 0x7fe336cabbb0>"
      ]
     },
     "execution_count": 69,
     "metadata": {},
     "output_type": "execute_result"
    }
   ],
   "source": [
    "model.fit(x_train, y_train, epochs=5)"
   ]
  },
  {
   "cell_type": "code",
   "execution_count": 70,
   "id": "2bfdd25c",
   "metadata": {},
   "outputs": [
    {
     "name": "stdout",
     "output_type": "stream",
     "text": [
      "Test Loss: 0.4013483226299286\n",
      "Test Accuracy: 0.8888888955116272\n"
     ]
    }
   ],
   "source": [
    "score = model.evaluate(x_test, y_test, verbose=0)\n",
    "print('Test Loss:', score[0])\n",
    "print('Test Accuracy:', score[1])"
   ]
  },
  {
   "cell_type": "code",
   "execution_count": 71,
   "id": "108b26fa",
   "metadata": {},
   "outputs": [
    {
     "name": "stdout",
     "output_type": "stream",
     "text": [
      "2/2 [==============================] - 0s 4ms/step\n"
     ]
    }
   ],
   "source": [
    "y_pred = model.predict(x_test)"
   ]
  },
  {
   "cell_type": "code",
   "execution_count": 72,
   "id": "52495c3b",
   "metadata": {},
   "outputs": [
    {
     "name": "stdout",
     "output_type": "stream",
     "text": [
      "TN: 13, FP: 4, FN: 0, TP: 19\n",
      "Precision: 0.8260869565217391\n",
      "Recall: 1.0\n",
      "f1 score: 0.9047619047619047\n",
      "Sensitivity: 1.0\n",
      "Specificity: 0.7647058823529411\n",
      "AURC: 0.8823529411764706\n"
     ]
    }
   ],
   "source": [
    "tn, fp, fn, tp = confusion_matrix(y_test, np.argmax(y_pred, axis=1)).ravel()\n",
    "print(\"TN: %.0f\" % tn + \", FP: %.0f\" % fp + \", FN: %.0f\" % fn + \", TP: %.0f\" % tp)\n",
    "print(\"Precision:\",precision_score(y_test, np.argmax(y_pred, axis=1)))\n",
    "print(\"Recall:\", recall_score(y_test, np.argmax(y_pred, axis=1)))\n",
    "print(\"f1 score:\", f1_score(y_test, np.argmax(y_pred, axis=1)))\n",
    "print(\"Sensitivity:\", tp / (tp + fn))\n",
    "print(\"Specificity:\", tn / (tn + fp))\n",
    "print(\"AURC:\", roc_auc_score(y_test, np.argmax(y_pred, axis=1)))"
   ]
  },
  {
   "cell_type": "code",
   "execution_count": 73,
   "id": "3fdd6827",
   "metadata": {},
   "outputs": [],
   "source": [
    "# Architecture 4\n",
    "# Test Using 5 epochs and adam as the optimizer with learning rate 1"
   ]
  },
  {
   "cell_type": "code",
   "execution_count": 74,
   "id": "15469870",
   "metadata": {},
   "outputs": [
    {
     "name": "stdout",
     "output_type": "stream",
     "text": [
      "Model: \"sequential_9\"\n",
      "_________________________________________________________________\n",
      " Layer (type)                Output Shape              Param #   \n",
      "=================================================================\n",
      " conv2d_15 (Conv2D)          (None, 7, 7, 32)          320       \n",
      "                                                                 \n",
      " max_pooling2d_9 (MaxPooling  (None, 3, 3, 32)         0         \n",
      " 2D)                                                             \n",
      "                                                                 \n",
      " conv2d_16 (Conv2D)          (None, 1, 1, 64)          18496     \n",
      "                                                                 \n",
      " flatten_9 (Flatten)         (None, 64)                0         \n",
      "                                                                 \n",
      " dense_21 (Dense)            (None, 256)               16640     \n",
      "                                                                 \n",
      " dense_22 (Dense)            (None, 128)               32896     \n",
      "                                                                 \n",
      " dense_23 (Dense)            (None, 5)                 645       \n",
      "                                                                 \n",
      "=================================================================\n",
      "Total params: 68,997\n",
      "Trainable params: 68,997\n",
      "Non-trainable params: 0\n",
      "_________________________________________________________________\n"
     ]
    }
   ],
   "source": [
    "model = Sequential()\n",
    "model.add(Conv2D(32, kernel_size=(3, 3), activation='relu', input_shape=(9,9,1)))\n",
    "model.add(MaxPooling2D(pool_size=(2, 2)))\n",
    "model.add(Conv2D(64, kernel_size=(3, 3), activation='relu'))\n",
    "\n",
    "model.add(Flatten())\n",
    "model.add(Dense(256, activation='relu'))\n",
    "model.add(Dense(128, activation='relu'))\n",
    "model.add(Dense(5, activation='softmax'))\n",
    "keras.optimizers.Adam(\n",
    "learning_rate=1,\n",
    "beta_1=0.9,\n",
    "beta_2=0.999,\n",
    "epsilon=1e-07,\n",
    "amsgrad=False,\n",
    "name=\"Adam\",\n",
    "\n",
    ")\n",
    "\n",
    "model.compile(optimizer='Adam', loss='sparse_categorical_crossentropy', metrics=['accuracy'])\n",
    "model.summary()"
   ]
  },
  {
   "cell_type": "code",
   "execution_count": 75,
   "id": "44384d4a",
   "metadata": {},
   "outputs": [
    {
     "name": "stdout",
     "output_type": "stream",
     "text": [
      "Epoch 1/5\n",
      "4/4 [==============================] - 1s 5ms/step - loss: 1.5596 - accuracy: 0.3796\n",
      "Epoch 2/5\n",
      "4/4 [==============================] - 0s 5ms/step - loss: 1.3121 - accuracy: 0.6204\n",
      "Epoch 3/5\n",
      "4/4 [==============================] - 0s 5ms/step - loss: 0.9583 - accuracy: 0.5185\n",
      "Epoch 4/5\n",
      "4/4 [==============================] - 0s 6ms/step - loss: 0.6315 - accuracy: 0.8519\n",
      "Epoch 5/5\n",
      "4/4 [==============================] - 0s 7ms/step - loss: 0.4533 - accuracy: 0.9630\n"
     ]
    },
    {
     "data": {
      "text/plain": [
       "<keras.callbacks.History at 0x7fe336b10070>"
      ]
     },
     "execution_count": 75,
     "metadata": {},
     "output_type": "execute_result"
    }
   ],
   "source": [
    "model.fit(x_train, y_train, epochs=5)"
   ]
  },
  {
   "cell_type": "code",
   "execution_count": 76,
   "id": "05c25fa4",
   "metadata": {},
   "outputs": [
    {
     "name": "stdout",
     "output_type": "stream",
     "text": [
      "Test Loss: 0.3703611195087433\n",
      "Test Accuracy: 0.8888888955116272\n"
     ]
    }
   ],
   "source": [
    "score = model.evaluate(x_test, y_test, verbose=0)\n",
    "print('Test Loss:', score[0])\n",
    "print('Test Accuracy:', score[1])"
   ]
  },
  {
   "cell_type": "code",
   "execution_count": 77,
   "id": "42057a34",
   "metadata": {},
   "outputs": [
    {
     "name": "stdout",
     "output_type": "stream",
     "text": [
      "2/2 [==============================] - 0s 3ms/step\n"
     ]
    }
   ],
   "source": [
    "y_pred = model.predict(x_test)"
   ]
  },
  {
   "cell_type": "code",
   "execution_count": 78,
   "id": "a2ce5013",
   "metadata": {},
   "outputs": [],
   "source": [
    "# We can notice increase in accuracy on increasing learning rate."
   ]
  },
  {
   "cell_type": "code",
   "execution_count": 79,
   "id": "20faf5a0",
   "metadata": {},
   "outputs": [
    {
     "name": "stdout",
     "output_type": "stream",
     "text": [
      "TN: 13, FP: 4, FN: 0, TP: 19\n",
      "Precision: 0.8260869565217391\n",
      "Recall: 1.0\n",
      "f1 score: 0.9047619047619047\n",
      "Sensitivity: 1.0\n",
      "Specificity: 0.7647058823529411\n",
      "AURC: 0.8823529411764706\n"
     ]
    }
   ],
   "source": [
    "tn, fp, fn, tp = confusion_matrix(y_test, np.argmax(y_pred, axis=1)).ravel()\n",
    "print(\"TN: %.0f\" % tn + \", FP: %.0f\" % fp + \", FN: %.0f\" % fn + \", TP: %.0f\" % tp)\n",
    "print(\"Precision:\",precision_score(y_test, np.argmax(y_pred, axis=1)))\n",
    "print(\"Recall:\", recall_score(y_test, np.argmax(y_pred, axis=1)))\n",
    "print(\"f1 score:\", f1_score(y_test, np.argmax(y_pred, axis=1)))\n",
    "print(\"Sensitivity:\", tp / (tp + fn))\n",
    "print(\"Specificity:\", tn / (tn + fp))\n",
    "print(\"AURC:\", roc_auc_score(y_test, np.argmax(y_pred, axis=1)))"
   ]
  },
  {
   "cell_type": "code",
   "execution_count": 80,
   "id": "8cdf6954",
   "metadata": {},
   "outputs": [],
   "source": [
    "# Architecture 5\n",
    "# Test using the RMSprop optimizer"
   ]
  },
  {
   "cell_type": "code",
   "execution_count": 81,
   "id": "57f21520",
   "metadata": {},
   "outputs": [
    {
     "name": "stdout",
     "output_type": "stream",
     "text": [
      "Model: \"sequential_10\"\n",
      "_________________________________________________________________\n",
      " Layer (type)                Output Shape              Param #   \n",
      "=================================================================\n",
      " conv2d_17 (Conv2D)          (None, 7, 7, 32)          320       \n",
      "                                                                 \n",
      " max_pooling2d_10 (MaxPoolin  (None, 3, 3, 32)         0         \n",
      " g2D)                                                            \n",
      "                                                                 \n",
      " conv2d_18 (Conv2D)          (None, 1, 1, 64)          18496     \n",
      "                                                                 \n",
      " flatten_10 (Flatten)        (None, 64)                0         \n",
      "                                                                 \n",
      " dense_24 (Dense)            (None, 256)               16640     \n",
      "                                                                 \n",
      " dense_25 (Dense)            (None, 128)               32896     \n",
      "                                                                 \n",
      " dense_26 (Dense)            (None, 5)                 645       \n",
      "                                                                 \n",
      "=================================================================\n",
      "Total params: 68,997\n",
      "Trainable params: 68,997\n",
      "Non-trainable params: 0\n",
      "_________________________________________________________________\n"
     ]
    }
   ],
   "source": [
    "model = Sequential()\n",
    "model.add(Conv2D(32, kernel_size=(3, 3), activation='relu', input_shape=(9,9,1)))\n",
    "model.add(MaxPooling2D(pool_size=(2, 2)))\n",
    "model.add(Conv2D(64, kernel_size=(3, 3), activation='relu'))\n",
    "\n",
    "model.add(Flatten())\n",
    "model.add(Dense(256, activation='relu'))\n",
    "model.add(Dense(128, activation='relu'))\n",
    "model.add(Dense(5, activation='softmax'))\n",
    "keras.optimizers.RMSprop(\n",
    "learning_rate=0.001,\n",
    "rho=0.9,\n",
    "momentum=0.1,\n",
    "epsilon=1e-07,\n",
    "centered=False,\n",
    "name=\"RMSprop\",\n",
    ")\n",
    "model.compile(optimizer='RMSprop', loss='sparse_categorical_crossentropy', metrics=['accuracy'])\n",
    "model.summary()"
   ]
  },
  {
   "cell_type": "code",
   "execution_count": 82,
   "id": "d2ed75cd",
   "metadata": {},
   "outputs": [
    {
     "name": "stdout",
     "output_type": "stream",
     "text": [
      "Epoch 1/5\n",
      "4/4 [==============================] - 1s 5ms/step - loss: 1.3367 - accuracy: 0.7315\n",
      "Epoch 2/5\n",
      "4/4 [==============================] - 0s 6ms/step - loss: 0.7364 - accuracy: 0.5278\n",
      "Epoch 3/5\n",
      "4/4 [==============================] - 0s 6ms/step - loss: 0.5809 - accuracy: 0.7037\n",
      "Epoch 4/5\n",
      "4/4 [==============================] - 0s 6ms/step - loss: 0.3981 - accuracy: 0.9722\n",
      "Epoch 5/5\n",
      "4/4 [==============================] - 0s 6ms/step - loss: 0.2658 - accuracy: 0.9537\n"
     ]
    },
    {
     "data": {
      "text/plain": [
       "<keras.callbacks.History at 0x7fe3368cea60>"
      ]
     },
     "execution_count": 82,
     "metadata": {},
     "output_type": "execute_result"
    }
   ],
   "source": [
    "model.fit(x_train, y_train, epochs=5)"
   ]
  },
  {
   "cell_type": "code",
   "execution_count": 83,
   "id": "d28df954",
   "metadata": {},
   "outputs": [
    {
     "name": "stdout",
     "output_type": "stream",
     "text": [
      "Test Loss : 0.24237285554409027\n",
      "Test Accuracy : 1.0\n"
     ]
    }
   ],
   "source": [
    "score = model.evaluate(x_test, y_test, verbose=0)\n",
    "print('Test Loss :', score[0])\n",
    "print('Test Accuracy :', score[1])"
   ]
  },
  {
   "cell_type": "code",
   "execution_count": 84,
   "id": "68657ee4",
   "metadata": {},
   "outputs": [
    {
     "name": "stdout",
     "output_type": "stream",
     "text": [
      "2/2 [==============================] - 0s 3ms/step\n"
     ]
    }
   ],
   "source": [
    "y_pred = model.predict(x_test)"
   ]
  },
  {
   "cell_type": "code",
   "execution_count": 85,
   "id": "d4af2013",
   "metadata": {},
   "outputs": [
    {
     "name": "stdout",
     "output_type": "stream",
     "text": [
      "TN: 17, FP: 0, FN: 0, TP: 19\n",
      "Precision: 1.0\n",
      "Recall: 1.0\n",
      "f1 score: 1.0\n",
      "Sensitivity: 1.0\n",
      "Specificity: 1.0\n",
      "AURC: 1.0\n"
     ]
    }
   ],
   "source": [
    "tn, fp, fn, tp = confusion_matrix(y_test, np.argmax(y_pred, axis=1)).ravel()\n",
    "print(\"TN: %.0f\" % tn + \", FP: %.0f\" % fp + \", FN: %.0f\" % fn + \", TP: %.0f\" % tp)\n",
    "print(\"Precision:\",precision_score(y_test, np.argmax(y_pred, axis=1)))\n",
    "print(\"Recall:\", recall_score(y_test, np.argmax(y_pred, axis=1)))\n",
    "print(\"f1 score:\", f1_score(y_test, np.argmax(y_pred, axis=1)))\n",
    "print(\"Sensitivity:\", tp / (tp + fn))\n",
    "print(\"Specificity:\", tn / (tn + fp))\n",
    "print(\"AURC:\", roc_auc_score(y_test, np.argmax(y_pred, axis=1)))"
   ]
  },
  {
   "cell_type": "code",
   "execution_count": 86,
   "id": "4fd0e04a",
   "metadata": {},
   "outputs": [],
   "source": [
    "# Architecture 6\n",
    "# Test using Adadelta optimizer"
   ]
  },
  {
   "cell_type": "code",
   "execution_count": 87,
   "id": "4464fd9b",
   "metadata": {},
   "outputs": [
    {
     "name": "stdout",
     "output_type": "stream",
     "text": [
      "Model: \"sequential_11\"\n",
      "_________________________________________________________________\n",
      " Layer (type)                Output Shape              Param #   \n",
      "=================================================================\n",
      " conv2d_19 (Conv2D)          (None, 7, 7, 32)          320       \n",
      "                                                                 \n",
      " max_pooling2d_11 (MaxPoolin  (None, 3, 3, 32)         0         \n",
      " g2D)                                                            \n",
      "                                                                 \n",
      " flatten_11 (Flatten)        (None, 288)               0         \n",
      "                                                                 \n",
      " dense_27 (Dense)            (None, 5)                 1445      \n",
      "                                                                 \n",
      "=================================================================\n",
      "Total params: 1,765\n",
      "Trainable params: 1,765\n",
      "Non-trainable params: 0\n",
      "_________________________________________________________________\n"
     ]
    }
   ],
   "source": [
    "model = keras.models.Sequential([\n",
    "  keras.layers.Conv2D(32, (3,3), activation='relu', input_shape=(9,9,1)),\n",
    "  keras.layers.MaxPooling2D(2, 2),\n",
    "  keras.layers.Flatten(),\n",
    "  \n",
    " keras.layers.Dense(5, activation='softmax')\n",
    "    \n",
    "])\n",
    "\n",
    "keras.optimizers.Adadelta(\n",
    "    learning_rate=0.001, rho=0.95, epsilon=1e-07, name=\"Adadelta\")\n",
    "    \n",
    "    \n",
    "\n",
    "model.compile(optimizer='Adadelta', loss='sparse_categorical_crossentropy', metrics=['accuracy'])\n",
    "model.summary()"
   ]
  },
  {
   "cell_type": "code",
   "execution_count": 88,
   "id": "b53c251a",
   "metadata": {},
   "outputs": [
    {
     "name": "stdout",
     "output_type": "stream",
     "text": [
      "Epoch 1/5\n",
      "4/4 [==============================] - 1s 5ms/step - loss: 1.6157 - accuracy: 0.5093\n",
      "Epoch 2/5\n",
      "4/4 [==============================] - 0s 5ms/step - loss: 1.6155 - accuracy: 0.5093\n",
      "Epoch 3/5\n",
      "4/4 [==============================] - 0s 6ms/step - loss: 1.6153 - accuracy: 0.5093\n",
      "Epoch 4/5\n",
      "4/4 [==============================] - 0s 6ms/step - loss: 1.6150 - accuracy: 0.5093\n",
      "Epoch 5/5\n",
      "4/4 [==============================] - 0s 6ms/step - loss: 1.6148 - accuracy: 0.5093\n"
     ]
    },
    {
     "data": {
      "text/plain": [
       "<keras.callbacks.History at 0x7fe335e2e9a0>"
      ]
     },
     "execution_count": 88,
     "metadata": {},
     "output_type": "execute_result"
    }
   ],
   "source": [
    "model.fit(x_train, y_train, epochs=5)"
   ]
  },
  {
   "cell_type": "code",
   "execution_count": 89,
   "id": "0d6f6ad0",
   "metadata": {},
   "outputs": [
    {
     "name": "stdout",
     "output_type": "stream",
     "text": [
      "Test Loss : 1.6225064992904663\n",
      "Test Accuracy : 0.4722222089767456\n"
     ]
    }
   ],
   "source": [
    "score = model.evaluate(x_test, y_test, verbose=0)\n",
    "print('Test Loss :', score[0])\n",
    "print('Test Accuracy :', score[1])"
   ]
  },
  {
   "cell_type": "code",
   "execution_count": 90,
   "id": "09994b1b",
   "metadata": {},
   "outputs": [],
   "source": [
    "# Adadelta comes out as the worst in the tests"
   ]
  },
  {
   "cell_type": "code",
   "execution_count": 91,
   "id": "fa1ec51a",
   "metadata": {},
   "outputs": [
    {
     "name": "stdout",
     "output_type": "stream",
     "text": [
      "2/2 [==============================] - 0s 3ms/step\n"
     ]
    }
   ],
   "source": [
    "y_pred = model.predict(x_test)"
   ]
  },
  {
   "cell_type": "code",
   "execution_count": 93,
   "id": "a40b4d07",
   "metadata": {},
   "outputs": [
    {
     "name": "stdout",
     "output_type": "stream",
     "text": [
      "TN: 17, FP: 0, FN: 19, TP: 0\n",
      "Precision: 0.0\n",
      "Recall: 0.0\n",
      "f1 score: 0.0\n",
      "Sensitivity: 0.0\n",
      "Specificity: 1.0\n",
      "AURC: 0.5\n"
     ]
    },
    {
     "name": "stderr",
     "output_type": "stream",
     "text": [
      "/home/lia/anaconda3/lib/python3.9/site-packages/sklearn/metrics/_classification.py:1318: UndefinedMetricWarning: Precision is ill-defined and being set to 0.0 due to no predicted samples. Use `zero_division` parameter to control this behavior.\n",
      "  _warn_prf(average, modifier, msg_start, len(result))\n"
     ]
    }
   ],
   "source": [
    "tn, fp, fn, tp = confusion_matrix(y_test, np.argmax(y_pred, axis=1)).ravel()\n",
    "print(\"TN: %.0f\" % tn + \", FP: %.0f\" % fp + \", FN: %.0f\" % fn + \", TP: %.0f\" % tp)\n",
    "print(\"Precision:\",precision_score(y_test, np.argmax(y_pred, axis=1)))\n",
    "print(\"Recall:\", recall_score(y_test, np.argmax(y_pred, axis=1)))\n",
    "print(\"f1 score:\", f1_score(y_test, np.argmax(y_pred, axis=1)))\n",
    "print(\"Sensitivity:\", tp / (tp + fn))\n",
    "print(\"Specificity:\", tn / (tn + fp))\n",
    "print(\"AURC:\", roc_auc_score(y_test, np.argmax(y_pred, axis=1)))"
   ]
  }
 ],
 "metadata": {
  "kernelspec": {
   "display_name": "Python 3 (ipykernel)",
   "language": "python",
   "name": "python3"
  },
  "language_info": {
   "codemirror_mode": {
    "name": "ipython",
    "version": 3
   },
   "file_extension": ".py",
   "mimetype": "text/x-python",
   "name": "python",
   "nbconvert_exporter": "python",
   "pygments_lexer": "ipython3",
   "version": "3.9.12"
  }
 },
 "nbformat": 4,
 "nbformat_minor": 5
}
