{
 "cells": [
  {
   "cell_type": "code",
   "execution_count": 15,
   "id": "956de8d9",
   "metadata": {},
   "outputs": [],
   "source": [
    "# Python ≥3.5 is required\n",
    "import sys\n",
    "assert sys.version_info >= (3, 5)\n",
    "\n",
    "# Scikit-Learn ≥0.20 is \n",
    "import sklearn\n",
    "assert sklearn.__version__ >= \"0.20\"\n",
    "from sklearn.model_selection import train_test_split, cross_val_score, KFold, cross_val_predict\n",
    "from sklearn.metrics import accuracy_score, confusion_matrix, precision_score, recall_score, classification_report\n",
    "from sklearn.metrics import roc_curve, roc_auc_score, f1_score, roc_curve, roc_auc_score \n",
    "\n",
    "\n",
    "# keras\n",
    "from tensorflow import keras\n",
    "from tensorflow.keras import layers\n",
    "from tensorflow.keras.models import Sequential\n",
    "from tensorflow.keras.layers import Dense, Flatten, Conv2D, MaxPooling2D\n",
    "from tensorflow.keras.losses import sparse_categorical_crossentropy\n",
    "from tensorflow.keras.optimizers import Adam\n",
    "\n",
    "# Common imports\n",
    "import numpy as np\n",
    "import pandas as pd\n",
    "import os\n",
    "\n",
    "# to make this notebook's output stable across runs\n",
    "np.random.seed(42)\n",
    "from random import randint\n",
    "\n",
    "# To plot pretty figures\n",
    "%matplotlib inline\n",
    "import matplotlib as mpl\n",
    "import matplotlib.pyplot as plt\n",
    "mpl.rc('axes', labelsize=14)\n",
    "mpl.rc('xtick', labelsize=12)\n",
    "mpl.rc('ytick', labelsize=12)"
   ]
  },
  {
   "cell_type": "code",
   "execution_count": 16,
   "id": "0f073b6c",
   "metadata": {},
   "outputs": [
    {
     "name": "stdout",
     "output_type": "stream",
     "text": [
      "(144, 9, 9, 1)\n",
      "(144,)\n",
      "(108, 9, 9, 1)\n",
      "(108,)\n"
     ]
    }
   ],
   "source": [
    "X = np.load(\"smiley_X.npy\")\n",
    "y = np.load(\"smiley_y.npy\")\n",
    "print(X.shape)\n",
    "print(y.shape)\n",
    "\n",
    "x_train, x_test, y_train, y_test = train_test_split(X, y, random_state=0)\n",
    "print(x_train.shape)\n",
    "print(y_train.shape)"
   ]
  },
  {
   "cell_type": "code",
   "execution_count": 17,
   "id": "aea214e4",
   "metadata": {},
   "outputs": [
    {
     "name": "stdout",
     "output_type": "stream",
     "text": [
      "Model: \"sequential_3\"\n",
      "_________________________________________________________________\n",
      " Layer (type)                Output Shape              Param #   \n",
      "=================================================================\n",
      " conv2d_4 (Conv2D)           (None, 7, 7, 64)          640       \n",
      "                                                                 \n",
      " max_pooling2d_3 (MaxPooling  (None, 3, 3, 64)         0         \n",
      " 2D)                                                             \n",
      "                                                                 \n",
      " flatten_3 (Flatten)         (None, 576)               0         \n",
      "                                                                 \n",
      " dense_5 (Dense)             (None, 10)                5770      \n",
      "                                                                 \n",
      "=================================================================\n",
      "Total params: 6,410\n",
      "Trainable params: 6,410\n",
      "Non-trainable params: 0\n",
      "_________________________________________________________________\n"
     ]
    }
   ],
   "source": [
    "model = keras.models.Sequential([\n",
    "  keras.layers.Conv2D(64, (3,3), activation='relu', input_shape=(9,9,1)),\n",
    "  keras.layers.MaxPooling2D(2, 2),\n",
    "  keras.layers.Flatten(),\n",
    "  keras.layers.Dense(10, activation='softmax')\n",
    "])\n",
    "model.compile(optimizer='adam', loss='sparse_categorical_crossentropy', metrics=['accuracy'])\n",
    "model.summary()"
   ]
  },
  {
   "cell_type": "code",
   "execution_count": 18,
   "id": "fc12e41f",
   "metadata": {},
   "outputs": [
    {
     "name": "stdout",
     "output_type": "stream",
     "text": [
      "Epoch 1/5\n",
      "4/4 [==============================] - 1s 6ms/step - loss: 2.2888 - accuracy: 0.0741\n",
      "Epoch 2/5\n",
      "4/4 [==============================] - 0s 6ms/step - loss: 2.0319 - accuracy: 0.6019\n",
      "Epoch 3/5\n",
      "4/4 [==============================] - 0s 6ms/step - loss: 1.7818 - accuracy: 0.5833\n",
      "Epoch 4/5\n",
      "4/4 [==============================] - 0s 5ms/step - loss: 1.5389 - accuracy: 0.6019\n",
      "Epoch 5/5\n",
      "4/4 [==============================] - 0s 6ms/step - loss: 1.3069 - accuracy: 0.6759\n"
     ]
    },
    {
     "data": {
      "text/plain": [
       "<keras.callbacks.History at 0x7f0db5781700>"
      ]
     },
     "execution_count": 18,
     "metadata": {},
     "output_type": "execute_result"
    }
   ],
   "source": [
    "model.fit(x_train, y_train, epochs=5)"
   ]
  },
  {
   "cell_type": "code",
   "execution_count": 19,
   "id": "e44b7d0e",
   "metadata": {},
   "outputs": [
    {
     "name": "stdout",
     "output_type": "stream",
     "text": [
      "\n",
      "Test accuracy: 0.7222222089767456\n"
     ]
    }
   ],
   "source": [
    "test_loss, test_acc = model.evaluate(x_test,  y_test, verbose=0)\n",
    "print('\\nTest accuracy:', test_acc)"
   ]
  },
  {
   "cell_type": "code",
   "execution_count": 20,
   "id": "1cd1ddc0",
   "metadata": {},
   "outputs": [
    {
     "name": "stdout",
     "output_type": "stream",
     "text": [
      "2/2 [==============================] - 0s 3ms/step\n"
     ]
    }
   ],
   "source": [
    "y_pred = model.predict(x_test)"
   ]
  },
  {
   "cell_type": "code",
   "execution_count": 21,
   "id": "b38c261f",
   "metadata": {},
   "outputs": [
    {
     "name": "stdout",
     "output_type": "stream",
     "text": [
      "TN: 17, FP: 0, FN: 10, TP: 9\n",
      "Precision: 1.0\n",
      "Recall: 0.47368421052631576\n",
      "f1 score: 0.6428571428571429\n",
      "Sensitivity: 0.47368421052631576\n",
      "Specificity: 1.0\n",
      "AURC: 0.7368421052631579\n"
     ]
    }
   ],
   "source": [
    "tn, fp, fn, tp = confusion_matrix(y_test, np.argmax(y_pred, axis=1)).ravel()\n",
    "print(\"TN: %.0f\" % tn + \", FP: %.0f\" % fp + \", FN: %.0f\" % fn + \", TP: %.0f\" % tp)\n",
    "print(\"Precision:\",precision_score(y_test, np.argmax(y_pred, axis=1)))\n",
    "print(\"Recall:\", recall_score(y_test, np.argmax(y_pred, axis=1)))\n",
    "print(\"f1 score:\", f1_score(y_test, np.argmax(y_pred, axis=1)))\n",
    "print(\"Sensitivity:\", tp / (tp + fn))\n",
    "print(\"Specificity:\", tn / (tn + fp))\n",
    "print(\"AURC:\", roc_auc_score(y_test, np.argmax(y_pred, axis=1)))"
   ]
  },
  {
   "cell_type": "code",
   "execution_count": 22,
   "id": "ad618b62",
   "metadata": {},
   "outputs": [],
   "source": [
    "# Architecture 2"
   ]
  },
  {
   "cell_type": "code",
   "execution_count": 23,
   "id": "ec024fe3",
   "metadata": {},
   "outputs": [
    {
     "name": "stdout",
     "output_type": "stream",
     "text": [
      "Model: \"sequential_4\"\n",
      "_________________________________________________________________\n",
      " Layer (type)                Output Shape              Param #   \n",
      "=================================================================\n",
      " conv2d_5 (Conv2D)           (None, 7, 7, 32)          320       \n",
      "                                                                 \n",
      " max_pooling2d_4 (MaxPooling  (None, 3, 3, 32)         0         \n",
      " 2D)                                                             \n",
      "                                                                 \n",
      " conv2d_6 (Conv2D)           (None, 1, 1, 64)          18496     \n",
      "                                                                 \n",
      " flatten_4 (Flatten)         (None, 64)                0         \n",
      "                                                                 \n",
      " dense_6 (Dense)             (None, 256)               16640     \n",
      "                                                                 \n",
      " dense_7 (Dense)             (None, 128)               32896     \n",
      "                                                                 \n",
      " dense_8 (Dense)             (None, 5)                 645       \n",
      "                                                                 \n",
      "=================================================================\n",
      "Total params: 68,997\n",
      "Trainable params: 68,997\n",
      "Non-trainable params: 0\n",
      "_________________________________________________________________\n"
     ]
    }
   ],
   "source": [
    "model = Sequential()\n",
    "model.add(Conv2D(32, kernel_size=(3, 3), activation='relu', input_shape=(9,9,1)))\n",
    "model.add(MaxPooling2D(pool_size=(2, 2)))\n",
    "model.add(Conv2D(64, kernel_size=(3, 3), activation='relu'))\n",
    "\n",
    "model.add(Flatten())\n",
    "model.add(Dense(256, activation='relu'))\n",
    "model.add(Dense(128, activation='relu'))\n",
    "model.add(Dense(5, activation='softmax'))\n",
    "\n",
    "model.compile(optimizer='adam', loss='sparse_categorical_crossentropy', metrics=['accuracy'])\n",
    "model.summary()"
   ]
  },
  {
   "cell_type": "code",
   "execution_count": 24,
   "id": "f934c6dd",
   "metadata": {},
   "outputs": [
    {
     "name": "stdout",
     "output_type": "stream",
     "text": [
      "Epoch 1/5\n",
      "4/4 [==============================] - 1s 7ms/step - loss: 1.5740 - accuracy: 0.3889\n",
      "Epoch 2/5\n",
      "4/4 [==============================] - 0s 7ms/step - loss: 1.3663 - accuracy: 0.6667\n",
      "Epoch 3/5\n",
      "4/4 [==============================] - 0s 6ms/step - loss: 1.0364 - accuracy: 0.8333\n",
      "Epoch 4/5\n",
      "4/4 [==============================] - 0s 7ms/step - loss: 0.6947 - accuracy: 0.9167\n",
      "Epoch 5/5\n",
      "4/4 [==============================] - 0s 8ms/step - loss: 0.4994 - accuracy: 0.9259\n"
     ]
    },
    {
     "data": {
      "text/plain": [
       "<keras.callbacks.History at 0x7f0db567fe20>"
      ]
     },
     "execution_count": 24,
     "metadata": {},
     "output_type": "execute_result"
    }
   ],
   "source": [
    "model.fit(x_train, y_train, epochs=5)"
   ]
  },
  {
   "cell_type": "code",
   "execution_count": 25,
   "id": "342ce840",
   "metadata": {},
   "outputs": [
    {
     "name": "stdout",
     "output_type": "stream",
     "text": [
      "\n",
      "Test accuracy: 0.8888888955116272\n"
     ]
    }
   ],
   "source": [
    "test_loss, test_acc = model.evaluate(x_test,  y_test, verbose=0)\n",
    "print('\\nTest accuracy:', test_acc)"
   ]
  },
  {
   "cell_type": "code",
   "execution_count": 26,
   "id": "395efcda",
   "metadata": {},
   "outputs": [
    {
     "name": "stdout",
     "output_type": "stream",
     "text": [
      "2/2 [==============================] - 0s 4ms/step\n"
     ]
    }
   ],
   "source": [
    "y_pred = model.predict(x_test)"
   ]
  },
  {
   "cell_type": "code",
   "execution_count": 27,
   "id": "dc44ab7f",
   "metadata": {},
   "outputs": [
    {
     "name": "stdout",
     "output_type": "stream",
     "text": [
      "TN: 13, FP: 4, FN: 0, TP: 19\n",
      "Precision: 0.8260869565217391\n",
      "Recall: 1.0\n",
      "f1 score: 0.9047619047619047\n",
      "Sensitivity: 1.0\n",
      "Specificity: 0.7647058823529411\n",
      "AURC: 0.8823529411764706\n"
     ]
    }
   ],
   "source": [
    "tn, fp, fn, tp = confusion_matrix(y_test, np.argmax(y_pred, axis=1)).ravel()\n",
    "print(\"TN: %.0f\" % tn + \", FP: %.0f\" % fp + \", FN: %.0f\" % fn + \", TP: %.0f\" % tp)\n",
    "print(\"Precision:\",precision_score(y_test, np.argmax(y_pred, axis=1)))\n",
    "print(\"Recall:\", recall_score(y_test, np.argmax(y_pred, axis=1)))\n",
    "print(\"f1 score:\", f1_score(y_test, np.argmax(y_pred, axis=1)))\n",
    "print(\"Sensitivity:\", tp / (tp + fn))\n",
    "print(\"Specificity:\", tn / (tn + fp))\n",
    "print(\"AURC:\", roc_auc_score(y_test, np.argmax(y_pred, axis=1)))"
   ]
  }
 ],
 "metadata": {
  "kernelspec": {
   "display_name": "Python 3 (ipykernel)",
   "language": "python",
   "name": "python3"
  },
  "language_info": {
   "codemirror_mode": {
    "name": "ipython",
    "version": 3
   },
   "file_extension": ".py",
   "mimetype": "text/x-python",
   "name": "python",
   "nbconvert_exporter": "python",
   "pygments_lexer": "ipython3",
   "version": "3.9.12"
  }
 },
 "nbformat": 4,
 "nbformat_minor": 5
}
