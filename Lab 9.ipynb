{
 "cells": [
  {
   "cell_type": "markdown",
   "metadata": {},
   "source": [
    "https://github.com/ageron/handson-ml2/blob/master/06_decision_trees.ipynb <br/>\n",
    "https://github.com/ageron/handson-ml2/blob/master/04_training_linear_models.ipynb\n",
    "\n",
    "# Setup"
   ]
  },
  {
   "cell_type": "code",
   "execution_count": 1,
   "metadata": {},
   "outputs": [],
   "source": [
    "# Python ≥3.5 is required\n",
    "import sys\n",
    "assert sys.version_info >= (3, 5)\n",
    "\n",
    "# Scikit-Learn ≥0.20 is \n",
    "import sklearn\n",
    "assert sklearn.__version__ >= \"0.20\"\n",
    "from sklearn.model_selection import train_test_split\n",
    "from sklearn.linear_model import LinearRegression\n",
    "from sklearn.metrics import accuracy_score, mean_squared_error\n",
    "\n",
    "# Common imports\n",
    "import numpy as np\n",
    "import pandas as pd\n",
    "import os\n",
    "\n",
    "# to make this notebook's output stable across runs\n",
    "np.random.seed(42)\n",
    "\n",
    "# To plot pretty figures\n",
    "%matplotlib inline\n",
    "import matplotlib as mpl\n",
    "import matplotlib.pyplot as plt\n",
    "mpl.rc('axes', labelsize=14)\n",
    "mpl.rc('xtick', labelsize=12)\n",
    "mpl.rc('ytick', labelsize=12)"
   ]
  },
  {
   "cell_type": "code",
   "execution_count": 11,
   "metadata": {},
   "outputs": [
    {
     "name": "stdout",
     "output_type": "stream",
     "text": [
      "      gender   age  hypertension  heart_disease  ever_married  \\\n",
      "0          0  67.0             0              1             1   \n",
      "1          0  80.0             0              1             1   \n",
      "2          1  49.0             0              0             1   \n",
      "3          1  79.0             1              0             1   \n",
      "4          0  81.0             0              0             1   \n",
      "...      ...   ...           ...            ...           ...   \n",
      "4976       0  41.0             0              0             0   \n",
      "4977       0  40.0             0              0             1   \n",
      "4978       1  45.0             1              0             1   \n",
      "4979       0  40.0             0              0             1   \n",
      "4980       1  80.0             1              0             1   \n",
      "\n",
      "      avg_glucose_level   bmi  smoking_status  stroke  \n",
      "0                228.69  36.6               2       1  \n",
      "1                105.92  32.5               1       1  \n",
      "2                171.23  34.4               3       1  \n",
      "3                174.12  24.0               1       1  \n",
      "4                186.21  29.0               2       1  \n",
      "...                 ...   ...             ...     ...  \n",
      "4976              70.15  29.8               2       0  \n",
      "4977             191.15  31.1               3       0  \n",
      "4978              95.02  31.8               3       0  \n",
      "4979              83.94  30.0               3       0  \n",
      "4980              83.75  29.1               1       0  \n",
      "\n",
      "[4981 rows x 9 columns]\n"
     ]
    }
   ],
   "source": [
    "from sklearn.datasets import load_iris\n",
    "from sklearn.tree import DecisionTreeClassifier,plot_tree\n",
    "\n",
    "url= \"brain_stroke_in_numeric_without_useless_data.csv\"\n",
    "brain = pd.read_csv(url)\n",
    "brain = brain.drop(brain.columns[0], axis=1)\n",
    "brain_pca = pd.read_csv('brain_stroke_after_pca.csv')\n",
    "brain_pca = brain_pca.drop(brain_pca.columns[0], axis=1) \n",
    "print(brain)"
   ]
  },
  {
   "cell_type": "code",
   "execution_count": 3,
   "metadata": {},
   "outputs": [],
   "source": [
    "# Linear Regression"
   ]
  },
  {
   "cell_type": "code",
   "execution_count": 8,
   "metadata": {},
   "outputs": [
    {
     "name": "stdout",
     "output_type": "stream",
     "text": [
      "MSE: 0.04514472417313834\n"
     ]
    }
   ],
   "source": [
    "X = brain.iloc[:, :8]\n",
    "y = brain.iloc[:, 8]\n",
    "\n",
    "\n",
    "X_train, X_test, y_train, y_test = train_test_split(X, y, test_size=0.3, random_state=42)\n",
    "\n",
    "linear = LinearRegression()\n",
    "y_pred = linear.fit(X_train, y_train).predict(X_test)\n",
    "print(\"MSE:\",mean_squared_error(y_test, y_pred))"
   ]
  },
  {
   "cell_type": "code",
   "execution_count": 25,
   "metadata": {},
   "outputs": [
    {
     "data": {
      "image/png": "[encoded data removed]",
      "text/plain": [
       "<Figure size 432x288 with 1 Axes>"
      ]
     },
     "metadata": {
      "needs_background": "light"
     },
     "output_type": "display_data"
    }
   ],
   "source": [
    "plt.plot(X.iloc[:, 5], y, \"b.\")\n",
    "plt.xlabel(\"avg_glucose_level\", fontsize=18)\n",
    "plt.ylabel(\"stroke\", fontsize=18)\n",
    "plt.axis([50, 300, 0, 2])\n",
    "plt.show()"
   ]
  },
  {
   "cell_type": "code",
   "execution_count": 24,
   "metadata": {},
   "outputs": [
    {
     "data": {
      "image/png": "[encoded data removed]",
      "text/plain": [
       "<Figure size 432x288 with 1 Axes>"
      ]
     },
     "metadata": {
      "needs_background": "light"
     },
     "output_type": "display_data"
    }
   ],
   "source": [
    "plt.plot(X.iloc[:, 1], y, \"b.\")\n",
    "plt.xlabel(\"age\", fontsize=18)\n",
    "plt.ylabel(\"stroke\", fontsize=18)\n",
    "plt.axis([0, 100, 0, 2])\n",
    "plt.show()"
   ]
  },
  {
   "cell_type": "code",
   "execution_count": 26,
   "metadata": {},
   "outputs": [
    {
     "name": "stdout",
     "output_type": "stream",
     "text": [
      "MSE: 0.046745857214450195\n"
     ]
    }
   ],
   "source": [
    "X = brain_pca.iloc[:, :2]\n",
    "y = brain_pca.iloc[:, 2]\n",
    "\n",
    "X_train, X_test, y_train, y_test = train_test_split(X, y, test_size=0.3, random_state=42)\n",
    "\n",
    "linear = LinearRegression()\n",
    "y_pred = linear.fit(X_train, y_train).predict(X_test)\n",
    "print(\"MSE:\",mean_squared_error(y_test,  y_pred))"
   ]
  },
  {
   "cell_type": "code",
   "execution_count": 31,
   "metadata": {},
   "outputs": [
    {
     "data": {
      "image/png": "[encoded data removed]",
      "text/plain": [
       "<Figure size 432x288 with 1 Axes>"
      ]
     },
     "metadata": {
      "needs_background": "light"
     },
     "output_type": "display_data"
    }
   ],
   "source": [
    "plt.plot(X.iloc[:, 0], y, \"b.\")\n",
    "plt.xlabel(\"component 1\", fontsize=18)\n",
    "plt.ylabel(\"stroke\", fontsize=18)\n",
    "plt.axis([-5, 5, 0, 2])\n",
    "plt.show()"
   ]
  },
  {
   "cell_type": "code",
   "execution_count": 32,
   "metadata": {},
   "outputs": [
    {
     "data": {
      "image/png": "[encoded data removed]",
      "text/plain": [
       "<Figure size 432x288 with 1 Axes>"
      ]
     },
     "metadata": {
      "needs_background": "light"
     },
     "output_type": "display_data"
    }
   ],
   "source": [
    "plt.plot(X.iloc[:, 1], y, \"b.\")\n",
    "plt.xlabel(\"component 2\", fontsize=18)\n",
    "plt.ylabel(\"stroke\", fontsize=18)\n",
    "plt.axis([-5, 5, 0, 2])\n",
    "plt.show()"
   ]
  },
  {
   "cell_type": "code",
   "execution_count": 6,
   "metadata": {},
   "outputs": [],
   "source": [
    "# MSE lower on our big data set than on pca so we are going to use our dataset with numerical value\n",
    "# But our dataset is a classification dataset, and the Linear Regression is not adapted to classification\n",
    "# We can see this with the different graph (no ones have the possibility to apply a good  fit line)\n",
    "# Our data is not really linear separable except if we apply an horizontal fit line (not a linear regression)"
   ]
  }
 ],
 "metadata": {
  "kernelspec": {
   "display_name": "Python 3 (ipykernel)",
   "language": "python",
   "name": "python3"
  },
  "language_info": {
   "codemirror_mode": {
    "name": "ipython",
    "version": 3
   },
   "file_extension": ".py",
   "mimetype": "text/x-python",
   "name": "python",
   "nbconvert_exporter": "python",
   "pygments_lexer": "ipython3",
   "version": "3.9.12"
  }
 },
 "nbformat": 4,
 "nbformat_minor": 4
}
