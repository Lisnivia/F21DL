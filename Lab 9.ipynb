{
 "cells": [
  {
   "cell_type": "markdown",
   "metadata": {},
   "source": [
    "https://github.com/ageron/handson-ml2/blob/master/06_decision_trees.ipynb <br/>\n",
    "https://github.com/ageron/handson-ml2/blob/master/04_training_linear_models.ipynb\n",
    "\n",
    "# Setup"
   ]
  },
  {
   "cell_type": "code",
   "execution_count": 1,
   "metadata": {},
   "outputs": [],
   "source": [
    "# Python ≥3.5 is required\n",
    "import sys\n",
    "assert sys.version_info >= (3, 5)\n",
    "\n",
    "# Scikit-Learn ≥0.20 is \n",
    "import sklearn\n",
    "assert sklearn.__version__ >= \"0.20\"\n",
    "from sklearn.model_selection import train_test_split, cross_val_predict\n",
    "from sklearn.linear_model import LinearRegression, LogisticRegression\n",
    "from sklearn.metrics import accuracy_score, mean_squared_error, confusion_matrix, precision_score, recall_score, f1_score\n",
    "from sklearn.preprocessing import MinMaxScaler\n",
    "\n",
    "# Common imports\n",
    "import numpy as np\n",
    "import pandas as pd\n",
    "import os\n",
    "\n",
    "# to make this notebook's output stable across runs\n",
    "np.random.seed(42)\n",
    "\n",
    "# To plot pretty figures\n",
    "%matplotlib inline\n",
    "import matplotlib as mpl\n",
    "import matplotlib.pyplot as plt\n",
    "mpl.rc('axes', labelsize=14)\n",
    "mpl.rc('xtick', labelsize=12)\n",
    "mpl.rc('ytick', labelsize=12)"
   ]
  },
  {
   "cell_type": "code",
   "execution_count": 2,
   "metadata": {},
   "outputs": [
    {
     "name": "stdout",
     "output_type": "stream",
     "text": [
      "      gender   age  hypertension  heart_disease  ever_married  \\\n",
      "0          0  67.0             0              1             1   \n",
      "1          0  80.0             0              1             1   \n",
      "2          1  49.0             0              0             1   \n",
      "3          1  79.0             1              0             1   \n",
      "4          0  81.0             0              0             1   \n",
      "...      ...   ...           ...            ...           ...   \n",
      "4976       0  41.0             0              0             0   \n",
      "4977       0  40.0             0              0             1   \n",
      "4978       1  45.0             1              0             1   \n",
      "4979       0  40.0             0              0             1   \n",
      "4980       1  80.0             1              0             1   \n",
      "\n",
      "      avg_glucose_level   bmi  smoking_status  stroke  \n",
      "0                228.69  36.6               2       1  \n",
      "1                105.92  32.5               1       1  \n",
      "2                171.23  34.4               3       1  \n",
      "3                174.12  24.0               1       1  \n",
      "4                186.21  29.0               2       1  \n",
      "...                 ...   ...             ...     ...  \n",
      "4976              70.15  29.8               2       0  \n",
      "4977             191.15  31.1               3       0  \n",
      "4978              95.02  31.8               3       0  \n",
      "4979              83.94  30.0               3       0  \n",
      "4980              83.75  29.1               1       0  \n",
      "\n",
      "[4981 rows x 9 columns]\n"
     ]
    }
   ],
   "source": [
    "from sklearn.datasets import load_iris\n",
    "from sklearn.tree import DecisionTreeClassifier,plot_tree\n",
    "\n",
    "url= \"brain_stroke_in_numeric_without_useless_data.csv\"\n",
    "brain = pd.read_csv(url)\n",
    "brain = brain.drop(brain.columns[0], axis=1)\n",
    "brain_pca = pd.read_csv('brain_stroke_after_pca.csv')\n",
    "brain_pca = brain_pca.drop(brain_pca.columns[0], axis=1) \n",
    "print(brain)"
   ]
  },
  {
   "cell_type": "code",
   "execution_count": 3,
   "metadata": {},
   "outputs": [],
   "source": [
    "# Linear Regression"
   ]
  },
  {
   "cell_type": "code",
   "execution_count": 4,
   "metadata": {},
   "outputs": [
    {
     "name": "stdout",
     "output_type": "stream",
     "text": [
      "MSE: 0.04514472417313834\n"
     ]
    }
   ],
   "source": [
    "X = brain.iloc[:, :8]\n",
    "y = brain.iloc[:, 8]\n",
    "\n",
    "\n",
    "X_train, X_test, y_train, y_test = train_test_split(X, y, test_size=0.3, random_state=42)\n",
    "\n",
    "linear = LinearRegression()\n",
    "y_pred = linear.fit(X_train, y_train).predict(X_test)\n",
    "print(\"MSE:\",mean_squared_error(y_test, y_pred))"
   ]
  },
  {
   "cell_type": "code",
   "execution_count": 5,
   "metadata": {},
   "outputs": [
    {
     "data": {
      "image/png": "[encoded data removed]",
      "text/plain": [
       "<Figure size 432x288 with 1 Axes>"
      ]
     },
     "metadata": {
      "needs_background": "light"
     },
     "output_type": "display_data"
    }
   ],
   "source": [
    "plt.plot(X.iloc[:, 5], y, \"b.\")\n",
    "plt.xlabel(\"avg_glucose_level\", fontsize=18)\n",
    "plt.ylabel(\"stroke\", fontsize=18)\n",
    "plt.axis([50, 300, 0, 2])\n",
    "plt.show()"
   ]
  },
  {
   "cell_type": "code",
   "execution_count": 6,
   "metadata": {},
   "outputs": [
    {
     "data": {
      "image/png": "[encoded data removed]",
      "text/plain": [
       "<Figure size 432x288 with 1 Axes>"
      ]
     },
     "metadata": {
      "needs_background": "light"
     },
     "output_type": "display_data"
    }
   ],
   "source": [
    "plt.plot(X.iloc[:, 1], y, \"b.\")\n",
    "plt.xlabel(\"age\", fontsize=18)\n",
    "plt.ylabel(\"stroke\", fontsize=18)\n",
    "plt.axis([0, 100, 0, 2])\n",
    "plt.show()"
   ]
  },
  {
   "cell_type": "code",
   "execution_count": 7,
   "metadata": {},
   "outputs": [
    {
     "name": "stdout",
     "output_type": "stream",
     "text": [
      "MSE: 0.046745857214450195\n"
     ]
    }
   ],
   "source": [
    "X = brain_pca.iloc[:, :2]\n",
    "y = brain_pca.iloc[:, 2]\n",
    "\n",
    "X_train, X_test, y_train, y_test = train_test_split(X, y, test_size=0.3, random_state=42)\n",
    "\n",
    "linear = LinearRegression()\n",
    "y_pred = linear.fit(X_train, y_train).predict(X_test)\n",
    "print(\"MSE:\",mean_squared_error(y_test,  y_pred))"
   ]
  },
  {
   "cell_type": "code",
   "execution_count": 8,
   "metadata": {},
   "outputs": [
    {
     "data": {
      "image/png": "[encoded data removed]",
      "text/plain": [
       "<Figure size 432x288 with 1 Axes>"
      ]
     },
     "metadata": {
      "needs_background": "light"
     },
     "output_type": "display_data"
    }
   ],
   "source": [
    "plt.plot(X.iloc[:, 0], y, \"b.\")\n",
    "plt.xlabel(\"component 1\", fontsize=18)\n",
    "plt.ylabel(\"stroke\", fontsize=18)\n",
    "plt.axis([-5, 5, 0, 2])\n",
    "plt.show()"
   ]
  },
  {
   "cell_type": "code",
   "execution_count": 9,
   "metadata": {},
   "outputs": [
    {
     "data": {
      "image/png": "[encoded data removed]",
      "text/plain": [
       "<Figure size 432x288 with 1 Axes>"
      ]
     },
     "metadata": {
      "needs_background": "light"
     },
     "output_type": "display_data"
    }
   ],
   "source": [
    "plt.plot(X.iloc[:, 1], y, \"b.\")\n",
    "plt.xlabel(\"component 2\", fontsize=18)\n",
    "plt.ylabel(\"stroke\", fontsize=18)\n",
    "plt.axis([-5, 5, 0, 2])\n",
    "plt.show()"
   ]
  },
  {
   "cell_type": "code",
   "execution_count": 10,
   "metadata": {},
   "outputs": [],
   "source": [
    "# MSE lower on our dataset with all numeric data than on pca, so we will use our dataset with numeric values.\n",
    "# Our dataset is a classification dataset, and linear regression is not suitable for classification.\n",
    "# We can see this with the different graphs (none of them has the possibility to apply a good fit line).\n",
    "# Our data are not really linear separable, unless we apply a horizontal fit line (not a linear regression)."
   ]
  },
  {
   "cell_type": "code",
   "execution_count": 11,
   "metadata": {},
   "outputs": [],
   "source": [
    "# Logistic Regression"
   ]
  },
  {
   "cell_type": "code",
   "execution_count": 12,
   "metadata": {},
   "outputs": [
    {
     "name": "stdout",
     "output_type": "stream",
     "text": [
      "Accuracy: 0.9478260869565217\n",
      "MSE: 0.05217391304347826\n"
     ]
    },
    {
     "name": "stderr",
     "output_type": "stream",
     "text": [
      "/home/lia/anaconda3/lib/python3.9/site-packages/sklearn/linear_model/_logistic.py:814: ConvergenceWarning: lbfgs failed to converge (status=1):\n",
      "STOP: TOTAL NO. of ITERATIONS REACHED LIMIT.\n",
      "\n",
      "Increase the number of iterations (max_iter) or scale the data as shown in:\n",
      "    https://scikit-learn.org/stable/modules/preprocessing.html\n",
      "Please also refer to the documentation for alternative solver options:\n",
      "    https://scikit-learn.org/stable/modules/linear_model.html#logistic-regression\n",
      "  n_iter_i = _check_optimize_result(\n"
     ]
    }
   ],
   "source": [
    "X = brain.iloc[:, :8]\n",
    "y = brain.iloc[:, 8]\n",
    "\n",
    "\n",
    "X_train, X_test, y_train, y_test = train_test_split(X, y, test_size=0.3, random_state=42)\n",
    "\n",
    "log_reg = LogisticRegression()\n",
    "y_pred = log_reg.fit(X_train, y_train).predict(X_test)\n",
    "print(\"Accuracy:\",accuracy_score(y_test, y_pred))\n",
    "print(\"MSE:\",mean_squared_error(y_test,  y_pred))"
   ]
  },
  {
   "cell_type": "code",
   "execution_count": 13,
   "metadata": {},
   "outputs": [],
   "source": [
    "# the minimum number in sklearn is 100, so it's too low for our dataset with numerical value"
   ]
  },
  {
   "cell_type": "code",
   "execution_count": 14,
   "metadata": {},
   "outputs": [],
   "source": [
    "# So with 1000 iteration, same accuracy but without error"
   ]
  },
  {
   "cell_type": "code",
   "execution_count": 15,
   "metadata": {},
   "outputs": [
    {
     "name": "stdout",
     "output_type": "stream",
     "text": [
      "Accuracy: 0.9478260869565217\n",
      "MSE: 0.05217391304347826\n"
     ]
    }
   ],
   "source": [
    "X = brain.iloc[:, :8]\n",
    "y = brain.iloc[:, 8]\n",
    "\n",
    "\n",
    "X_train, X_test, y_train, y_test = train_test_split(X, y, test_size=0.3, random_state=42)\n",
    "\n",
    "log_reg = LogisticRegression(solver='lbfgs', max_iter=1000)\n",
    "y_pred = log_reg.fit(X_train, y_train).predict(X_test)\n",
    "print(\"Accuracy:\",accuracy_score(y_test, y_pred))\n",
    "print(\"MSE:\",mean_squared_error(y_test,  y_pred))"
   ]
  },
  {
   "cell_type": "code",
   "execution_count": 16,
   "metadata": {},
   "outputs": [],
   "source": [
    "# metrics on the test set "
   ]
  },
  {
   "cell_type": "code",
   "execution_count": 17,
   "metadata": {},
   "outputs": [
    {
     "name": "stdout",
     "output_type": "stream",
     "text": [
      "TN: 1414, FP: 3, FN: 72, TP: 6\n",
      "Precision: 0.6666666666666666\n",
      "Recall: 0.07692307692307693\n",
      "f1 score: 0.13793103448275862\n"
     ]
    }
   ],
   "source": [
    "y_test_pred = cross_val_predict(log_reg, X_test, y_test)\n",
    "tn, fp, fn, tp = confusion_matrix(y_test, y_test_pred).ravel()\n",
    "print(\"TN: %.0f\" % tn + \", FP: %.0f\" % fp + \", FN: %.0f\" % fn + \", TP: %.0f\" % tp)\n",
    "print(\"Precision:\",precision_score(y_test, y_test_pred))\n",
    "print(\"Recall:\", recall_score(y_test, y_test_pred))\n",
    "print(\"f1 score:\", f1_score(y_test, y_test_pred))"
   ]
  },
  {
   "cell_type": "code",
   "execution_count": 18,
   "metadata": {},
   "outputs": [],
   "source": [
    "# metrics on the train set "
   ]
  },
  {
   "cell_type": "code",
   "execution_count": 19,
   "metadata": {},
   "outputs": [
    {
     "name": "stdout",
     "output_type": "stream",
     "text": [
      "TN: 3316, FP: 0, FN: 170, TP: 0\n",
      "Precision: 0.0\n",
      "Recall: 0.0\n",
      "f1 score: 0.0\n"
     ]
    }
   ],
   "source": [
    "y_train_pred = cross_val_predict(log_reg, X_train, y_train)\n",
    "tn, fp, fn, tp = confusion_matrix(y_train, y_train_pred).ravel()\n",
    "print(\"TN: %.0f\" % tn + \", FP: %.0f\" % fp + \", FN: %.0f\" % fn + \", TP: %.0f\" % tp)\n",
    "print(\"Precision:\",precision_score(y_train, y_train_pred, zero_division=0))\n",
    "print(\"Recall:\", recall_score(y_train, y_train_pred, zero_division=0))\n",
    "print(\"f1 score:\", f1_score(y_train, y_train_pred, zero_division=0))"
   ]
  },
  {
   "cell_type": "code",
   "execution_count": 20,
   "metadata": {},
   "outputs": [],
   "source": [
    "# try with the pca dataset"
   ]
  },
  {
   "cell_type": "code",
   "execution_count": 21,
   "metadata": {},
   "outputs": [
    {
     "name": "stdout",
     "output_type": "stream",
     "text": [
      "Accuracy: 0.9478260869565217\n",
      "MSE: 0.05217391304347826\n"
     ]
    }
   ],
   "source": [
    "X = brain_pca.iloc[:, :2]\n",
    "y = brain_pca.iloc[:, 2]\n",
    "\n",
    "X_train, X_test, y_train, y_test = train_test_split(X, y, test_size=0.3, random_state=42)\n",
    "\n",
    "log_reg = LogisticRegression()\n",
    "y_pred = log_reg.fit(X_train, y_train).predict(X_test)\n",
    "print(\"Accuracy:\",accuracy_score(y_test, y_pred))\n",
    "print(\"MSE:\",mean_squared_error(y_test,  y_pred))"
   ]
  },
  {
   "cell_type": "code",
   "execution_count": 22,
   "metadata": {},
   "outputs": [],
   "source": [
    "# Metrics on the test set "
   ]
  },
  {
   "cell_type": "code",
   "execution_count": 23,
   "metadata": {},
   "outputs": [
    {
     "name": "stdout",
     "output_type": "stream",
     "text": [
      "TN: 1417, FP: 0, FN: 76, TP: 2\n",
      "Precision: 1.0\n",
      "Recall: 0.02564102564102564\n",
      "f1 score: 0.05\n"
     ]
    }
   ],
   "source": [
    "y_test_pred = cross_val_predict(log_reg, X_test, y_test)\n",
    "tn, fp, fn, tp = confusion_matrix(y_test, y_test_pred).ravel()\n",
    "print(\"TN: %.0f\" % tn + \", FP: %.0f\" % fp + \", FN: %.0f\" % fn + \", TP: %.0f\" % tp)\n",
    "print(\"Precision:\",precision_score(y_test, y_test_pred))\n",
    "print(\"Recall:\", recall_score(y_test, y_test_pred))\n",
    "print(\"f1 score:\", f1_score(y_test, y_test_pred))"
   ]
  },
  {
   "cell_type": "code",
   "execution_count": 24,
   "metadata": {},
   "outputs": [],
   "source": [
    "# Metrics on the train set "
   ]
  },
  {
   "cell_type": "code",
   "execution_count": 25,
   "metadata": {},
   "outputs": [
    {
     "name": "stdout",
     "output_type": "stream",
     "text": [
      "TN: 3316, FP: 0, FN: 170, TP: 0\n",
      "Precision: 0.0\n",
      "Recall: 0.0\n",
      "f1 score: 0.0\n"
     ]
    }
   ],
   "source": [
    "y_train_pred = cross_val_predict(log_reg, X_train, y_train)\n",
    "tn, fp, fn, tp = confusion_matrix(y_train, y_train_pred).ravel()\n",
    "print(\"TN: %.0f\" % tn + \", FP: %.0f\" % fp + \", FN: %.0f\" % fn + \", TP: %.0f\" % tp)\n",
    "print(\"Precision:\",precision_score(y_train, y_train_pred, zero_division=0))\n",
    "print(\"Recall:\", recall_score(y_train, y_train_pred, zero_division=0))\n",
    "print(\"f1 score:\", f1_score(y_train, y_train_pred, zero_division=0))"
   ]
  },
  {
   "cell_type": "code",
   "execution_count": 26,
   "metadata": {},
   "outputs": [
    {
     "name": "stdout",
     "output_type": "stream",
     "text": [
      "Accuracy: 0.9478260869565217\n",
      "MSE: 0.05217391304347826\n"
     ]
    }
   ],
   "source": [
    "X = brain.iloc[:, :8]\n",
    "y = brain.iloc[:, 8]\n",
    "\n",
    "scaler = MinMaxScaler() #saga solver requires features to be scaled for model conversion\n",
    "X = scaler.fit_transform(X)\n",
    "\n",
    "X_train, X_test, y_train, y_test = train_test_split(X, y, test_size=0.3, random_state=42)\n",
    "\n",
    "log_reg = LogisticRegression(solver='lbfgs', max_iter=1000)\n",
    "y_pred = log_reg.fit(X_train, y_train).predict(X_test)\n",
    "print(\"Accuracy:\",accuracy_score(y_test, y_pred))\n",
    "print(\"MSE:\",mean_squared_error(y_test,  y_pred))"
   ]
  },
  {
   "cell_type": "code",
   "execution_count": 27,
   "metadata": {},
   "outputs": [
    {
     "name": "stdout",
     "output_type": "stream",
     "text": [
      "TN: 3316, FP: 0, FN: 170, TP: 0\n",
      "Precision: 0.0\n",
      "Recall: 0.0\n",
      "f1 score: 0.0\n"
     ]
    }
   ],
   "source": [
    "y_train_pred = cross_val_predict(log_reg, X_train, y_train)\n",
    "tn, fp, fn, tp = confusion_matrix(y_train, y_train_pred).ravel()\n",
    "print(\"TN: %.0f\" % tn + \", FP: %.0f\" % fp + \", FN: %.0f\" % fn + \", TP: %.0f\" % tp)\n",
    "print(\"Precision:\",precision_score(y_train, y_train_pred, zero_division=0))\n",
    "print(\"Recall:\", recall_score(y_train, y_train_pred, zero_division=0))\n",
    "print(\"f1 score:\", f1_score(y_train, y_train_pred, zero_division=0))"
   ]
  },
  {
   "cell_type": "code",
   "execution_count": 28,
   "metadata": {},
   "outputs": [],
   "source": [
    "# pca and data set with all the numerical value have the same accuracy \n",
    "# We are going to use our main dataset to have more inputs"
   ]
  },
  {
   "cell_type": "code",
   "execution_count": 29,
   "metadata": {},
   "outputs": [
    {
     "name": "stderr",
     "output_type": "stream",
     "text": [
      "/home/lia/anaconda3/lib/python3.9/site-packages/sklearn/linear_model/_sag.py:352: ConvergenceWarning: The max_iter was reached which means the coef_ did not converge\n",
      "  warnings.warn(\n",
      "/home/lia/anaconda3/lib/python3.9/site-packages/sklearn/linear_model/_sag.py:352: ConvergenceWarning: The max_iter was reached which means the coef_ did not converge\n",
      "  warnings.warn(\n"
     ]
    },
    {
     "data": {
      "text/html": [
       "<div>\n",
       "<style scoped>\n",
       "    .dataframe tbody tr th:only-of-type {\n",
       "        vertical-align: middle;\n",
       "    }\n",
       "\n",
       "    .dataframe tbody tr th {\n",
       "        vertical-align: top;\n",
       "    }\n",
       "\n",
       "    .dataframe thead th {\n",
       "        text-align: right;\n",
       "    }\n",
       "</style>\n",
       "<table border=\"1\" class=\"dataframe\">\n",
       "  <thead>\n",
       "    <tr style=\"text-align: right;\">\n",
       "      <th></th>\n",
       "      <th>Train Accuracy</th>\n",
       "      <th>Test Accuracy</th>\n",
       "      <th>Precission</th>\n",
       "      <th>Recall</th>\n",
       "    </tr>\n",
       "  </thead>\n",
       "  <tbody>\n",
       "    <tr>\n",
       "      <th>0</th>\n",
       "      <td>0.95123</td>\n",
       "      <td>0.94783</td>\n",
       "      <td>0.0</td>\n",
       "      <td>0.0</td>\n",
       "    </tr>\n",
       "    <tr>\n",
       "      <th>1</th>\n",
       "      <td>0.95123</td>\n",
       "      <td>0.94783</td>\n",
       "      <td>0.0</td>\n",
       "      <td>0.0</td>\n",
       "    </tr>\n",
       "    <tr>\n",
       "      <th>2</th>\n",
       "      <td>0.95037</td>\n",
       "      <td>0.94783</td>\n",
       "      <td>0.0</td>\n",
       "      <td>0.0</td>\n",
       "    </tr>\n",
       "    <tr>\n",
       "      <th>3</th>\n",
       "      <td>0.95066</td>\n",
       "      <td>0.94783</td>\n",
       "      <td>0.0</td>\n",
       "      <td>0.0</td>\n",
       "    </tr>\n",
       "  </tbody>\n",
       "</table>\n",
       "</div>"
      ],
      "text/plain": [
       "   Train Accuracy  Test Accuracy  Precission  Recall\n",
       "0         0.95123        0.94783         0.0     0.0\n",
       "1         0.95123        0.94783         0.0     0.0\n",
       "2         0.95037        0.94783         0.0     0.0\n",
       "3         0.95066        0.94783         0.0     0.0"
      ]
     },
     "execution_count": 29,
     "metadata": {},
     "output_type": "execute_result"
    }
   ],
   "source": [
    "X = brain.iloc[:, :8]\n",
    "y = brain.iloc[:, 8]\n",
    "\n",
    "\n",
    "X_train, X_test, y_train, y_test = train_test_split(X, y, test_size=0.3, random_state=42)\n",
    "\n",
    "clf = [\n",
    "    LogisticRegression(solver='newton-cg',penalty='none',max_iter=1000),\n",
    "    LogisticRegression(solver='lbfgs',penalty='none',max_iter=1000),\n",
    "    LogisticRegression(solver='sag',penalty='none',max_iter=1000),\n",
    "    LogisticRegression(solver='saga',penalty='none',max_iter=1000)\n",
    "    ]\n",
    "clf_columns = []\n",
    "clf_compare = pd.DataFrame(columns = clf_columns)\n",
    "\n",
    "row_index = 0\n",
    "for alg in clf:\n",
    "        \n",
    "    predicted = alg.fit(X_train, y_train).predict(X_test)\n",
    "    clf_name = alg.__class__.__name__\n",
    "    clf_compare.loc[row_index, 'Train Accuracy'] = round(alg.score(X_train, y_train), 5)\n",
    "    clf_compare.loc[row_index, 'Test Accuracy'] = round(alg.score(X_test, y_test), 5)\n",
    "    clf_compare.loc[row_index, 'Precission'] = round(precision_score(y_test, predicted, zero_division=0),5)\n",
    "    clf_compare.loc[row_index, 'Recall'] = round(recall_score(y_test, predicted, zero_division=0),5)\n",
    "\n",
    "    row_index+=1\n",
    "    \n",
    "clf_compare.sort_values(by = ['Test Accuracy'], ascending = False, inplace = True)    \n",
    "clf_compare"
   ]
  },
  {
   "cell_type": "code",
   "execution_count": 30,
   "metadata": {},
   "outputs": [],
   "source": [
    "# What we observe here is that regardless of the solver we choose, \n",
    "# the model metric improvement vs baseline is less than 0.001%."
   ]
  },
  {
   "cell_type": "code",
   "execution_count": 31,
   "metadata": {},
   "outputs": [
    {
     "name": "stderr",
     "output_type": "stream",
     "text": [
      "/home/lia/anaconda3/lib/python3.9/site-packages/sklearn/linear_model/_logistic.py:814: ConvergenceWarning: lbfgs failed to converge (status=1):\n",
      "STOP: TOTAL NO. of ITERATIONS REACHED LIMIT.\n",
      "\n",
      "Increase the number of iterations (max_iter) or scale the data as shown in:\n",
      "    https://scikit-learn.org/stable/modules/preprocessing.html\n",
      "Please also refer to the documentation for alternative solver options:\n",
      "    https://scikit-learn.org/stable/modules/linear_model.html#logistic-regression\n",
      "  n_iter_i = _check_optimize_result(\n"
     ]
    },
    {
     "data": {
      "text/html": [
       "<div>\n",
       "<style scoped>\n",
       "    .dataframe tbody tr th:only-of-type {\n",
       "        vertical-align: middle;\n",
       "    }\n",
       "\n",
       "    .dataframe tbody tr th {\n",
       "        vertical-align: top;\n",
       "    }\n",
       "\n",
       "    .dataframe thead th {\n",
       "        text-align: right;\n",
       "    }\n",
       "</style>\n",
       "<table border=\"1\" class=\"dataframe\">\n",
       "  <thead>\n",
       "    <tr style=\"text-align: right;\">\n",
       "      <th></th>\n",
       "      <th>Train Accuracy</th>\n",
       "      <th>Test Accuracy</th>\n",
       "      <th>Precission</th>\n",
       "      <th>Recall</th>\n",
       "    </tr>\n",
       "  </thead>\n",
       "  <tbody>\n",
       "    <tr>\n",
       "      <th>0</th>\n",
       "      <td>0.95123</td>\n",
       "      <td>0.94783</td>\n",
       "      <td>0.0</td>\n",
       "      <td>0.0</td>\n",
       "    </tr>\n",
       "    <tr>\n",
       "      <th>1</th>\n",
       "      <td>0.95123</td>\n",
       "      <td>0.94783</td>\n",
       "      <td>0.0</td>\n",
       "      <td>0.0</td>\n",
       "    </tr>\n",
       "    <tr>\n",
       "      <th>2</th>\n",
       "      <td>0.95123</td>\n",
       "      <td>0.94783</td>\n",
       "      <td>0.0</td>\n",
       "      <td>0.0</td>\n",
       "    </tr>\n",
       "    <tr>\n",
       "      <th>3</th>\n",
       "      <td>0.95123</td>\n",
       "      <td>0.94783</td>\n",
       "      <td>0.0</td>\n",
       "      <td>0.0</td>\n",
       "    </tr>\n",
       "  </tbody>\n",
       "</table>\n",
       "</div>"
      ],
      "text/plain": [
       "   Train Accuracy  Test Accuracy  Precission  Recall\n",
       "0         0.95123        0.94783         0.0     0.0\n",
       "1         0.95123        0.94783         0.0     0.0\n",
       "2         0.95123        0.94783         0.0     0.0\n",
       "3         0.95123        0.94783         0.0     0.0"
      ]
     },
     "execution_count": 31,
     "metadata": {},
     "output_type": "execute_result"
    }
   ],
   "source": [
    "clf = [\n",
    "    LogisticRegression(solver='lbfgs',penalty='none',max_iter=100),\n",
    "    LogisticRegression(solver='lbfgs',penalty='none',max_iter=1000),\n",
    "    LogisticRegression(solver='lbfgs',penalty='none',max_iter=10000),\n",
    "    LogisticRegression(solver='lbfgs',penalty='none',max_iter=100000)\n",
    "    ]\n",
    "clf_columns = []\n",
    "clf_compare = pd.DataFrame(columns = clf_columns)\n",
    "\n",
    "row_index = 0\n",
    "for alg in clf:\n",
    "        \n",
    "    predicted = alg.fit(X_train, y_train).predict(X_test)\n",
    "    clf_name = alg.__class__.__name__\n",
    "    clf_compare.loc[row_index, 'Train Accuracy'] = round(alg.score(X_train, y_train), 5)\n",
    "    clf_compare.loc[row_index, 'Test Accuracy'] = round(alg.score(X_test, y_test), 5)\n",
    "    clf_compare.loc[row_index, 'Precission'] = round(precision_score(y_test, predicted, zero_division=0),5)\n",
    "    clf_compare.loc[row_index, 'Recall'] = round(recall_score(y_test, predicted, zero_division=0),5)\n",
    "\n",
    "    row_index+=1\n",
    "    \n",
    "clf_compare.sort_values(by = ['Test Accuracy'], ascending = False, inplace = True)    \n",
    "clf_compare"
   ]
  },
  {
   "cell_type": "code",
   "execution_count": 32,
   "metadata": {},
   "outputs": [],
   "source": [
    "# What we observe here is that regardless of the max_iterations we choose, \n",
    "# the model metric improvement vs baseline is less than 0.001%."
   ]
  },
  {
   "cell_type": "code",
   "execution_count": 33,
   "metadata": {},
   "outputs": [
    {
     "data": {
      "text/html": [
       "<div>\n",
       "<style scoped>\n",
       "    .dataframe tbody tr th:only-of-type {\n",
       "        vertical-align: middle;\n",
       "    }\n",
       "\n",
       "    .dataframe tbody tr th {\n",
       "        vertical-align: top;\n",
       "    }\n",
       "\n",
       "    .dataframe thead th {\n",
       "        text-align: right;\n",
       "    }\n",
       "</style>\n",
       "<table border=\"1\" class=\"dataframe\">\n",
       "  <thead>\n",
       "    <tr style=\"text-align: right;\">\n",
       "      <th></th>\n",
       "      <th>Train Accuracy</th>\n",
       "      <th>Test Accuracy</th>\n",
       "      <th>Precission</th>\n",
       "      <th>Recall</th>\n",
       "    </tr>\n",
       "  </thead>\n",
       "  <tbody>\n",
       "    <tr>\n",
       "      <th>0</th>\n",
       "      <td>0.95123</td>\n",
       "      <td>0.94783</td>\n",
       "      <td>0.0</td>\n",
       "      <td>0.0</td>\n",
       "    </tr>\n",
       "    <tr>\n",
       "      <th>1</th>\n",
       "      <td>0.95123</td>\n",
       "      <td>0.94783</td>\n",
       "      <td>0.0</td>\n",
       "      <td>0.0</td>\n",
       "    </tr>\n",
       "    <tr>\n",
       "      <th>2</th>\n",
       "      <td>0.95123</td>\n",
       "      <td>0.94783</td>\n",
       "      <td>0.0</td>\n",
       "      <td>0.0</td>\n",
       "    </tr>\n",
       "    <tr>\n",
       "      <th>3</th>\n",
       "      <td>0.95123</td>\n",
       "      <td>0.94783</td>\n",
       "      <td>0.0</td>\n",
       "      <td>0.0</td>\n",
       "    </tr>\n",
       "    <tr>\n",
       "      <th>4</th>\n",
       "      <td>0.95123</td>\n",
       "      <td>0.94783</td>\n",
       "      <td>0.0</td>\n",
       "      <td>0.0</td>\n",
       "    </tr>\n",
       "    <tr>\n",
       "      <th>5</th>\n",
       "      <td>0.95123</td>\n",
       "      <td>0.94783</td>\n",
       "      <td>0.0</td>\n",
       "      <td>0.0</td>\n",
       "    </tr>\n",
       "  </tbody>\n",
       "</table>\n",
       "</div>"
      ],
      "text/plain": [
       "   Train Accuracy  Test Accuracy  Precission  Recall\n",
       "0         0.95123        0.94783         0.0     0.0\n",
       "1         0.95123        0.94783         0.0     0.0\n",
       "2         0.95123        0.94783         0.0     0.0\n",
       "3         0.95123        0.94783         0.0     0.0\n",
       "4         0.95123        0.94783         0.0     0.0\n",
       "5         0.95123        0.94783         0.0     0.0"
      ]
     },
     "execution_count": 33,
     "metadata": {},
     "output_type": "execute_result"
    }
   ],
   "source": [
    "clf = [\n",
    "    LogisticRegression(solver='lbfgs',penalty='l2',max_iter=1000, C=0.001),\n",
    "    LogisticRegression(solver='lbfgs',penalty='l2',max_iter=1000, C=0.010),\n",
    "    LogisticRegression(solver='lbfgs',penalty='l2',max_iter=1000, C=0.100),\n",
    "    LogisticRegression(solver='lbfgs',penalty='l2',max_iter=1000, C=1.000),\n",
    "    LogisticRegression(solver='lbfgs',penalty='l2',max_iter=1000, C=10.000),\n",
    "    LogisticRegression(solver='lbfgs',penalty='l2',max_iter=1000, C=100.000),\n",
    "    ]\n",
    "clf_columns = []\n",
    "clf_compare = pd.DataFrame(columns = clf_columns)\n",
    "\n",
    "row_index = 0\n",
    "for alg in clf:\n",
    "        \n",
    "    predicted = alg.fit(X_train, y_train).predict(X_test)\n",
    "    clf_name = alg.__class__.__name__\n",
    "    clf_compare.loc[row_index, 'Train Accuracy'] = round(alg.score(X_train, y_train), 5)\n",
    "    clf_compare.loc[row_index, 'Test Accuracy'] = round(alg.score(X_test, y_test), 5)\n",
    "    clf_compare.loc[row_index, 'Precission'] = round(precision_score(y_test, predicted, zero_division=0),5)\n",
    "    clf_compare.loc[row_index, 'Recall'] = round(recall_score(y_test, predicted, zero_division=0),5)\n",
    "\n",
    "    row_index+=1\n",
    "    \n",
    "clf_compare.sort_values(by = ['Test Accuracy'], ascending = False, inplace = True)    \n",
    "clf_compare"
   ]
  },
  {
   "cell_type": "code",
   "execution_count": 34,
   "metadata": {},
   "outputs": [],
   "source": [
    "# What we observe here is that regardless of the nverse of regularization strength  we choose, \n",
    "# the model metric improvement vs baseline is less than 0.001%."
   ]
  },
  {
   "cell_type": "code",
   "execution_count": 35,
   "metadata": {},
   "outputs": [],
   "source": [
    "# To explain all of this result : our dataset doesn't fit with logistic regression neither with linear regression"
   ]
  }
 ],
 "metadata": {
  "kernelspec": {
   "display_name": "Python 3 (ipykernel)",
   "language": "python",
   "name": "python3"
  },
  "language_info": {
   "codemirror_mode": {
    "name": "ipython",
    "version": 3
   },
   "file_extension": ".py",
   "mimetype": "text/x-python",
   "name": "python",
   "nbconvert_exporter": "python",
   "pygments_lexer": "ipython3",
   "version": "3.9.12"
  }
 },
 "nbformat": 4,
 "nbformat_minor": 4
}
