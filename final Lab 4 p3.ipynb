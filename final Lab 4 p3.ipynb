{
 "cells": [
  {
   "cell_type": "markdown",
   "metadata": {},
   "source": [
    "## Setup"
   ]
  },
  {
   "cell_type": "code",
   "execution_count": 1,
   "metadata": {},
   "outputs": [],
   "source": [
    "import sys\n",
    "assert sys.version_info >= (3, 5)\n",
    "# Python ≥3.5 is required"
   ]
  },
  {
   "cell_type": "code",
   "execution_count": 2,
   "metadata": {},
   "outputs": [],
   "source": [
    "# Scikit-Learn ≥0.20 is required\n",
    "import sklearn\n",
    "assert sklearn.__version__ >= \"0.20\""
   ]
  },
  {
   "cell_type": "code",
   "execution_count": 3,
   "metadata": {},
   "outputs": [],
   "source": [
    "# Common imports\n",
    "import numpy as np\n",
    "import os\n",
    "import tarfile\n",
    "import urllib\n",
    "import pandas as pd"
   ]
  },
  {
   "cell_type": "code",
   "execution_count": 4,
   "metadata": {},
   "outputs": [],
   "source": [
    "# To plot pretty figures\n",
    "%matplotlib inline\n",
    "import matplotlib as mpl\n",
    "import matplotlib.pyplot as plt"
   ]
  },
  {
   "cell_type": "code",
   "execution_count": 5,
   "metadata": {},
   "outputs": [],
   "source": [
    "import pandas as pd"
   ]
  },
  {
   "cell_type": "markdown",
   "metadata": {},
   "source": [
    "# Download the Data"
   ]
  },
  {
   "cell_type": "code",
   "execution_count": 6,
   "metadata": {},
   "outputs": [],
   "source": [
    "url= \"brain_stroke_in_numeric_without_useless_data.csv\"\n",
    "brain = pd.read_csv(url)\n",
    "brain = brain.drop(brain.columns[0], axis=1)"
   ]
  },
  {
   "cell_type": "markdown",
   "metadata": {},
   "source": [
    "## A Quick Look at the Data Structure"
   ]
  },
  {
   "cell_type": "code",
   "execution_count": 7,
   "metadata": {
    "scrolled": false
   },
   "outputs": [
    {
     "data": {
      "text/html": [
       "<div>\n",
       "<style scoped>\n",
       "    .dataframe tbody tr th:only-of-type {\n",
       "        vertical-align: middle;\n",
       "    }\n",
       "\n",
       "    .dataframe tbody tr th {\n",
       "        vertical-align: top;\n",
       "    }\n",
       "\n",
       "    .dataframe thead th {\n",
       "        text-align: right;\n",
       "    }\n",
       "</style>\n",
       "<table border=\"1\" class=\"dataframe\">\n",
       "  <thead>\n",
       "    <tr style=\"text-align: right;\">\n",
       "      <th></th>\n",
       "      <th>gender</th>\n",
       "      <th>age</th>\n",
       "      <th>hypertension</th>\n",
       "      <th>heart_disease</th>\n",
       "      <th>ever_married</th>\n",
       "      <th>avg_glucose_level</th>\n",
       "      <th>bmi</th>\n",
       "      <th>smoking_status</th>\n",
       "      <th>stroke</th>\n",
       "    </tr>\n",
       "  </thead>\n",
       "  <tbody>\n",
       "    <tr>\n",
       "      <th>0</th>\n",
       "      <td>0</td>\n",
       "      <td>67.0</td>\n",
       "      <td>0</td>\n",
       "      <td>1</td>\n",
       "      <td>1</td>\n",
       "      <td>228.69</td>\n",
       "      <td>36.6</td>\n",
       "      <td>2</td>\n",
       "      <td>1</td>\n",
       "    </tr>\n",
       "    <tr>\n",
       "      <th>1</th>\n",
       "      <td>0</td>\n",
       "      <td>80.0</td>\n",
       "      <td>0</td>\n",
       "      <td>1</td>\n",
       "      <td>1</td>\n",
       "      <td>105.92</td>\n",
       "      <td>32.5</td>\n",
       "      <td>1</td>\n",
       "      <td>1</td>\n",
       "    </tr>\n",
       "    <tr>\n",
       "      <th>2</th>\n",
       "      <td>1</td>\n",
       "      <td>49.0</td>\n",
       "      <td>0</td>\n",
       "      <td>0</td>\n",
       "      <td>1</td>\n",
       "      <td>171.23</td>\n",
       "      <td>34.4</td>\n",
       "      <td>3</td>\n",
       "      <td>1</td>\n",
       "    </tr>\n",
       "    <tr>\n",
       "      <th>3</th>\n",
       "      <td>1</td>\n",
       "      <td>79.0</td>\n",
       "      <td>1</td>\n",
       "      <td>0</td>\n",
       "      <td>1</td>\n",
       "      <td>174.12</td>\n",
       "      <td>24.0</td>\n",
       "      <td>1</td>\n",
       "      <td>1</td>\n",
       "    </tr>\n",
       "    <tr>\n",
       "      <th>4</th>\n",
       "      <td>0</td>\n",
       "      <td>81.0</td>\n",
       "      <td>0</td>\n",
       "      <td>0</td>\n",
       "      <td>1</td>\n",
       "      <td>186.21</td>\n",
       "      <td>29.0</td>\n",
       "      <td>2</td>\n",
       "      <td>1</td>\n",
       "    </tr>\n",
       "    <tr>\n",
       "      <th>...</th>\n",
       "      <td>...</td>\n",
       "      <td>...</td>\n",
       "      <td>...</td>\n",
       "      <td>...</td>\n",
       "      <td>...</td>\n",
       "      <td>...</td>\n",
       "      <td>...</td>\n",
       "      <td>...</td>\n",
       "      <td>...</td>\n",
       "    </tr>\n",
       "    <tr>\n",
       "      <th>95</th>\n",
       "      <td>0</td>\n",
       "      <td>71.0</td>\n",
       "      <td>1</td>\n",
       "      <td>1</td>\n",
       "      <td>0</td>\n",
       "      <td>216.94</td>\n",
       "      <td>30.9</td>\n",
       "      <td>1</td>\n",
       "      <td>1</td>\n",
       "    </tr>\n",
       "    <tr>\n",
       "      <th>96</th>\n",
       "      <td>0</td>\n",
       "      <td>61.0</td>\n",
       "      <td>1</td>\n",
       "      <td>0</td>\n",
       "      <td>1</td>\n",
       "      <td>76.11</td>\n",
       "      <td>27.3</td>\n",
       "      <td>3</td>\n",
       "      <td>1</td>\n",
       "    </tr>\n",
       "    <tr>\n",
       "      <th>97</th>\n",
       "      <td>0</td>\n",
       "      <td>74.0</td>\n",
       "      <td>0</td>\n",
       "      <td>0</td>\n",
       "      <td>1</td>\n",
       "      <td>72.96</td>\n",
       "      <td>31.3</td>\n",
       "      <td>3</td>\n",
       "      <td>1</td>\n",
       "    </tr>\n",
       "    <tr>\n",
       "      <th>98</th>\n",
       "      <td>1</td>\n",
       "      <td>38.0</td>\n",
       "      <td>0</td>\n",
       "      <td>0</td>\n",
       "      <td>0</td>\n",
       "      <td>82.28</td>\n",
       "      <td>24.0</td>\n",
       "      <td>2</td>\n",
       "      <td>1</td>\n",
       "    </tr>\n",
       "    <tr>\n",
       "      <th>99</th>\n",
       "      <td>1</td>\n",
       "      <td>77.0</td>\n",
       "      <td>0</td>\n",
       "      <td>0</td>\n",
       "      <td>1</td>\n",
       "      <td>105.22</td>\n",
       "      <td>31.0</td>\n",
       "      <td>1</td>\n",
       "      <td>1</td>\n",
       "    </tr>\n",
       "  </tbody>\n",
       "</table>\n",
       "<p>100 rows × 9 columns</p>\n",
       "</div>"
      ],
      "text/plain": [
       "    gender   age  hypertension  heart_disease  ever_married  \\\n",
       "0        0  67.0             0              1             1   \n",
       "1        0  80.0             0              1             1   \n",
       "2        1  49.0             0              0             1   \n",
       "3        1  79.0             1              0             1   \n",
       "4        0  81.0             0              0             1   \n",
       "..     ...   ...           ...            ...           ...   \n",
       "95       0  71.0             1              1             0   \n",
       "96       0  61.0             1              0             1   \n",
       "97       0  74.0             0              0             1   \n",
       "98       1  38.0             0              0             0   \n",
       "99       1  77.0             0              0             1   \n",
       "\n",
       "    avg_glucose_level   bmi  smoking_status  stroke  \n",
       "0              228.69  36.6               2       1  \n",
       "1              105.92  32.5               1       1  \n",
       "2              171.23  34.4               3       1  \n",
       "3              174.12  24.0               1       1  \n",
       "4              186.21  29.0               2       1  \n",
       "..                ...   ...             ...     ...  \n",
       "95             216.94  30.9               1       1  \n",
       "96              76.11  27.3               3       1  \n",
       "97              72.96  31.3               3       1  \n",
       "98              82.28  24.0               2       1  \n",
       "99             105.22  31.0               1       1  \n",
       "\n",
       "[100 rows x 9 columns]"
      ]
     },
     "execution_count": 7,
     "metadata": {},
     "output_type": "execute_result"
    }
   ],
   "source": [
    "brain.head(100) "
   ]
  },
  {
   "cell_type": "code",
   "execution_count": 8,
   "metadata": {},
   "outputs": [
    {
     "name": "stdout",
     "output_type": "stream",
     "text": [
      "<class 'pandas.core.frame.DataFrame'>\n",
      "RangeIndex: 4981 entries, 0 to 4980\n",
      "Data columns (total 9 columns):\n",
      " #   Column             Non-Null Count  Dtype  \n",
      "---  ------             --------------  -----  \n",
      " 0   gender             4981 non-null   int64  \n",
      " 1   age                4981 non-null   float64\n",
      " 2   hypertension       4981 non-null   int64  \n",
      " 3   heart_disease      4981 non-null   int64  \n",
      " 4   ever_married       4981 non-null   int64  \n",
      " 5   avg_glucose_level  4981 non-null   float64\n",
      " 6   bmi                4981 non-null   float64\n",
      " 7   smoking_status     4981 non-null   int64  \n",
      " 8   stroke             4981 non-null   int64  \n",
      "dtypes: float64(3), int64(6)\n",
      "memory usage: 350.4 KB\n"
     ]
    }
   ],
   "source": [
    "#This method prints information about a DataFrame including the dtype and columns, non-null values and memory usage.\n",
    "brain.info() "
   ]
  },
  {
   "cell_type": "code",
   "execution_count": 9,
   "metadata": {},
   "outputs": [
    {
     "data": {
      "text/html": [
       "<div>\n",
       "<style scoped>\n",
       "    .dataframe tbody tr th:only-of-type {\n",
       "        vertical-align: middle;\n",
       "    }\n",
       "\n",
       "    .dataframe tbody tr th {\n",
       "        vertical-align: top;\n",
       "    }\n",
       "\n",
       "    .dataframe thead th {\n",
       "        text-align: right;\n",
       "    }\n",
       "</style>\n",
       "<table border=\"1\" class=\"dataframe\">\n",
       "  <thead>\n",
       "    <tr style=\"text-align: right;\">\n",
       "      <th></th>\n",
       "      <th>gender</th>\n",
       "      <th>age</th>\n",
       "      <th>hypertension</th>\n",
       "      <th>heart_disease</th>\n",
       "      <th>ever_married</th>\n",
       "      <th>avg_glucose_level</th>\n",
       "      <th>bmi</th>\n",
       "      <th>smoking_status</th>\n",
       "      <th>stroke</th>\n",
       "    </tr>\n",
       "  </thead>\n",
       "  <tbody>\n",
       "    <tr>\n",
       "      <th>count</th>\n",
       "      <td>4981.000000</td>\n",
       "      <td>4981.000000</td>\n",
       "      <td>4981.000000</td>\n",
       "      <td>4981.000000</td>\n",
       "      <td>4981.000000</td>\n",
       "      <td>4981.000000</td>\n",
       "      <td>4981.000000</td>\n",
       "      <td>4981.000000</td>\n",
       "      <td>4981.000000</td>\n",
       "    </tr>\n",
       "    <tr>\n",
       "      <th>mean</th>\n",
       "      <td>0.583618</td>\n",
       "      <td>43.419859</td>\n",
       "      <td>0.096165</td>\n",
       "      <td>0.055210</td>\n",
       "      <td>0.658502</td>\n",
       "      <td>105.943562</td>\n",
       "      <td>28.498173</td>\n",
       "      <td>1.184501</td>\n",
       "      <td>0.049789</td>\n",
       "    </tr>\n",
       "    <tr>\n",
       "      <th>std</th>\n",
       "      <td>0.493008</td>\n",
       "      <td>22.662755</td>\n",
       "      <td>0.294848</td>\n",
       "      <td>0.228412</td>\n",
       "      <td>0.474260</td>\n",
       "      <td>45.075373</td>\n",
       "      <td>6.790464</td>\n",
       "      <td>1.031769</td>\n",
       "      <td>0.217531</td>\n",
       "    </tr>\n",
       "    <tr>\n",
       "      <th>min</th>\n",
       "      <td>0.000000</td>\n",
       "      <td>0.080000</td>\n",
       "      <td>0.000000</td>\n",
       "      <td>0.000000</td>\n",
       "      <td>0.000000</td>\n",
       "      <td>55.120000</td>\n",
       "      <td>14.000000</td>\n",
       "      <td>0.000000</td>\n",
       "      <td>0.000000</td>\n",
       "    </tr>\n",
       "    <tr>\n",
       "      <th>25%</th>\n",
       "      <td>0.000000</td>\n",
       "      <td>25.000000</td>\n",
       "      <td>0.000000</td>\n",
       "      <td>0.000000</td>\n",
       "      <td>0.000000</td>\n",
       "      <td>77.230000</td>\n",
       "      <td>23.700000</td>\n",
       "      <td>0.000000</td>\n",
       "      <td>0.000000</td>\n",
       "    </tr>\n",
       "    <tr>\n",
       "      <th>50%</th>\n",
       "      <td>1.000000</td>\n",
       "      <td>45.000000</td>\n",
       "      <td>0.000000</td>\n",
       "      <td>0.000000</td>\n",
       "      <td>1.000000</td>\n",
       "      <td>91.850000</td>\n",
       "      <td>28.100000</td>\n",
       "      <td>1.000000</td>\n",
       "      <td>0.000000</td>\n",
       "    </tr>\n",
       "    <tr>\n",
       "      <th>75%</th>\n",
       "      <td>1.000000</td>\n",
       "      <td>61.000000</td>\n",
       "      <td>0.000000</td>\n",
       "      <td>0.000000</td>\n",
       "      <td>1.000000</td>\n",
       "      <td>113.860000</td>\n",
       "      <td>32.600000</td>\n",
       "      <td>2.000000</td>\n",
       "      <td>0.000000</td>\n",
       "    </tr>\n",
       "    <tr>\n",
       "      <th>max</th>\n",
       "      <td>1.000000</td>\n",
       "      <td>82.000000</td>\n",
       "      <td>1.000000</td>\n",
       "      <td>1.000000</td>\n",
       "      <td>1.000000</td>\n",
       "      <td>271.740000</td>\n",
       "      <td>48.900000</td>\n",
       "      <td>3.000000</td>\n",
       "      <td>1.000000</td>\n",
       "    </tr>\n",
       "  </tbody>\n",
       "</table>\n",
       "</div>"
      ],
      "text/plain": [
       "            gender          age  hypertension  heart_disease  ever_married  \\\n",
       "count  4981.000000  4981.000000   4981.000000    4981.000000   4981.000000   \n",
       "mean      0.583618    43.419859      0.096165       0.055210      0.658502   \n",
       "std       0.493008    22.662755      0.294848       0.228412      0.474260   \n",
       "min       0.000000     0.080000      0.000000       0.000000      0.000000   \n",
       "25%       0.000000    25.000000      0.000000       0.000000      0.000000   \n",
       "50%       1.000000    45.000000      0.000000       0.000000      1.000000   \n",
       "75%       1.000000    61.000000      0.000000       0.000000      1.000000   \n",
       "max       1.000000    82.000000      1.000000       1.000000      1.000000   \n",
       "\n",
       "       avg_glucose_level          bmi  smoking_status       stroke  \n",
       "count        4981.000000  4981.000000     4981.000000  4981.000000  \n",
       "mean          105.943562    28.498173        1.184501     0.049789  \n",
       "std            45.075373     6.790464        1.031769     0.217531  \n",
       "min            55.120000    14.000000        0.000000     0.000000  \n",
       "25%            77.230000    23.700000        0.000000     0.000000  \n",
       "50%            91.850000    28.100000        1.000000     0.000000  \n",
       "75%           113.860000    32.600000        2.000000     0.000000  \n",
       "max           271.740000    48.900000        3.000000     1.000000  "
      ]
     },
     "execution_count": 9,
     "metadata": {},
     "output_type": "execute_result"
    }
   ],
   "source": [
    "#This method shows a statistical summary of the numerical attributes \n",
    "brain.describe()"
   ]
  },
  {
   "cell_type": "markdown",
   "metadata": {},
   "source": [
    "The count, mean, min, and max rows are self-explanatory.\n",
    "\n",
    "The 25%, 50%, and 75% rows show the corresponding percentiles: a percentile indicates the value below which a given percentage of observations in a group of observations fall."
   ]
  },
  {
   "cell_type": "markdown",
   "metadata": {},
   "source": [
    "# Create a Test Set \n",
    "The test data will be used in later P3 to test the classifier\n",
    "\n",
    "Pick some instances randomly (typically 20% of the dataset)"
   ]
  },
  {
   "cell_type": "code",
   "execution_count": 10,
   "metadata": {},
   "outputs": [],
   "source": [
    "# to make this notebook's output identical at every run\n",
    "np.random.seed(42)"
   ]
  },
  {
   "cell_type": "markdown",
   "metadata": {},
   "source": [
    "##  Scikit-Learn Train Test Split"
   ]
  },
  {
   "cell_type": "markdown",
   "metadata": {},
   "source": [
    "`train_test_split` <- Important to learn <a href=\"https://scikit-learn.org/stable/modules/generated/sklearn.model_selection.train_test_split.html\">Documentation Link</a>\n"
   ]
  },
  {
   "cell_type": "code",
   "execution_count": 11,
   "metadata": {},
   "outputs": [],
   "source": [
    "from sklearn.model_selection import train_test_split\n",
    "\n",
    "train_set, test_set = train_test_split(brain, test_size=0.2, random_state=42)"
   ]
  },
  {
   "cell_type": "code",
   "execution_count": 12,
   "metadata": {},
   "outputs": [
    {
     "data": {
      "text/html": [
       "<div>\n",
       "<style scoped>\n",
       "    .dataframe tbody tr th:only-of-type {\n",
       "        vertical-align: middle;\n",
       "    }\n",
       "\n",
       "    .dataframe tbody tr th {\n",
       "        vertical-align: top;\n",
       "    }\n",
       "\n",
       "    .dataframe thead th {\n",
       "        text-align: right;\n",
       "    }\n",
       "</style>\n",
       "<table border=\"1\" class=\"dataframe\">\n",
       "  <thead>\n",
       "    <tr style=\"text-align: right;\">\n",
       "      <th></th>\n",
       "      <th>gender</th>\n",
       "      <th>age</th>\n",
       "      <th>hypertension</th>\n",
       "      <th>heart_disease</th>\n",
       "      <th>ever_married</th>\n",
       "      <th>avg_glucose_level</th>\n",
       "      <th>bmi</th>\n",
       "      <th>smoking_status</th>\n",
       "      <th>stroke</th>\n",
       "    </tr>\n",
       "  </thead>\n",
       "  <tbody>\n",
       "    <tr>\n",
       "      <th>1129</th>\n",
       "      <td>1</td>\n",
       "      <td>65.00</td>\n",
       "      <td>1</td>\n",
       "      <td>0</td>\n",
       "      <td>1</td>\n",
       "      <td>180.76</td>\n",
       "      <td>26.9</td>\n",
       "      <td>0</td>\n",
       "      <td>0</td>\n",
       "    </tr>\n",
       "    <tr>\n",
       "      <th>3671</th>\n",
       "      <td>1</td>\n",
       "      <td>11.00</td>\n",
       "      <td>0</td>\n",
       "      <td>0</td>\n",
       "      <td>0</td>\n",
       "      <td>93.51</td>\n",
       "      <td>20.8</td>\n",
       "      <td>0</td>\n",
       "      <td>0</td>\n",
       "    </tr>\n",
       "    <tr>\n",
       "      <th>1041</th>\n",
       "      <td>0</td>\n",
       "      <td>1.56</td>\n",
       "      <td>0</td>\n",
       "      <td>0</td>\n",
       "      <td>0</td>\n",
       "      <td>93.74</td>\n",
       "      <td>20.1</td>\n",
       "      <td>0</td>\n",
       "      <td>0</td>\n",
       "    </tr>\n",
       "    <tr>\n",
       "      <th>2072</th>\n",
       "      <td>1</td>\n",
       "      <td>49.00</td>\n",
       "      <td>0</td>\n",
       "      <td>0</td>\n",
       "      <td>1</td>\n",
       "      <td>68.44</td>\n",
       "      <td>23.0</td>\n",
       "      <td>3</td>\n",
       "      <td>0</td>\n",
       "    </tr>\n",
       "    <tr>\n",
       "      <th>1375</th>\n",
       "      <td>1</td>\n",
       "      <td>49.00</td>\n",
       "      <td>1</td>\n",
       "      <td>0</td>\n",
       "      <td>1</td>\n",
       "      <td>107.91</td>\n",
       "      <td>25.0</td>\n",
       "      <td>0</td>\n",
       "      <td>0</td>\n",
       "    </tr>\n",
       "  </tbody>\n",
       "</table>\n",
       "</div>"
      ],
      "text/plain": [
       "      gender    age  hypertension  heart_disease  ever_married  \\\n",
       "1129       1  65.00             1              0             1   \n",
       "3671       1  11.00             0              0             0   \n",
       "1041       0   1.56             0              0             0   \n",
       "2072       1  49.00             0              0             1   \n",
       "1375       1  49.00             1              0             1   \n",
       "\n",
       "      avg_glucose_level   bmi  smoking_status  stroke  \n",
       "1129             180.76  26.9               0       0  \n",
       "3671              93.51  20.8               0       0  \n",
       "1041              93.74  20.1               0       0  \n",
       "2072              68.44  23.0               3       0  \n",
       "1375             107.91  25.0               0       0  "
      ]
     },
     "execution_count": 12,
     "metadata": {},
     "output_type": "execute_result"
    }
   ],
   "source": [
    "test_set.head()"
   ]
  },
  {
   "cell_type": "code",
   "execution_count": 13,
   "metadata": {},
   "outputs": [
    {
     "data": {
      "text/plain": [
       "<AxesSubplot:>"
      ]
     },
     "execution_count": 13,
     "metadata": {},
     "output_type": "execute_result"
    },
    {
     "data": {
      "image/png": "[encoded data removed]",
      "text/plain": [
       "<Figure size 432x288 with 1 Axes>"
      ]
     },
     "metadata": {
      "needs_background": "light"
     },
     "output_type": "display_data"
    }
   ],
   "source": [
    "brain[\"stroke\"].hist()"
   ]
  },
  {
   "cell_type": "code",
   "execution_count": 14,
   "metadata": {},
   "outputs": [],
   "source": [
    "brain[\"stroke_cat\"] = pd.cut(brain[\"stroke\"],\n",
    "                               bins=[0, 0.2, 0.6, 0.8, 1., np.inf],\n",
    "                               labels=[1, 2, 3, 4, 5])"
   ]
  },
  {
   "cell_type": "code",
   "execution_count": 15,
   "metadata": {},
   "outputs": [
    {
     "data": {
      "text/plain": [
       "4    248\n",
       "1      0\n",
       "2      0\n",
       "3      0\n",
       "5      0\n",
       "Name: stroke_cat, dtype: int64"
      ]
     },
     "execution_count": 15,
     "metadata": {},
     "output_type": "execute_result"
    }
   ],
   "source": [
    "brain[\"stroke_cat\"].value_counts()"
   ]
  },
  {
   "cell_type": "code",
   "execution_count": 16,
   "metadata": {},
   "outputs": [
    {
     "data": {
      "text/plain": [
       "<AxesSubplot:>"
      ]
     },
     "execution_count": 16,
     "metadata": {},
     "output_type": "execute_result"
    },
    {
     "data": {
      "image/png": "[encoded data removed]",
      "text/plain": [
       "<Figure size 432x288 with 1 Axes>"
      ]
     },
     "metadata": {
      "needs_background": "light"
     },
     "output_type": "display_data"
    }
   ],
   "source": [
    "brain[\"stroke_cat\"].hist()"
   ]
  },
  {
   "cell_type": "markdown",
   "metadata": {},
   "source": [
    "stratified sampling based on the income category, to generate the test set with  income category proportions almost identical to those in the full dataset\n",
    "\n",
    "`StratifiedShuffleSplit` <- Important to learn <a href=\"https://scikit-learn.org/stable/modules/generated/sklearn.model_selection.StratifiedShuffleSplit.html\">Documentation Link</a>"
   ]
  },
  {
   "cell_type": "code",
   "execution_count": 17,
   "metadata": {},
   "outputs": [],
   "source": [
    "#Provides train/test indices to split data in train/test sets.\n",
    "from sklearn.model_selection import StratifiedShuffleSplit\n",
    "split = StratifiedShuffleSplit(n_splits=1, test_size=0.2, random_state=42)"
   ]
  },
  {
   "cell_type": "code",
   "execution_count": 18,
   "metadata": {},
   "outputs": [],
   "source": [
    "for train_index, test_index in split.split(brain, brain[\"stroke\"]):\n",
    "    strat_train_set = brain.loc[train_index]\n",
    "    strat_test_set = brain.loc[test_index]\n",
    "    "
   ]
  },
  {
   "cell_type": "code",
   "execution_count": 19,
   "metadata": {},
   "outputs": [
    {
     "data": {
      "text/plain": [
       "0    0.94985\n",
       "1    0.05015\n",
       "Name: stroke, dtype: float64"
      ]
     },
     "execution_count": 19,
     "metadata": {},
     "output_type": "execute_result"
    }
   ],
   "source": [
    "strat_test_set[\"stroke\"].value_counts() / len(strat_test_set)"
   ]
  },
  {
   "cell_type": "code",
   "execution_count": 20,
   "metadata": {},
   "outputs": [
    {
     "data": {
      "text/plain": [
       "0    0.950211\n",
       "1    0.049789\n",
       "Name: stroke, dtype: float64"
      ]
     },
     "execution_count": 20,
     "metadata": {},
     "output_type": "execute_result"
    }
   ],
   "source": [
    "brain[\"stroke\"].value_counts() / len(brain)"
   ]
  },
  {
   "cell_type": "code",
   "execution_count": 21,
   "metadata": {},
   "outputs": [],
   "source": [
    "def stroke_proportions(data):\n",
    "    return data[\"stroke\"].value_counts() / len(data)\n",
    "\n",
    "train_set, test_set = train_test_split(brain, test_size=0.2, random_state=42)\n",
    "\n",
    "compare_props = pd.DataFrame({\n",
    "    \"Overall\": stroke_proportions(brain),\n",
    "    \"Stratified\": stroke_proportions(strat_test_set),\n",
    "    \"Random\": stroke_proportions(test_set),\n",
    "}).sort_index()\n",
    "compare_props[\"Rand. %error\"] = 100 * compare_props[\"Random\"] / compare_props[\"Overall\"] - 100\n",
    "compare_props[\"Strat. %error\"] = 100 * compare_props[\"Stratified\"] / compare_props[\"Overall\"] - 100"
   ]
  },
  {
   "cell_type": "code",
   "execution_count": 22,
   "metadata": {},
   "outputs": [
    {
     "data": {
      "text/html": [
       "<div>\n",
       "<style scoped>\n",
       "    .dataframe tbody tr th:only-of-type {\n",
       "        vertical-align: middle;\n",
       "    }\n",
       "\n",
       "    .dataframe tbody tr th {\n",
       "        vertical-align: top;\n",
       "    }\n",
       "\n",
       "    .dataframe thead th {\n",
       "        text-align: right;\n",
       "    }\n",
       "</style>\n",
       "<table border=\"1\" class=\"dataframe\">\n",
       "  <thead>\n",
       "    <tr style=\"text-align: right;\">\n",
       "      <th></th>\n",
       "      <th>Overall</th>\n",
       "      <th>Stratified</th>\n",
       "      <th>Random</th>\n",
       "      <th>Rand. %error</th>\n",
       "      <th>Strat. %error</th>\n",
       "    </tr>\n",
       "  </thead>\n",
       "  <tbody>\n",
       "    <tr>\n",
       "      <th>0</th>\n",
       "      <td>0.950211</td>\n",
       "      <td>0.94985</td>\n",
       "      <td>0.945838</td>\n",
       "      <td>-0.460244</td>\n",
       "      <td>-0.038018</td>\n",
       "    </tr>\n",
       "    <tr>\n",
       "      <th>1</th>\n",
       "      <td>0.049789</td>\n",
       "      <td>0.05015</td>\n",
       "      <td>0.054162</td>\n",
       "      <td>8.783609</td>\n",
       "      <td>0.725564</td>\n",
       "    </tr>\n",
       "  </tbody>\n",
       "</table>\n",
       "</div>"
      ],
      "text/plain": [
       "    Overall  Stratified    Random  Rand. %error  Strat. %error\n",
       "0  0.950211     0.94985  0.945838     -0.460244      -0.038018\n",
       "1  0.049789     0.05015  0.054162      8.783609       0.725564"
      ]
     },
     "execution_count": 22,
     "metadata": {},
     "output_type": "execute_result"
    }
   ],
   "source": [
    "compare_props"
   ]
  },
  {
   "cell_type": "code",
   "execution_count": 23,
   "metadata": {},
   "outputs": [],
   "source": [
    "for set_ in (strat_train_set, strat_test_set):\n",
    "    set_.drop(\"stroke_cat\", axis=1, inplace=True)"
   ]
  },
  {
   "cell_type": "markdown",
   "metadata": {},
   "source": [
    "# Prepare the Data for Machine Learning Algorithms"
   ]
  },
  {
   "cell_type": "code",
   "execution_count": 24,
   "metadata": {},
   "outputs": [],
   "source": [
    "brain = strat_train_set.drop(\"stroke\", axis=1)\n",
    "brain_labels = strat_train_set[\"stroke\"].copy()"
   ]
  },
  {
   "cell_type": "markdown",
   "metadata": {},
   "source": [
    "## Custom Transformer"
   ]
  },
  {
   "cell_type": "code",
   "execution_count": 25,
   "metadata": {},
   "outputs": [],
   "source": [
    "from sklearn.base import BaseEstimator, TransformerMixin\n",
    "\n",
    "# column index\n",
    "age_ix, avg_glucose_level_ix, bmi_ix = 1, 5, 6\n",
    "\n",
    "class CombinedAttributesAdder(BaseEstimator, TransformerMixin):\n",
    "    def __init__(self, add_avg_glucose_level_per_age = True): # no *args or **kargs\n",
    "        self.add_avg_glucose_level_per_age = add_avg_glucose_level_per_age\n",
    "    def fit(self, X, y=None):\n",
    "        return self  # nothing else to do\n",
    "    def transform(self, X):\n",
    "        bmi_per_age =  X[:, bmi_ix] /X[:, age_ix]\n",
    "        bmi_per_avg_glucose_level =X[:, bmi_ix] / X[:, avg_glucose_level_ix]\n",
    "        if self.add_avg_glucose_level_per_age:\n",
    "            avg_glucose_level_per_age = X[:, avg_glucose_level_ix] / X[:, age_ix]\n",
    "            return np.c_[X, bmi_per_age, bmi_per_avg_glucose_level ,\n",
    "                         avg_glucose_level_per_age]\n",
    "        else:\n",
    "            return np.c_[X,bmi_per_age,bmi_per_avg_glucose_level]\n",
    "\n",
    "attr_adder = CombinedAttributesAdder(add_avg_glucose_level_per_age=False)\n",
    "brain_extra_attribs = attr_adder.transform(brain.values)"
   ]
  },
  {
   "cell_type": "code",
   "execution_count": 26,
   "metadata": {},
   "outputs": [
    {
     "data": {
      "text/html": [
       "<div>\n",
       "<style scoped>\n",
       "    .dataframe tbody tr th:only-of-type {\n",
       "        vertical-align: middle;\n",
       "    }\n",
       "\n",
       "    .dataframe tbody tr th {\n",
       "        vertical-align: top;\n",
       "    }\n",
       "\n",
       "    .dataframe thead th {\n",
       "        text-align: right;\n",
       "    }\n",
       "</style>\n",
       "<table border=\"1\" class=\"dataframe\">\n",
       "  <thead>\n",
       "    <tr style=\"text-align: right;\">\n",
       "      <th></th>\n",
       "      <th>gender</th>\n",
       "      <th>age</th>\n",
       "      <th>hypertension</th>\n",
       "      <th>heart_disease</th>\n",
       "      <th>ever_married</th>\n",
       "      <th>avg_glucose_level</th>\n",
       "      <th>bmi</th>\n",
       "      <th>smoking_status</th>\n",
       "      <th>age_per_bmi</th>\n",
       "      <th>avg_glucose_level_per_bmi</th>\n",
       "    </tr>\n",
       "  </thead>\n",
       "  <tbody>\n",
       "    <tr>\n",
       "      <th>4428</th>\n",
       "      <td>1.0</td>\n",
       "      <td>24.0</td>\n",
       "      <td>0.0</td>\n",
       "      <td>0.0</td>\n",
       "      <td>0.0</td>\n",
       "      <td>187.99</td>\n",
       "      <td>24.9</td>\n",
       "      <td>3.0</td>\n",
       "      <td>1.037500</td>\n",
       "      <td>0.132454</td>\n",
       "    </tr>\n",
       "    <tr>\n",
       "      <th>1135</th>\n",
       "      <td>0.0</td>\n",
       "      <td>3.0</td>\n",
       "      <td>0.0</td>\n",
       "      <td>0.0</td>\n",
       "      <td>0.0</td>\n",
       "      <td>86.38</td>\n",
       "      <td>22.8</td>\n",
       "      <td>0.0</td>\n",
       "      <td>7.600000</td>\n",
       "      <td>0.263950</td>\n",
       "    </tr>\n",
       "    <tr>\n",
       "      <th>2417</th>\n",
       "      <td>1.0</td>\n",
       "      <td>69.0</td>\n",
       "      <td>0.0</td>\n",
       "      <td>0.0</td>\n",
       "      <td>1.0</td>\n",
       "      <td>111.48</td>\n",
       "      <td>37.0</td>\n",
       "      <td>3.0</td>\n",
       "      <td>0.536232</td>\n",
       "      <td>0.331898</td>\n",
       "    </tr>\n",
       "    <tr>\n",
       "      <th>1173</th>\n",
       "      <td>1.0</td>\n",
       "      <td>46.0</td>\n",
       "      <td>0.0</td>\n",
       "      <td>0.0</td>\n",
       "      <td>1.0</td>\n",
       "      <td>127.75</td>\n",
       "      <td>30.5</td>\n",
       "      <td>1.0</td>\n",
       "      <td>0.663043</td>\n",
       "      <td>0.238748</td>\n",
       "    </tr>\n",
       "    <tr>\n",
       "      <th>3696</th>\n",
       "      <td>0.0</td>\n",
       "      <td>52.0</td>\n",
       "      <td>1.0</td>\n",
       "      <td>0.0</td>\n",
       "      <td>1.0</td>\n",
       "      <td>100.71</td>\n",
       "      <td>37.0</td>\n",
       "      <td>1.0</td>\n",
       "      <td>0.711538</td>\n",
       "      <td>0.367392</td>\n",
       "    </tr>\n",
       "  </tbody>\n",
       "</table>\n",
       "</div>"
      ],
      "text/plain": [
       "      gender   age  hypertension  heart_disease  ever_married  \\\n",
       "4428     1.0  24.0           0.0            0.0           0.0   \n",
       "1135     0.0   3.0           0.0            0.0           0.0   \n",
       "2417     1.0  69.0           0.0            0.0           1.0   \n",
       "1173     1.0  46.0           0.0            0.0           1.0   \n",
       "3696     0.0  52.0           1.0            0.0           1.0   \n",
       "\n",
       "      avg_glucose_level   bmi  smoking_status  age_per_bmi  \\\n",
       "4428             187.99  24.9             3.0     1.037500   \n",
       "1135              86.38  22.8             0.0     7.600000   \n",
       "2417             111.48  37.0             3.0     0.536232   \n",
       "1173             127.75  30.5             1.0     0.663043   \n",
       "3696             100.71  37.0             1.0     0.711538   \n",
       "\n",
       "      avg_glucose_level_per_bmi  \n",
       "4428                   0.132454  \n",
       "1135                   0.263950  \n",
       "2417                   0.331898  \n",
       "1173                   0.238748  \n",
       "3696                   0.367392  "
      ]
     },
     "execution_count": 26,
     "metadata": {},
     "output_type": "execute_result"
    }
   ],
   "source": [
    "brain_extra_attribs = pd.DataFrame(\n",
    "    brain_extra_attribs,\n",
    "    columns=list(brain.columns)+[\"age_per_bmi\", \"avg_glucose_level_per_bmi\"],\n",
    "    index=brain.index)\n",
    "brain_extra_attribs.head()"
   ]
  },
  {
   "cell_type": "code",
   "execution_count": 27,
   "metadata": {},
   "outputs": [
    {
     "name": "stdout",
     "output_type": "stream",
     "text": [
      "<class 'pandas.core.frame.DataFrame'>\n",
      "Int64Index: 3984 entries, 4428 to 2029\n",
      "Data columns (total 8 columns):\n",
      " #   Column             Non-Null Count  Dtype  \n",
      "---  ------             --------------  -----  \n",
      " 0   gender             3984 non-null   int64  \n",
      " 1   age                3984 non-null   float64\n",
      " 2   hypertension       3984 non-null   int64  \n",
      " 3   heart_disease      3984 non-null   int64  \n",
      " 4   ever_married       3984 non-null   int64  \n",
      " 5   avg_glucose_level  3984 non-null   float64\n",
      " 6   bmi                3984 non-null   float64\n",
      " 7   smoking_status     3984 non-null   int64  \n",
      "dtypes: float64(3), int64(5)\n",
      "memory usage: 280.1 KB\n"
     ]
    }
   ],
   "source": [
    "brain.info()"
   ]
  },
  {
   "cell_type": "markdown",
   "metadata": {},
   "source": [
    "## Transformation Pipelines\n",
    "\n",
    "`Pipeline` <- Important to learn <a href=\"https://scikit-learn.org/stable/modules/generated/sklearn.pipeline.Pipeline.html\">Documentation Link</a>\n",
    "\n",
    "There are many data transformation steps that need to be executed in the right order. Fortunately, Scikit-Learn provides the Pipeline class to help with such sequences of transformations.\n",
    "\n",
    "`StandardScaler` <- Important to learn <a href=\"https://scikit-learn.org/stable/modules/generated/sklearn.preprocessing.StandardScaler.html\">Documentation Link</a>\n",
    "\n",
    "Standardization used in numerical data preparation, first it subtracts the mean value (so standardized values always have a zero mean), and then it divides by the standard deviation so that the resulting distribution has unit variance.\n",
    "\n"
   ]
  },
  {
   "cell_type": "code",
   "execution_count": 28,
   "metadata": {
    "scrolled": true
   },
   "outputs": [],
   "source": [
    "from sklearn.pipeline import Pipeline\n",
    "from sklearn.preprocessing import StandardScaler\n",
    "from sklearn.impute import SimpleImputer\n",
    "\n",
    "num_pipeline = Pipeline([\n",
    "        ('imputer', SimpleImputer(strategy=\"median\")), # Dealing with missing values\n",
    "        ('attribs_adder', CombinedAttributesAdder()), # New attribute\n",
    "        ('std_scaler', StandardScaler()),            # Attribute normalization\n",
    "    ])\n",
    "\n",
    "brain_num_tr = num_pipeline.fit_transform(brain)"
   ]
  },
  {
   "cell_type": "code",
   "execution_count": 29,
   "metadata": {},
   "outputs": [
    {
     "data": {
      "text/plain": [
       "array([[ 0.84602735, -0.8668014 , -0.32894656, ..., -0.10586901,\n",
       "        -1.46635264,  0.01649148],\n",
       "       [-1.18199489, -1.79493002, -0.32894656, ...,  1.13849268,\n",
       "        -0.33709707,  0.5894073 ],\n",
       "       [ 0.84602735,  1.12204565, -0.32894656, ..., -0.20091797,\n",
       "         0.24642413, -0.15344642],\n",
       "       ...,\n",
       "       [ 0.84602735,  0.41490003, -0.32894656, ..., -0.19991726,\n",
       "         1.45192404, -0.16626702],\n",
       "       [ 0.84602735,  0.01713062, -0.32894656, ..., -0.21080479,\n",
       "        -0.48057091, -0.14409019],\n",
       "       [-1.18199489,  0.06132722,  3.04000744, ..., -0.13531232,\n",
       "         1.166305  , -0.14267977]])"
      ]
     },
     "execution_count": 29,
     "metadata": {},
     "output_type": "execute_result"
    }
   ],
   "source": [
    "brain_num_tr"
   ]
  },
  {
   "cell_type": "markdown",
   "metadata": {},
   "source": [
    "So far, we have handled the categorical columns and the numerical columns separately. It would be more convenient to have a single transformer able to handle all columns, applying the appropriate transformations to each column.\n",
    "\n",
    "\n",
    "`ColumnTransformer` <- Important to learn <a href=\"https://scikit-learn.org/stable/modules/generated/sklearn.compose.ColumnTransformer.html\">Documentation Link</a>\n"
   ]
  },
  {
   "cell_type": "code",
   "execution_count": 30,
   "metadata": {},
   "outputs": [],
   "source": [
    "from sklearn.compose import ColumnTransformer\n",
    "from sklearn.preprocessing import OneHotEncoder\n",
    "\n",
    "num_attribs = list(brain)\n",
    "cat_attribs = [\"bmi\"]\n",
    "\n",
    "full_pipeline = ColumnTransformer([\n",
    "        (\"num\", num_pipeline, num_attribs),#  Apply the numerical transformation to the all numeric columns\n",
    "        (\"cat\", OneHotEncoder(handle_unknown='ignore'), cat_attribs), # Apply the One Hot Encoding to the all categorical columns\n",
    "    ])\n",
    "\n",
    "brain_prepared = full_pipeline.fit_transform(brain) #Now fit_transform applies all the transformation to the data "
   ]
  },
  {
   "cell_type": "code",
   "execution_count": 31,
   "metadata": {},
   "outputs": [
    {
     "data": {
      "text/plain": [
       "<3984x348 sparse matrix of type '<class 'numpy.float64'>'\n",
       "\twith 47808 stored elements in Compressed Sparse Row format>"
      ]
     },
     "execution_count": 31,
     "metadata": {},
     "output_type": "execute_result"
    }
   ],
   "source": [
    "brain_prepared"
   ]
  },
  {
   "cell_type": "code",
   "execution_count": 32,
   "metadata": {},
   "outputs": [
    {
     "data": {
      "text/plain": [
       "(3984, 348)"
      ]
     },
     "execution_count": 32,
     "metadata": {},
     "output_type": "execute_result"
    }
   ],
   "source": [
    "brain_prepared.shape"
   ]
  },
  {
   "cell_type": "markdown",
   "metadata": {},
   "source": [
    "# Select and Train a Model\n",
    "\n",
    "You will use some regression models: \n",
    "- Linear Regression\n",
    "- Decision Tree Regression\n",
    "- Random Forest Regressor\n",
    "- Support Vector Regression"
   ]
  },
  {
   "cell_type": "markdown",
   "metadata": {},
   "source": [
    "## Linear Regression\n",
    "\n",
    "\n",
    "`LinearRegression` <- Important to learn <a href=\"https://scikit-learn.org/stable/modules/generated/sklearn.linear_model.LinearRegression.html\">Documentation Link</a>\n",
    "\n",
    "- fit() <- Train the Model \n",
    "- predict() <- To predict the value"
   ]
  },
  {
   "cell_type": "code",
   "execution_count": 33,
   "metadata": {},
   "outputs": [
    {
     "data": {
      "text/plain": [
       "LinearRegression()"
      ]
     },
     "execution_count": 33,
     "metadata": {},
     "output_type": "execute_result"
    }
   ],
   "source": [
    "from sklearn.linear_model import LinearRegression\n",
    "\n",
    "lin_reg = LinearRegression()\n",
    "lin_reg.fit(brain_prepared, brain_labels)"
   ]
  },
  {
   "cell_type": "code",
   "execution_count": 34,
   "metadata": {},
   "outputs": [
    {
     "name": "stdout",
     "output_type": "stream",
     "text": [
      "Predictions: [ 0.00061495 -0.06818187  0.05534277  0.04241244  0.06122604]\n"
     ]
    }
   ],
   "source": [
    "# let's try the full preprocessing pipeline on a few training instances\n",
    "some_data = brain.iloc[:5]\n",
    "some_labels = brain_labels.iloc[:5]\n",
    "some_data_prepared = full_pipeline.transform(some_data)\n",
    "\n",
    "print(\"Predictions:\", lin_reg.predict(some_data_prepared))"
   ]
  },
  {
   "cell_type": "code",
   "execution_count": 35,
   "metadata": {},
   "outputs": [
    {
     "name": "stdout",
     "output_type": "stream",
     "text": [
      "Labels: [0, 0, 0, 0, 0]\n"
     ]
    }
   ],
   "source": [
    "print(\"Labels:\", list(some_labels))"
   ]
  },
  {
   "cell_type": "code",
   "execution_count": 36,
   "metadata": {},
   "outputs": [
    {
     "data": {
      "text/plain": [
       "<5x348 sparse matrix of type '<class 'numpy.float64'>'\n",
       "\twith 60 stored elements in Compressed Sparse Row format>"
      ]
     },
     "execution_count": 36,
     "metadata": {},
     "output_type": "execute_result"
    }
   ],
   "source": [
    "some_data_prepared"
   ]
  },
  {
   "cell_type": "markdown",
   "metadata": {},
   "source": [
    "### Mean Squared Error\n",
    "\n",
    "\n",
    "`mean_squared_error` <- Important to learn <a href=\"https://scikit-learn.org/stable/modules/generated/sklearn.metrics.mean_squared_error.html\">Documentation Link</a>"
   ]
  },
  {
   "cell_type": "code",
   "execution_count": 37,
   "metadata": {},
   "outputs": [
    {
     "data": {
      "text/plain": [
       "0.1999914965316433"
      ]
     },
     "execution_count": 37,
     "metadata": {},
     "output_type": "execute_result"
    }
   ],
   "source": [
    "from sklearn.metrics import mean_squared_error\n",
    "\n",
    "brain_predictions = lin_reg.predict(brain_prepared)\n",
    "lin_mse = mean_squared_error(brain_labels, brain_predictions)\n",
    "lin_rmse = np.sqrt(lin_mse)\n",
    "lin_rmse"
   ]
  },
  {
   "cell_type": "markdown",
   "metadata": {},
   "source": [
    "### Mean Absolute Error\n",
    "`mean_absolute_error` <- Important to learn <a href=\"https://scikit-learn.org/stable/modules/generated/sklearn.metrics.mean_absolute_error.html\">Documentation Link</a>"
   ]
  },
  {
   "cell_type": "code",
   "execution_count": 38,
   "metadata": {},
   "outputs": [
    {
     "data": {
      "text/plain": [
       "0.09949333795224095"
      ]
     },
     "execution_count": 38,
     "metadata": {},
     "output_type": "execute_result"
    }
   ],
   "source": [
    "from sklearn.metrics import mean_absolute_error\n",
    "\n",
    "lin_mae = mean_absolute_error(brain_labels, brain_predictions)\n",
    "lin_mae"
   ]
  },
  {
   "cell_type": "markdown",
   "metadata": {},
   "source": [
    "## Decision Tree Regressor\n"
   ]
  },
  {
   "cell_type": "code",
   "execution_count": 39,
   "metadata": {},
   "outputs": [
    {
     "data": {
      "text/plain": [
       "DecisionTreeRegressor(random_state=42)"
      ]
     },
     "execution_count": 39,
     "metadata": {},
     "output_type": "execute_result"
    }
   ],
   "source": [
    "from sklearn.tree import DecisionTreeRegressor\n",
    "tree_reg = DecisionTreeRegressor(random_state=42)\n",
    "tree_reg.fit(brain_prepared, brain_labels)"
   ]
  },
  {
   "cell_type": "code",
   "execution_count": 40,
   "metadata": {},
   "outputs": [
    {
     "data": {
      "text/plain": [
       "0.0"
      ]
     },
     "execution_count": 40,
     "metadata": {},
     "output_type": "execute_result"
    }
   ],
   "source": [
    "brain_predictions = tree_reg.predict(brain_prepared)\n",
    "tree_mse = mean_squared_error(brain_labels, brain_predictions)\n",
    "tree_rmse = np.sqrt(tree_mse)\n",
    "tree_rmse"
   ]
  },
  {
   "cell_type": "markdown",
   "metadata": {},
   "source": [
    "## Evaluation Using Cross-Validation\n",
    "`cross_val_score` <- Important to learn <a href=\"https://scikit-learn.org/stable/modules/generated/sklearn.model_selection.cross_val_score.html\">Documentation Link</a>"
   ]
  },
  {
   "cell_type": "code",
   "execution_count": 41,
   "metadata": {},
   "outputs": [],
   "source": [
    "from sklearn.model_selection import cross_val_score\n",
    "\n",
    "scores = cross_val_score(tree_reg, brain_prepared, brain_labels,\n",
    "                         scoring=\"neg_mean_squared_error\", cv=10)\n",
    "tree_rmse_scores = np.sqrt(-scores)"
   ]
  },
  {
   "cell_type": "code",
   "execution_count": 42,
   "metadata": {},
   "outputs": [
    {
     "name": "stdout",
     "output_type": "stream",
     "text": [
      "Scores: [0.27420425 0.28758784 0.30451901 0.29617444 0.29227921 0.26993392\n",
      " 0.30490134 0.27454851 0.32485018 0.30075282]\n",
      "Mean: 0.29297515197920626\n",
      "Standard deviation: 0.016169518285642084\n"
     ]
    }
   ],
   "source": [
    "def display_scores(scores):\n",
    "    print(\"Scores:\", scores)\n",
    "    print(\"Mean:\", scores.mean())\n",
    "    print(\"Standard deviation:\", scores.std())\n",
    "\n",
    "display_scores(tree_rmse_scores)"
   ]
  },
  {
   "cell_type": "code",
   "execution_count": 43,
   "metadata": {},
   "outputs": [
    {
     "name": "stdout",
     "output_type": "stream",
     "text": [
      "Scores: [0.22991578 0.20961226 0.22971556 0.20512575 0.23341837 0.21552402\n",
      " 0.21804296 0.22046638 0.23787548 0.19625421]\n",
      "Mean: 0.2195950749302527\n",
      "Standard deviation: 0.012679722867057848\n"
     ]
    }
   ],
   "source": [
    "lin_scores = cross_val_score(lin_reg, brain_prepared, brain_labels,\n",
    "                             scoring=\"neg_mean_squared_error\", cv=10)\n",
    "lin_rmse_scores = np.sqrt(-lin_scores)\n",
    "display_scores(lin_rmse_scores)"
   ]
  },
  {
   "cell_type": "markdown",
   "metadata": {},
   "source": [
    "## Random Forest Regressor"
   ]
  },
  {
   "cell_type": "code",
   "execution_count": 44,
   "metadata": {},
   "outputs": [
    {
     "data": {
      "text/plain": [
       "RandomForestRegressor(random_state=42)"
      ]
     },
     "execution_count": 44,
     "metadata": {},
     "output_type": "execute_result"
    }
   ],
   "source": [
    "from sklearn.ensemble import RandomForestRegressor\n",
    "\n",
    "forest_reg = RandomForestRegressor(n_estimators=100, random_state=42)\n",
    "forest_reg.fit(brain_prepared, brain_labels)"
   ]
  },
  {
   "cell_type": "code",
   "execution_count": 45,
   "metadata": {},
   "outputs": [
    {
     "data": {
      "text/plain": [
       "0.08549510307966421"
      ]
     },
     "execution_count": 45,
     "metadata": {},
     "output_type": "execute_result"
    }
   ],
   "source": [
    "brain_predictions = forest_reg.predict(brain_prepared)\n",
    "forest_mse = mean_squared_error(brain_labels, brain_predictions)\n",
    "forest_rmse = np.sqrt(forest_mse)\n",
    "forest_rmse"
   ]
  },
  {
   "cell_type": "code",
   "execution_count": 46,
   "metadata": {},
   "outputs": [
    {
     "name": "stdout",
     "output_type": "stream",
     "text": [
      "Scores: [0.21997664 0.22221995 0.23896393 0.20719937 0.25283667 0.22870676\n",
      " 0.23183125 0.229394   0.24674413 0.22228202]\n",
      "Mean: 0.23001547216470491\n",
      "Standard deviation: 0.012759525372558705\n"
     ]
    }
   ],
   "source": [
    "from sklearn.model_selection import cross_val_score\n",
    "\n",
    "forest_scores = cross_val_score(forest_reg, brain_prepared, brain_labels,\n",
    "                                scoring=\"neg_mean_squared_error\", cv=10)\n",
    "forest_rmse_scores = np.sqrt(-forest_scores)\n",
    "display_scores(forest_rmse_scores)"
   ]
  },
  {
   "cell_type": "code",
   "execution_count": 47,
   "metadata": {},
   "outputs": [
    {
     "data": {
      "text/plain": [
       "count    10.000000\n",
       "mean      0.219595\n",
       "std       0.013366\n",
       "min       0.196254\n",
       "25%       0.211090\n",
       "50%       0.219255\n",
       "75%       0.229866\n",
       "max       0.237875\n",
       "dtype: float64"
      ]
     },
     "execution_count": 47,
     "metadata": {},
     "output_type": "execute_result"
    }
   ],
   "source": [
    "scores = cross_val_score(lin_reg, brain_prepared, brain_labels, scoring=\"neg_mean_squared_error\", cv=10)\n",
    "pd.Series(np.sqrt(-scores)).describe()"
   ]
  },
  {
   "cell_type": "markdown",
   "metadata": {},
   "source": [
    "## Support Vector Regression"
   ]
  },
  {
   "cell_type": "code",
   "execution_count": 48,
   "metadata": {},
   "outputs": [
    {
     "data": {
      "text/plain": [
       "0.22128699995783932"
      ]
     },
     "execution_count": 48,
     "metadata": {},
     "output_type": "execute_result"
    }
   ],
   "source": [
    "from sklearn.svm import SVR\n",
    "\n",
    "svm_reg = SVR(kernel=\"linear\")\n",
    "svm_reg.fit(brain_prepared, brain_labels)\n",
    "brain_predictions = svm_reg.predict(brain_prepared)\n",
    "svm_mse = mean_squared_error(brain_labels, brain_predictions)\n",
    "svm_rmse = np.sqrt(svm_mse)\n",
    "svm_rmse"
   ]
  },
  {
   "cell_type": "markdown",
   "metadata": {},
   "source": [
    "# Fine-Tune Your Model"
   ]
  },
  {
   "cell_type": "markdown",
   "metadata": {},
   "source": [
    "## Grid Search\n",
    "One option would be to try to tune the hyperparameters manually, until you find a great combination of hyperparameter values. Instead, you can use Scikit-Learn’s GridSearchCV to optimize hyperparameters for you. \n",
    "\n",
    "\n",
    "`GridSearchCV` <- Important to learn <a href=\"https://scikit-learn.org/stable/modules/generated/sklearn.model_selection.GridSearchCV.html\">Documentation Link</a>"
   ]
  },
  {
   "cell_type": "code",
   "execution_count": 49,
   "metadata": {},
   "outputs": [
    {
     "data": {
      "text/plain": [
       "GridSearchCV(cv=5, estimator=RandomForestRegressor(random_state=42),\n",
       "             param_grid=[{'max_features': [2, 4, 6, 8],\n",
       "                          'n_estimators': [3, 10, 30]},\n",
       "                         {'bootstrap': [False], 'max_features': [2, 3, 4],\n",
       "                          'n_estimators': [3, 10]}],\n",
       "             return_train_score=True, scoring='neg_mean_squared_error')"
      ]
     },
     "execution_count": 49,
     "metadata": {},
     "output_type": "execute_result"
    }
   ],
   "source": [
    "from sklearn.model_selection import GridSearchCV\n",
    "\n",
    "param_grid = [\n",
    "    # try 12 (3×4) combinations of hyperparameters\n",
    "    {'n_estimators': [3, 10, 30], 'max_features': [2, 4, 6, 8]},\n",
    "    # then try 6 (2×3) combinations with bootstrap set as False\n",
    "    {'bootstrap': [False], 'n_estimators': [3, 10], 'max_features': [2, 3, 4]},\n",
    "  ]\n",
    "\n",
    "forest_reg = RandomForestRegressor(random_state=42)\n",
    "# train across 5 folds, that's a total of (12+6)*5=90 rounds of training \n",
    "grid_search = GridSearchCV(forest_reg, param_grid, cv=5,\n",
    "                           scoring='neg_mean_squared_error',\n",
    "                           return_train_score=True)\n",
    "grid_search.fit(brain_prepared, brain_labels)"
   ]
  },
  {
   "cell_type": "code",
   "execution_count": 50,
   "metadata": {},
   "outputs": [
    {
     "data": {
      "text/plain": [
       "{'max_features': 4, 'n_estimators': 30}"
      ]
     },
     "execution_count": 50,
     "metadata": {},
     "output_type": "execute_result"
    }
   ],
   "source": [
    "grid_search.best_params_"
   ]
  },
  {
   "cell_type": "code",
   "execution_count": 51,
   "metadata": {},
   "outputs": [
    {
     "data": {
      "text/plain": [
       "RandomForestRegressor(max_features=4, n_estimators=30, random_state=42)"
      ]
     },
     "execution_count": 51,
     "metadata": {},
     "output_type": "execute_result"
    }
   ],
   "source": [
    "grid_search.best_estimator_"
   ]
  },
  {
   "cell_type": "code",
   "execution_count": 52,
   "metadata": {},
   "outputs": [
    {
     "name": "stdout",
     "output_type": "stream",
     "text": [
      "0.24464580947648548 {'max_features': 2, 'n_estimators': 3}\n",
      "0.2253958489293653 {'max_features': 2, 'n_estimators': 10}\n",
      "0.21848343247652596 {'max_features': 2, 'n_estimators': 30}\n",
      "0.24108459378203068 {'max_features': 4, 'n_estimators': 3}\n",
      "0.22133953259926384 {'max_features': 4, 'n_estimators': 10}\n",
      "0.2153524996921744 {'max_features': 4, 'n_estimators': 30}\n",
      "0.2506159627354553 {'max_features': 6, 'n_estimators': 3}\n",
      "0.2251630403374884 {'max_features': 6, 'n_estimators': 10}\n",
      "0.21794017455131676 {'max_features': 6, 'n_estimators': 30}\n",
      "0.24469835040548168 {'max_features': 8, 'n_estimators': 3}\n",
      "0.22567287246668308 {'max_features': 8, 'n_estimators': 10}\n",
      "0.21886679952356977 {'max_features': 8, 'n_estimators': 30}\n",
      "0.24804198745241052 {'bootstrap': False, 'max_features': 2, 'n_estimators': 3}\n",
      "0.2289102879423566 {'bootstrap': False, 'max_features': 2, 'n_estimators': 10}\n",
      "0.24843292459984045 {'bootstrap': False, 'max_features': 3, 'n_estimators': 3}\n",
      "0.2301068499066853 {'bootstrap': False, 'max_features': 3, 'n_estimators': 10}\n",
      "0.24401730687747383 {'bootstrap': False, 'max_features': 4, 'n_estimators': 3}\n",
      "0.2268783314752412 {'bootstrap': False, 'max_features': 4, 'n_estimators': 10}\n"
     ]
    }
   ],
   "source": [
    "cvres = grid_search.cv_results_\n",
    "for mean_score, params in zip(cvres[\"mean_test_score\"], cvres[\"params\"]):\n",
    "    print(np.sqrt(-mean_score), params)"
   ]
  },
  {
   "cell_type": "code",
   "execution_count": 53,
   "metadata": {
    "scrolled": true
   },
   "outputs": [
    {
     "data": {
      "text/html": [
       "<div>\n",
       "<style scoped>\n",
       "    .dataframe tbody tr th:only-of-type {\n",
       "        vertical-align: middle;\n",
       "    }\n",
       "\n",
       "    .dataframe tbody tr th {\n",
       "        vertical-align: top;\n",
       "    }\n",
       "\n",
       "    .dataframe thead th {\n",
       "        text-align: right;\n",
       "    }\n",
       "</style>\n",
       "<table border=\"1\" class=\"dataframe\">\n",
       "  <thead>\n",
       "    <tr style=\"text-align: right;\">\n",
       "      <th></th>\n",
       "      <th>mean_fit_time</th>\n",
       "      <th>std_fit_time</th>\n",
       "      <th>mean_score_time</th>\n",
       "      <th>std_score_time</th>\n",
       "      <th>param_max_features</th>\n",
       "      <th>param_n_estimators</th>\n",
       "      <th>param_bootstrap</th>\n",
       "      <th>params</th>\n",
       "      <th>split0_test_score</th>\n",
       "      <th>split1_test_score</th>\n",
       "      <th>...</th>\n",
       "      <th>mean_test_score</th>\n",
       "      <th>std_test_score</th>\n",
       "      <th>rank_test_score</th>\n",
       "      <th>split0_train_score</th>\n",
       "      <th>split1_train_score</th>\n",
       "      <th>split2_train_score</th>\n",
       "      <th>split3_train_score</th>\n",
       "      <th>split4_train_score</th>\n",
       "      <th>mean_train_score</th>\n",
       "      <th>std_train_score</th>\n",
       "    </tr>\n",
       "  </thead>\n",
       "  <tbody>\n",
       "    <tr>\n",
       "      <th>0</th>\n",
       "      <td>0.019744</td>\n",
       "      <td>0.000492</td>\n",
       "      <td>0.002071</td>\n",
       "      <td>0.000119</td>\n",
       "      <td>2</td>\n",
       "      <td>3</td>\n",
       "      <td>NaN</td>\n",
       "      <td>{'max_features': 2, 'n_estimators': 3}</td>\n",
       "      <td>-0.056601</td>\n",
       "      <td>-0.059389</td>\n",
       "      <td>...</td>\n",
       "      <td>-0.059852</td>\n",
       "      <td>0.004902</td>\n",
       "      <td>14</td>\n",
       "      <td>-0.014922</td>\n",
       "      <td>-0.014294</td>\n",
       "      <td>-0.014399</td>\n",
       "      <td>-0.013806</td>\n",
       "      <td>-0.014150</td>\n",
       "      <td>-0.014314</td>\n",
       "      <td>0.000364</td>\n",
       "    </tr>\n",
       "    <tr>\n",
       "      <th>1</th>\n",
       "      <td>0.060094</td>\n",
       "      <td>0.001464</td>\n",
       "      <td>0.004845</td>\n",
       "      <td>0.000184</td>\n",
       "      <td>2</td>\n",
       "      <td>10</td>\n",
       "      <td>NaN</td>\n",
       "      <td>{'max_features': 2, 'n_estimators': 10}</td>\n",
       "      <td>-0.047227</td>\n",
       "      <td>-0.049297</td>\n",
       "      <td>...</td>\n",
       "      <td>-0.050803</td>\n",
       "      <td>0.002727</td>\n",
       "      <td>7</td>\n",
       "      <td>-0.009727</td>\n",
       "      <td>-0.008805</td>\n",
       "      <td>-0.008221</td>\n",
       "      <td>-0.008431</td>\n",
       "      <td>-0.008485</td>\n",
       "      <td>-0.008734</td>\n",
       "      <td>0.000531</td>\n",
       "    </tr>\n",
       "    <tr>\n",
       "      <th>2</th>\n",
       "      <td>0.175699</td>\n",
       "      <td>0.002985</td>\n",
       "      <td>0.013023</td>\n",
       "      <td>0.001494</td>\n",
       "      <td>2</td>\n",
       "      <td>30</td>\n",
       "      <td>NaN</td>\n",
       "      <td>{'max_features': 2, 'n_estimators': 30}</td>\n",
       "      <td>-0.046537</td>\n",
       "      <td>-0.045709</td>\n",
       "      <td>...</td>\n",
       "      <td>-0.047735</td>\n",
       "      <td>0.002535</td>\n",
       "      <td>3</td>\n",
       "      <td>-0.007288</td>\n",
       "      <td>-0.007230</td>\n",
       "      <td>-0.007032</td>\n",
       "      <td>-0.006897</td>\n",
       "      <td>-0.006952</td>\n",
       "      <td>-0.007080</td>\n",
       "      <td>0.000154</td>\n",
       "    </tr>\n",
       "    <tr>\n",
       "      <th>3</th>\n",
       "      <td>0.021457</td>\n",
       "      <td>0.001387</td>\n",
       "      <td>0.002436</td>\n",
       "      <td>0.000234</td>\n",
       "      <td>4</td>\n",
       "      <td>3</td>\n",
       "      <td>NaN</td>\n",
       "      <td>{'max_features': 4, 'n_estimators': 3}</td>\n",
       "      <td>-0.057159</td>\n",
       "      <td>-0.056462</td>\n",
       "      <td>...</td>\n",
       "      <td>-0.058122</td>\n",
       "      <td>0.003757</td>\n",
       "      <td>12</td>\n",
       "      <td>-0.016316</td>\n",
       "      <td>-0.016107</td>\n",
       "      <td>-0.013179</td>\n",
       "      <td>-0.013179</td>\n",
       "      <td>-0.014325</td>\n",
       "      <td>-0.014621</td>\n",
       "      <td>0.001366</td>\n",
       "    </tr>\n",
       "    <tr>\n",
       "      <th>4</th>\n",
       "      <td>0.063731</td>\n",
       "      <td>0.002860</td>\n",
       "      <td>0.004272</td>\n",
       "      <td>0.000255</td>\n",
       "      <td>4</td>\n",
       "      <td>10</td>\n",
       "      <td>NaN</td>\n",
       "      <td>{'max_features': 4, 'n_estimators': 10}</td>\n",
       "      <td>-0.047240</td>\n",
       "      <td>-0.046161</td>\n",
       "      <td>...</td>\n",
       "      <td>-0.048991</td>\n",
       "      <td>0.003348</td>\n",
       "      <td>5</td>\n",
       "      <td>-0.009366</td>\n",
       "      <td>-0.009307</td>\n",
       "      <td>-0.008089</td>\n",
       "      <td>-0.008513</td>\n",
       "      <td>-0.008287</td>\n",
       "      <td>-0.008712</td>\n",
       "      <td>0.000527</td>\n",
       "    </tr>\n",
       "    <tr>\n",
       "      <th>5</th>\n",
       "      <td>0.209690</td>\n",
       "      <td>0.011999</td>\n",
       "      <td>0.012854</td>\n",
       "      <td>0.002057</td>\n",
       "      <td>4</td>\n",
       "      <td>30</td>\n",
       "      <td>NaN</td>\n",
       "      <td>{'max_features': 4, 'n_estimators': 30}</td>\n",
       "      <td>-0.044969</td>\n",
       "      <td>-0.043448</td>\n",
       "      <td>...</td>\n",
       "      <td>-0.046377</td>\n",
       "      <td>0.002950</td>\n",
       "      <td>1</td>\n",
       "      <td>-0.007458</td>\n",
       "      <td>-0.007393</td>\n",
       "      <td>-0.006891</td>\n",
       "      <td>-0.007019</td>\n",
       "      <td>-0.006881</td>\n",
       "      <td>-0.007128</td>\n",
       "      <td>0.000248</td>\n",
       "    </tr>\n",
       "    <tr>\n",
       "      <th>6</th>\n",
       "      <td>0.020455</td>\n",
       "      <td>0.001794</td>\n",
       "      <td>0.002018</td>\n",
       "      <td>0.000425</td>\n",
       "      <td>6</td>\n",
       "      <td>3</td>\n",
       "      <td>NaN</td>\n",
       "      <td>{'max_features': 6, 'n_estimators': 3}</td>\n",
       "      <td>-0.062875</td>\n",
       "      <td>-0.059111</td>\n",
       "      <td>...</td>\n",
       "      <td>-0.062808</td>\n",
       "      <td>0.003379</td>\n",
       "      <td>18</td>\n",
       "      <td>-0.016560</td>\n",
       "      <td>-0.015480</td>\n",
       "      <td>-0.013144</td>\n",
       "      <td>-0.013701</td>\n",
       "      <td>-0.014220</td>\n",
       "      <td>-0.014621</td>\n",
       "      <td>0.001240</td>\n",
       "    </tr>\n",
       "    <tr>\n",
       "      <th>7</th>\n",
       "      <td>0.061980</td>\n",
       "      <td>0.002018</td>\n",
       "      <td>0.003918</td>\n",
       "      <td>0.000308</td>\n",
       "      <td>6</td>\n",
       "      <td>10</td>\n",
       "      <td>NaN</td>\n",
       "      <td>{'max_features': 6, 'n_estimators': 10}</td>\n",
       "      <td>-0.048959</td>\n",
       "      <td>-0.048971</td>\n",
       "      <td>...</td>\n",
       "      <td>-0.050698</td>\n",
       "      <td>0.001730</td>\n",
       "      <td>6</td>\n",
       "      <td>-0.009853</td>\n",
       "      <td>-0.008987</td>\n",
       "      <td>-0.008033</td>\n",
       "      <td>-0.008230</td>\n",
       "      <td>-0.008595</td>\n",
       "      <td>-0.008739</td>\n",
       "      <td>0.000645</td>\n",
       "    </tr>\n",
       "    <tr>\n",
       "      <th>8</th>\n",
       "      <td>0.186887</td>\n",
       "      <td>0.003646</td>\n",
       "      <td>0.009218</td>\n",
       "      <td>0.000352</td>\n",
       "      <td>6</td>\n",
       "      <td>30</td>\n",
       "      <td>NaN</td>\n",
       "      <td>{'max_features': 6, 'n_estimators': 30}</td>\n",
       "      <td>-0.045426</td>\n",
       "      <td>-0.045221</td>\n",
       "      <td>...</td>\n",
       "      <td>-0.047498</td>\n",
       "      <td>0.002340</td>\n",
       "      <td>2</td>\n",
       "      <td>-0.007337</td>\n",
       "      <td>-0.007353</td>\n",
       "      <td>-0.007092</td>\n",
       "      <td>-0.007025</td>\n",
       "      <td>-0.006946</td>\n",
       "      <td>-0.007151</td>\n",
       "      <td>0.000165</td>\n",
       "    </tr>\n",
       "    <tr>\n",
       "      <th>9</th>\n",
       "      <td>0.022545</td>\n",
       "      <td>0.001721</td>\n",
       "      <td>0.001985</td>\n",
       "      <td>0.000202</td>\n",
       "      <td>8</td>\n",
       "      <td>3</td>\n",
       "      <td>NaN</td>\n",
       "      <td>{'max_features': 8, 'n_estimators': 3}</td>\n",
       "      <td>-0.062875</td>\n",
       "      <td>-0.055486</td>\n",
       "      <td>...</td>\n",
       "      <td>-0.059877</td>\n",
       "      <td>0.004352</td>\n",
       "      <td>15</td>\n",
       "      <td>-0.015968</td>\n",
       "      <td>-0.014678</td>\n",
       "      <td>-0.012063</td>\n",
       "      <td>-0.014190</td>\n",
       "      <td>-0.013976</td>\n",
       "      <td>-0.014175</td>\n",
       "      <td>0.001262</td>\n",
       "    </tr>\n",
       "    <tr>\n",
       "      <th>10</th>\n",
       "      <td>0.070163</td>\n",
       "      <td>0.005370</td>\n",
       "      <td>0.003889</td>\n",
       "      <td>0.000380</td>\n",
       "      <td>8</td>\n",
       "      <td>10</td>\n",
       "      <td>NaN</td>\n",
       "      <td>{'max_features': 8, 'n_estimators': 10}</td>\n",
       "      <td>-0.052359</td>\n",
       "      <td>-0.047616</td>\n",
       "      <td>...</td>\n",
       "      <td>-0.050928</td>\n",
       "      <td>0.003447</td>\n",
       "      <td>8</td>\n",
       "      <td>-0.009288</td>\n",
       "      <td>-0.008597</td>\n",
       "      <td>-0.007885</td>\n",
       "      <td>-0.008525</td>\n",
       "      <td>-0.008356</td>\n",
       "      <td>-0.008530</td>\n",
       "      <td>0.000453</td>\n",
       "    </tr>\n",
       "    <tr>\n",
       "      <th>11</th>\n",
       "      <td>0.199125</td>\n",
       "      <td>0.019393</td>\n",
       "      <td>0.008630</td>\n",
       "      <td>0.000339</td>\n",
       "      <td>8</td>\n",
       "      <td>30</td>\n",
       "      <td>NaN</td>\n",
       "      <td>{'max_features': 8, 'n_estimators': 30}</td>\n",
       "      <td>-0.047130</td>\n",
       "      <td>-0.045136</td>\n",
       "      <td>...</td>\n",
       "      <td>-0.047903</td>\n",
       "      <td>0.002593</td>\n",
       "      <td>4</td>\n",
       "      <td>-0.007108</td>\n",
       "      <td>-0.007221</td>\n",
       "      <td>-0.006765</td>\n",
       "      <td>-0.007121</td>\n",
       "      <td>-0.006973</td>\n",
       "      <td>-0.007038</td>\n",
       "      <td>0.000158</td>\n",
       "    </tr>\n",
       "    <tr>\n",
       "      <th>12</th>\n",
       "      <td>0.026554</td>\n",
       "      <td>0.002288</td>\n",
       "      <td>0.002436</td>\n",
       "      <td>0.000289</td>\n",
       "      <td>2</td>\n",
       "      <td>3</td>\n",
       "      <td>False</td>\n",
       "      <td>{'bootstrap': False, 'max_features': 2, 'n_est...</td>\n",
       "      <td>-0.058692</td>\n",
       "      <td>-0.057159</td>\n",
       "      <td>...</td>\n",
       "      <td>-0.061525</td>\n",
       "      <td>0.003568</td>\n",
       "      <td>16</td>\n",
       "      <td>-0.000000</td>\n",
       "      <td>-0.000000</td>\n",
       "      <td>-0.000000</td>\n",
       "      <td>-0.000000</td>\n",
       "      <td>-0.000000</td>\n",
       "      <td>0.000000</td>\n",
       "      <td>0.000000</td>\n",
       "    </tr>\n",
       "    <tr>\n",
       "      <th>13</th>\n",
       "      <td>0.082661</td>\n",
       "      <td>0.003693</td>\n",
       "      <td>0.005171</td>\n",
       "      <td>0.000231</td>\n",
       "      <td>2</td>\n",
       "      <td>10</td>\n",
       "      <td>False</td>\n",
       "      <td>{'bootstrap': False, 'max_features': 2, 'n_est...</td>\n",
       "      <td>-0.048432</td>\n",
       "      <td>-0.050201</td>\n",
       "      <td>...</td>\n",
       "      <td>-0.052400</td>\n",
       "      <td>0.003166</td>\n",
       "      <td>10</td>\n",
       "      <td>-0.000000</td>\n",
       "      <td>-0.000000</td>\n",
       "      <td>-0.000000</td>\n",
       "      <td>-0.000000</td>\n",
       "      <td>-0.000000</td>\n",
       "      <td>0.000000</td>\n",
       "      <td>0.000000</td>\n",
       "    </tr>\n",
       "    <tr>\n",
       "      <th>14</th>\n",
       "      <td>0.026870</td>\n",
       "      <td>0.001490</td>\n",
       "      <td>0.002392</td>\n",
       "      <td>0.000165</td>\n",
       "      <td>3</td>\n",
       "      <td>3</td>\n",
       "      <td>False</td>\n",
       "      <td>{'bootstrap': False, 'max_features': 3, 'n_est...</td>\n",
       "      <td>-0.057438</td>\n",
       "      <td>-0.060086</td>\n",
       "      <td>...</td>\n",
       "      <td>-0.061719</td>\n",
       "      <td>0.005415</td>\n",
       "      <td>17</td>\n",
       "      <td>-0.000000</td>\n",
       "      <td>-0.000000</td>\n",
       "      <td>-0.000000</td>\n",
       "      <td>-0.000000</td>\n",
       "      <td>-0.000000</td>\n",
       "      <td>0.000000</td>\n",
       "      <td>0.000000</td>\n",
       "    </tr>\n",
       "    <tr>\n",
       "      <th>15</th>\n",
       "      <td>0.086065</td>\n",
       "      <td>0.002748</td>\n",
       "      <td>0.005534</td>\n",
       "      <td>0.000570</td>\n",
       "      <td>3</td>\n",
       "      <td>10</td>\n",
       "      <td>False</td>\n",
       "      <td>{'bootstrap': False, 'max_features': 3, 'n_est...</td>\n",
       "      <td>-0.049749</td>\n",
       "      <td>-0.052033</td>\n",
       "      <td>...</td>\n",
       "      <td>-0.052949</td>\n",
       "      <td>0.004116</td>\n",
       "      <td>11</td>\n",
       "      <td>-0.000000</td>\n",
       "      <td>-0.000000</td>\n",
       "      <td>-0.000000</td>\n",
       "      <td>-0.000000</td>\n",
       "      <td>-0.000000</td>\n",
       "      <td>0.000000</td>\n",
       "      <td>0.000000</td>\n",
       "    </tr>\n",
       "    <tr>\n",
       "      <th>16</th>\n",
       "      <td>0.026891</td>\n",
       "      <td>0.000423</td>\n",
       "      <td>0.002157</td>\n",
       "      <td>0.000169</td>\n",
       "      <td>4</td>\n",
       "      <td>3</td>\n",
       "      <td>False</td>\n",
       "      <td>{'bootstrap': False, 'max_features': 4, 'n_est...</td>\n",
       "      <td>-0.056880</td>\n",
       "      <td>-0.058832</td>\n",
       "      <td>...</td>\n",
       "      <td>-0.059544</td>\n",
       "      <td>0.002328</td>\n",
       "      <td>13</td>\n",
       "      <td>-0.000000</td>\n",
       "      <td>-0.000000</td>\n",
       "      <td>-0.000000</td>\n",
       "      <td>-0.000000</td>\n",
       "      <td>-0.000000</td>\n",
       "      <td>0.000000</td>\n",
       "      <td>0.000000</td>\n",
       "    </tr>\n",
       "    <tr>\n",
       "      <th>17</th>\n",
       "      <td>0.083738</td>\n",
       "      <td>0.004263</td>\n",
       "      <td>0.004761</td>\n",
       "      <td>0.000944</td>\n",
       "      <td>4</td>\n",
       "      <td>10</td>\n",
       "      <td>False</td>\n",
       "      <td>{'bootstrap': False, 'max_features': 4, 'n_est...</td>\n",
       "      <td>-0.049297</td>\n",
       "      <td>-0.051844</td>\n",
       "      <td>...</td>\n",
       "      <td>-0.051474</td>\n",
       "      <td>0.002379</td>\n",
       "      <td>9</td>\n",
       "      <td>-0.000000</td>\n",
       "      <td>-0.000000</td>\n",
       "      <td>-0.000000</td>\n",
       "      <td>-0.000000</td>\n",
       "      <td>-0.000000</td>\n",
       "      <td>0.000000</td>\n",
       "      <td>0.000000</td>\n",
       "    </tr>\n",
       "  </tbody>\n",
       "</table>\n",
       "<p>18 rows × 23 columns</p>\n",
       "</div>"
      ],
      "text/plain": [
       "    mean_fit_time  std_fit_time  mean_score_time  std_score_time  \\\n",
       "0        0.019744      0.000492         0.002071        0.000119   \n",
       "1        0.060094      0.001464         0.004845        0.000184   \n",
       "2        0.175699      0.002985         0.013023        0.001494   \n",
       "3        0.021457      0.001387         0.002436        0.000234   \n",
       "4        0.063731      0.002860         0.004272        0.000255   \n",
       "5        0.209690      0.011999         0.012854        0.002057   \n",
       "6        0.020455      0.001794         0.002018        0.000425   \n",
       "7        0.061980      0.002018         0.003918        0.000308   \n",
       "8        0.186887      0.003646         0.009218        0.000352   \n",
       "9        0.022545      0.001721         0.001985        0.000202   \n",
       "10       0.070163      0.005370         0.003889        0.000380   \n",
       "11       0.199125      0.019393         0.008630        0.000339   \n",
       "12       0.026554      0.002288         0.002436        0.000289   \n",
       "13       0.082661      0.003693         0.005171        0.000231   \n",
       "14       0.026870      0.001490         0.002392        0.000165   \n",
       "15       0.086065      0.002748         0.005534        0.000570   \n",
       "16       0.026891      0.000423         0.002157        0.000169   \n",
       "17       0.083738      0.004263         0.004761        0.000944   \n",
       "\n",
       "   param_max_features param_n_estimators param_bootstrap  \\\n",
       "0                   2                  3             NaN   \n",
       "1                   2                 10             NaN   \n",
       "2                   2                 30             NaN   \n",
       "3                   4                  3             NaN   \n",
       "4                   4                 10             NaN   \n",
       "5                   4                 30             NaN   \n",
       "6                   6                  3             NaN   \n",
       "7                   6                 10             NaN   \n",
       "8                   6                 30             NaN   \n",
       "9                   8                  3             NaN   \n",
       "10                  8                 10             NaN   \n",
       "11                  8                 30             NaN   \n",
       "12                  2                  3           False   \n",
       "13                  2                 10           False   \n",
       "14                  3                  3           False   \n",
       "15                  3                 10           False   \n",
       "16                  4                  3           False   \n",
       "17                  4                 10           False   \n",
       "\n",
       "                                               params  split0_test_score  \\\n",
       "0              {'max_features': 2, 'n_estimators': 3}          -0.056601   \n",
       "1             {'max_features': 2, 'n_estimators': 10}          -0.047227   \n",
       "2             {'max_features': 2, 'n_estimators': 30}          -0.046537   \n",
       "3              {'max_features': 4, 'n_estimators': 3}          -0.057159   \n",
       "4             {'max_features': 4, 'n_estimators': 10}          -0.047240   \n",
       "5             {'max_features': 4, 'n_estimators': 30}          -0.044969   \n",
       "6              {'max_features': 6, 'n_estimators': 3}          -0.062875   \n",
       "7             {'max_features': 6, 'n_estimators': 10}          -0.048959   \n",
       "8             {'max_features': 6, 'n_estimators': 30}          -0.045426   \n",
       "9              {'max_features': 8, 'n_estimators': 3}          -0.062875   \n",
       "10            {'max_features': 8, 'n_estimators': 10}          -0.052359   \n",
       "11            {'max_features': 8, 'n_estimators': 30}          -0.047130   \n",
       "12  {'bootstrap': False, 'max_features': 2, 'n_est...          -0.058692   \n",
       "13  {'bootstrap': False, 'max_features': 2, 'n_est...          -0.048432   \n",
       "14  {'bootstrap': False, 'max_features': 3, 'n_est...          -0.057438   \n",
       "15  {'bootstrap': False, 'max_features': 3, 'n_est...          -0.049749   \n",
       "16  {'bootstrap': False, 'max_features': 4, 'n_est...          -0.056880   \n",
       "17  {'bootstrap': False, 'max_features': 4, 'n_est...          -0.049297   \n",
       "\n",
       "    split1_test_score  ...  mean_test_score  std_test_score  rank_test_score  \\\n",
       "0           -0.059389  ...        -0.059852        0.004902               14   \n",
       "1           -0.049297  ...        -0.050803        0.002727                7   \n",
       "2           -0.045709  ...        -0.047735        0.002535                3   \n",
       "3           -0.056462  ...        -0.058122        0.003757               12   \n",
       "4           -0.046161  ...        -0.048991        0.003348                5   \n",
       "5           -0.043448  ...        -0.046377        0.002950                1   \n",
       "6           -0.059111  ...        -0.062808        0.003379               18   \n",
       "7           -0.048971  ...        -0.050698        0.001730                6   \n",
       "8           -0.045221  ...        -0.047498        0.002340                2   \n",
       "9           -0.055486  ...        -0.059877        0.004352               15   \n",
       "10          -0.047616  ...        -0.050928        0.003447                8   \n",
       "11          -0.045136  ...        -0.047903        0.002593                4   \n",
       "12          -0.057159  ...        -0.061525        0.003568               16   \n",
       "13          -0.050201  ...        -0.052400        0.003166               10   \n",
       "14          -0.060086  ...        -0.061719        0.005415               17   \n",
       "15          -0.052033  ...        -0.052949        0.004116               11   \n",
       "16          -0.058832  ...        -0.059544        0.002328               13   \n",
       "17          -0.051844  ...        -0.051474        0.002379                9   \n",
       "\n",
       "    split0_train_score  split1_train_score  split2_train_score  \\\n",
       "0            -0.014922           -0.014294           -0.014399   \n",
       "1            -0.009727           -0.008805           -0.008221   \n",
       "2            -0.007288           -0.007230           -0.007032   \n",
       "3            -0.016316           -0.016107           -0.013179   \n",
       "4            -0.009366           -0.009307           -0.008089   \n",
       "5            -0.007458           -0.007393           -0.006891   \n",
       "6            -0.016560           -0.015480           -0.013144   \n",
       "7            -0.009853           -0.008987           -0.008033   \n",
       "8            -0.007337           -0.007353           -0.007092   \n",
       "9            -0.015968           -0.014678           -0.012063   \n",
       "10           -0.009288           -0.008597           -0.007885   \n",
       "11           -0.007108           -0.007221           -0.006765   \n",
       "12           -0.000000           -0.000000           -0.000000   \n",
       "13           -0.000000           -0.000000           -0.000000   \n",
       "14           -0.000000           -0.000000           -0.000000   \n",
       "15           -0.000000           -0.000000           -0.000000   \n",
       "16           -0.000000           -0.000000           -0.000000   \n",
       "17           -0.000000           -0.000000           -0.000000   \n",
       "\n",
       "    split3_train_score  split4_train_score  mean_train_score  std_train_score  \n",
       "0            -0.013806           -0.014150         -0.014314         0.000364  \n",
       "1            -0.008431           -0.008485         -0.008734         0.000531  \n",
       "2            -0.006897           -0.006952         -0.007080         0.000154  \n",
       "3            -0.013179           -0.014325         -0.014621         0.001366  \n",
       "4            -0.008513           -0.008287         -0.008712         0.000527  \n",
       "5            -0.007019           -0.006881         -0.007128         0.000248  \n",
       "6            -0.013701           -0.014220         -0.014621         0.001240  \n",
       "7            -0.008230           -0.008595         -0.008739         0.000645  \n",
       "8            -0.007025           -0.006946         -0.007151         0.000165  \n",
       "9            -0.014190           -0.013976         -0.014175         0.001262  \n",
       "10           -0.008525           -0.008356         -0.008530         0.000453  \n",
       "11           -0.007121           -0.006973         -0.007038         0.000158  \n",
       "12           -0.000000           -0.000000          0.000000         0.000000  \n",
       "13           -0.000000           -0.000000          0.000000         0.000000  \n",
       "14           -0.000000           -0.000000          0.000000         0.000000  \n",
       "15           -0.000000           -0.000000          0.000000         0.000000  \n",
       "16           -0.000000           -0.000000          0.000000         0.000000  \n",
       "17           -0.000000           -0.000000          0.000000         0.000000  \n",
       "\n",
       "[18 rows x 23 columns]"
      ]
     },
     "execution_count": 53,
     "metadata": {},
     "output_type": "execute_result"
    }
   ],
   "source": [
    "pd.DataFrame(grid_search.cv_results_)"
   ]
  },
  {
   "cell_type": "markdown",
   "metadata": {},
   "source": [
    "## Randomized Search\n",
    "\n",
    "The grid search approach is fine when you are exploring relatively few combinations, like in the previous example, but when the hyperparameter search space is large, it is often preferable to use RandomizedSearchCV instead."
   ]
  },
  {
   "cell_type": "code",
   "execution_count": 54,
   "metadata": {},
   "outputs": [
    {
     "data": {
      "text/plain": [
       "RandomizedSearchCV(cv=5, estimator=RandomForestRegressor(random_state=42),\n",
       "                   param_distributions={'max_features': <scipy.stats._distn_infrastructure.rv_frozen object at 0x7f5b44fc64c0>,\n",
       "                                        'n_estimators': <scipy.stats._distn_infrastructure.rv_frozen object at 0x7f5b44fd75b0>},\n",
       "                   random_state=42, scoring='neg_mean_squared_error')"
      ]
     },
     "execution_count": 54,
     "metadata": {},
     "output_type": "execute_result"
    }
   ],
   "source": [
    "from sklearn.model_selection import RandomizedSearchCV\n",
    "from scipy.stats import randint\n",
    "\n",
    "param_distribs = {\n",
    "        'n_estimators': randint(low=1, high=200),\n",
    "        'max_features': randint(low=1, high=8),\n",
    "    }\n",
    "\n",
    "forest_reg = RandomForestRegressor(random_state=42)\n",
    "rnd_search = RandomizedSearchCV(forest_reg, param_distributions=param_distribs,\n",
    "                                n_iter=10, cv=5, scoring='neg_mean_squared_error', random_state=42)\n",
    "rnd_search.fit(brain_prepared, brain_labels)"
   ]
  },
  {
   "cell_type": "code",
   "execution_count": 55,
   "metadata": {},
   "outputs": [
    {
     "name": "stdout",
     "output_type": "stream",
     "text": [
      "0.21487227922856264 {'max_features': 7, 'n_estimators': 180}\n",
      "0.21829302208687593 {'max_features': 5, 'n_estimators': 15}\n",
      "0.21639401502864064 {'max_features': 3, 'n_estimators': 72}\n",
      "0.21676503224988808 {'max_features': 5, 'n_estimators': 21}\n",
      "0.21513056917391585 {'max_features': 7, 'n_estimators': 122}\n",
      "0.21631266401479135 {'max_features': 3, 'n_estimators': 75}\n",
      "0.21621620488033597 {'max_features': 3, 'n_estimators': 88}\n",
      "0.2145017343853819 {'max_features': 5, 'n_estimators': 100}\n",
      "0.2152298440293145 {'max_features': 3, 'n_estimators': 150}\n",
      "0.250128117332992 {'max_features': 5, 'n_estimators': 2}\n"
     ]
    }
   ],
   "source": [
    "cvres = rnd_search.cv_results_\n",
    "for mean_score, params in zip(cvres[\"mean_test_score\"], cvres[\"params\"]):\n",
    "    print(np.sqrt(-mean_score), params)"
   ]
  },
  {
   "cell_type": "code",
   "execution_count": 56,
   "metadata": {},
   "outputs": [
    {
     "data": {
      "text/plain": [
       "array([1.85251392e-02, 1.14258704e-01, 2.47104736e-02, 1.48064125e-02,\n",
       "       1.37571387e-02, 1.09630547e-01, 5.69614140e-02, 4.30863931e-02,\n",
       "       1.10478736e-01, 9.68777786e-02, 1.02051192e-01, 8.50853700e-08,\n",
       "       1.87024603e-06, 2.93927958e-05, 6.14470412e-06, 9.62061249e-08,\n",
       "       9.90827556e-07, 7.58006807e-09, 1.59204092e-06, 0.00000000e+00,\n",
       "       1.33210474e-04, 5.24573440e-06, 2.27519144e-08, 1.02147937e-06,\n",
       "       0.00000000e+00, 2.67591757e-06, 6.82925393e-07, 2.28139277e-06,\n",
       "       3.62208571e-07, 1.15246616e-05, 1.72143925e-05, 1.32584659e-05,\n",
       "       2.78489167e-06, 1.01522341e-05, 2.06646840e-05, 9.29972016e-08,\n",
       "       9.07989998e-07, 4.57658655e-05, 5.91836469e-06, 2.04327214e-03,\n",
       "       1.90117749e-05, 8.64974946e-06, 2.51136201e-05, 3.92494077e-05,\n",
       "       7.94863780e-06, 1.34135637e-06, 1.91837991e-04, 1.34135970e-06,\n",
       "       8.89608618e-06, 2.41118354e-06, 1.89779401e-05, 1.02243314e-05,\n",
       "       5.39338923e-05, 3.09931493e-04, 7.55651346e-06, 7.37626584e-05,\n",
       "       1.79146338e-05, 1.15749238e-03, 9.26675445e-06, 1.25167624e-06,\n",
       "       1.15359484e-06, 8.99478385e-05, 8.68143668e-05, 3.19375614e-05,\n",
       "       1.57429714e-03, 2.02184184e-04, 2.26137323e-05, 6.91695492e-05,\n",
       "       3.11504669e-05, 1.01371778e-05, 3.24072265e-05, 1.04055730e-03,\n",
       "       6.74522992e-04, 1.18184307e-03, 5.82342874e-05, 3.41238238e-05,\n",
       "       7.53412611e-05, 8.30535115e-05, 6.63518090e-05, 1.15561398e-04,\n",
       "       1.09043242e-04, 1.18947554e-04, 2.44287178e-03, 7.53745132e-05,\n",
       "       3.68161869e-04, 6.63881796e-04, 2.11928753e-05, 1.20865785e-05,\n",
       "       1.43509970e-04, 3.05916177e-05, 3.00611030e-04, 1.41075350e-04,\n",
       "       2.37240945e-03, 7.59036956e-04, 1.57355880e-04, 6.87949699e-05,\n",
       "       2.31432762e-03, 1.48634607e-04, 1.08579391e-04, 1.11402841e-03,\n",
       "       2.66659664e-04, 8.77553178e-04, 4.47739210e-05, 1.48150382e-04,\n",
       "       1.40446141e-03, 1.97970196e-03, 4.31622047e-04, 1.48070514e-04,\n",
       "       1.26919933e-03, 1.28111081e-03, 2.98312503e-03, 3.69900217e-04,\n",
       "       1.31317975e-03, 5.22404462e-04, 2.15465777e-03, 4.13652777e-04,\n",
       "       1.35199843e-03, 7.63886568e-05, 3.71743066e-04, 5.41787103e-04,\n",
       "       1.61495029e-03, 1.68423316e-04, 1.26471707e-04, 1.87504136e-03,\n",
       "       2.21124067e-03, 1.19483584e-03, 1.21311595e-03, 3.39431390e-04,\n",
       "       2.46289456e-03, 1.39617395e-04, 8.47868099e-04, 1.85931231e-03,\n",
       "       1.54133280e-03, 2.62275407e-03, 2.62591657e-03, 2.26208804e-03,\n",
       "       1.82109267e-03, 1.97053708e-03, 1.20551976e-03, 1.98376338e-03,\n",
       "       2.62747393e-03, 1.67514451e-03, 1.83653999e-03, 3.72980882e-03,\n",
       "       2.01872012e-03, 2.61362833e-03, 4.10220159e-04, 2.35434603e-03,\n",
       "       6.02405905e-04, 1.68661292e-03, 5.78658062e-03, 3.90811052e-03,\n",
       "       3.08720197e-03, 2.95173120e-03, 2.50638507e-03, 2.16482729e-03,\n",
       "       3.87825205e-04, 9.91847587e-04, 1.05380781e-03, 1.02365765e-03,\n",
       "       2.24851353e-03, 2.19327688e-03, 1.54154019e-03, 1.92177369e-03,\n",
       "       1.62047619e-03, 2.27889398e-03, 3.08535672e-03, 1.97394297e-03,\n",
       "       8.90345398e-04, 3.89768802e-03, 3.33969057e-03, 5.04812580e-04,\n",
       "       3.53906674e-03, 3.27348895e-03, 3.21066179e-04, 3.15737243e-03,\n",
       "       1.18332429e-03, 2.75031683e-03, 2.70148450e-03, 5.95197834e-03,\n",
       "       2.12634437e-03, 2.14739230e-03, 5.40931199e-04, 1.08360485e-03,\n",
       "       6.78317657e-03, 1.28630355e-03, 2.03122106e-03, 7.34051114e-03,\n",
       "       7.33987734e-04, 2.53580931e-03, 3.16048341e-03, 2.15910327e-03,\n",
       "       1.90607347e-04, 4.28791034e-03, 3.10749435e-04, 1.39056097e-03,\n",
       "       1.32609399e-03, 9.57375180e-05, 8.44537453e-04, 3.25957503e-03,\n",
       "       1.16392408e-03, 3.75328942e-04, 2.53477949e-03, 2.62296363e-04,\n",
       "       2.82890743e-04, 1.86072607e-03, 3.36898761e-03, 2.62824944e-03,\n",
       "       2.61611951e-04, 3.57079645e-04, 1.11054572e-04, 2.57750678e-03,\n",
       "       1.72853551e-03, 8.65513759e-04, 3.54338092e-03, 2.81694406e-03,\n",
       "       8.51559010e-04, 1.88106263e-04, 1.46767015e-04, 1.10730324e-03,\n",
       "       7.07800829e-05, 2.75289551e-04, 1.56099202e-04, 1.44026302e-04,\n",
       "       1.82411588e-03, 1.50864497e-04, 1.31795922e-04, 4.54967596e-04,\n",
       "       3.20696952e-03, 1.00196824e-03, 4.75481410e-05, 2.90689113e-05,\n",
       "       3.01125729e-05, 3.96080719e-05, 6.44212931e-05, 3.49748164e-03,\n",
       "       1.62591515e-03, 2.99645018e-03, 2.58464462e-03, 7.87718474e-04,\n",
       "       2.06929634e-05, 1.46704944e-03, 5.13753229e-05, 2.13066967e-03,\n",
       "       1.47110524e-03, 1.29967354e-03, 1.52944117e-04, 1.15155762e-04,\n",
       "       1.81248114e-03, 2.19941439e-05, 3.74835988e-05, 3.34587423e-05,\n",
       "       5.06219135e-05, 0.00000000e+00, 1.63130455e-05, 1.81084253e-05,\n",
       "       1.94615536e-05, 7.37878266e-04, 2.84966967e-05, 5.32198266e-05,\n",
       "       5.94118328e-05, 3.29362681e-05, 8.71140066e-05, 1.36671491e-03,\n",
       "       1.34216769e-04, 9.85827355e-05, 2.33467286e-05, 1.98494891e-05,\n",
       "       3.41903704e-05, 4.85164222e-05, 1.91905878e-03, 4.82055946e-05,\n",
       "       4.93350329e-05, 1.30540283e-04, 4.40453017e-03, 1.04868299e-03,\n",
       "       0.00000000e+00, 2.19567082e-05, 9.35266052e-05, 5.69962281e-06,\n",
       "       1.43513210e-03, 1.92372067e-05, 7.33923118e-07, 6.95193064e-06,\n",
       "       1.62842523e-03, 6.19409969e-07, 7.58697274e-05, 2.93210504e-05,\n",
       "       2.07885707e-05, 4.74949443e-06, 6.16686087e-06, 1.91921705e-05,\n",
       "       6.94849377e-06, 2.00441149e-03, 3.52621827e-03, 3.27041675e-05,\n",
       "       2.51193498e-04, 1.08441905e-06, 3.42118079e-06, 4.01523902e-05,\n",
       "       5.09607097e-05, 7.28887549e-07, 1.14332036e-05, 4.67060419e-05,\n",
       "       2.20986419e-05, 8.54654860e-05, 7.41916278e-05, 1.35440616e-04,\n",
       "       1.29087236e-05, 3.85105705e-03, 1.02941180e-03, 9.78421420e-06,\n",
       "       9.54457641e-05, 1.31509516e-04, 4.14152056e-06, 2.38474131e-04,\n",
       "       4.43618035e-06, 7.36450516e-07, 4.11555168e-06, 7.61098580e-06,\n",
       "       3.55357781e-05, 1.47643010e-06, 8.25535460e-05, 2.41900161e-03,\n",
       "       1.29698833e-03, 2.97518988e-09, 2.48813520e-03, 8.00803393e-07,\n",
       "       5.81409424e-06, 1.65907442e-06, 1.89979806e-07, 1.10680623e-04,\n",
       "       1.23594295e-05, 0.00000000e+00, 4.10167933e-06, 1.41355426e-06,\n",
       "       6.08037521e-06, 1.04786318e-03, 2.93224203e-05, 2.86406382e-06,\n",
       "       4.19222333e-06, 2.60486526e-07, 2.70277426e-06, 4.91868957e-06,\n",
       "       7.90635237e-09, 2.49347010e-07, 1.74796765e-04, 2.13758758e-03])"
      ]
     },
     "execution_count": 56,
     "metadata": {},
     "output_type": "execute_result"
    }
   ],
   "source": [
    "feature_importances = grid_search.best_estimator_.feature_importances_\n",
    "feature_importances"
   ]
  },
  {
   "cell_type": "code",
   "execution_count": 57,
   "metadata": {},
   "outputs": [
    {
     "data": {
      "text/plain": [
       "[(0.11425870429718286, 'age'),\n",
       " (0.11047873606609326, 'age_per_bmi'),\n",
       " (0.10963054678344862, 'avg_glucose_level'),\n",
       " (0.10205119212108707, 'average_glucose_level_per_age'),\n",
       " (0.09687777855563248, 'avg_glucose_level_per_bmi'),\n",
       " (0.05696141403846292, 'bmi'),\n",
       " (0.04308639308021011, 'smoking_status'),\n",
       " (0.024710473574060678, 'hypertension'),\n",
       " (0.018525139222820706, 'gender'),\n",
       " (0.014806412503728602, 'heart_disease'),\n",
       " (0.0137571386521359, 'ever_married'),\n",
       " (0.0073405111426885035, 31.7),\n",
       " (0.006783176570773226, 31.4),\n",
       " (0.005951978338378477, 30.9),\n",
       " (0.00578658062329228, 28.0),\n",
       " (0.004404530168739747, 40.4),\n",
       " (0.004287910340333668, 32.3),\n",
       " (0.00390811052038184, 28.1),\n",
       " (0.003897688017485641, 29.9),\n",
       " (0.00385105704594045, 44.1),\n",
       " (0.003729808817907875, 27.3),\n",
       " (0.0035433809232978675, 34.4),\n",
       " (0.003539066742696261, 30.2),\n",
       " (0.0035262182714006804, 42.5),\n",
       " (0.003497481638709043, 36.5),\n",
       " (0.0033689876055492, 33.6),\n",
       " (0.0033396905658106546, 30.0),\n",
       " (0.003273488948685699, 30.3),\n",
       " (0.0032595750319109563, 32.9),\n",
       " (0.0032069695196847076, 35.8),\n",
       " (0.0031604834124043264, 32.0),\n",
       " (0.0031573724269309657, 30.5),\n",
       " (0.0030872019749260877, 28.2),\n",
       " (0.0030853567187675546, 29.6),\n",
       " (0.0029964501814101255, 36.7),\n",
       " (0.0029831250279536248, 24.0),\n",
       " (0.0029517312036761644, 28.3),\n",
       " (0.0028169440597161015, 34.5),\n",
       " (0.002750316834358725, 30.7),\n",
       " (0.002701484500697557, 30.8),\n",
       " (0.0026282494393673815, 33.7),\n",
       " (0.0026274739286943458, 27.0),\n",
       " (0.0026259165740968055, 26.4),\n",
       " (0.0026227540689669235, 26.3),\n",
       " (0.0026136283326535616, 27.5),\n",
       " (0.002584644618603794, 36.8),\n",
       " (0.0025775067844275995, 34.1),\n",
       " (0.0025358093089463464, 31.9),\n",
       " (0.002534779489923191, 33.2),\n",
       " (0.0025063850740497827, 28.4),\n",
       " (0.002488135201938635, 45.9),\n",
       " (0.002462894561356933, 25.8),\n",
       " (0.0024428717819489857, 21.2),\n",
       " (0.002419001614298802, 45.5),\n",
       " (0.0023724094544516757, 22.2),\n",
       " (0.002354346026962004, 27.7),\n",
       " (0.0023143276212889427, 22.6),\n",
       " (0.0022788939783751332, 29.5),\n",
       " (0.002262088037388721, 26.5),\n",
       " (0.0022485135317094813, 29.0),\n",
       " (0.0022112406718481684, 25.4),\n",
       " (0.002193276878155705, 29.1),\n",
       " (0.002164827289965751, 28.5),\n",
       " (0.0021591032747173373, 32.1),\n",
       " (0.0021546577708255166, 24.4),\n",
       " (0.0021473922999272867, 31.1),\n",
       " (0.002137587584442868, 48.9),\n",
       " (0.0021306696691011486, 37.3),\n",
       " (0.0021263443654480027, 31.0),\n",
       " (0.0020432721448491206, 16.9),\n",
       " (0.0020312210589121895, 31.6),\n",
       " (0.0020187201157054915, 27.4),\n",
       " (0.0020044114850299444, 42.4),\n",
       " (0.0019837633799781674, 26.9),\n",
       " (0.001979701955196109, 23.5),\n",
       " (0.0019739429684362086, 29.7),\n",
       " (0.001970537082128489, 26.7),\n",
       " (0.0019217736857307208, 29.3),\n",
       " (0.0019190587844880637, 40.0),\n",
       " (0.0018750413586856188, 25.3),\n",
       " (0.0018607260674390867, 33.5),\n",
       " (0.001859312305837801, 26.1),\n",
       " (0.0018365399868117108, 27.2),\n",
       " (0.0018241158803734058, 35.4),\n",
       " (0.001821092667042458, 26.6),\n",
       " (0.0018124811428055483, 37.8),\n",
       " (0.0017285355061217008, 34.2),\n",
       " (0.0016866129228247208, 27.9),\n",
       " (0.001675144512757679, 27.1),\n",
       " (0.0016284252310926307, 41.5),\n",
       " (0.0016259151516582833, 36.6),\n",
       " (0.0016204761914424906, 29.4),\n",
       " (0.0016149502871489522, 25.0),\n",
       " (0.0015742971435518216, 19.4),\n",
       " (0.001541540185222537, 29.2),\n",
       " (0.0015413327997278123, 26.2),\n",
       " (0.0014711052423088125, 37.4),\n",
       " (0.0014670494394173556, 37.1),\n",
       " (0.0014351321047378995, 41.1),\n",
       " (0.0014044614111972627, 23.4),\n",
       " (0.0013905609743729813, 32.5),\n",
       " (0.0013667149142717666, 39.3),\n",
       " (0.0013519984329234563, 24.6),\n",
       " (0.0013260939908476183, 32.6),\n",
       " (0.001313179753158388, 24.2),\n",
       " (0.0012996735381193925, 37.5),\n",
       " (0.001296988328169191, 45.7),\n",
       " (0.001286303552431758, 31.5),\n",
       " (0.001281110806376423, 23.9),\n",
       " (0.00126919933314806, 23.8),\n",
       " (0.0012131159505565467, 25.6),\n",
       " (0.0012055197611730397, 26.8),\n",
       " (0.0011948358351388, 25.5),\n",
       " (0.00118332429309212, 30.6),\n",
       " (0.0011818430703637952, 20.3),\n",
       " (0.001163924075129094, 33.0),\n",
       " (0.0011574923785193504, 18.7),\n",
       " (0.0011140284088445274, 22.9),\n",
       " (0.001107303240507931, 34.9),\n",
       " (0.001083604848028022, 31.3),\n",
       " (0.0010538078064095513, 28.8),\n",
       " (0.0010486829922216312, 40.5),\n",
       " (0.001047863184566618, 47.5),\n",
       " (0.0010405573011884057, 20.1),\n",
       " (0.0010294117957497437, 44.2),\n",
       " (0.0010236576465567301, 28.9),\n",
       " (0.0010019682437480957, 35.9),\n",
       " (0.000991847587003804, 28.7),\n",
       " (0.0008903453983699832, 29.8),\n",
       " (0.0008775531779542818, 23.1),\n",
       " (0.00086551375918357, 34.3),\n",
       " (0.0008515590097732112, 34.6),\n",
       " (0.000847868098558189, 26.0),\n",
       " (0.0008445374527881234, 32.8),\n",
       " (0.0007877184742947789, 36.9),\n",
       " (0.0007590369555344409, 22.3),\n",
       " (0.0007378782655015907, 38.7),\n",
       " (0.0007339877343368217, 31.8),\n",
       " (0.0006745229920604945, 20.2),\n",
       " (0.0006638817961174403, 21.5),\n",
       " (0.0006024059050233377, 27.8),\n",
       " (0.0005417871026876015, 24.9),\n",
       " (0.0005409311986588703, 31.2),\n",
       " (0.000522404462099296, 24.3),\n",
       " (0.000504812580122592, 30.1),\n",
       " (0.0004549675958320899, 35.7),\n",
       " (0.0004316220469061911, 23.6),\n",
       " (0.0004136527773912937, 24.5),\n",
       " (0.0004102201592020279, 27.6),\n",
       " (0.0003878252046473617, 28.6),\n",
       " (0.0003753289420264048, 33.1),\n",
       " (0.00037174306550004306, 24.8),\n",
       " (0.00036990021671076966, 24.1),\n",
       " (0.00036816186885093726, 21.4),\n",
       " (0.0003570796446883323, 33.9),\n",
       " (0.0003394313904408545, 25.7),\n",
       " (0.0003210661787488687, 30.4),\n",
       " (0.0003107494353838645, 32.4),\n",
       " (0.0003099314933999131, 18.3),\n",
       " (0.00030061102986751514, 22.0),\n",
       " (0.00028289074301202994, 33.4),\n",
       " (0.000275289551286653, 35.1),\n",
       " (0.0002666596643358448, 23.0),\n",
       " (0.0002622963629839589, 33.3),\n",
       " (0.00026161195138635145, 33.8),\n",
       " (0.0002511934977772012, 42.7),\n",
       " (0.00023847413065834414, 44.7),\n",
       " (0.00020218418372293243, 19.5),\n",
       " (0.00019183799105712895, 17.6),\n",
       " (0.00019060734733059639, 32.2),\n",
       " (0.00018810626257240686, 34.7),\n",
       " (0.0001747967649995736, 48.8),\n",
       " (0.00016842331552306152, 25.1),\n",
       " (0.00015735587971578332, 22.4),\n",
       " (0.00015609920210163286, 35.2),\n",
       " (0.00015294411743370376, 37.6),\n",
       " (0.000150864496872993, 35.5),\n",
       " (0.0001486346065308358, 22.7),\n",
       " (0.00014815038160712865, 23.3),\n",
       " (0.00014807051390856838, 23.7),\n",
       " (0.0001467670151598711, 34.8),\n",
       " (0.00014402630235489783, 35.3),\n",
       " (0.00014350996993341266, 21.8),\n",
       " (0.0001410753502638245, 22.1),\n",
       " (0.00013961739464162835, 25.9),\n",
       " (0.000135440616421663, 43.9),\n",
       " (0.0001342167691925126, 39.4),\n",
       " (0.00013321047419068293, 15.0),\n",
       " (0.00013179592212299982, 35.6),\n",
       " (0.00013150951610513533, 44.5),\n",
       " (0.00013054028324444616, 40.3),\n",
       " (0.0001264717068124185, 25.2),\n",
       " (0.0001189475542882713, 21.1),\n",
       " (0.00011556139812065034, 20.9),\n",
       " (0.00011515576175146173, 37.7),\n",
       " (0.0001110545721004608, 34.0),\n",
       " (0.00011068062323426532, 46.5),\n",
       " (0.00010904324200571109, 21.0),\n",
       " (0.00010857939118148754, 22.8),\n",
       " (9.858273545613588e-05, 39.5),\n",
       " (9.573751800380793e-05, 32.7),\n",
       " (9.544576407557055e-05, 44.4),\n",
       " (9.352660518934356e-05, 40.9),\n",
       " (8.994783847683763e-05, 19.1),\n",
       " (8.711400655564114e-05, 39.2),\n",
       " (8.681436675446122e-05, 19.2),\n",
       " (8.546548600660148e-05, 43.7),\n",
       " (8.305351154182667e-05, 20.7),\n",
       " (8.25535459994938e-05, 45.4),\n",
       " (7.638865680682453e-05, 24.7),\n",
       " (7.586972738849018e-05, 41.7),\n",
       " (7.537451316947261e-05, 21.3),\n",
       " (7.534126109963518e-05, 20.6),\n",
       " (7.41916277888919e-05, 43.8),\n",
       " (7.376265839725808e-05, 18.5),\n",
       " (7.078008285351124e-05, 35.0),\n",
       " (6.916954919919922e-05, 19.7),\n",
       " (6.879496985334274e-05, 22.5),\n",
       " (6.63518090132216e-05, 20.8),\n",
       " (6.442129307217769e-05, 36.4),\n",
       " (5.941183276722674e-05, 39.0),\n",
       " (5.823428744081975e-05, 20.4),\n",
       " (5.393389233913874e-05, 18.2),\n",
       " (5.321982656436155e-05, 38.9),\n",
       " (5.137532291813938e-05, 37.2),\n",
       " (5.096070973242292e-05, 43.1),\n",
       " (5.0621913452749044e-05, 38.2),\n",
       " (4.933503291057499e-05, 40.2),\n",
       " (4.851642219722743e-05, 39.9),\n",
       " (4.820559455606382e-05, 40.1),\n",
       " (4.7548140959870335e-05, 36.0),\n",
       " (4.6706041882394305e-05, 43.4),\n",
       " (4.576586549000742e-05, 16.7),\n",
       " (4.477392100574233e-05, 23.2),\n",
       " (4.0152390244319706e-05, 43.0),\n",
       " (3.960807192041084e-05, 36.3),\n",
       " (3.924940765739954e-05, 17.3),\n",
       " (3.748359883801472e-05, 38.0),\n",
       " (3.5535778054817675e-05, 45.2),\n",
       " (3.4190370364096064e-05, 39.8),\n",
       " (3.412382383814009e-05, 20.5),\n",
       " (3.345874232836188e-05, 38.1),\n",
       " (3.2936268144405244e-05, 39.1),\n",
       " (3.270416746064923e-05, 42.6),\n",
       " (3.240722646616229e-05, 20.0),\n",
       " (3.1937561429402726e-05, 19.3),\n",
       " (3.115046694163488e-05, 19.8),\n",
       " (3.05916177157103e-05, 21.9),\n",
       " (3.011257285449793e-05, 36.2),\n",
       " (2.9392795767615877e-05, 14.2),\n",
       " (2.9322420290092132e-05, 47.6),\n",
       " (2.9321050432416712e-05, 41.8),\n",
       " (2.9068911335228897e-05, 36.1),\n",
       " (2.8496696732461038e-05, 38.8),\n",
       " (2.5113620059706998e-05, 17.2),\n",
       " (2.334672860267673e-05, 39.6),\n",
       " (2.2613732315214137e-05, 19.6),\n",
       " (2.209864186040344e-05, 43.6),\n",
       " (2.1994143929856335e-05, 37.9),\n",
       " (2.1956708175774452e-05, 40.8),\n",
       " (2.1192875316093526e-05, 21.6),\n",
       " (2.0788570735954616e-05, 41.9),\n",
       " (2.0692963401796294e-05, 37.0),\n",
       " (2.0664684034150043e-05, 16.4),\n",
       " (1.984948914578335e-05, 39.7),\n",
       " (1.9461553575746802e-05, 38.6),\n",
       " (1.92372066667034e-05, 41.2),\n",
       " (1.919217045245561e-05, 42.2),\n",
       " (1.90117749085145e-05, 17.0),\n",
       " (1.89779401083554e-05, 18.0),\n",
       " (1.8108425275310796e-05, 38.5),\n",
       " (1.7914633809469008e-05, 18.6),\n",
       " (1.7214392547324373e-05, 16.0),\n",
       " (1.6313045502079035e-05, 38.4),\n",
       " (1.3258465894744798e-05, 16.1),\n",
       " (1.2908723566413993e-05, 44.0),\n",
       " (1.2359429505043896e-05, 46.8),\n",
       " (1.2086578488966552e-05, 21.7),\n",
       " (1.1524661621911305e-05, 15.9),\n",
       " (1.1433203637852187e-05, 43.3),\n",
       " (1.0224331405457322e-05, 18.1),\n",
       " (1.0152234081069448e-05, 16.3),\n",
       " (1.0137177784775548e-05, 19.9),\n",
       " (9.784214202651528e-06, 44.3),\n",
       " (9.266754450889727e-06, 18.8),\n",
       " (8.89608617747871e-06, 17.8),\n",
       " (8.649749459177332e-06, 17.1),\n",
       " (7.948637799289234e-06, 17.4),\n",
       " (7.610985796035722e-06, 45.1),\n",
       " (7.556513464482465e-06, 18.4),\n",
       " (6.951930636125817e-06, 41.4),\n",
       " (6.9484937724510776e-06, 42.3),\n",
       " (6.166860874916917e-06, 42.1),\n",
       " (6.144704121626145e-06, 14.3),\n",
       " (6.080375211338746e-06, 47.4),\n",
       " (5.918364694618868e-06, 16.8),\n",
       " (5.814094243668857e-06, 46.1),\n",
       " (5.699622810512619e-06, 41.0),\n",
       " (5.245734396494764e-06, 15.1),\n",
       " (4.91868957461198e-06, 48.3),\n",
       " (4.749494431792633e-06, 42.0),\n",
       " (4.436180353537974e-06, 44.8),\n",
       " (4.192223334736617e-06, 47.9),\n",
       " (4.141520564818631e-06, 44.6),\n",
       " (4.115551676658919e-06, 45.0),\n",
       " (4.101679331225762e-06, 47.1),\n",
       " (3.4211807894919953e-06, 42.9),\n",
       " (2.864063816309473e-06, 47.8),\n",
       " (2.784891674670468e-06, 16.2),\n",
       " (2.702774260459091e-06, 48.2),\n",
       " (2.6759175679868577e-06, 15.5),\n",
       " (2.41118354089595e-06, 17.9),\n",
       " (2.281392772961141e-06, 15.7),\n",
       " (1.8702460345402923e-06, 14.1),\n",
       " (1.6590744189768362e-06, 46.2),\n",
       " (1.592040917538415e-06, 14.8),\n",
       " (1.4764301012616927e-06, 45.3),\n",
       " (1.4135542551020343e-06, 47.3),\n",
       " (1.3413597013240136e-06, 17.7),\n",
       " (1.3413563680309437e-06, 17.5),\n",
       " (1.2516762376205597e-06, 18.9),\n",
       " (1.1535948431029076e-06, 19.0),\n",
       " (1.0844190453511503e-06, 42.8),\n",
       " (1.0214793734263287e-06, 15.3),\n",
       " (9.908275560606614e-07, 14.5),\n",
       " (9.079899975342219e-07, 16.6),\n",
       " (8.008033931405291e-07, 46.0),\n",
       " (7.3645051562327e-07, 44.9),\n",
       " (7.339231181569268e-07, 41.3),\n",
       " (7.288875487012569e-07, 43.2),\n",
       " (6.82925393375934e-07, 15.6),\n",
       " (6.194099686255084e-07, 41.6),\n",
       " (3.6220857124496306e-07, 15.8),\n",
       " (2.604865264696408e-07, 48.0),\n",
       " (2.493470096897424e-07, 48.5),\n",
       " (1.899798055576323e-07, 46.3),\n",
       " (9.620612487860043e-08, 14.4),\n",
       " (9.299720164008425e-08, 16.5),\n",
       " (8.508536996209225e-08, 14.0),\n",
       " (2.275191436890681e-08, 15.2),\n",
       " (7.906352370229707e-09, 48.4),\n",
       " (7.580068070354675e-09, 14.6),\n",
       " (2.9751898786181144e-09, 45.8),\n",
       " (0.0, 46.9),\n",
       " (0.0, 40.6),\n",
       " (0.0, 38.3),\n",
       " (0.0, 15.4),\n",
       " (0.0, 14.9)]"
      ]
     },
     "execution_count": 57,
     "metadata": {},
     "output_type": "execute_result"
    }
   ],
   "source": [
    "extra_attribs = [\"age_per_bmi\", \"avg_glucose_level_per_bmi\", \"average_glucose_level_per_age\"]\n",
    "#cat_encoder = cat_pipeline.named_steps[\"cat_encoder\"] # old solution\n",
    "cat_encoder = full_pipeline.named_transformers_[\"cat\"]\n",
    "cat_one_hot_attribs = list(cat_encoder.categories_[0])\n",
    "attributes = num_attribs + extra_attribs + cat_one_hot_attribs\n",
    "sorted(zip(feature_importances, attributes), reverse=True)"
   ]
  },
  {
   "cell_type": "code",
   "execution_count": 58,
   "metadata": {},
   "outputs": [
    {
     "data": {
      "text/html": [
       "<div>\n",
       "<style scoped>\n",
       "    .dataframe tbody tr th:only-of-type {\n",
       "        vertical-align: middle;\n",
       "    }\n",
       "\n",
       "    .dataframe tbody tr th {\n",
       "        vertical-align: top;\n",
       "    }\n",
       "\n",
       "    .dataframe thead th {\n",
       "        text-align: right;\n",
       "    }\n",
       "</style>\n",
       "<table border=\"1\" class=\"dataframe\">\n",
       "  <thead>\n",
       "    <tr style=\"text-align: right;\">\n",
       "      <th></th>\n",
       "      <th>gender</th>\n",
       "      <th>age</th>\n",
       "      <th>hypertension</th>\n",
       "      <th>heart_disease</th>\n",
       "      <th>ever_married</th>\n",
       "      <th>avg_glucose_level</th>\n",
       "      <th>bmi</th>\n",
       "      <th>smoking_status</th>\n",
       "    </tr>\n",
       "  </thead>\n",
       "  <tbody>\n",
       "    <tr>\n",
       "      <th>4428</th>\n",
       "      <td>1</td>\n",
       "      <td>24.0</td>\n",
       "      <td>0</td>\n",
       "      <td>0</td>\n",
       "      <td>0</td>\n",
       "      <td>187.99</td>\n",
       "      <td>24.9</td>\n",
       "      <td>3</td>\n",
       "    </tr>\n",
       "    <tr>\n",
       "      <th>1135</th>\n",
       "      <td>0</td>\n",
       "      <td>3.0</td>\n",
       "      <td>0</td>\n",
       "      <td>0</td>\n",
       "      <td>0</td>\n",
       "      <td>86.38</td>\n",
       "      <td>22.8</td>\n",
       "      <td>0</td>\n",
       "    </tr>\n",
       "    <tr>\n",
       "      <th>2417</th>\n",
       "      <td>1</td>\n",
       "      <td>69.0</td>\n",
       "      <td>0</td>\n",
       "      <td>0</td>\n",
       "      <td>1</td>\n",
       "      <td>111.48</td>\n",
       "      <td>37.0</td>\n",
       "      <td>3</td>\n",
       "    </tr>\n",
       "    <tr>\n",
       "      <th>1173</th>\n",
       "      <td>1</td>\n",
       "      <td>46.0</td>\n",
       "      <td>0</td>\n",
       "      <td>0</td>\n",
       "      <td>1</td>\n",
       "      <td>127.75</td>\n",
       "      <td>30.5</td>\n",
       "      <td>1</td>\n",
       "    </tr>\n",
       "    <tr>\n",
       "      <th>3696</th>\n",
       "      <td>0</td>\n",
       "      <td>52.0</td>\n",
       "      <td>1</td>\n",
       "      <td>0</td>\n",
       "      <td>1</td>\n",
       "      <td>100.71</td>\n",
       "      <td>37.0</td>\n",
       "      <td>1</td>\n",
       "    </tr>\n",
       "  </tbody>\n",
       "</table>\n",
       "</div>"
      ],
      "text/plain": [
       "      gender   age  hypertension  heart_disease  ever_married  \\\n",
       "4428       1  24.0             0              0             0   \n",
       "1135       0   3.0             0              0             0   \n",
       "2417       1  69.0             0              0             1   \n",
       "1173       1  46.0             0              0             1   \n",
       "3696       0  52.0             1              0             1   \n",
       "\n",
       "      avg_glucose_level   bmi  smoking_status  \n",
       "4428             187.99  24.9               3  \n",
       "1135              86.38  22.8               0  \n",
       "2417             111.48  37.0               3  \n",
       "1173             127.75  30.5               1  \n",
       "3696             100.71  37.0               1  "
      ]
     },
     "execution_count": 58,
     "metadata": {},
     "output_type": "execute_result"
    }
   ],
   "source": [
    "brain.head()"
   ]
  },
  {
   "cell_type": "markdown",
   "metadata": {},
   "source": [
    "# Evaluate the model with Test Set"
   ]
  },
  {
   "cell_type": "code",
   "execution_count": 59,
   "metadata": {},
   "outputs": [
    {
     "data": {
      "text/plain": [
       "range(0, 3984)"
      ]
     },
     "execution_count": 59,
     "metadata": {},
     "output_type": "execute_result"
    }
   ],
   "source": [
    "from sklearn.model_selection import GridSearchCV\n",
    "final_model = grid_search.best_estimator_\n",
    "\n",
    "X_test = strat_test_set.drop(\"stroke\", axis=1)\n",
    "y_test = strat_test_set[\"stroke\"].copy()\n",
    "\n",
    "X_test_prepared = full_pipeline.transform(X_test)\n",
    "final_predictions = final_model.predict(X_test_prepared)\n",
    "\n",
    "final_mse = mean_squared_error(y_test, final_predictions)\n",
    "final_rmse = np.sqrt(final_mse)\n",
    "range(len(brain))\n"
   ]
  },
  {
   "cell_type": "code",
   "execution_count": 60,
   "metadata": {},
   "outputs": [
    {
     "data": {
      "text/plain": [
       "0.21323896692558544"
      ]
     },
     "execution_count": 60,
     "metadata": {},
     "output_type": "execute_result"
    }
   ],
   "source": [
    "final_rmse"
   ]
  },
  {
   "cell_type": "markdown",
   "metadata": {},
   "source": [
    "You might want to try other models and record their performance on the test data using optimized hyperparameters."
   ]
  }
 ],
 "metadata": {
  "kernelspec": {
   "display_name": "Python 3 (ipykernel)",
   "language": "python",
   "name": "python3"
  },
  "language_info": {
   "codemirror_mode": {
    "name": "ipython",
    "version": 3
   },
   "file_extension": ".py",
   "mimetype": "text/x-python",
   "name": "python",
   "nbconvert_exporter": "python",
   "pygments_lexer": "ipython3",
   "version": "3.9.12"
  }
 },
 "nbformat": 4,
 "nbformat_minor": 2
}
