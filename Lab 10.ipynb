{
 "cells": [
  {
   "cell_type": "code",
   "execution_count": 1,
   "id": "d7bca75b",
   "metadata": {},
   "outputs": [],
   "source": [
    "# Python ≥3.5 is required\n",
    "import sys\n",
    "assert sys.version_info >= (3, 5)\n",
    "\n",
    "# Scikit-Learn ≥0.20 is \n",
    "import sklearn\n",
    "assert sklearn.__version__ >= \"0.20\"\n",
    "\n",
    "# Common imports\n",
    "import numpy as np\n",
    "import pandas as pd\n",
    "import os\n",
    "\n",
    "# to make this notebook's output stable across runs\n",
    "np.random.seed(42)\n",
    "\n",
    "# To plot pretty figures\n",
    "%matplotlib inline\n",
    "import matplotlib as mpl\n",
    "import matplotlib.pyplot as plt\n",
    "mpl.rc('axes', labelsize=14)\n",
    "mpl.rc('xtick', labelsize=12)\n",
    "mpl.rc('ytick', labelsize=12)"
   ]
  },
  {
   "cell_type": "code",
   "execution_count": 2,
   "id": "a3c4d593",
   "metadata": {},
   "outputs": [
    {
     "name": "stdout",
     "output_type": "stream",
     "text": [
      "      gender   age  hypertension  heart_disease  ever_married  \\\n",
      "0          0  67.0             0              1             1   \n",
      "1          0  80.0             0              1             1   \n",
      "2          1  49.0             0              0             1   \n",
      "3          1  79.0             1              0             1   \n",
      "4          0  81.0             0              0             1   \n",
      "...      ...   ...           ...            ...           ...   \n",
      "4976       0  41.0             0              0             0   \n",
      "4977       0  40.0             0              0             1   \n",
      "4978       1  45.0             1              0             1   \n",
      "4979       0  40.0             0              0             1   \n",
      "4980       1  80.0             1              0             1   \n",
      "\n",
      "      avg_glucose_level   bmi  smoking_status  stroke  \n",
      "0                228.69  36.6               2       1  \n",
      "1                105.92  32.5               1       1  \n",
      "2                171.23  34.4               3       1  \n",
      "3                174.12  24.0               1       1  \n",
      "4                186.21  29.0               2       1  \n",
      "...                 ...   ...             ...     ...  \n",
      "4976              70.15  29.8               2       0  \n",
      "4977             191.15  31.1               3       0  \n",
      "4978              95.02  31.8               3       0  \n",
      "4979              83.94  30.0               3       0  \n",
      "4980              83.75  29.1               1       0  \n",
      "\n",
      "[4981 rows x 9 columns]\n"
     ]
    }
   ],
   "source": [
    "url= \"brain_stroke_in_numeric_without_useless_data.csv\"\n",
    "brain = pd.read_csv(url)\n",
    "brain = brain.drop(brain.columns[0], axis=1)\n",
    "brain_pca = pd.read_csv('brain_stroke_after_pca.csv')\n",
    "brain_pca = brain_pca.drop(brain_pca.columns[0], axis=1) \n",
    "print(brain)"
   ]
  },
  {
   "cell_type": "code",
   "execution_count": null,
   "id": "cf1c6863",
   "metadata": {},
   "outputs": [],
   "source": []
  }
 ],
 "metadata": {
  "kernelspec": {
   "display_name": "Python 3 (ipykernel)",
   "language": "python",
   "name": "python3"
  },
  "language_info": {
   "codemirror_mode": {
    "name": "ipython",
    "version": 3
   },
   "file_extension": ".py",
   "mimetype": "text/x-python",
   "name": "python",
   "nbconvert_exporter": "python",
   "pygments_lexer": "ipython3",
   "version": "3.9.12"
  }
 },
 "nbformat": 4,
 "nbformat_minor": 5
}
