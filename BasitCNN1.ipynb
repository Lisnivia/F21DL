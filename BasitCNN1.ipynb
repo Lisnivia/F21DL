{
 "cells": [
  {
   "cell_type": "code",
   "execution_count": 124,
   "id": "a062c5c7",
   "metadata": {},
   "outputs": [],
   "source": [
    "# Python ≥3.5 is required\n",
    "import sys\n",
    "assert sys.version_info >= (3, 5)\n",
    "\n",
    "# Scikit-Learn ≥0.20 is \n",
    "import sklearn\n",
    "assert sklearn.__version__ >= \"0.20\"\n",
    "from sklearn.model_selection import train_test_split, cross_val_score, KFold, cross_val_predict\n",
    "from sklearn.linear_model import Perceptron\n",
    "from sklearn import preprocessing\n",
    "from sklearn.neural_network import MLPClassifier\n",
    "from sklearn.metrics import accuracy_score, confusion_matrix, precision_score, recall_score, classification_report\n",
    "from sklearn.metrics import roc_curve, roc_auc_score, f1_score, roc_curve, roc_auc_score \n",
    "import sklearn\n",
    "assert sklearn.__version__ >= \"0.20\"\n",
    "from sklearn.model_selection import train_test_split, cross_val_score, KFold, cross_val_predict\n",
    "from sklearn.linear_model import Perceptron\n",
    "from sklearn import preprocessing\n",
    "from sklearn.neural_network import MLPClassifier\n",
    "from sklearn.metrics import accuracy_score, confusion_matrix, precision_score, recall_score, classification_report\n",
    "from sklearn.metrics import roc_curve, roc_auc_score, f1_score, roc_curve, roc_auc_score \n",
    "from tensorflow.keras.datasets import cifar10\n",
    "from tensorflow.keras.models import Sequential\n",
    "from tensorflow.keras.layers import Dense, Flatten, Conv2D, MaxPooling2D\n",
    "from tensorflow.keras.losses import sparse_categorical_crossentropy\n",
    "from tensorflow.keras.optimizers import Adam\n",
    "from sklearn.model_selection import KFold\n",
    "import numpy as np\n",
    "# keras\n",
    "from tensorflow import keras\n",
    "from tensorflow.keras import layers\n",
    "\n",
    "# Common imports\n",
    "import numpy as np\n",
    "import pandas as pd\n",
    "import os\n",
    "\n",
    "# to make this notebook's output stable across runs\n",
    "np.random.seed(42)\n",
    "from random import randint\n",
    "\n",
    "# To plot pretty figures\n",
    "%matplotlib inline\n",
    "import matplotlib as mpl\n",
    "import matplotlib.pyplot as plt\n",
    "mpl.rc('axes', labelsize=14)\n",
    "mpl.rc('xtick', labelsize=12)\n",
    "mpl.rc('ytick', labelsize=12)"
   ]
  },
  {
   "cell_type": "code",
   "execution_count": 125,
   "id": "3e4730bb",
   "metadata": {},
   "outputs": [
    {
     "name": "stdout",
     "output_type": "stream",
     "text": [
      "(144, 9, 9, 1)\n",
      "(144,)\n",
      "(108, 9, 9, 1)\n",
      "(108,)\n"
     ]
    }
   ],
   "source": [
    "X = np.load(\"smiley_X.npy\")\n",
    "y = np.load(\"smiley_y.npy\")\n",
    "print(X.shape)\n",
    "print(y.shape)\n",
    "\n",
    "x_train, x_test, y_train, y_test = train_test_split(X, y, random_state=0)\n",
    "print(x_train.shape)\n",
    "print(y_train.shape)"
   ]
  },
  {
   "cell_type": "code",
   "execution_count": 126,
   "id": "caf034d5",
   "metadata": {},
   "outputs": [],
   "source": [
    "  model = Sequential()\n",
    "  model.add(Conv2D(32, kernel_size=(3, 3), activation='relu', input_shape=(9,9,1)))\n",
    "  model.add(MaxPooling2D(pool_size=(2, 2)))\n",
    "  model.add(Conv2D(64, kernel_size=(3, 3), activation='relu'))\n",
    "\n",
    "  model.add(Flatten())\n",
    "  model.add(Dense(256, activation='relu'))\n",
    "  model.add(Dense(128, activation='relu'))\n",
    "  model.add(Dense(5, activation='softmax'))"
   ]
  },
  {
   "cell_type": "code",
   "execution_count": 127,
   "id": "6c4d37b4",
   "metadata": {},
   "outputs": [
    {
     "name": "stdout",
     "output_type": "stream",
     "text": [
      "Model: \"sequential_25\"\n",
      "_________________________________________________________________\n",
      " Layer (type)                Output Shape              Param #   \n",
      "=================================================================\n",
      " conv2d_50 (Conv2D)          (None, 7, 7, 32)          320       \n",
      "                                                                 \n",
      " max_pooling2d_25 (MaxPoolin  (None, 3, 3, 32)         0         \n",
      " g2D)                                                            \n",
      "                                                                 \n",
      " conv2d_51 (Conv2D)          (None, 1, 1, 64)          18496     \n",
      "                                                                 \n",
      " flatten_25 (Flatten)        (None, 64)                0         \n",
      "                                                                 \n",
      " dense_75 (Dense)            (None, 256)               16640     \n",
      "                                                                 \n",
      " dense_76 (Dense)            (None, 128)               32896     \n",
      "                                                                 \n",
      " dense_77 (Dense)            (None, 5)                 645       \n",
      "                                                                 \n",
      "=================================================================\n",
      "Total params: 68,997\n",
      "Trainable params: 68,997\n",
      "Non-trainable params: 0\n",
      "_________________________________________________________________\n"
     ]
    }
   ],
   "source": [
    "model.compile(optimizer='adam', loss='sparse_categorical_crossentropy', metrics=['accuracy'])\n",
    "model.summary()"
   ]
  },
  {
   "cell_type": "markdown",
   "id": "fcb811ad",
   "metadata": {},
   "source": [
    "Test Using 5 epochs and adam as the optimizer."
   ]
  },
  {
   "cell_type": "code",
   "execution_count": 128,
   "id": "d1f44229",
   "metadata": {},
   "outputs": [
    {
     "name": "stdout",
     "output_type": "stream",
     "text": [
      "Epoch 1/5\n",
      "4/4 [==============================] - 1s 3ms/step - loss: 1.5406 - accuracy: 0.4722\n",
      "Epoch 2/5\n",
      "4/4 [==============================] - 0s 3ms/step - loss: 1.2996 - accuracy: 0.5093\n",
      "Epoch 3/5\n",
      "4/4 [==============================] - 0s 3ms/step - loss: 0.9748 - accuracy: 0.5093\n",
      "Epoch 4/5\n",
      "4/4 [==============================] - 0s 3ms/step - loss: 0.7007 - accuracy: 0.5278\n",
      "Epoch 5/5\n",
      "4/4 [==============================] - 0s 3ms/step - loss: 0.5075 - accuracy: 0.9259\n"
     ]
    },
    {
     "data": {
      "text/plain": [
       "<keras.callbacks.History at 0x1c5261e9190>"
      ]
     },
     "execution_count": 128,
     "metadata": {},
     "output_type": "execute_result"
    }
   ],
   "source": [
    "model.fit(x_train, y_train, epochs=5)"
   ]
  },
  {
   "cell_type": "code",
   "execution_count": 129,
   "id": "4b75a936",
   "metadata": {},
   "outputs": [
    {
     "name": "stdout",
     "output_type": "stream",
     "text": [
      "Test Loss: 0.42605745792388916\n",
      "Test Accuracy: 0.8888888955116272\n"
     ]
    }
   ],
   "source": [
    "score = model.evaluate(x_test, y_test, verbose=0)\n",
    "print('Test Loss:', score[0])\n",
    "print('Test Accuracy:', score[1])"
   ]
  },
  {
   "cell_type": "markdown",
   "id": "cdcf9cbd",
   "metadata": {},
   "source": [
    "Test Using 10 epochs and adam as the optimizer. As noticed the accuracy improves as epochs increase"
   ]
  },
  {
   "cell_type": "code",
   "execution_count": 130,
   "id": "fc4f6bb1",
   "metadata": {},
   "outputs": [
    {
     "name": "stdout",
     "output_type": "stream",
     "text": [
      "Epoch 1/10\n",
      "4/4 [==============================] - 0s 3ms/step - loss: 0.3826 - accuracy: 0.9630\n",
      "Epoch 2/10\n",
      "4/4 [==============================] - 0s 3ms/step - loss: 0.2845 - accuracy: 0.9352\n",
      "Epoch 3/10\n",
      "4/4 [==============================] - 0s 4ms/step - loss: 0.1871 - accuracy: 0.9352\n",
      "Epoch 4/10\n",
      "4/4 [==============================] - 0s 3ms/step - loss: 0.1306 - accuracy: 0.9722\n",
      "Epoch 5/10\n",
      "4/4 [==============================] - 0s 4ms/step - loss: 0.0832 - accuracy: 1.0000\n",
      "Epoch 6/10\n",
      "4/4 [==============================] - 0s 4ms/step - loss: 0.0536 - accuracy: 1.0000\n",
      "Epoch 7/10\n",
      "4/4 [==============================] - 0s 3ms/step - loss: 0.0397 - accuracy: 1.0000\n",
      "Epoch 8/10\n",
      "4/4 [==============================] - 0s 3ms/step - loss: 0.0280 - accuracy: 1.0000\n",
      "Epoch 9/10\n",
      "4/4 [==============================] - 0s 4ms/step - loss: 0.0187 - accuracy: 1.0000\n",
      "Epoch 10/10\n",
      "4/4 [==============================] - 0s 3ms/step - loss: 0.0092 - accuracy: 1.0000\n"
     ]
    },
    {
     "data": {
      "text/plain": [
       "<keras.callbacks.History at 0x1c527681fa0>"
      ]
     },
     "execution_count": 130,
     "metadata": {},
     "output_type": "execute_result"
    }
   ],
   "source": [
    "model.fit(x_train, y_train, epochs=10)"
   ]
  },
  {
   "cell_type": "code",
   "execution_count": 131,
   "id": "6187188c",
   "metadata": {},
   "outputs": [
    {
     "name": "stdout",
     "output_type": "stream",
     "text": [
      "Test Loss: 0.007542685605585575\n",
      "Test Accuracy: 1.0\n"
     ]
    }
   ],
   "source": [
    "score = model.evaluate(x_test, y_test, verbose=0)\n",
    "print('Test Loss:', score[0])\n",
    "print('Test Accuracy:', score[1])"
   ]
  },
  {
   "cell_type": "code",
   "execution_count": null,
   "id": "0a4fab70",
   "metadata": {},
   "outputs": [],
   "source": []
  },
  {
   "cell_type": "markdown",
   "id": "e3eeb373",
   "metadata": {},
   "source": [
    "Test Using 5 epochs and adam as the optimizer with learning rate 0.001"
   ]
  },
  {
   "cell_type": "code",
   "execution_count": 132,
   "id": "14e73e9b",
   "metadata": {},
   "outputs": [
    {
     "data": {
      "text/plain": [
       "<keras.optimizers.optimizer_experimental.adam.Adam at 0x1c52777d7c0>"
      ]
     },
     "execution_count": 132,
     "metadata": {},
     "output_type": "execute_result"
    }
   ],
   "source": [
    "  model = Sequential()\n",
    "  model.add(Conv2D(32, kernel_size=(3, 3), activation='relu', input_shape=(9,9,1)))\n",
    "  model.add(MaxPooling2D(pool_size=(2, 2)))\n",
    "  model.add(Conv2D(64, kernel_size=(3, 3), activation='relu'))\n",
    "\n",
    "  model.add(Flatten())\n",
    "  model.add(Dense(256, activation='relu'))\n",
    "  model.add(Dense(128, activation='relu'))\n",
    "  model.add(Dense(5, activation='softmax'))\n",
    "  keras.optimizers.Adam(\n",
    "    learning_rate=0.0001,\n",
    "    beta_1=0.9,\n",
    "    beta_2=0.999,\n",
    "    epsilon=1e-07,\n",
    "    amsgrad=False,\n",
    "    name=\"Adam\",\n",
    "    \n",
    ")\n"
   ]
  },
  {
   "cell_type": "code",
   "execution_count": 133,
   "id": "070235ee",
   "metadata": {},
   "outputs": [
    {
     "name": "stdout",
     "output_type": "stream",
     "text": [
      "Model: \"sequential_26\"\n",
      "_________________________________________________________________\n",
      " Layer (type)                Output Shape              Param #   \n",
      "=================================================================\n",
      " conv2d_52 (Conv2D)          (None, 7, 7, 32)          320       \n",
      "                                                                 \n",
      " max_pooling2d_26 (MaxPoolin  (None, 3, 3, 32)         0         \n",
      " g2D)                                                            \n",
      "                                                                 \n",
      " conv2d_53 (Conv2D)          (None, 1, 1, 64)          18496     \n",
      "                                                                 \n",
      " flatten_26 (Flatten)        (None, 64)                0         \n",
      "                                                                 \n",
      " dense_78 (Dense)            (None, 256)               16640     \n",
      "                                                                 \n",
      " dense_79 (Dense)            (None, 128)               32896     \n",
      "                                                                 \n",
      " dense_80 (Dense)            (None, 5)                 645       \n",
      "                                                                 \n",
      "=================================================================\n",
      "Total params: 68,997\n",
      "Trainable params: 68,997\n",
      "Non-trainable params: 0\n",
      "_________________________________________________________________\n"
     ]
    }
   ],
   "source": [
    "model.compile(optimizer='Adam', loss='sparse_categorical_crossentropy', metrics=['accuracy'])\n",
    "model.summary()"
   ]
  },
  {
   "cell_type": "code",
   "execution_count": 134,
   "id": "a7489d75",
   "metadata": {},
   "outputs": [
    {
     "name": "stdout",
     "output_type": "stream",
     "text": [
      "Epoch 1/5\n",
      "4/4 [==============================] - 1s 3ms/step - loss: 1.5456 - accuracy: 0.4352\n",
      "Epoch 2/5\n",
      "4/4 [==============================] - 0s 3ms/step - loss: 1.2791 - accuracy: 0.5093\n",
      "Epoch 3/5\n",
      "4/4 [==============================] - 0s 3ms/step - loss: 0.8937 - accuracy: 0.5093\n",
      "Epoch 4/5\n",
      "4/4 [==============================] - 0s 3ms/step - loss: 0.6294 - accuracy: 0.7593\n",
      "Epoch 5/5\n",
      "4/4 [==============================] - 0s 3ms/step - loss: 0.5102 - accuracy: 0.9630\n"
     ]
    },
    {
     "data": {
      "text/plain": [
       "<keras.callbacks.History at 0x1c5276f1250>"
      ]
     },
     "execution_count": 134,
     "metadata": {},
     "output_type": "execute_result"
    }
   ],
   "source": [
    "model.fit(x_train, y_train, epochs=5)"
   ]
  },
  {
   "cell_type": "code",
   "execution_count": 135,
   "id": "62437409",
   "metadata": {},
   "outputs": [
    {
     "name": "stdout",
     "output_type": "stream",
     "text": [
      "Test Loss at 0.001 LR: 0.422460675239563\n",
      "Test Accuracy at 0.001: 1.0\n"
     ]
    }
   ],
   "source": [
    "score = model.evaluate(x_test, y_test, verbose=0)\n",
    "print('Test Loss at 0.001 LR:', score[0])\n",
    "print('Test Accuracy at 0.001:', score[1])"
   ]
  },
  {
   "cell_type": "markdown",
   "id": "c8a9f671",
   "metadata": {},
   "source": [
    "Test Using 5 epochs and adam as the optimizer with learning rate 0.001"
   ]
  },
  {
   "cell_type": "code",
   "execution_count": 136,
   "id": "a34c3785",
   "metadata": {},
   "outputs": [
    {
     "data": {
      "text/plain": [
       "<keras.optimizers.optimizer_experimental.adam.Adam at 0x1c528c51220>"
      ]
     },
     "execution_count": 136,
     "metadata": {},
     "output_type": "execute_result"
    }
   ],
   "source": [
    "  model = Sequential()\n",
    "  model.add(Conv2D(32, kernel_size=(3, 3), activation='relu', input_shape=(9,9,1)))\n",
    "  model.add(MaxPooling2D(pool_size=(2, 2)))\n",
    "  model.add(Conv2D(64, kernel_size=(3, 3), activation='relu'))\n",
    "\n",
    "  model.add(Flatten())\n",
    "  model.add(Dense(256, activation='relu'))\n",
    "  model.add(Dense(128, activation='relu'))\n",
    "  model.add(Dense(5, activation='softmax'))\n",
    "  keras.optimizers.Adam(\n",
    "    learning_rate=1,\n",
    "    beta_1=0.9,\n",
    "    beta_2=0.999,\n",
    "    epsilon=1e-07,\n",
    "    amsgrad=False,\n",
    "    name=\"Adam\",\n",
    "    \n",
    ")\n"
   ]
  },
  {
   "cell_type": "code",
   "execution_count": 137,
   "id": "9b24eea6",
   "metadata": {},
   "outputs": [
    {
     "name": "stdout",
     "output_type": "stream",
     "text": [
      "Model: \"sequential_27\"\n",
      "_________________________________________________________________\n",
      " Layer (type)                Output Shape              Param #   \n",
      "=================================================================\n",
      " conv2d_54 (Conv2D)          (None, 7, 7, 32)          320       \n",
      "                                                                 \n",
      " max_pooling2d_27 (MaxPoolin  (None, 3, 3, 32)         0         \n",
      " g2D)                                                            \n",
      "                                                                 \n",
      " conv2d_55 (Conv2D)          (None, 1, 1, 64)          18496     \n",
      "                                                                 \n",
      " flatten_27 (Flatten)        (None, 64)                0         \n",
      "                                                                 \n",
      " dense_81 (Dense)            (None, 256)               16640     \n",
      "                                                                 \n",
      " dense_82 (Dense)            (None, 128)               32896     \n",
      "                                                                 \n",
      " dense_83 (Dense)            (None, 5)                 645       \n",
      "                                                                 \n",
      "=================================================================\n",
      "Total params: 68,997\n",
      "Trainable params: 68,997\n",
      "Non-trainable params: 0\n",
      "_________________________________________________________________\n"
     ]
    }
   ],
   "source": [
    "model.compile(optimizer='Adam', loss='sparse_categorical_crossentropy', metrics=['accuracy'])\n",
    "model.summary()"
   ]
  },
  {
   "cell_type": "code",
   "execution_count": 138,
   "id": "015b6bba",
   "metadata": {},
   "outputs": [
    {
     "name": "stdout",
     "output_type": "stream",
     "text": [
      "Epoch 1/5\n",
      "4/4 [==============================] - 1s 3ms/step - loss: 1.5439 - accuracy: 0.7130\n",
      "Epoch 2/5\n",
      "4/4 [==============================] - 0s 3ms/step - loss: 1.2793 - accuracy: 0.9352\n",
      "Epoch 3/5\n",
      "4/4 [==============================] - 0s 3ms/step - loss: 0.9001 - accuracy: 0.8056\n",
      "Epoch 4/5\n",
      "4/4 [==============================] - 0s 3ms/step - loss: 0.5806 - accuracy: 0.8981\n",
      "Epoch 5/5\n",
      "4/4 [==============================] - 0s 3ms/step - loss: 0.4027 - accuracy: 0.9259\n"
     ]
    },
    {
     "data": {
      "text/plain": [
       "<keras.callbacks.History at 0x1c528c97a30>"
      ]
     },
     "execution_count": 138,
     "metadata": {},
     "output_type": "execute_result"
    }
   ],
   "source": [
    "model.fit(x_train, y_train, epochs=5)"
   ]
  },
  {
   "cell_type": "code",
   "execution_count": 139,
   "id": "db03ccd5",
   "metadata": {},
   "outputs": [
    {
     "name": "stdout",
     "output_type": "stream",
     "text": [
      "Test Loss at 1 LR: 0.34126389026641846\n",
      "Test Accuracy at 1: 0.9444444179534912\n"
     ]
    }
   ],
   "source": [
    "score = model.evaluate(x_test, y_test, verbose=0)\n",
    "print('Test Loss at 1 LR:', score[0])\n",
    "print('Test Accuracy at 1:', score[1])"
   ]
  },
  {
   "cell_type": "markdown",
   "id": "d47b81a8",
   "metadata": {},
   "source": [
    "We can notice increase in accuracy on increasing learning rate."
   ]
  },
  {
   "cell_type": "markdown",
   "id": "3e1568cd",
   "metadata": {},
   "source": [
    "Test using the RMSprop optimizer"
   ]
  },
  {
   "cell_type": "code",
   "execution_count": 145,
   "id": "86f02e4f",
   "metadata": {},
   "outputs": [
    {
     "data": {
      "text/plain": [
       "<keras.optimizers.optimizer_experimental.rmsprop.RMSprop at 0x1c52b2e1040>"
      ]
     },
     "execution_count": 145,
     "metadata": {},
     "output_type": "execute_result"
    }
   ],
   "source": [
    "  model = Sequential()\n",
    "  model.add(Conv2D(32, kernel_size=(3, 3), activation='relu', input_shape=(9,9,1)))\n",
    "  model.add(MaxPooling2D(pool_size=(2, 2)))\n",
    "  model.add(Conv2D(64, kernel_size=(3, 3), activation='relu'))\n",
    "\n",
    "  model.add(Flatten())\n",
    "  model.add(Dense(256, activation='relu'))\n",
    "  model.add(Dense(128, activation='relu'))\n",
    "  model.add(Dense(5, activation='softmax'))\n",
    "  keras.optimizers.RMSprop(\n",
    "    learning_rate=0.001,\n",
    "    rho=0.9,\n",
    "    momentum=0.1,\n",
    "    epsilon=1e-07,\n",
    "    centered=False,\n",
    "    name=\"RMSprop\",\n",
    ")"
   ]
  },
  {
   "cell_type": "code",
   "execution_count": 149,
   "id": "2b396e99",
   "metadata": {},
   "outputs": [
    {
     "name": "stdout",
     "output_type": "stream",
     "text": [
      "Model: \"sequential_29\"\n",
      "_________________________________________________________________\n",
      " Layer (type)                Output Shape              Param #   \n",
      "=================================================================\n",
      " conv2d_58 (Conv2D)          (None, 7, 7, 32)          320       \n",
      "                                                                 \n",
      " max_pooling2d_29 (MaxPoolin  (None, 3, 3, 32)         0         \n",
      " g2D)                                                            \n",
      "                                                                 \n",
      " conv2d_59 (Conv2D)          (None, 1, 1, 64)          18496     \n",
      "                                                                 \n",
      " flatten_29 (Flatten)        (None, 64)                0         \n",
      "                                                                 \n",
      " dense_87 (Dense)            (None, 256)               16640     \n",
      "                                                                 \n",
      " dense_88 (Dense)            (None, 128)               32896     \n",
      "                                                                 \n",
      " dense_89 (Dense)            (None, 5)                 645       \n",
      "                                                                 \n",
      "=================================================================\n",
      "Total params: 68,997\n",
      "Trainable params: 68,997\n",
      "Non-trainable params: 0\n",
      "_________________________________________________________________\n"
     ]
    }
   ],
   "source": [
    "model.compile(optimizer='RMSprop', loss='sparse_categorical_crossentropy', metrics=['accuracy'])\n",
    "model.summary()"
   ]
  },
  {
   "cell_type": "code",
   "execution_count": 166,
   "id": "8580a057",
   "metadata": {},
   "outputs": [
    {
     "name": "stdout",
     "output_type": "stream",
     "text": [
      "Epoch 1/5\n",
      "4/4 [==============================] - 0s 3ms/step - loss: 1.5921 - accuracy: 0.2407\n",
      "Epoch 2/5\n",
      "4/4 [==============================] - 0s 2ms/step - loss: 1.5919 - accuracy: 0.2407\n",
      "Epoch 3/5\n",
      "4/4 [==============================] - 0s 3ms/step - loss: 1.5916 - accuracy: 0.2407\n",
      "Epoch 4/5\n",
      "4/4 [==============================] - 0s 3ms/step - loss: 1.5914 - accuracy: 0.2407\n",
      "Epoch 5/5\n",
      "4/4 [==============================] - 0s 3ms/step - loss: 1.5912 - accuracy: 0.2407\n"
     ]
    },
    {
     "data": {
      "text/plain": [
       "<keras.callbacks.History at 0x1c52fa6a730>"
      ]
     },
     "execution_count": 166,
     "metadata": {},
     "output_type": "execute_result"
    }
   ],
   "source": [
    "model.fit(x_train, y_train, epochs=5)"
   ]
  },
  {
   "cell_type": "code",
   "execution_count": 167,
   "id": "7868a7cf",
   "metadata": {},
   "outputs": [
    {
     "name": "stdout",
     "output_type": "stream",
     "text": [
      "Test Loss at 0.001 LR: 1.5963112115859985\n",
      "Test Accuracy at 0.001: 0.1388888955116272\n"
     ]
    }
   ],
   "source": [
    "score = model.evaluate(x_test, y_test, verbose=0)\n",
    "print('Test Loss at 0.001 LR:', score[0])\n",
    "print('Test Accuracy at 0.001:', score[1])"
   ]
  },
  {
   "cell_type": "markdown",
   "id": "6bb8efe5",
   "metadata": {},
   "source": [
    "Test using Adadelta optimizer"
   ]
  },
  {
   "cell_type": "code",
   "execution_count": 168,
   "id": "26b0a7d7",
   "metadata": {},
   "outputs": [
    {
     "name": "stdout",
     "output_type": "stream",
     "text": [
      "Model: \"sequential_35\"\n",
      "_________________________________________________________________\n",
      " Layer (type)                Output Shape              Param #   \n",
      "=================================================================\n",
      " conv2d_65 (Conv2D)          (None, 7, 7, 32)          320       \n",
      "                                                                 \n",
      " max_pooling2d_35 (MaxPoolin  (None, 3, 3, 32)         0         \n",
      " g2D)                                                            \n",
      "                                                                 \n",
      " flatten_35 (Flatten)        (None, 288)               0         \n",
      "                                                                 \n",
      " dense_95 (Dense)            (None, 5)                 1445      \n",
      "                                                                 \n",
      "=================================================================\n",
      "Total params: 1,765\n",
      "Trainable params: 1,765\n",
      "Non-trainable params: 0\n",
      "_________________________________________________________________\n"
     ]
    }
   ],
   "source": [
    "model = keras.models.Sequential([\n",
    "  keras.layers.Conv2D(32, (3,3), activation='relu', input_shape=(9,9,1)),\n",
    "  keras.layers.MaxPooling2D(2, 2),\n",
    "  keras.layers.Flatten(),\n",
    "  \n",
    " keras.layers.Dense(5, activation='softmax')\n",
    "    \n",
    "])\n",
    "\n",
    "keras.optimizers.Adadelta(\n",
    "    learning_rate=0.001, rho=0.95, epsilon=1e-07, name=\"Adadelta\")\n",
    "    \n",
    "    \n",
    "\n",
    "model.compile(optimizer='Adadelta', loss='sparse_categorical_crossentropy', metrics=['accuracy'])\n",
    "model.summary()"
   ]
  },
  {
   "cell_type": "code",
   "execution_count": 169,
   "id": "295591db",
   "metadata": {},
   "outputs": [
    {
     "name": "stdout",
     "output_type": "stream",
     "text": [
      "Epoch 1/5\n",
      "4/4 [==============================] - 0s 3ms/step - loss: 1.5573 - accuracy: 0.4907\n",
      "Epoch 2/5\n",
      "4/4 [==============================] - 0s 3ms/step - loss: 1.5570 - accuracy: 0.4907\n",
      "Epoch 3/5\n",
      "4/4 [==============================] - 0s 3ms/step - loss: 1.5568 - accuracy: 0.4907\n",
      "Epoch 4/5\n",
      "4/4 [==============================] - 0s 3ms/step - loss: 1.5565 - accuracy: 0.4907\n",
      "Epoch 5/5\n",
      "4/4 [==============================] - 0s 2ms/step - loss: 1.5563 - accuracy: 0.4907\n"
     ]
    },
    {
     "data": {
      "text/plain": [
       "<keras.callbacks.History at 0x1c530dfcb20>"
      ]
     },
     "execution_count": 169,
     "metadata": {},
     "output_type": "execute_result"
    }
   ],
   "source": [
    "model.fit(x_train, y_train, epochs=5)"
   ]
  },
  {
   "cell_type": "code",
   "execution_count": 170,
   "id": "cf306bc3",
   "metadata": {},
   "outputs": [
    {
     "name": "stdout",
     "output_type": "stream",
     "text": [
      "Test Loss at 0.001 LR: 1.5469259023666382\n",
      "Test Accuracy at 0.001: 0.5277777910232544\n"
     ]
    }
   ],
   "source": [
    "score = model.evaluate(x_test, y_test, verbose=0)\n",
    "print('Test Loss at 0.001 LR:', score[0])\n",
    "print('Test Accuracy at 0.001:', score[1])"
   ]
  },
  {
   "cell_type": "markdown",
   "id": "faeafc3c",
   "metadata": {},
   "source": [
    "Adadelta comes out as the worst in my test even after varying the learning rate"
   ]
  }
 ],
 "metadata": {
  "kernelspec": {
   "display_name": "Python 3 (ipykernel)",
   "language": "python",
   "name": "python3"
  },
  "language_info": {
   "codemirror_mode": {
    "name": "ipython",
    "version": 3
   },
   "file_extension": ".py",
   "mimetype": "text/x-python",
   "name": "python",
   "nbconvert_exporter": "python",
   "pygments_lexer": "ipython3",
   "version": "3.9.12"
  }
 },
 "nbformat": 4,
 "nbformat_minor": 5
}
