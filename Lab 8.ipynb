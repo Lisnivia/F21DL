{
 "cells": [
  {
   "cell_type": "markdown",
   "metadata": {},
   "source": [
    "https://github.com/ageron/handson-ml2/blob/master/06_decision_trees.ipynb <br/>\n",
    "https://github.com/ageron/handson-ml2/blob/master/04_training_linear_models.ipynb\n",
    "\n",
    "# Setup"
   ]
  },
  {
   "cell_type": "code",
   "execution_count": 1,
   "metadata": {},
   "outputs": [],
   "source": [
    "# Python ≥3.5 is required\n",
    "import sys\n",
    "assert sys.version_info >= (3, 5)\n",
    "\n",
    "# Scikit-Learn ≥0.20 is \n",
    "import sklearn\n",
    "from sklearn import metrics\n",
    "from sklearn.metrics import accuracy_score, confusion_matrix, precision_score, recall_score, classification_report\n",
    "from sklearn.metrics import roc_curve, roc_auc_score, f1_score \n",
    "assert sklearn.__version__ >= \"0.20\"\n",
    "from sklearn.model_selection import train_test_split,cross_val_score, KFold, cross_val_predict\n",
    "from sklearn.ensemble import RandomForestClassifier\n",
    "\n",
    "# Common imports\n",
    "import numpy as np\n",
    "import pandas as pd\n",
    "import os\n",
    "\n",
    "# to make this notebook's output stable across runs\n",
    "np.random.seed(42)\n",
    "\n",
    "# To plot pretty figures\n",
    "%matplotlib inline\n",
    "import matplotlib as mpl\n",
    "import matplotlib.pyplot as plt\n",
    "mpl.rc('axes', labelsize=14)\n",
    "mpl.rc('xtick', labelsize=12)\n",
    "mpl.rc('ytick', labelsize=12)"
   ]
  },
  {
   "cell_type": "markdown",
   "metadata": {},
   "source": [
    "# Training and visualizing"
   ]
  },
  {
   "cell_type": "code",
   "execution_count": 2,
   "metadata": {
    "scrolled": true
   },
   "outputs": [
    {
     "name": "stdout",
     "output_type": "stream",
     "text": [
      "      gender   age  hypertension  heart_disease  ever_married  \\\n",
      "0          0  67.0             0              1             1   \n",
      "1          0  80.0             0              1             1   \n",
      "2          1  49.0             0              0             1   \n",
      "3          1  79.0             1              0             1   \n",
      "4          0  81.0             0              0             1   \n",
      "...      ...   ...           ...            ...           ...   \n",
      "4976       0  41.0             0              0             0   \n",
      "4977       0  40.0             0              0             1   \n",
      "4978       1  45.0             1              0             1   \n",
      "4979       0  40.0             0              0             1   \n",
      "4980       1  80.0             1              0             1   \n",
      "\n",
      "      avg_glucose_level   bmi  smoking_status  stroke  \n",
      "0                228.69  36.6               2       1  \n",
      "1                105.92  32.5               1       1  \n",
      "2                171.23  34.4               3       1  \n",
      "3                174.12  24.0               1       1  \n",
      "4                186.21  29.0               2       1  \n",
      "...                 ...   ...             ...     ...  \n",
      "4976              70.15  29.8               2       0  \n",
      "4977             191.15  31.1               3       0  \n",
      "4978              95.02  31.8               3       0  \n",
      "4979              83.94  30.0               3       0  \n",
      "4980              83.75  29.1               1       0  \n",
      "\n",
      "[4981 rows x 9 columns]\n"
     ]
    }
   ],
   "source": [
    "from sklearn.datasets import load_iris\n",
    "from sklearn.tree import DecisionTreeClassifier,plot_tree\n",
    "\n",
    "url= \"brain_stroke_in_numeric_without_useless_data.csv\"\n",
    "brain = pd.read_csv(url)\n",
    "brain = brain.drop(brain.columns[0], axis=1)\n",
    "brain_pca = pd.read_csv('brain_stroke_after_pca.csv')\n",
    "brain_pca = brain_pca.drop(brain_pca.columns[0], axis=1) \n",
    "print(brain)"
   ]
  },
  {
   "cell_type": "code",
   "execution_count": 3,
   "metadata": {},
   "outputs": [],
   "source": [
    "# Test accuracy with avg_glucose_level and bmi"
   ]
  },
  {
   "cell_type": "code",
   "execution_count": 4,
   "metadata": {},
   "outputs": [
    {
     "name": "stdout",
     "output_type": "stream",
     "text": [
      "Accuracy: 0.9478260869565217\n"
     ]
    }
   ],
   "source": [
    "X = brain.iloc[:, [5,6]].to_numpy()\n",
    "y = brain.iloc[:, 8].to_numpy()\n",
    "\n",
    "X_train, X_test, y_train, y_test = train_test_split(X, y, test_size=0.3, random_state=42)\n",
    "\n",
    "tree_clf = DecisionTreeClassifier(max_depth=2,random_state=42)\n",
    "y_pred = tree_clf.fit(X_train, y_train).predict(X_test)\n",
    "print(\"Accuracy:\",metrics.accuracy_score(y_test, y_pred))"
   ]
  },
  {
   "cell_type": "code",
   "execution_count": 5,
   "metadata": {},
   "outputs": [
    {
     "data": {
      "image/png": "[encoded data removed]",
      "text/plain": [
       "<Figure size 432x288 with 1 Axes>"
      ]
     },
     "metadata": {
      "needs_background": "light"
     },
     "output_type": "display_data"
    }
   ],
   "source": [
    "plot_tree(tree_clf);"
   ]
  },
  {
   "cell_type": "code",
   "execution_count": 6,
   "metadata": {},
   "outputs": [],
   "source": [
    "# Test accuracy with age and avg_glucose_level"
   ]
  },
  {
   "cell_type": "code",
   "execution_count": 7,
   "metadata": {},
   "outputs": [
    {
     "name": "stdout",
     "output_type": "stream",
     "text": [
      "Accuracy: 0.9478260869565217\n"
     ]
    }
   ],
   "source": [
    "X = brain.iloc[:, [1,5]].to_numpy()\n",
    "y = brain.iloc[:, 8].to_numpy()\n",
    "\n",
    "X_train, X_test, y_train, y_test = train_test_split(X, y, test_size=0.3, random_state=42)\n",
    "\n",
    "tree_clf = DecisionTreeClassifier(max_depth=2,random_state=42)\n",
    "y_pred = tree_clf.fit(X_train, y_train).predict(X_test)\n",
    "print(\"Accuracy:\",metrics.accuracy_score(y_test, y_pred))"
   ]
  },
  {
   "cell_type": "code",
   "execution_count": 8,
   "metadata": {},
   "outputs": [
    {
     "data": {
      "image/png": "[encoded data removed]",
      "text/plain": [
       "<Figure size 432x288 with 1 Axes>"
      ]
     },
     "metadata": {
      "needs_background": "light"
     },
     "output_type": "display_data"
    }
   ],
   "source": [
    "plot_tree(tree_clf);"
   ]
  },
  {
   "cell_type": "code",
   "execution_count": 9,
   "metadata": {},
   "outputs": [],
   "source": [
    "# Test accuracy with age and bmi"
   ]
  },
  {
   "cell_type": "code",
   "execution_count": 10,
   "metadata": {},
   "outputs": [
    {
     "name": "stdout",
     "output_type": "stream",
     "text": [
      "Accuracy: 0.9478260869565217\n"
     ]
    }
   ],
   "source": [
    "X = brain.iloc[:, [1,6]].to_numpy()\n",
    "y = brain.iloc[:, 8].to_numpy()\n",
    "\n",
    "X_train, X_test, y_train, y_test = train_test_split(X, y, test_size=0.3, random_state=42)\n",
    "\n",
    "tree_clf = DecisionTreeClassifier(max_depth=2,random_state=42)\n",
    "y_pred = tree_clf.fit(X_train, y_train).predict(X_test)\n",
    "print(\"Accuracy:\",metrics.accuracy_score(y_test, y_pred))"
   ]
  },
  {
   "cell_type": "code",
   "execution_count": 11,
   "metadata": {},
   "outputs": [
    {
     "data": {
      "image/png": "[encoded data removed]",
      "text/plain": [
       "<Figure size 432x288 with 1 Axes>"
      ]
     },
     "metadata": {
      "needs_background": "light"
     },
     "output_type": "display_data"
    }
   ],
   "source": [
    "plot_tree(tree_clf);"
   ]
  },
  {
   "cell_type": "code",
   "execution_count": 12,
   "metadata": {},
   "outputs": [],
   "source": [
    "# Test accuracy with pca "
   ]
  },
  {
   "cell_type": "code",
   "execution_count": 13,
   "metadata": {},
   "outputs": [
    {
     "name": "stdout",
     "output_type": "stream",
     "text": [
      "Accuracy: 0.9478260869565217\n"
     ]
    }
   ],
   "source": [
    "X = brain_pca.iloc[:, [0,1]].to_numpy()\n",
    "y = brain_pca.iloc[:, 2].to_numpy()\n",
    "\n",
    "X_train, X_test, y_train, y_test = train_test_split(X, y, test_size=0.3, random_state=42)\n",
    "\n",
    "tree_clf = DecisionTreeClassifier(max_depth=2,random_state=42)\n",
    "y_pred = tree_clf.fit(X_train, y_train).predict(X_test)\n",
    "print(\"Accuracy:\",metrics.accuracy_score(y_test, y_pred))"
   ]
  },
  {
   "cell_type": "code",
   "execution_count": 14,
   "metadata": {},
   "outputs": [
    {
     "data": {
      "image/png": "[encoded data removed]",
      "text/plain": [
       "<Figure size 432x288 with 1 Axes>"
      ]
     },
     "metadata": {
      "needs_background": "light"
     },
     "output_type": "display_data"
    }
   ],
   "source": [
    "plot_tree(tree_clf);"
   ]
  },
  {
   "cell_type": "code",
   "execution_count": 15,
   "metadata": {},
   "outputs": [],
   "source": [
    "# We are using the PCA because more simple to use, and this dataset summarize the best of all the features in the dataset \n",
    "# We are not printing the plot see in the tutorial because they are not relevant with our dataset"
   ]
  },
  {
   "cell_type": "code",
   "execution_count": 16,
   "metadata": {},
   "outputs": [],
   "source": [
    "class EnsembleClassifier():\n",
    "\n",
    "    def __init__(self,base_classifier,labels):\n",
    "        self.classifier = [base_classifier]\n",
    "        self.labels = labels\n",
    "    def add_classifier(self,classifier):\n",
    "        self.classifier.append(classifier)\n",
    "    def remove_last_classifier(self):\n",
    "        self.classifier.pop(-1)\n",
    "    def predict_proba(self,X):\n",
    "        return np.array([clf.predict_proba(X) for clf in self.classifier]).sum(axis=0)/len(self.classifier)\n",
    "    def predict(self,X):\n",
    "        return labels[np.argmax(self.predict_proba(X),axis=1)]\n",
    "    def error(self,X,y):\n",
    "        return 1 - accuracy_score(y,ensembleClassifier.predict(X))\n",
    "\n",
    "class Artificial_data():\n",
    "\n",
    "    def __init__(self,X,y,dtypes):\n",
    "        self.dtypes = {}\n",
    "        self._generator = {}\n",
    "        self.labels = y.unique()\n",
    "        for c, dtype in zip(X.columns, dtypes):\n",
    "            self.dtypes[c] = dtype\n",
    "            if dtype == 'numeric':\n",
    "                self._generator[c] = {'mean':X[c].mean(),'std':X[c].std()}\n",
    "            else:\n",
    "                unique_values = X[c].value_counts() / X.shape[0]\n",
    "                self._generator[c] = {'values':unique_values.index,'prob':unique_values.values}\n",
    "\n",
    "    def sample_generator(self,ensembleClasifier,nb_samples=1):\n",
    "        syn_X = pd.DataFrame()\n",
    "        for c in self.dtypes.keys():\n",
    "            if self.dtypes[c] == 'numeric':\n",
    "                syn_X[c] = np.random.normal(self._generator[c]['mean'],self._generator[c]['std'],nb_samples)\n",
    "            else:\n",
    "                syn_X[c] = np.random.choice(self._generator[c]['values'],p=self._generator[c]['prob'],\n",
    "                                             size=nb_samples,replace=True)\n",
    "        p_hat = ensembleClassifier.predict_proba(syn_X)\n",
    "        p_hat[p_hat==0] = 1e-5\n",
    "        inverse_p = 1/p_hat\n",
    "        new_p = inverse_p / inverse_p.sum(axis=1)[:, np.newaxis]\n",
    "        syn_y = [np.random.choice(self.labels,p=new_p[i]) for i in range(nb_samples)]\n",
    "        return syn_X,syn_y  \n",
    "\n"
   ]
  },
  {
   "cell_type": "code",
   "execution_count": 17,
   "metadata": {},
   "outputs": [],
   "source": [
    "# C4.5 algorithm made by Basit "
   ]
  },
  {
   "cell_type": "code",
   "execution_count": 18,
   "metadata": {},
   "outputs": [
    {
     "name": "stdout",
     "output_type": "stream",
     "text": [
      "improvement\n",
      "0.048192771084337394\n",
      "improvement\n",
      "0.048192771084337394\n",
      "improvement\n",
      "0.048192771084337394\n"
     ]
    }
   ],
   "source": [
    "X = brain_pca.iloc[:, [0,1]]\n",
    "y = brain_pca.iloc[:, 2]\n",
    "\n",
    "X_train_base, X_test, y_train_base, y_test = train_test_split(X, y, test_size=0.3, random_state=42)\n",
    "\n",
    "dtypes=['numeric' for _ in range(2)]\n",
    "np.random.seed(1)\n",
    "artifical_data = Artificial_data(X_train_base, y_train_base, dtypes)\n",
    "\n",
    "c_size = 15\n",
    "i_max = 300 \n",
    "R_size = len(X_train_base)\n",
    "i = 1\n",
    "trails =1\n",
    "labels = np.unique(y_train_base)\n",
    "clf = DecisionTreeClassifier(random_state = 1, max_depth=2)\n",
    "clf.fit(X_train_base, y_train_base)\n",
    "\n",
    "\n",
    "ensembleClassifier = EnsembleClassifier(clf,labels)\n",
    "error_bst = ensembleClassifier.error(X_train_base, y_train_base)\n",
    "\n",
    "while (i < c_size and trails < i_max):\n",
    "    X_syn, y_syn = artifical_data.sample_generator(ensembleClassifier, R_size)\n",
    "    X_train = pd.concat([X_train_base, X_syn], axis = 0)\n",
    "    y_train = np.append(y_train_base, y_syn, axis = 0)\n",
    "\n",
    "    C_prime = DecisionTreeClassifier(random_state = 1, max_depth = 2)\n",
    "    y_pred = C_prime.fit(X_train, y_train)\n",
    "\n",
    "    ensembleClassifier.add_classifier(C_prime)\n",
    "\n",
    "    error_i = ensembleClassifier.error(X_train_base, y_train_base)\n",
    "\n",
    "    if error_i <= error_bst:\n",
    "        print('improvement')\n",
    "        error_bst = error_i\n",
    "        print(error_i)\n",
    "        i += 1\n",
    "    else:\n",
    "        ensembleClassifier.remove_last_classifier()\n",
    "\n",
    "    trails +=1\n",
    "\n"
   ]
  },
  {
   "cell_type": "code",
   "execution_count": 19,
   "metadata": {},
   "outputs": [],
   "source": [
    "# C4.5 algorithm apply with the chefboost library "
   ]
  },
  {
   "cell_type": "code",
   "execution_count": 21,
   "metadata": {},
   "outputs": [
    {
     "name": "stdout",
     "output_type": "stream",
     "text": [
      "[INFO]:  3 CPU cores will be allocated in parallel running\n",
      "WARNING: You set the algorithm to  C4.5  but the Decision column of your data set has non-object type.\n",
      "That's why, the algorithm is set to Regression to handle the data set.\n",
      "Regression  tree is going to be built...\n",
      "-------------------------\n",
      "finished in  0.6128432750701904  seconds\n",
      "-------------------------\n",
      "Evaluate  train set\n",
      "-------------------------\n",
      "MAE:  0.049789198956032926\n",
      "MSE:  0.049789198956032926\n",
      "RMSE:  0.22313493441420804\n",
      "RAE:  1.0\n",
      "RRSE:  1.0258645408635299\n",
      "Mean:  0.049789198956032926\n",
      "MAE / Mean:  100.0 %\n",
      "RMSE / Mean:  448.1593178698267 %\n"
     ]
    }
   ],
   "source": [
    "from chefboost import Chefboost as chef\n",
    "\n",
    "config = {'algorithm': 'C4.5'}\n",
    "\n",
    "model = chef.fit(brain_pca, config=config, target_label = \"stroke\")"
   ]
  },
  {
   "cell_type": "code",
   "execution_count": 22,
   "metadata": {},
   "outputs": [],
   "source": [
    "# 10-fold cross-validation on the training set "
   ]
  },
  {
   "cell_type": "code",
   "execution_count": 24,
   "metadata": {},
   "outputs": [],
   "source": [
    "# kf = KFold(n_splits=10)\n",
    "# score = cross_val_score(model, X_train, y_train, cv=kf, scoring='accuracy')\n",
    "# print(\"Cross Validation Scores are {}\".format(score))\n",
    "# print(\"Accuracy Cross Validation score :{}\".format(score.mean()))\n",
    "# y_train_pred = cross_val_predict(model, X_train, y_train, cv=kf)\n",
    "# tn, fp, fn, tp = confusion_matrix(y_train, y_train_pred).ravel()\n",
    "# print(\"TN: %.0f\" % tn + \", FP: %.0f\" % fp + \", FN: %.0f\" % fn + \", TP: %.0f\" % tp)\n",
    "# print(precision_score(y_train, y_train_pred))\n",
    "# print(recall_score(y_train, y_train_pred))"
   ]
  },
  {
   "cell_type": "code",
   "execution_count": 25,
   "metadata": {},
   "outputs": [],
   "source": [
    "# Basic decision tree with no parameters"
   ]
  },
  {
   "cell_type": "code",
   "execution_count": 26,
   "metadata": {},
   "outputs": [
    {
     "name": "stdout",
     "output_type": "stream",
     "text": [
      "Accuracy: 0.9170568561872909\n"
     ]
    }
   ],
   "source": [
    "X = brain_pca.iloc[:, [0,1]]\n",
    "y = brain_pca.iloc[:, 2]\n",
    "\n",
    "X_train, X_test, y_train, y_test = train_test_split(X, y, test_size=0.3, random_state=42)\n",
    "\n",
    "tree_clf = DecisionTreeClassifier(random_state=42)\n",
    "y_pred = tree_clf.fit(X_train, y_train).predict(X_test)\n",
    "print(\"Accuracy:\",metrics.accuracy_score(y_test, y_pred))"
   ]
  },
  {
   "cell_type": "code",
   "execution_count": 27,
   "metadata": {},
   "outputs": [
    {
     "name": "stdout",
     "output_type": "stream",
     "text": [
      "train: 1.0\n",
      "test: 0.9170568561872909\n"
     ]
    }
   ],
   "source": [
    "print(\"train:\", tree_clf.score(X_train, y_train))\n",
    "print(\"test:\", tree_clf.score(X_test, y_test))\n",
    "# overfitting"
   ]
  },
  {
   "cell_type": "code",
   "execution_count": 28,
   "metadata": {},
   "outputs": [
    {
     "name": "stdout",
     "output_type": "stream",
     "text": [
      "Accuracy Cross Validation score :0.9079060040180483\n",
      "TN: 3154, FP: 162, FN: 159, TP: 11\n",
      "Precision: 0.06358381502890173\n",
      "Recall: 0.06470588235294118\n",
      "f1 score: 0.0641399416909621\n"
     ]
    }
   ],
   "source": [
    "# 10-fold cross validation on basic tree\n",
    "kf = KFold(n_splits=10)\n",
    "score = cross_val_score(tree_clf, X_train, y_train, cv=kf, scoring='accuracy')\n",
    "print(\"Accuracy Cross Validation score :{}\".format(score.mean()))\n",
    "y_train_pred = cross_val_predict(tree_clf, X_train, y_train, cv=kf)\n",
    "tn, fp, fn, tp = confusion_matrix(y_train, y_train_pred).ravel()\n",
    "print(\"TN: %.0f\" % tn + \", FP: %.0f\" % fp + \", FN: %.0f\" % fn + \", TP: %.0f\" % tp)\n",
    "print(\"Precision:\",precision_score(y_train, y_train_pred))\n",
    "print(\"Recall:\", recall_score(y_train, y_train_pred))\n",
    "print(\"f1 score:\", f1_score(y_train, y_train_pred))"
   ]
  },
  {
   "cell_type": "code",
   "execution_count": 29,
   "metadata": {},
   "outputs": [],
   "source": [
    "# find the best alpha for our data"
   ]
  },
  {
   "cell_type": "code",
   "execution_count": 30,
   "metadata": {},
   "outputs": [],
   "source": [
    "path = tree_clf.cost_complexity_pruning_path(X_train, y_train)\n",
    "ccp_alphas, impurities = path.ccp_alphas, path.impurities"
   ]
  },
  {
   "cell_type": "code",
   "execution_count": 31,
   "metadata": {},
   "outputs": [
    {
     "name": "stdout",
     "output_type": "stream",
     "text": [
      "Number of nodes in the last tree is: 1 with ccp_alpha: 0.0036422095042556724\n"
     ]
    }
   ],
   "source": [
    "# from https://scikit-learn.org/stable/auto_examples/tree/plot_cost_complexity_pruning.html\n",
    "tree_clfs = []\n",
    "for ccp_alpha in ccp_alphas:\n",
    "    tree_clf = DecisionTreeClassifier(random_state=0, ccp_alpha=ccp_alpha)\n",
    "    tree_clf.fit(X_train, y_train)\n",
    "    tree_clfs.append(tree_clf)\n",
    "print(\n",
    "    \"Number of nodes in the last tree is: {} with ccp_alpha: {}\".format(\n",
    "        tree_clfs[-1].tree_.node_count, ccp_alphas[-1]\n",
    "    )\n",
    ")"
   ]
  },
  {
   "cell_type": "code",
   "execution_count": 32,
   "metadata": {},
   "outputs": [
    {
     "data": {
      "image/png": "[encoded data removed]",
      "text/plain": [
       "<Figure size 432x432 with 2 Axes>"
      ]
     },
     "metadata": {
      "needs_background": "light"
     },
     "output_type": "display_data"
    }
   ],
   "source": [
    "# from https://scikit-learn.org/stable/auto_examples/tree/plot_cost_complexity_pruning.html\n",
    "tree_clfs = tree_clfs[:-1]\n",
    "ccp_alphas = ccp_alphas[:-1]\n",
    "\n",
    "node_counts = [tree_clf.tree_.node_count for tree_clf in tree_clfs]\n",
    "depth = [tree_clf.tree_.max_depth for tree_clf in tree_clfs]\n",
    "fig, ax = plt.subplots(2, 1, figsize=(6, 6))\n",
    "ax[0].plot(ccp_alphas, node_counts, marker=\"o\", drawstyle=\"steps-post\")\n",
    "ax[0].set_xlabel(\"alpha\")\n",
    "ax[0].set_ylabel(\"number of nodes\")\n",
    "ax[0].set_title(\"Number of nodes vs alpha\")\n",
    "ax[1].plot(ccp_alphas, depth, marker=\"o\", drawstyle=\"steps-post\")\n",
    "ax[1].set_xlabel(\"alpha\")\n",
    "ax[1].set_ylabel(\"depth of tree\")\n",
    "ax[1].set_title(\"Depth vs alpha\")\n",
    "fig.tight_layout()"
   ]
  },
  {
   "cell_type": "code",
   "execution_count": 33,
   "metadata": {},
   "outputs": [
    {
     "data": {
      "image/png": "[encoded data removed]",
      "text/plain": [
       "<Figure size 720x432 with 1 Axes>"
      ]
     },
     "metadata": {
      "needs_background": "light"
     },
     "output_type": "display_data"
    }
   ],
   "source": [
    "train_scores = [tree_clf.score(X_train, y_train) for tree_clf in tree_clfs]\n",
    "test_scores = [tree_clf.score(X_test, y_test) for tree_clf in tree_clfs]\n",
    "\n",
    "fig, ax = plt.subplots(figsize=(10, 6))\n",
    "ax.set_xlabel(\"alpha\")\n",
    "ax.set_ylabel(\"accuracy\")\n",
    "ax.set_title(\"Accuracy vs alpha for training and testing sets\")\n",
    "ax.plot(ccp_alphas, train_scores, marker=\"o\", label=\"train\", drawstyle=\"steps-post\")\n",
    "ax.plot(ccp_alphas, test_scores, marker=\"o\", label=\"test\", drawstyle=\"steps-post\")\n",
    "ax.legend()\n",
    "plt.show()"
   ]
  },
  {
   "cell_type": "code",
   "execution_count": 34,
   "metadata": {},
   "outputs": [],
   "source": [
    "# tree with the best alpha found"
   ]
  },
  {
   "cell_type": "code",
   "execution_count": 35,
   "metadata": {},
   "outputs": [
    {
     "name": "stdout",
     "output_type": "stream",
     "text": [
      "Accuracy: 0.939799331103679\n"
     ]
    }
   ],
   "source": [
    "tree_clf = DecisionTreeClassifier(random_state=42, ccp_alpha=0.0004)\n",
    "y_pred = tree_clf.fit(X_train, y_train).predict(X_test)\n",
    "print(\"Accuracy:\",metrics.accuracy_score(y_test, y_pred))"
   ]
  },
  {
   "cell_type": "code",
   "execution_count": 36,
   "metadata": {},
   "outputs": [
    {
     "name": "stdout",
     "output_type": "stream",
     "text": [
      "Accuracy Cross Validation score :0.9320085301188948\n",
      "TN: 3242, FP: 74, FN: 163, TP: 7\n",
      "Precision: 0.08641975308641975\n",
      "Recall: 0.041176470588235294\n",
      "f1 score: 0.05577689243027889\n"
     ]
    }
   ],
   "source": [
    "# 10-fold cross validation on tree with alpa = 0.0004\n",
    "kf = KFold(n_splits=10)\n",
    "score = cross_val_score(tree_clf, X_train, y_train, cv=kf, scoring='accuracy')\n",
    "print(\"Accuracy Cross Validation score :{}\".format(score.mean()))\n",
    "y_train_pred = cross_val_predict(tree_clf, X_train, y_train, cv=kf)\n",
    "tn, fp, fn, tp = confusion_matrix(y_train, y_train_pred).ravel()\n",
    "print(\"TN: %.0f\" % tn + \", FP: %.0f\" % fp + \", FN: %.0f\" % fn + \", TP: %.0f\" % tp)\n",
    "print(\"Precision:\",precision_score(y_train, y_train_pred))\n",
    "print(\"Recall:\", recall_score(y_train, y_train_pred))\n",
    "print(\"f1 score:\", f1_score(y_train, y_train_pred))"
   ]
  },
  {
   "cell_type": "code",
   "execution_count": 37,
   "metadata": {},
   "outputs": [],
   "source": [
    "# comparing the max_depth"
   ]
  },
  {
   "cell_type": "code",
   "execution_count": 38,
   "metadata": {},
   "outputs": [
    {
     "data": {
      "image/png": "[encoded data removed]",
      "text/plain": [
       "<Figure size 432x432 with 1 Axes>"
      ]
     },
     "metadata": {
      "needs_background": "light"
     },
     "output_type": "display_data"
    }
   ],
   "source": [
    "tree_clfs = []\n",
    "accuracies = []\n",
    "for depth in range(2,100):\n",
    "    tree_clf = DecisionTreeClassifier(random_state=42, max_depth=depth)\n",
    "    y_pred = tree_clf.fit(X_train, y_train).predict(X_test)\n",
    "    tree_clfs.append(tree_clf)\n",
    "    accuracies.append(metrics.accuracy_score(y_test, y_pred))\n",
    "depth_tree = [tree_clf.tree_.max_depth for tree_clf in tree_clfs]\n",
    "fig, ax = plt.subplots(1, 1, figsize=(6, 6))\n",
    "ax.plot(accuracies, depth_tree, marker=\"o\", drawstyle=\"steps-post\")\n",
    "ax.set_xlabel(\"accuracy\")\n",
    "ax.set_ylabel(\"depth of tree\")\n",
    "ax.set_title(\"Depth vs accuracy\")\n",
    "fig.tight_layout()"
   ]
  },
  {
   "cell_type": "code",
   "execution_count": 39,
   "metadata": {},
   "outputs": [],
   "source": [
    "# tree with the max_depth = 4"
   ]
  },
  {
   "cell_type": "code",
   "execution_count": 40,
   "metadata": {},
   "outputs": [
    {
     "name": "stdout",
     "output_type": "stream",
     "text": [
      "Accuracy: 0.9478260869565217\n"
     ]
    }
   ],
   "source": [
    "tree_clf = DecisionTreeClassifier(random_state=42, max_depth=4)\n",
    "y_pred = tree_clf.fit(X_train, y_train).predict(X_test)\n",
    "print(\"Accuracy:\",metrics.accuracy_score(y_test, y_pred))"
   ]
  },
  {
   "cell_type": "code",
   "execution_count": 41,
   "metadata": {},
   "outputs": [
    {
     "name": "stdout",
     "output_type": "stream",
     "text": [
      "Accuracy Cross Validation score :0.9489320883970622\n",
      "TN: 3308, FP: 8, FN: 170, TP: 0\n",
      "Precision: 0.0\n",
      "Recall: 0.0\n",
      "f1 score: 0.0\n"
     ]
    }
   ],
   "source": [
    "# 10-fold cross validation on tree with max_depth = 4\n",
    "kf = KFold(n_splits=10)\n",
    "score = cross_val_score(tree_clf, X_train, y_train, cv=kf, scoring='accuracy')\n",
    "print(\"Accuracy Cross Validation score :{}\".format(score.mean()))\n",
    "y_train_pred = cross_val_predict(tree_clf, X_train, y_train, cv=kf)\n",
    "tn, fp, fn, tp = confusion_matrix(y_train, y_train_pred).ravel()\n",
    "print(\"TN: %.0f\" % tn + \", FP: %.0f\" % fp + \", FN: %.0f\" % fn + \", TP: %.0f\" % tp)\n",
    "print(\"Precision:\",precision_score(y_train, y_train_pred))\n",
    "print(\"Recall:\", recall_score(y_train, y_train_pred))\n",
    "print(\"f1 score:\", f1_score(y_train, y_train_pred))"
   ]
  },
  {
   "cell_type": "code",
   "execution_count": 42,
   "metadata": {},
   "outputs": [],
   "source": [
    "# tree with the max_depth = 15, because 15 is the depth for alpha = 0.0004 on the alpha vs depth graph "
   ]
  },
  {
   "cell_type": "code",
   "execution_count": 43,
   "metadata": {},
   "outputs": [
    {
     "name": "stdout",
     "output_type": "stream",
     "text": [
      "Accuracy: 0.9304347826086956\n"
     ]
    }
   ],
   "source": [
    "tree_clf = DecisionTreeClassifier(random_state=42, max_depth=15)\n",
    "y_pred = tree_clf.fit(X_train, y_train).predict(X_test)\n",
    "print(\"Accuracy:\",metrics.accuracy_score(y_test, y_pred))"
   ]
  },
  {
   "cell_type": "code",
   "execution_count": 44,
   "metadata": {},
   "outputs": [
    {
     "name": "stdout",
     "output_type": "stream",
     "text": [
      "Accuracy Cross Validation score :0.9251202121002537\n",
      "TN: 3218, FP: 98, FN: 163, TP: 7\n",
      "Precision: 0.06666666666666667\n",
      "Recall: 0.041176470588235294\n",
      "f1 score: 0.05090909090909091\n"
     ]
    }
   ],
   "source": [
    "# 10-fold cross validation on tree with max-depth = 15\n",
    "kf = KFold(n_splits=10)\n",
    "score = cross_val_score(tree_clf, X_train, y_train, cv=kf, scoring='accuracy')\n",
    "print(\"Accuracy Cross Validation score :{}\".format(score.mean()))\n",
    "y_train_pred = cross_val_predict(tree_clf, X_train, y_train, cv=kf)\n",
    "tn, fp, fn, tp = confusion_matrix(y_train, y_train_pred).ravel()\n",
    "print(\"TN: %.0f\" % tn + \", FP: %.0f\" % fp + \", FN: %.0f\" % fn + \", TP: %.0f\" % tp)\n",
    "print(\"Precision:\",precision_score(y_train, y_train_pred))\n",
    "print(\"Recall:\", recall_score(y_train, y_train_pred))\n",
    "print(\"f1 score:\", f1_score(y_train, y_train_pred))"
   ]
  },
  {
   "cell_type": "code",
   "execution_count": 45,
   "metadata": {},
   "outputs": [],
   "source": [
    "# test decision tree with  with max-depth = 15 and alpha = 0.0004"
   ]
  },
  {
   "cell_type": "code",
   "execution_count": 46,
   "metadata": {},
   "outputs": [
    {
     "name": "stdout",
     "output_type": "stream",
     "text": [
      "Accuracy: 0.939799331103679\n"
     ]
    }
   ],
   "source": [
    "tree_clf = DecisionTreeClassifier(random_state=42, ccp_alpha=0.0004, max_depth=15)\n",
    "y_pred = tree_clf.fit(X_train, y_train).predict(X_test)\n",
    "print(\"Accuracy:\",metrics.accuracy_score(y_test, y_pred))"
   ]
  },
  {
   "cell_type": "code",
   "execution_count": 47,
   "metadata": {},
   "outputs": [
    {
     "name": "stdout",
     "output_type": "stream",
     "text": [
      "Accuracy Cross Validation score :0.9368828837730133\n",
      "TN: 3260, FP: 56, FN: 164, TP: 6\n",
      "Precision: 0.0967741935483871\n",
      "Recall: 0.03529411764705882\n",
      "f1 score: 0.05172413793103448\n"
     ]
    }
   ],
   "source": [
    "# 10-fold cross validation on tree with max-depth = 15 + alpha = 0.0004\n",
    "kf = KFold(n_splits=10)\n",
    "score = cross_val_score(tree_clf, X_train, y_train, cv=kf, scoring='accuracy')\n",
    "print(\"Accuracy Cross Validation score :{}\".format(score.mean()))\n",
    "y_train_pred = cross_val_predict(tree_clf, X_train, y_train, cv=kf)\n",
    "tn, fp, fn, tp = confusion_matrix(y_train, y_train_pred).ravel()\n",
    "print(\"TN: %.0f\" % tn + \", FP: %.0f\" % fp + \", FN: %.0f\" % fn + \", TP: %.0f\" % tp)\n",
    "print(\"Precision:\",precision_score(y_train, y_train_pred))\n",
    "print(\"Recall:\", recall_score(y_train, y_train_pred))\n",
    "print(\"f1 score:\", f1_score(y_train, y_train_pred))"
   ]
  },
  {
   "cell_type": "code",
   "execution_count": 48,
   "metadata": {},
   "outputs": [],
   "source": [
    "# splitting criteria by default is on \"best\""
   ]
  },
  {
   "cell_type": "code",
   "execution_count": 49,
   "metadata": {},
   "outputs": [
    {
     "name": "stdout",
     "output_type": "stream",
     "text": [
      "Accuracy: 0.9170568561872909\n"
     ]
    }
   ],
   "source": [
    "tree_clf = DecisionTreeClassifier(random_state=42, splitter=\"best\")\n",
    "y_pred = tree_clf.fit(X_train, y_train).predict(X_test)\n",
    "print(\"Accuracy:\",metrics.accuracy_score(y_test, y_pred))"
   ]
  },
  {
   "cell_type": "code",
   "execution_count": 50,
   "metadata": {},
   "outputs": [
    {
     "name": "stdout",
     "output_type": "stream",
     "text": [
      "Accuracy Cross Validation score :0.9079060040180483\n",
      "TN: 3154, FP: 162, FN: 159, TP: 11\n",
      "Precision: 0.06358381502890173\n",
      "Recall: 0.06470588235294118\n",
      "f1 score: 0.0641399416909621\n"
     ]
    }
   ],
   "source": [
    "# 10-fold cross validation on tree with splitter=\"best\"\n",
    "kf = KFold(n_splits=10)\n",
    "score = cross_val_score(tree_clf, X_train, y_train, cv=kf, scoring='accuracy')\n",
    "print(\"Accuracy Cross Validation score :{}\".format(score.mean()))\n",
    "y_train_pred = cross_val_predict(tree_clf, X_train, y_train, cv=kf)\n",
    "tn, fp, fn, tp = confusion_matrix(y_train, y_train_pred).ravel()\n",
    "print(\"TN: %.0f\" % tn + \", FP: %.0f\" % fp + \", FN: %.0f\" % fn + \", TP: %.0f\" % tp)\n",
    "print(\"Precision:\",precision_score(y_train, y_train_pred))\n",
    "print(\"Recall:\", recall_score(y_train, y_train_pred))\n",
    "print(\"f1 score:\", f1_score(y_train, y_train_pred))"
   ]
  },
  {
   "cell_type": "code",
   "execution_count": 51,
   "metadata": {},
   "outputs": [],
   "source": [
    "# if we set splitting criteria to \"random\""
   ]
  },
  {
   "cell_type": "code",
   "execution_count": 52,
   "metadata": {
    "scrolled": true
   },
   "outputs": [
    {
     "name": "stdout",
     "output_type": "stream",
     "text": [
      "Accuracy: 0.9110367892976589\n"
     ]
    }
   ],
   "source": [
    "tree_clf = DecisionTreeClassifier(random_state=42, splitter=\"random\")\n",
    "y_pred = tree_clf.fit(X_train, y_train).predict(X_test)\n",
    "print(\"Accuracy:\",metrics.accuracy_score(y_test, y_pred))"
   ]
  },
  {
   "cell_type": "code",
   "execution_count": 53,
   "metadata": {},
   "outputs": [
    {
     "name": "stdout",
     "output_type": "stream",
     "text": [
      "Accuracy Cross Validation score :0.9110718637815761\n",
      "TN: 3159, FP: 157, FN: 153, TP: 17\n",
      "Precision: 0.09770114942528736\n",
      "Recall: 0.1\n",
      "f1 score: 0.09883720930232559\n"
     ]
    }
   ],
   "source": [
    "# 10-fold cross validation on tree with splitter=\"random\"\n",
    "kf = KFold(n_splits=10)\n",
    "score = cross_val_score(tree_clf, X_train, y_train, cv=kf, scoring='accuracy')\n",
    "print(\"Accuracy Cross Validation score :{}\".format(score.mean()))\n",
    "y_train_pred = cross_val_predict(tree_clf, X_train, y_train, cv=kf)\n",
    "tn, fp, fn, tp = confusion_matrix(y_train, y_train_pred).ravel()\n",
    "print(\"TN: %.0f\" % tn + \", FP: %.0f\" % fp + \", FN: %.0f\" % fn + \", TP: %.0f\" % tp)\n",
    "print(\"Precision:\",precision_score(y_train, y_train_pred))\n",
    "print(\"Recall:\", recall_score(y_train, y_train_pred))\n",
    "print(\"f1 score:\", f1_score(y_train, y_train_pred))"
   ]
  },
  {
   "cell_type": "code",
   "execution_count": 54,
   "metadata": {},
   "outputs": [],
   "source": [
    "# try random splitter + alpha = 0.004 + max_depth = 15"
   ]
  },
  {
   "cell_type": "code",
   "execution_count": 55,
   "metadata": {},
   "outputs": [
    {
     "name": "stdout",
     "output_type": "stream",
     "text": [
      "Accuracy: 0.9478260869565217\n"
     ]
    }
   ],
   "source": [
    "tree_clf = DecisionTreeClassifier(random_state=42, splitter=\"random\", ccp_alpha=0.0004, max_depth=15)\n",
    "y_pred = tree_clf.fit(X_train, y_train).predict(X_test)\n",
    "print(\"Accuracy:\",metrics.accuracy_score(y_test, y_pred))"
   ]
  },
  {
   "cell_type": "code",
   "execution_count": 56,
   "metadata": {},
   "outputs": [
    {
     "name": "stdout",
     "output_type": "stream",
     "text": [
      "Accuracy Cross Validation score :0.9506521094753483\n",
      "TN: 3314, FP: 2, FN: 170, TP: 0\n",
      "Precision: 0.0\n",
      "Recall: 0.0\n",
      "f1 score: 0.0\n"
     ]
    }
   ],
   "source": [
    "# 10-fold cross validation on tree with splitter=\"random\" + alpha = 0.0004 + max_depth = 15\n",
    "kf = KFold(n_splits=10)\n",
    "score = cross_val_score(tree_clf, X_train, y_train, cv=kf, scoring='accuracy')\n",
    "print(\"Accuracy Cross Validation score :{}\".format(score.mean()))\n",
    "y_train_pred = cross_val_predict(tree_clf, X_train, y_train, cv=kf)\n",
    "tn, fp, fn, tp = confusion_matrix(y_train, y_train_pred).ravel()\n",
    "print(\"TN: %.0f\" % tn + \", FP: %.0f\" % fp + \", FN: %.0f\" % fn + \", TP: %.0f\" % tp)\n",
    "print(\"Precision:\",precision_score(y_train, y_train_pred))\n",
    "print(\"Recall:\", recall_score(y_train, y_train_pred))\n",
    "print(\"f1 score:\", f1_score(y_train, y_train_pred))"
   ]
  },
  {
   "cell_type": "code",
   "execution_count": 57,
   "metadata": {},
   "outputs": [],
   "source": [
    "# compare the min samples leaf"
   ]
  },
  {
   "cell_type": "code",
   "execution_count": 58,
   "metadata": {},
   "outputs": [
    {
     "data": {
      "image/png": "[encoded data removed]",
      "text/plain": [
       "<Figure size 432x432 with 1 Axes>"
      ]
     },
     "metadata": {
      "needs_background": "light"
     },
     "output_type": "display_data"
    }
   ],
   "source": [
    "tree_clfs = []\n",
    "accuracies = []\n",
    "for leaf in range(1,100):\n",
    "    tree_clf = DecisionTreeClassifier(random_state=42, min_samples_leaf=leaf)\n",
    "    y_pred = tree_clf.fit(X_train, y_train).predict(X_test)\n",
    "    tree_clfs.append(tree_clf)\n",
    "    accuracies.append(metrics.accuracy_score(y_test, y_pred))\n",
    "\n",
    "node_counts = [tree_clf.tree_.node_count for tree_clf in tree_clfs]\n",
    "fig, ax = plt.subplots(1, 1, figsize=(6, 6))\n",
    "ax.plot(accuracies, node_counts, marker=\"o\", drawstyle=\"steps-post\")\n",
    "ax.set_xlabel(\"accuracy\")\n",
    "ax.set_ylabel(\"number of nodes\")\n",
    "ax.set_title(\"Number of nodes vs accuracy\")\n",
    "fig.tight_layout()"
   ]
  },
  {
   "cell_type": "code",
   "execution_count": 59,
   "metadata": {},
   "outputs": [],
   "source": [
    "# try with min 300 node"
   ]
  },
  {
   "cell_type": "code",
   "execution_count": 60,
   "metadata": {},
   "outputs": [
    {
     "name": "stdout",
     "output_type": "stream",
     "text": [
      "Accuracy: 0.9478260869565217\n"
     ]
    }
   ],
   "source": [
    "tree_clf = DecisionTreeClassifier(random_state=42, min_samples_leaf=300)\n",
    "y_pred = tree_clf.fit(X_train, y_train).predict(X_test)\n",
    "print(\"Accuracy:\",metrics.accuracy_score(y_test, y_pred))"
   ]
  },
  {
   "cell_type": "code",
   "execution_count": 61,
   "metadata": {},
   "outputs": [
    {
     "name": "stdout",
     "output_type": "stream",
     "text": [
      "Accuracy Cross Validation score :0.9512268221190265\n",
      "TN: 3316, FP: 0, FN: 170, TP: 0\n",
      "Precision: 0.0\n",
      "Recall: 0.0\n",
      "f1 score: 0.0\n"
     ]
    },
    {
     "name": "stderr",
     "output_type": "stream",
     "text": [
      "/home/lia/anaconda3/lib/python3.9/site-packages/sklearn/metrics/_classification.py:1318: UndefinedMetricWarning: Precision is ill-defined and being set to 0.0 due to no predicted samples. Use `zero_division` parameter to control this behavior.\n",
      "  _warn_prf(average, modifier, msg_start, len(result))\n"
     ]
    }
   ],
   "source": [
    "# 10-fold cross validation on tree with leaf = 300\n",
    "kf = KFold(n_splits=10)\n",
    "score = cross_val_score(tree_clf, X_train, y_train, cv=kf, scoring='accuracy')\n",
    "print(\"Accuracy Cross Validation score :{}\".format(score.mean()))\n",
    "y_train_pred = cross_val_predict(tree_clf, X_train, y_train, cv=kf)\n",
    "tn, fp, fn, tp = confusion_matrix(y_train, y_train_pred).ravel()\n",
    "print(\"TN: %.0f\" % tn + \", FP: %.0f\" % fp + \", FN: %.0f\" % fn + \", TP: %.0f\" % tp)\n",
    "print(\"Precision:\",precision_score(y_train, y_train_pred))\n",
    "print(\"Recall:\", recall_score(y_train, y_train_pred))\n",
    "print(\"f1 score:\", f1_score(y_train, y_train_pred))"
   ]
  },
  {
   "cell_type": "code",
   "execution_count": 62,
   "metadata": {},
   "outputs": [],
   "source": [
    "# try with 200 node"
   ]
  },
  {
   "cell_type": "code",
   "execution_count": 63,
   "metadata": {},
   "outputs": [
    {
     "name": "stdout",
     "output_type": "stream",
     "text": [
      "Accuracy: 0.9478260869565217\n"
     ]
    }
   ],
   "source": [
    "tree_clf = DecisionTreeClassifier(random_state=42, min_samples_leaf=200)\n",
    "y_pred = tree_clf.fit(X_train, y_train).predict(X_test)\n",
    "print(\"Accuracy:\",metrics.accuracy_score(y_test, y_pred))"
   ]
  },
  {
   "cell_type": "code",
   "execution_count": 64,
   "metadata": {},
   "outputs": [
    {
     "name": "stdout",
     "output_type": "stream",
     "text": [
      "Accuracy Cross Validation score :0.9512268221190265\n",
      "TN: 3316, FP: 0, FN: 170, TP: 0\n",
      "Precision: 0.0\n",
      "Recall: 0.0\n",
      "f1 score: 0.0\n"
     ]
    },
    {
     "name": "stderr",
     "output_type": "stream",
     "text": [
      "/home/lia/anaconda3/lib/python3.9/site-packages/sklearn/metrics/_classification.py:1318: UndefinedMetricWarning: Precision is ill-defined and being set to 0.0 due to no predicted samples. Use `zero_division` parameter to control this behavior.\n",
      "  _warn_prf(average, modifier, msg_start, len(result))\n"
     ]
    }
   ],
   "source": [
    "# 10-fold cross validation on tree with leaf = 200\n",
    "kf = KFold(n_splits=10)\n",
    "score = cross_val_score(tree_clf, X_train, y_train, cv=kf, scoring='accuracy')\n",
    "print(\"Accuracy Cross Validation score :{}\".format(score.mean()))\n",
    "y_train_pred = cross_val_predict(tree_clf, X_train, y_train, cv=kf)\n",
    "tn, fp, fn, tp = confusion_matrix(y_train, y_train_pred).ravel()\n",
    "print(\"TN: %.0f\" % tn + \", FP: %.0f\" % fp + \", FN: %.0f\" % fn + \", TP: %.0f\" % tp)\n",
    "print(\"Precision:\",precision_score(y_train, y_train_pred))\n",
    "print(\"Recall:\", recall_score(y_train, y_train_pred))\n",
    "print(\"f1 score:\", f1_score(y_train, y_train_pred))"
   ]
  },
  {
   "cell_type": "code",
   "execution_count": 65,
   "metadata": {},
   "outputs": [],
   "source": [
    "# try with 20 node"
   ]
  },
  {
   "cell_type": "code",
   "execution_count": 66,
   "metadata": {},
   "outputs": [
    {
     "name": "stdout",
     "output_type": "stream",
     "text": [
      "Accuracy: 0.9478260869565217\n"
     ]
    }
   ],
   "source": [
    "tree_clf = DecisionTreeClassifier(random_state=42, min_samples_leaf=20)\n",
    "y_pred = tree_clf.fit(X_train, y_train).predict(X_test)\n",
    "print(\"Accuracy:\",metrics.accuracy_score(y_test, y_pred))"
   ]
  },
  {
   "cell_type": "code",
   "execution_count": 67,
   "metadata": {},
   "outputs": [
    {
     "name": "stdout",
     "output_type": "stream",
     "text": [
      "Accuracy Cross Validation score :0.9512268221190265\n",
      "TN: 3316, FP: 0, FN: 170, TP: 0\n",
      "Precision: 0.0\n",
      "Recall: 0.0\n",
      "f1 score: 0.0\n"
     ]
    },
    {
     "name": "stderr",
     "output_type": "stream",
     "text": [
      "/home/lia/anaconda3/lib/python3.9/site-packages/sklearn/metrics/_classification.py:1318: UndefinedMetricWarning: Precision is ill-defined and being set to 0.0 due to no predicted samples. Use `zero_division` parameter to control this behavior.\n",
      "  _warn_prf(average, modifier, msg_start, len(result))\n"
     ]
    }
   ],
   "source": [
    "# 10-fold cross validation on tree with leaf = 100\n",
    "kf = KFold(n_splits=10)\n",
    "score = cross_val_score(tree_clf, X_train, y_train, cv=kf, scoring='accuracy')\n",
    "print(\"Accuracy Cross Validation score :{}\".format(score.mean()))\n",
    "y_train_pred = cross_val_predict(tree_clf, X_train, y_train, cv=kf)\n",
    "tn, fp, fn, tp = confusion_matrix(y_train, y_train_pred).ravel()\n",
    "print(\"TN: %.0f\" % tn + \", FP: %.0f\" % fp + \", FN: %.0f\" % fn + \", TP: %.0f\" % tp)\n",
    "print(\"Precision:\",precision_score(y_train, y_train_pred))\n",
    "print(\"Recall:\", recall_score(y_train, y_train_pred))\n",
    "print(\"f1 score:\", f1_score(y_train, y_train_pred))"
   ]
  },
  {
   "cell_type": "code",
   "execution_count": 68,
   "metadata": {},
   "outputs": [],
   "source": [
    "# compare the min samples leaf, tryed with max-depth = 15 "
   ]
  },
  {
   "cell_type": "code",
   "execution_count": 69,
   "metadata": {},
   "outputs": [
    {
     "data": {
      "image/png": "[encoded data removed]",
      "text/plain": [
       "<Figure size 432x432 with 1 Axes>"
      ]
     },
     "metadata": {
      "needs_background": "light"
     },
     "output_type": "display_data"
    }
   ],
   "source": [
    "tree_clfs = []\n",
    "accuracies = []\n",
    "for leaf in range(1,20):\n",
    "    tree_clf = DecisionTreeClassifier(random_state=42, min_samples_leaf=leaf, ccp_alpha=0.0004, max_depth=15)\n",
    "    y_pred = tree_clf.fit(X_train, y_train).predict(X_test)\n",
    "    tree_clfs.append(tree_clf)\n",
    "    accuracies.append(metrics.accuracy_score(y_test, y_pred))\n",
    "\n",
    "node_counts = [tree_clf.tree_.node_count for tree_clf in tree_clfs]\n",
    "fig, ax = plt.subplots(1, 1, figsize=(6, 6))\n",
    "ax.plot(accuracies, node_counts, marker=\"o\", drawstyle=\"steps-post\")\n",
    "ax.set_xlabel(\"accuracy\")\n",
    "ax.set_ylabel(\"number of nodes\")\n",
    "ax.set_title(\"Number of nodes vs accuracy\")\n",
    "fig.tight_layout()"
   ]
  },
  {
   "cell_type": "code",
   "execution_count": 70,
   "metadata": {},
   "outputs": [],
   "source": [
    "# try with 20 node + alpha = 0.004 + max_depth = 15"
   ]
  },
  {
   "cell_type": "code",
   "execution_count": 71,
   "metadata": {},
   "outputs": [
    {
     "name": "stdout",
     "output_type": "stream",
     "text": [
      "Accuracy: 0.9478260869565217\n"
     ]
    }
   ],
   "source": [
    "tree_clf = DecisionTreeClassifier(random_state=42, min_samples_leaf=20, ccp_alpha=0.0004, max_depth=15)\n",
    "y_pred = tree_clf.fit(X_train, y_train).predict(X_test)\n",
    "print(\"Accuracy:\",metrics.accuracy_score(y_test, y_pred))"
   ]
  },
  {
   "cell_type": "code",
   "execution_count": 72,
   "metadata": {},
   "outputs": [
    {
     "name": "stdout",
     "output_type": "stream",
     "text": [
      "Accuracy Cross Validation score :0.9512268221190265\n",
      "TN: 3316, FP: 0, FN: 170, TP: 0\n",
      "Precision: 0.0\n"
     ]
    },
    {
     "name": "stderr",
     "output_type": "stream",
     "text": [
      "/home/lia/anaconda3/lib/python3.9/site-packages/sklearn/metrics/_classification.py:1318: UndefinedMetricWarning: Precision is ill-defined and being set to 0.0 due to no predicted samples. Use `zero_division` parameter to control this behavior.\n",
      "  _warn_prf(average, modifier, msg_start, len(result))\n"
     ]
    },
    {
     "name": "stdout",
     "output_type": "stream",
     "text": [
      "Recall: 0.0\n",
      "f1 score: 0.0\n"
     ]
    }
   ],
   "source": [
    "# 10-fold cross validation on tree with leaf = 20 + alpha + depth\n",
    "kf = KFold(n_splits=10)\n",
    "score = cross_val_score(tree_clf, X_train, y_train, cv=kf, scoring='accuracy')\n",
    "print(\"Accuracy Cross Validation score :{}\".format(score.mean()))\n",
    "y_train_pred = cross_val_predict(tree_clf, X_train, y_train, cv=kf)\n",
    "tn, fp, fn, tp = confusion_matrix(y_train, y_train_pred).ravel()\n",
    "print(\"TN: %.0f\" % tn + \", FP: %.0f\" % fp + \", FN: %.0f\" % fn + \", TP: %.0f\" % tp)\n",
    "print(\"Precision:\",precision_score(y_train, y_train_pred))\n",
    "print(\"Recall:\", recall_score(y_train, y_train_pred))\n",
    "print(\"f1 score:\", f1_score(y_train, y_train_pred))"
   ]
  },
  {
   "cell_type": "code",
   "execution_count": 73,
   "metadata": {},
   "outputs": [],
   "source": [
    "# try with 10 node + alpha = 0.004 + max_depth = 15"
   ]
  },
  {
   "cell_type": "code",
   "execution_count": 74,
   "metadata": {},
   "outputs": [
    {
     "name": "stdout",
     "output_type": "stream",
     "text": [
      "Accuracy: 0.9478260869565217\n"
     ]
    }
   ],
   "source": [
    "tree_clf = DecisionTreeClassifier(random_state=42, min_samples_leaf=10, ccp_alpha=0.0004, max_depth=15)\n",
    "y_pred = tree_clf.fit(X_train, y_train).predict(X_test)\n",
    "print(\"Accuracy:\",metrics.accuracy_score(y_test, y_pred))"
   ]
  },
  {
   "cell_type": "code",
   "execution_count": 75,
   "metadata": {},
   "outputs": [
    {
     "name": "stdout",
     "output_type": "stream",
     "text": [
      "Accuracy Cross Validation score :0.950940289167737\n",
      "TN: 3314, FP: 2, FN: 169, TP: 1\n",
      "Precision: 0.3333333333333333\n",
      "Recall: 0.0058823529411764705\n",
      "f1 score: 0.011560693641618498\n"
     ]
    }
   ],
   "source": [
    "# 10-fold cross validation on tree with leaf = 10 + alpha + depth\n",
    "kf = KFold(n_splits=10)\n",
    "score = cross_val_score(tree_clf, X_train, y_train, cv=kf, scoring='accuracy')\n",
    "print(\"Accuracy Cross Validation score :{}\".format(score.mean()))\n",
    "y_train_pred = cross_val_predict(tree_clf, X_train, y_train, cv=kf)\n",
    "tn, fp, fn, tp = confusion_matrix(y_train, y_train_pred).ravel()\n",
    "print(\"TN: %.0f\" % tn + \", FP: %.0f\" % fp + \", FN: %.0f\" % fn + \", TP: %.0f\" % tp)\n",
    "print(\"Precision:\",precision_score(y_train, y_train_pred))\n",
    "print(\"Recall:\", recall_score(y_train, y_train_pred))\n",
    "print(\"f1 score:\", f1_score(y_train, y_train_pred))"
   ]
  },
  {
   "cell_type": "code",
   "execution_count": 76,
   "metadata": {},
   "outputs": [],
   "source": [
    "# try with 5 node + alpha = 0.004 + max_depth = 15"
   ]
  },
  {
   "cell_type": "code",
   "execution_count": 77,
   "metadata": {},
   "outputs": [
    {
     "name": "stdout",
     "output_type": "stream",
     "text": [
      "Accuracy: 0.9451505016722408\n"
     ]
    }
   ],
   "source": [
    "tree_clf = DecisionTreeClassifier(random_state=42, min_samples_leaf=5, ccp_alpha=0.0004, max_depth=15)\n",
    "y_pred = tree_clf.fit(X_train, y_train).predict(X_test)\n",
    "print(\"Accuracy:\",metrics.accuracy_score(y_test, y_pred))"
   ]
  },
  {
   "cell_type": "code",
   "execution_count": 78,
   "metadata": {},
   "outputs": [
    {
     "name": "stdout",
     "output_type": "stream",
     "text": [
      "Accuracy Cross Validation score :0.9443426209531338\n",
      "TN: 3292, FP: 24, FN: 170, TP: 0\n",
      "Precision: 0.0\n",
      "Recall: 0.0\n",
      "f1 score: 0.0\n"
     ]
    }
   ],
   "source": [
    "# 10-fold cross validation on tree with leaf = 5 + alpha + depth\n",
    "kf = KFold(n_splits=10)\n",
    "score = cross_val_score(tree_clf, X_train, y_train, cv=kf, scoring='accuracy')\n",
    "print(\"Accuracy Cross Validation score :{}\".format(score.mean()))\n",
    "y_train_pred = cross_val_predict(tree_clf, X_train, y_train, cv=kf)\n",
    "tn, fp, fn, tp = confusion_matrix(y_train, y_train_pred).ravel()\n",
    "print(\"TN: %.0f\" % tn + \", FP: %.0f\" % fp + \", FN: %.0f\" % fn + \", TP: %.0f\" % tp)\n",
    "print(\"Precision:\",precision_score(y_train, y_train_pred))\n",
    "print(\"Recall:\", recall_score(y_train, y_train_pred))\n",
    "print(\"f1 score:\", f1_score(y_train, y_train_pred))"
   ]
  },
  {
   "cell_type": "code",
   "execution_count": 79,
   "metadata": {},
   "outputs": [],
   "source": [
    "# try with 2 node + alpha = 0.004 + max_depth = 15"
   ]
  },
  {
   "cell_type": "code",
   "execution_count": 80,
   "metadata": {},
   "outputs": [
    {
     "name": "stdout",
     "output_type": "stream",
     "text": [
      "Accuracy: 0.9592656339644291\n"
     ]
    }
   ],
   "source": [
    "tree_clf = DecisionTreeClassifier(random_state=42, min_samples_leaf=2, ccp_alpha=0.0004, max_depth=15)\n",
    "y_pred = tree_clf.fit(X_train, y_train).predict(X_train)\n",
    "print(\"Accuracy:\",metrics.accuracy_score(y_train, y_pred))"
   ]
  },
  {
   "cell_type": "code",
   "execution_count": 81,
   "metadata": {},
   "outputs": [
    {
     "name": "stdout",
     "output_type": "stream",
     "text": [
      "Accuracy Cross Validation score :0.9386012581102001\n",
      "TN: 3266, FP: 50, FN: 164, TP: 6\n",
      "Precision: 0.10714285714285714\n",
      "Recall: 0.03529411764705882\n",
      "f1 score: 0.05309734513274336\n"
     ]
    }
   ],
   "source": [
    "# 10-fold cross validation on tree with leaf = 5 + alpha + depth\n",
    "kf = KFold(n_splits=10)\n",
    "score = cross_val_score(tree_clf, X_train, y_train, cv=kf, scoring='accuracy')\n",
    "print(\"Accuracy Cross Validation score :{}\".format(score.mean()))\n",
    "y_train_pred = cross_val_predict(tree_clf, X_train, y_train, cv=kf)\n",
    "tn, fp, fn, tp = confusion_matrix(y_train, y_train_pred).ravel()\n",
    "print(\"TN: %.0f\" % tn + \", FP: %.0f\" % fp + \", FN: %.0f\" % fn + \", TP: %.0f\" % tp)\n",
    "print(\"Precision:\",precision_score(y_train, y_train_pred))\n",
    "print(\"Recall:\", recall_score(y_train, y_train_pred))\n",
    "print(\"f1 score:\", f1_score(y_train, y_train_pred))"
   ]
  },
  {
   "cell_type": "code",
   "execution_count": 82,
   "metadata": {},
   "outputs": [],
   "source": [
    "# tree 1"
   ]
  },
  {
   "cell_type": "code",
   "execution_count": 83,
   "metadata": {},
   "outputs": [
    {
     "name": "stdout",
     "output_type": "stream",
     "text": [
      "train: 0.9583333333333334\n",
      "test: 0.9398194583751254\n"
     ]
    }
   ],
   "source": [
    "X = brain_pca.iloc[:, [0,1]]\n",
    "y = brain_pca.iloc[:, 2]\n",
    "\n",
    "X_train, X_test, y_train, y_test = train_test_split(X, y, test_size=0.2, random_state=42)\n",
    "\n",
    "tree_clf = DecisionTreeClassifier(random_state=42, ccp_alpha=0.0004, max_depth=15)\n",
    "tree_clf.fit(X_train, y_train)\n",
    "print(\"train:\", tree_clf.score(X_train, y_train))\n",
    "print(\"test:\", tree_clf.score(X_test, y_test))"
   ]
  },
  {
   "cell_type": "code",
   "execution_count": 84,
   "metadata": {},
   "outputs": [],
   "source": [
    "# tree 2"
   ]
  },
  {
   "cell_type": "code",
   "execution_count": 85,
   "metadata": {},
   "outputs": [
    {
     "name": "stdout",
     "output_type": "stream",
     "text": [
      "train: 0.9592656339644291\n",
      "test: 0.939799331103679\n"
     ]
    }
   ],
   "source": [
    "X = brain_pca.iloc[:, [0,1]]\n",
    "y = brain_pca.iloc[:, 2]\n",
    "\n",
    "X_train, X_test, y_train, y_test = train_test_split(X, y, test_size=0.3, random_state=42)\n",
    "\n",
    "tree_clf = DecisionTreeClassifier(random_state=42, ccp_alpha=0.0004, max_depth=15)\n",
    "tree_clf.fit(X_train, y_train)\n",
    "print(\"train:\", tree_clf.score(X_train, y_train))\n",
    "print(\"test:\", tree_clf.score(X_test, y_test))"
   ]
  },
  {
   "cell_type": "code",
   "execution_count": 86,
   "metadata": {},
   "outputs": [
    {
     "name": "stdout",
     "output_type": "stream",
     "text": [
      "train: 0.9754016064257028\n",
      "test: 0.9227166276346604\n"
     ]
    }
   ],
   "source": [
    "X = brain_pca.iloc[:, [0,1]]\n",
    "y = brain_pca.iloc[:, 2]\n",
    "\n",
    "X_train, X_test, y_train, y_test = train_test_split(X, y, test_size=0.6, random_state=42)\n",
    "\n",
    "tree_clf = DecisionTreeClassifier(random_state=42, ccp_alpha=0.0004, max_depth=15)\n",
    "tree_clf.fit(X_train, y_train)\n",
    "print(\"train:\", tree_clf.score(X_train, y_train))\n",
    "print(\"test:\", tree_clf.score(X_test, y_test))"
   ]
  },
  {
   "cell_type": "code",
   "execution_count": 87,
   "metadata": {},
   "outputs": [],
   "source": [
    "# Applied a random forest classifier"
   ]
  },
  {
   "cell_type": "code",
   "execution_count": 88,
   "metadata": {},
   "outputs": [
    {
     "name": "stdout",
     "output_type": "stream",
     "text": [
      "Accuracy: 0.9418060200668896\n"
     ]
    }
   ],
   "source": [
    "X = brain_pca.iloc[:, [0,1]]\n",
    "y = brain_pca.iloc[:, 2]\n",
    "\n",
    "X_train, X_test, y_train, y_test = train_test_split(X, y, test_size=0.3, random_state=42)\n",
    "\n",
    "clf3=RandomForestClassifier(n_estimators=100)\n",
    "clf3.fit(X_train,y_train)\n",
    "y_pred=clf3.predict(X_test)\n",
    "\n",
    "print(\"Accuracy:\",metrics.accuracy_score(y_test, y_pred))"
   ]
  },
  {
   "cell_type": "code",
   "execution_count": 89,
   "metadata": {},
   "outputs": [
    {
     "name": "stdout",
     "output_type": "stream",
     "text": [
      "Accuracy Cross Validation score :0.9463508217238086\n",
      "TN: 3292, FP: 24, FN: 167, TP: 3\n",
      "Precision: 0.1111111111111111\n",
      "Recall: 0.01764705882352941\n",
      "f1 score: 0.030456852791878174\n"
     ]
    }
   ],
   "source": [
    "# 10-fold cross validation on random forest\n",
    "kf = KFold(n_splits=10)\n",
    "score = cross_val_score(clf3, X_train, y_train, cv=kf, scoring='accuracy')\n",
    "print(\"Accuracy Cross Validation score :{}\".format(score.mean()))\n",
    "y_train_pred = cross_val_predict(clf3, X_train, y_train, cv=kf)\n",
    "tn, fp, fn, tp = confusion_matrix(y_train, y_train_pred).ravel()\n",
    "print(\"TN: %.0f\" % tn + \", FP: %.0f\" % fp + \", FN: %.0f\" % fn + \", TP: %.0f\" % tp)\n",
    "print(\"Precision:\",precision_score(y_train, y_train_pred))\n",
    "print(\"Recall:\", recall_score(y_train, y_train_pred))\n",
    "print(\"f1 score:\", f1_score(y_train, y_train_pred))"
   ]
  }
 ],
 "metadata": {
  "kernelspec": {
   "display_name": "Python 3 (ipykernel)",
   "language": "python",
   "name": "python3"
  },
  "language_info": {
   "codemirror_mode": {
    "name": "ipython",
    "version": 3
   },
   "file_extension": ".py",
   "mimetype": "text/x-python",
   "name": "python",
   "nbconvert_exporter": "python",
   "pygments_lexer": "ipython3",
   "version": "3.9.12"
  }
 },
 "nbformat": 4,
 "nbformat_minor": 4
}
