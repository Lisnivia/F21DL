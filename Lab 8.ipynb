{
 "cells": [
  {
   "cell_type": "markdown",
   "metadata": {},
   "source": [
    "https://github.com/ageron/handson-ml2/blob/master/06_decision_trees.ipynb <br/>\n",
    "https://github.com/ageron/handson-ml2/blob/master/04_training_linear_models.ipynb\n",
    "\n",
    "# Setup"
   ]
  },
  {
   "cell_type": "code",
   "execution_count": 1,
   "metadata": {},
   "outputs": [],
   "source": [
    "# Python ≥3.5 is required\n",
    "import sys\n",
    "assert sys.version_info >= (3, 5)\n",
    "\n",
    "# Scikit-Learn ≥0.20 is \n",
    "import sklearn\n",
    "from sklearn import metrics\n",
    "from sklearn.metrics import accuracy_score\n",
    "assert sklearn.__version__ >= \"0.20\"\n",
    "from sklearn.model_selection import train_test_split,cross_val_score, KFold\n",
    "from sklearn.linear_model import LogisticRegression\n",
    "\n",
    "\n",
    "# Common imports\n",
    "import numpy as np\n",
    "import pandas as pd\n",
    "import os\n",
    "\n",
    "# to make this notebook's output stable across runs\n",
    "np.random.seed(42)\n",
    "\n",
    "# To plot pretty figures\n",
    "%matplotlib inline\n",
    "import matplotlib as mpl\n",
    "import matplotlib.pyplot as plt\n",
    "mpl.rc('axes', labelsize=14)\n",
    "mpl.rc('xtick', labelsize=12)\n",
    "mpl.rc('ytick', labelsize=12)"
   ]
  },
  {
   "cell_type": "markdown",
   "metadata": {},
   "source": [
    "# Training and visualizing"
   ]
  },
  {
   "cell_type": "code",
   "execution_count": 2,
   "metadata": {
    "scrolled": true
   },
   "outputs": [
    {
     "name": "stdout",
     "output_type": "stream",
     "text": [
      "      gender   age  hypertension  heart_disease  ever_married  \\\n",
      "0          0  67.0             0              1             1   \n",
      "1          0  80.0             0              1             1   \n",
      "2          1  49.0             0              0             1   \n",
      "3          1  79.0             1              0             1   \n",
      "4          0  81.0             0              0             1   \n",
      "...      ...   ...           ...            ...           ...   \n",
      "4976       0  41.0             0              0             0   \n",
      "4977       0  40.0             0              0             1   \n",
      "4978       1  45.0             1              0             1   \n",
      "4979       0  40.0             0              0             1   \n",
      "4980       1  80.0             1              0             1   \n",
      "\n",
      "      avg_glucose_level   bmi  smoking_status  stroke  \n",
      "0                228.69  36.6               2       1  \n",
      "1                105.92  32.5               1       1  \n",
      "2                171.23  34.4               3       1  \n",
      "3                174.12  24.0               1       1  \n",
      "4                186.21  29.0               2       1  \n",
      "...                 ...   ...             ...     ...  \n",
      "4976              70.15  29.8               2       0  \n",
      "4977             191.15  31.1               3       0  \n",
      "4978              95.02  31.8               3       0  \n",
      "4979              83.94  30.0               3       0  \n",
      "4980              83.75  29.1               1       0  \n",
      "\n",
      "[4981 rows x 9 columns]\n"
     ]
    }
   ],
   "source": [
    "from sklearn.datasets import load_iris\n",
    "from sklearn.tree import DecisionTreeClassifier,plot_tree\n",
    "\n",
    "url= \"brain_stroke_in_numeric_without_useless_data.csv\"\n",
    "brain = pd.read_csv(url)\n",
    "brain = brain.drop(brain.columns[0], axis=1)\n",
    "brain_pca = pd.read_csv('brain_stroke_after_pca.csv')\n",
    "brain_pca = brain_pca.drop(brain_pca.columns[0], axis=1) \n",
    "print(brain)"
   ]
  },
  {
   "cell_type": "code",
   "execution_count": 3,
   "metadata": {},
   "outputs": [],
   "source": [
    "# Test accuracy with avg_glucose_level and bmi"
   ]
  },
  {
   "cell_type": "code",
   "execution_count": 4,
   "metadata": {},
   "outputs": [
    {
     "name": "stdout",
     "output_type": "stream",
     "text": [
      "Accuracy: 0.9478260869565217\n"
     ]
    }
   ],
   "source": [
    "X = brain.iloc[:, [5,6]].to_numpy()\n",
    "y = brain.iloc[:, 8].to_numpy()\n",
    "\n",
    "X_train, X_test, y_train, y_test = train_test_split(X, y, test_size=0.3, random_state=42)\n",
    "\n",
    "tree_clf = DecisionTreeClassifier(max_depth=2,random_state=42)\n",
    "y_pred = tree_clf.fit(X_train, y_train).predict(X_test)\n",
    "print(\"Accuracy:\",metrics.accuracy_score(y_test, y_pred))"
   ]
  },
  {
   "cell_type": "code",
   "execution_count": 5,
   "metadata": {},
   "outputs": [
    {
     "data": {
      "image/png": "[encoded data removed]",
      "text/plain": [
       "<Figure size 432x288 with 1 Axes>"
      ]
     },
     "metadata": {
      "needs_background": "light"
     },
     "output_type": "display_data"
    }
   ],
   "source": [
    "plot_tree(tree_clf);"
   ]
  },
  {
   "cell_type": "code",
   "execution_count": 6,
   "metadata": {},
   "outputs": [],
   "source": [
    "# Test accuracy with age and avg_glucose_level"
   ]
  },
  {
   "cell_type": "code",
   "execution_count": 7,
   "metadata": {},
   "outputs": [
    {
     "name": "stdout",
     "output_type": "stream",
     "text": [
      "Accuracy: 0.9478260869565217\n"
     ]
    }
   ],
   "source": [
    "X = brain.iloc[:, [1,5]].to_numpy()\n",
    "y = brain.iloc[:, 8].to_numpy()\n",
    "\n",
    "X_train, X_test, y_train, y_test = train_test_split(X, y, test_size=0.3, random_state=42)\n",
    "\n",
    "tree_clf = DecisionTreeClassifier(max_depth=2,random_state=42)\n",
    "y_pred = tree_clf.fit(X_train, y_train).predict(X_test)\n",
    "print(\"Accuracy:\",metrics.accuracy_score(y_test, y_pred))"
   ]
  },
  {
   "cell_type": "code",
   "execution_count": 8,
   "metadata": {},
   "outputs": [
    {
     "data": {
      "image/png": "[encoded data removed]",
      "text/plain": [
       "<Figure size 432x288 with 1 Axes>"
      ]
     },
     "metadata": {
      "needs_background": "light"
     },
     "output_type": "display_data"
    }
   ],
   "source": [
    "plot_tree(tree_clf);"
   ]
  },
  {
   "cell_type": "code",
   "execution_count": 9,
   "metadata": {},
   "outputs": [],
   "source": [
    "# Test accuracy with age and bmi"
   ]
  },
  {
   "cell_type": "code",
   "execution_count": 10,
   "metadata": {},
   "outputs": [
    {
     "name": "stdout",
     "output_type": "stream",
     "text": [
      "Accuracy: 0.9478260869565217\n"
     ]
    }
   ],
   "source": [
    "X = brain.iloc[:, [1,6]].to_numpy()\n",
    "y = brain.iloc[:, 8].to_numpy()\n",
    "\n",
    "X_train, X_test, y_train, y_test = train_test_split(X, y, test_size=0.3, random_state=42)\n",
    "\n",
    "tree_clf = DecisionTreeClassifier(max_depth=2,random_state=42)\n",
    "y_pred = tree_clf.fit(X_train, y_train).predict(X_test)\n",
    "print(\"Accuracy:\",metrics.accuracy_score(y_test, y_pred))"
   ]
  },
  {
   "cell_type": "code",
   "execution_count": 11,
   "metadata": {},
   "outputs": [
    {
     "data": {
      "image/png": "[encoded data removed]",
      "text/plain": [
       "<Figure size 432x288 with 1 Axes>"
      ]
     },
     "metadata": {
      "needs_background": "light"
     },
     "output_type": "display_data"
    }
   ],
   "source": [
    "plot_tree(tree_clf);"
   ]
  },
  {
   "cell_type": "code",
   "execution_count": 12,
   "metadata": {},
   "outputs": [],
   "source": [
    "# Test accuracy with pca "
   ]
  },
  {
   "cell_type": "code",
   "execution_count": 13,
   "metadata": {},
   "outputs": [
    {
     "name": "stdout",
     "output_type": "stream",
     "text": [
      "Accuracy: 0.9478260869565217\n"
     ]
    }
   ],
   "source": [
    "X = brain_pca.iloc[:, [0,1]].to_numpy()\n",
    "y = brain_pca.iloc[:, 2].to_numpy()\n",
    "\n",
    "X_train, X_test, y_train, y_test = train_test_split(X, y, test_size=0.3, random_state=42)\n",
    "\n",
    "tree_clf = DecisionTreeClassifier(max_depth=2,random_state=42)\n",
    "y_pred = tree_clf.fit(X_train, y_train).predict(X_test)\n",
    "print(\"Accuracy:\",metrics.accuracy_score(y_test, y_pred))"
   ]
  },
  {
   "cell_type": "code",
   "execution_count": 14,
   "metadata": {},
   "outputs": [
    {
     "data": {
      "image/png": "[encoded data removed]",
      "text/plain": [
       "<Figure size 432x288 with 1 Axes>"
      ]
     },
     "metadata": {
      "needs_background": "light"
     },
     "output_type": "display_data"
    }
   ],
   "source": [
    "plot_tree(tree_clf);"
   ]
  },
  {
   "cell_type": "code",
   "execution_count": 15,
   "metadata": {},
   "outputs": [],
   "source": [
    "# We are using the PCA because more simple to use, and this dataset summarize the best of all the features in the dataset \n",
    "# We are not printing the plot see in the tutorial because they are not relevant with our dataset"
   ]
  },
  {
   "cell_type": "code",
   "execution_count": 16,
   "metadata": {},
   "outputs": [],
   "source": [
    "class EnsembleClassifier():\n",
    "\n",
    "    def __init__(self,base_classifier,labels):\n",
    "        self.classifier = [base_classifier]\n",
    "        self.labels = labels\n",
    "    def add_classifier(self,classifier):\n",
    "        self.classifier.append(classifier)\n",
    "    def remove_last_classifier(self):\n",
    "        self.classifier.pop(-1)\n",
    "    def predict_proba(self,X):\n",
    "        return np.array([clf.predict_proba(X) for clf in self.classifier]).sum(axis=0)/len(self.classifier)\n",
    "    def predict(self,X):\n",
    "        return labels[np.argmax(self.predict_proba(X),axis=1)]\n",
    "    def error(self,X,y):\n",
    "        return 1 - accuracy_score(y,ensembleClassifier.predict(X))\n",
    "\n",
    "class Artificial_data():\n",
    "\n",
    "    def __init__(self,X,y,dtypes):\n",
    "        self.dtypes = {}\n",
    "        self._generator = {}\n",
    "        self.labels = y.unique()\n",
    "        for c, dtype in zip(X.columns, dtypes):\n",
    "            self.dtypes[c] = dtype\n",
    "            if dtype == 'numeric':\n",
    "                self._generator[c] = {'mean':X[c].mean(),'std':X[c].std()}\n",
    "            else:\n",
    "                unique_values = X[c].value_counts() / X.shape[0]\n",
    "                self._generator[c] = {'values':unique_values.index,'prob':unique_values.values}\n",
    "\n",
    "    def sample_generator(self,ensembleClasifier,nb_samples=1):\n",
    "        syn_X = pd.DataFrame()\n",
    "        for c in self.dtypes.keys():\n",
    "            if self.dtypes[c] == 'numeric':\n",
    "                syn_X[c] = np.random.normal(self._generator[c]['mean'],self._generator[c]['std'],nb_samples)\n",
    "            else:\n",
    "                syn_X[c] = np.random.choice(self._generator[c]['values'],p=self._generator[c]['prob'],\n",
    "                                             size=nb_samples,replace=True)\n",
    "        p_hat = ensembleClassifier.predict_proba(syn_X)\n",
    "        p_hat[p_hat==0] = 1e-5\n",
    "        inverse_p = 1/p_hat\n",
    "        new_p = inverse_p / inverse_p.sum(axis=1)[:, np.newaxis]\n",
    "        syn_y = [np.random.choice(self.labels,p=new_p[i]) for i in range(nb_samples)]\n",
    "        return syn_X,syn_y  \n",
    "\n"
   ]
  },
  {
   "cell_type": "code",
   "execution_count": 23,
   "metadata": {},
   "outputs": [
    {
     "name": "stdout",
     "output_type": "stream",
     "text": [
      "improvement\n",
      "0.048192771084337394\n",
      "improvement\n",
      "0.048192771084337394\n",
      "improvement\n",
      "0.048192771084337394\n"
     ]
    }
   ],
   "source": [
    "X = brain_pca.iloc[:, [0,1]]\n",
    "y = brain_pca.iloc[:, 2]\n",
    "\n",
    "X_train_base, X_test, y_train_base, y_test = train_test_split(X, y, test_size=0.3, random_state=42)\n",
    "\n",
    "dtypes=['numeric' for _ in range(2)]\n",
    "np.random.seed(1)\n",
    "artifical_data = Artificial_data(X_train_base, y_train_base, dtypes)\n",
    "\n",
    "c_size = 15\n",
    "i_max = 300 \n",
    "R_size = len(X_train_base)\n",
    "i = 1\n",
    "trails =1\n",
    "labels = np.unique(y_train_base)\n",
    "clf = DecisionTreeClassifier(random_state = 1, max_depth=2)\n",
    "clf.fit(X_train_base, y_train_base)\n",
    "\n",
    "\n",
    "ensembleClassifier = EnsembleClassifier(clf,labels)\n",
    "error_bst = ensembleClassifier.error(X_train_base, y_train_base)\n",
    "\n",
    "while (i < c_size and trails < i_max):\n",
    "    X_syn, y_syn = artifical_data.sample_generator(ensembleClassifier, R_size)\n",
    "    X_train = pd.concat([X_train_base, X_syn], axis = 0)\n",
    "    y_train = np.append(y_train_base, y_syn, axis = 0)\n",
    "\n",
    "    C_prime = DecisionTreeClassifier(random_state = 1, max_depth = 2)\n",
    "    C_prime.fit(X_train, y_train)\n",
    "\n",
    "    ensembleClassifier.add_classifier(C_prime)\n",
    "\n",
    "    error_i = ensembleClassifier.error(X_train_base, y_train_base)\n",
    "\n",
    "    if error_i <= error_bst:\n",
    "        print('improvement')\n",
    "        error_bst = error_i\n",
    "        print(error_i)\n",
    "        i += 1\n",
    "    else:\n",
    "        ensembleClassifier.remove_last_classifier()\n",
    "\n",
    "    trails +=1"
   ]
  },
  {
   "cell_type": "code",
   "execution_count": 34,
   "metadata": {},
   "outputs": [
    {
     "name": "stdout",
     "output_type": "stream",
     "text": [
      "[INFO]:  3 CPU cores will be allocated in parallel running\n",
      "WARNING: You set the algorithm to  C4.5  but the Decision column of your data set has non-object type.\n",
      "That's why, the algorithm is set to Regression to handle the data set.\n",
      "Regression  tree is going to be built...\n",
      "-------------------------\n",
      "finished in  0.9529666900634766  seconds\n",
      "-------------------------\n",
      "Evaluate  train set\n",
      "-------------------------\n",
      "MAE:  0.049789198956032926\n",
      "MSE:  0.049789198956032926\n",
      "RMSE:  0.22313493441420804\n",
      "RAE:  1.0\n",
      "RRSE:  1.0258645408635299\n",
      "Mean:  0.049789198956032926\n",
      "MAE / Mean:  100.0 %\n",
      "RMSE / Mean:  448.1593178698267 %\n"
     ]
    }
   ],
   "source": [
    "from chefboost import Chefboost as chef\n",
    "X = brain_pca.iloc[:, [0,1]]\n",
    "y = brain_pca.iloc[:, 2]\n",
    "\n",
    "X_train, X_test, y_train, y_test = train_test_split(X, y, test_size=0.3, random_state=42)\n",
    "\n",
    "config = {'algorithm': 'C4.5'}\n",
    "\n",
    "model = chef.fit(X_train, config=config, target_label = \"stroke\")"
   ]
  },
  {
   "cell_type": "code",
   "execution_count": 44,
   "metadata": {},
   "outputs": [
    {
     "name": "stdout",
     "output_type": "stream",
     "text": [
      "Cross Validation Scores are [0.95415473 0.95415473 0.95988539 0.95702006 0.95415473 0.9512894\n",
      " 0.91954023 0.95114943 0.9683908  0.94252874]\n",
      "Average Cross Validation score :0.9512268221190265\n"
     ]
    },
    {
     "ename": "TypeError",
     "evalue": "__init__() takes from 1 to 2 positional arguments but 4 were given",
     "output_type": "error",
     "traceback": [
      "\u001b[0;31m---------------------------------------------------------------------------\u001b[0m",
      "\u001b[0;31mTypeError\u001b[0m                                 Traceback (most recent call last)",
      "Input \u001b[0;32mIn [44]\u001b[0m, in \u001b[0;36m<cell line: 9>\u001b[0;34m()\u001b[0m\n\u001b[1;32m      5\u001b[0m \u001b[38;5;28mprint\u001b[39m(\u001b[38;5;124m\"\u001b[39m\u001b[38;5;124mAverage Cross Validation score :\u001b[39m\u001b[38;5;132;01m{}\u001b[39;00m\u001b[38;5;124m\"\u001b[39m\u001b[38;5;241m.\u001b[39mformat(score\u001b[38;5;241m.\u001b[39mmean()))\n\u001b[1;32m      6\u001b[0m \u001b[38;5;66;03m# print(\"Accuracy:\",metrics.accuracy_score(score, y_pred))\u001b[39;00m\n\u001b[1;32m      7\u001b[0m \n\u001b[1;32m      8\u001b[0m \u001b[38;5;66;03m# prepare cross validation\u001b[39;00m\n\u001b[0;32m----> 9\u001b[0m kfold \u001b[38;5;241m=\u001b[39m \u001b[43mKFold\u001b[49m\u001b[43m(\u001b[49m\u001b[38;5;241;43m10\u001b[39;49m\u001b[43m,\u001b[49m\u001b[43m \u001b[49m\u001b[38;5;28;43;01mTrue\u001b[39;49;00m\u001b[43m,\u001b[49m\u001b[43m \u001b[49m\u001b[38;5;241;43m1\u001b[39;49m\u001b[43m)\u001b[49m\n\u001b[1;32m     10\u001b[0m \u001b[38;5;66;03m# enumerate splits\u001b[39;00m\n\u001b[1;32m     11\u001b[0m \u001b[38;5;28;01mfor\u001b[39;00m train, test \u001b[38;5;129;01min\u001b[39;00m kfold\u001b[38;5;241m.\u001b[39msplit(data):\n",
      "\u001b[0;31mTypeError\u001b[0m: __init__() takes from 1 to 2 positional arguments but 4 were given"
     ]
    }
   ],
   "source": [
    "logreg = LogisticRegression()\n",
    "kf = KFold(n_splits=10)\n",
    "score = cross_val_score(logreg, X_train, y_train, cv=kf)\n",
    "print(\"Cross Validation Scores are {}\".format(score))\n",
    "print(\"Average Cross Validation score :{}\".format(score.mean()))\n",
    "# print(\"Accuracy:\",metrics.accuracy_score(score, y_pred))\n",
    "\n",
    "# prepare cross validation\n",
    "kfold = KFold(n_splits=10)\n",
    "# enumerate splits\n",
    "for train, test in kfold.split(X_train):\n",
    "\tprint('train: %s, test: %s' % (y_train, y_test))"
   ]
  },
  {
   "cell_type": "code",
   "execution_count": null,
   "metadata": {},
   "outputs": [],
   "source": []
  },
  {
   "cell_type": "code",
   "execution_count": null,
   "metadata": {},
   "outputs": [],
   "source": []
  }
 ],
 "metadata": {
  "kernelspec": {
   "display_name": "Python 3 (ipykernel)",
   "language": "python",
   "name": "python3"
  },
  "language_info": {
   "codemirror_mode": {
    "name": "ipython",
    "version": 3
   },
   "file_extension": ".py",
   "mimetype": "text/x-python",
   "name": "python",
   "nbconvert_exporter": "python",
   "pygments_lexer": "ipython3",
   "version": "3.9.12"
  }
 },
 "nbformat": 4,
 "nbformat_minor": 4
}
