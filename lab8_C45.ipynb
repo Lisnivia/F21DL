{
 "cells": [
  {
   "cell_type": "code",
   "execution_count": 1,
   "id": "b980e10c",
   "metadata": {},
   "outputs": [
    {
     "name": "stdout",
     "output_type": "stream",
     "text": [
      "      principal component 1  principal component 2  stroke\n",
      "0                  2.314804               1.701292       1\n",
      "1                  1.334051               0.494870       1\n",
      "2                  1.763879              -0.538178       1\n",
      "3                  2.150142               1.065223       1\n",
      "4                  1.938705               1.232691       1\n",
      "...                     ...                    ...     ...\n",
      "4976              -0.736223               0.449289       0\n",
      "4977               1.439055               1.221043       0\n",
      "4978               2.011923              -0.146382       0\n",
      "4979               0.749794               0.022445       0\n",
      "4980               1.963507               0.006951       0\n",
      "\n",
      "[4981 rows x 3 columns]\n",
      "      gender   age  hypertension  heart_disease  ever_married  \\\n",
      "0          0  67.0             0              1             1   \n",
      "1          0  80.0             0              1             1   \n",
      "2          1  49.0             0              0             1   \n",
      "3          1  79.0             1              0             1   \n",
      "4          0  81.0             0              0             1   \n",
      "...      ...   ...           ...            ...           ...   \n",
      "4976       0  41.0             0              0             0   \n",
      "4977       0  40.0             0              0             1   \n",
      "4978       1  45.0             1              0             1   \n",
      "4979       0  40.0             0              0             1   \n",
      "4980       1  80.0             1              0             1   \n",
      "\n",
      "      avg_glucose_level   bmi  smoking_status  stroke  \n",
      "0                228.69  36.6               2       1  \n",
      "1                105.92  32.5               1       1  \n",
      "2                171.23  34.4               3       1  \n",
      "3                174.12  24.0               1       1  \n",
      "4                186.21  29.0               2       1  \n",
      "...                 ...   ...             ...     ...  \n",
      "4976              70.15  29.8               2       0  \n",
      "4977             191.15  31.1               3       0  \n",
      "4978              95.02  31.8               3       0  \n",
      "4979              83.94  30.0               3       0  \n",
      "4980              83.75  29.1               1       0  \n",
      "\n",
      "[4981 rows x 9 columns]\n"
     ]
    }
   ],
   "source": [
    "# Python ≥3.5 is required\n",
    "import sys\n",
    "assert sys.version_info >= (3, 5)\n",
    "\n",
    "# Scikit-Learn ≥0.20 is \n",
    "import sklearn\n",
    "from sklearn import metrics\n",
    "assert sklearn.__version__ >= \"0.20\"\n",
    "from sklearn.model_selection import train_test_split\n",
    "\n",
    "\n",
    "# Common imports\n",
    "import numpy as np\n",
    "import pandas as pd\n",
    "import os\n",
    "\n",
    "# to make this notebook's output stable across runs\n",
    "np.random.seed(42)\n",
    "\n",
    "# To plot pretty figures\n",
    "%matplotlib inline\n",
    "import matplotlib as mpl\n",
    "import matplotlib.pyplot as plt\n",
    "mpl.rc('axes', labelsize=14)\n",
    "mpl.rc('xtick', labelsize=12)\n",
    "mpl.rc('ytick', labelsize=12)\n",
    "\n",
    "from sklearn.tree import DecisionTreeClassifier\n",
    "from sklearn.tree import plot_tree\n",
    "from sklearn.model_selection import train_test_split\n",
    "from sklearn.model_selection import cross_val_score\n",
    "from sklearn.metrics import confusion_matrix\n",
    "from sklearn.metrics import plot_confusion_matrix\n",
    "\n",
    "brain =pd.read_csv('C:/Users/Basit/Downloads/brain_stroke_in_numeric_without_useless_data22.csv')\n",
    "brain=brain.drop(brain.columns[0], axis=1)\n",
    "brain_pca = pd.read_csv('C:/Users/Basit/Downloads/brain_stroke_after_pca23.csv')\n",
    "brain_pca = brain_pca.drop(brain_pca.columns[0], axis=1) \n",
    "print(brain_pca)\n",
    "print(brain)\n"
   ]
  },
  {
   "cell_type": "code",
   "execution_count": 2,
   "id": "5d2eaf7a",
   "metadata": {},
   "outputs": [
    {
     "name": "stdout",
     "output_type": "stream",
     "text": [
      "Accuracy: 0.9478260869565217\n"
     ]
    }
   ],
   "source": [
    "X = brain.iloc[:, [5,6]].to_numpy()\n",
    "y = brain.iloc[:, 8].to_numpy()\n",
    "\n",
    "X_train, X_test, y_train, y_test = train_test_split(X, y, test_size=0.3, random_state=42)\n",
    "\n",
    "tree_clf = DecisionTreeClassifier(max_depth=2,random_state=42)\n",
    "y_pred = tree_clf.fit(X_train, y_train).predict(X_test)\n",
    "print(\"Accuracy:\",metrics.accuracy_score(y_test, y_pred))"
   ]
  },
  {
   "cell_type": "code",
   "execution_count": 3,
   "id": "ad8c27f5",
   "metadata": {},
   "outputs": [
    {
     "data": {
      "image/png": "[encoded data removed]",
      "text/plain": [
       "<Figure size 432x288 with 1 Axes>"
      ]
     },
     "metadata": {
      "needs_background": "light"
     },
     "output_type": "display_data"
    }
   ],
   "source": [
    "plot_tree(tree_clf);"
   ]
  },
  {
   "cell_type": "code",
   "execution_count": 4,
   "id": "0a424d9a",
   "metadata": {},
   "outputs": [
    {
     "name": "stdout",
     "output_type": "stream",
     "text": [
      "Accuracy: 0.9478260869565217\n"
     ]
    }
   ],
   "source": [
    "X = brain.iloc[:, [1,5]].to_numpy()\n",
    "y = brain.iloc[:, 8].to_numpy()\n",
    "\n",
    "X_train, X_test, y_train, y_test = train_test_split(X, y, test_size=0.3, random_state=42)\n",
    "\n",
    "tree_clf = DecisionTreeClassifier(max_depth=2,random_state=42)\n",
    "y_pred = tree_clf.fit(X_train, y_train).predict(X_test)\n",
    "print(\"Accuracy:\",metrics.accuracy_score(y_test, y_pred))"
   ]
  },
  {
   "cell_type": "code",
   "execution_count": 5,
   "id": "5e109c6c",
   "metadata": {},
   "outputs": [
    {
     "name": "stdout",
     "output_type": "stream",
     "text": [
      "Accuracy: 0.9478260869565217\n"
     ]
    },
    {
     "data": {
      "image/png": "[encoded data removed]",
      "text/plain": [
       "<Figure size 432x288 with 1 Axes>"
      ]
     },
     "metadata": {
      "needs_background": "light"
     },
     "output_type": "display_data"
    }
   ],
   "source": [
    "X = brain.iloc[:, [1,6]].to_numpy()\n",
    "y = brain.iloc[:, 8].to_numpy()\n",
    "\n",
    "X_train, X_test, y_train, y_test = train_test_split(X, y, test_size=0.3, random_state=42)\n",
    "\n",
    "tree_clf = DecisionTreeClassifier(max_depth=2,random_state=42)\n",
    "y_pred = tree_clf.fit(X_train, y_train).predict(X_test)\n",
    "print(\"Accuracy:\",metrics.accuracy_score(y_test, y_pred))\n",
    "plot_tree(tree_clf);"
   ]
  },
  {
   "cell_type": "code",
   "execution_count": 6,
   "id": "7f97c00b",
   "metadata": {
    "scrolled": true
   },
   "outputs": [
    {
     "name": "stdout",
     "output_type": "stream",
     "text": [
      "improvement\n",
      "0.03809523809523807\n",
      "improvement\n",
      "0.03809523809523807\n",
      "improvement\n",
      "0.03809523809523807\n",
      "improvement\n",
      "0.03809523809523807\n",
      "improvement\n",
      "0.01904761904761909\n",
      "improvement\n",
      "0.01904761904761909\n",
      "improvement\n",
      "0.01904761904761909\n",
      "improvement\n",
      "0.01904761904761909\n",
      "improvement\n",
      "0.01904761904761909\n",
      "improvement\n",
      "0.01904761904761909\n",
      "improvement\n",
      "0.01904761904761909\n",
      "improvement\n",
      "0.01904761904761909\n",
      "improvement\n",
      "0.01904761904761909\n",
      "improvement\n",
      "0.01904761904761909\n"
     ]
    }
   ],
   "source": [
    "X = brain.iloc[:, [1,6]].to_numpy()\n",
    "y = brain.iloc[:, 8].to_numpy()\n",
    "class EnsembleClasifier():\n",
    "\n",
    "    def __init__(self,base_classifier,labels):\n",
    "        self.classifier = [base_classifier]\n",
    "        self.labels = labels\n",
    "    def add_classifier(self,classifier):\n",
    "        self.classifier.append(classifier)\n",
    "    def remove_last_classifier(self):\n",
    "        self.classifier.pop(-1)\n",
    "    def predict_proba(self,X):\n",
    "        return np.array([clf.predict_proba(X) for clf in self.classifier]).sum(axis=0)/len(self.classifier)\n",
    "    def predict(self,X):\n",
    "        return labels[np.argmax(self.predict_proba(X),axis=1)]\n",
    "    def error(self,X,y):\n",
    "        return 1 - accuracy_score(y,ensembleClasifier.predict(X))\n",
    "\n",
    "class Artificial_data():\n",
    "\n",
    "    def __init__(self,X,y,dtypes):\n",
    "        self.dtypes = {}\n",
    "        self._generator = {}\n",
    "        self.labels = y.unique()\n",
    "        for c,dtype in zip(X.columns,dtypes):\n",
    "            self.dtypes[c] = dtype\n",
    "            if dtype == 'numeric':\n",
    "                self._generator[c] = {'mean':X[c].mean(),'std':X[c].std()}\n",
    "            else:\n",
    "                unique_values = X[c].value_counts() / X.shape[0]\n",
    "                self._generator[c] = {'values':unique_values.index,'prob':unique_values.values}\n",
    "\n",
    "    def sample_generator(self,ensembleClasifier,nb_samples=1):\n",
    "        syn_X = pd.DataFrame()\n",
    "        for c in self.dtypes.keys():\n",
    "            if self.dtypes[c] == 'numeric':\n",
    "                syn_X[c] = np.random.normal(self._generator[c]['mean'],self._generator[c]['std'],nb_samples)\n",
    "            else:\n",
    "                syn_X[c] = np.random.choice(self._generator[c]['values'],p=self._generator[c]['prob'],\n",
    "                                             size=nb_samples,replace=True)\n",
    "        p_hat = ensembleClasifier.predict_proba(syn_X)\n",
    "        p_hat[p_hat==0] = 1e-5\n",
    "        inverse_p = 1/p_hat\n",
    "        new_p = inverse_p / inverse_p.sum(axis=1)[:, np.newaxis]\n",
    "        syn_y = [np.random.choice(self.labels,p=new_p[i]) for i in range(nb_samples)]\n",
    "        return syn_X,syn_y  \n",
    "\n",
    "\n",
    "import numpy as np\n",
    "import pandas as pd\n",
    "from sklearn.model_selection import train_test_split\n",
    "from sklearn.tree import DecisionTreeClassifier\n",
    "from sklearn.metrics import accuracy_score\n",
    "from sklearn import datasets\n",
    "iris = datasets.load_iris()\n",
    "X, y = iris.data, iris.target\n",
    "X_train_base, X_test, y_train_base, y_test = train_test_split( pd.DataFrame(X), pd.Series(y), \n",
    "                                                              test_size = 0.3, random_state = 100)\n",
    "\n",
    "# dtypes=['numeric' for _ in range(7)] + ['nominal'] #use this for abalone dataset\n",
    "dtypes=['numeric' for _ in range(4)]\n",
    "np.random.seed(1)\n",
    "artifical_data = Artificial_data(X_train_base,y_train_base,dtypes)\n",
    "\n",
    "c_size = 15\n",
    "i_max = 300 \n",
    "R_size = len(X_train_base)\n",
    "i = 1\n",
    "trails =1\n",
    "labels = np.unique(y_train_base)\n",
    "clf_entropy = DecisionTreeClassifier(random_state = 1, max_depth=2)\n",
    "clf_entropy.fit(X_train_base, y_train_base)\n",
    "\n",
    "\n",
    "ensembleClasifier = EnsembleClasifier(clf_entropy,labels)\n",
    "error_bst = ensembleClasifier.error(X_train_base,y_train_base)\n",
    "\n",
    "while (i<c_size and trails<i_max):\n",
    "    X_syn,y_syn =artifical_data.sample_generator(ensembleClasifier,R_size)\n",
    "    X_train=pd.concat([X_train_base,X_syn],axis=0)\n",
    "    y_train=np.append(y_train_base,y_syn,axis=0)\n",
    "\n",
    "    C_prime=DecisionTreeClassifier( random_state = 1, max_depth=2)\n",
    "    C_prime.fit(X_train, y_train)\n",
    "\n",
    "    ensembleClasifier.add_classifier(C_prime)\n",
    "\n",
    "    error_i = ensembleClasifier.error(X_train_base,y_train_base)\n",
    "\n",
    "    if error_i <= error_bst:\n",
    "        print('improvement')\n",
    "        error_bst = error_i\n",
    "        print(error_i)\n",
    "        i += 1\n",
    "    else:\n",
    "        ensembleClasifier.remove_last_classifier()\n",
    "\n",
    "    trails +=1"
   ]
  },
  {
   "cell_type": "code",
   "execution_count": null,
   "id": "351b2726",
   "metadata": {},
   "outputs": [],
   "source": [
    "from chefboost import Chefboost as chef\n",
    "import pandas as pd\n",
    "config = {'algorithm': 'C4.5'}\n",
    "\n",
    "model = chef.fit(brain, config, target_label = 'stroke')\n",
    "for index, instance in brain.iterrows():\n",
    "    prediction=chef.predict(model,instance)\n",
    "    actual=instance['stroke']\n",
    "    print(actual,\"-\",prediction)"
   ]
  },
  {
   "cell_type": "code",
   "execution_count": null,
   "id": "6f39bd26",
   "metadata": {},
   "outputs": [],
   "source": [
    "import numpy as np\n",
    "from sklearn.model_selection import train_test_split\n",
    "from sklearn import datasets\n",
    "from sklearn import svm\n",
    "X = brain.iloc[:, [5,6]].to_numpy()\n",
    "y = brain.iloc[:, 8].to_numpy()\n",
    "\n",
    "X_train, X_test, y_train, y_test = train_test_split(X, y, test_size=0.3, random_state=42)\n",
    "\n",
    "clf = svm.SVC(kernel='linear', C=1).fit(X_train, y_train)\n",
    "clf.score(X_test, y_test)\n",
    "from sklearn.model_selection import cross_val_score\n",
    "clf = svm.SVC(kernel='linear', C=1, random_state=42)\n",
    "scores = cross_val_score(clf, X, y, cv=5)\n",
    "print(scores)"
   ]
  },
  {
   "cell_type": "code",
   "execution_count": null,
   "id": "a34e6c74",
   "metadata": {},
   "outputs": [],
   "source": []
  },
  {
   "cell_type": "code",
   "execution_count": null,
   "id": "6d88e0ff",
   "metadata": {},
   "outputs": [],
   "source": []
  },
  {
   "cell_type": "code",
   "execution_count": null,
   "id": "10eae90b",
   "metadata": {},
   "outputs": [],
   "source": []
  }
 ],
 "metadata": {
  "kernelspec": {
   "display_name": "Python 3 (ipykernel)",
   "language": "python",
   "name": "python3"
  },
  "language_info": {
   "codemirror_mode": {
    "name": "ipython",
    "version": 3
   },
   "file_extension": ".py",
   "mimetype": "text/x-python",
   "name": "python",
   "nbconvert_exporter": "python",
   "pygments_lexer": "ipython3",
   "version": "3.9.12"
  }
 },
 "nbformat": 4,
 "nbformat_minor": 5
}
